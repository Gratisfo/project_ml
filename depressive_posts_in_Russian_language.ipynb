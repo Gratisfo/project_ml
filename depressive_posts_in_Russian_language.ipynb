{
  "nbformat": 4,
  "nbformat_minor": 0,
  "metadata": {
    "colab": {
      "name": "depressive posts in Russian language.ipynb",
      "provenance": [],
      "collapsed_sections": [],
      "include_colab_link": true
    },
    "kernelspec": {
      "display_name": "Python 3",
      "language": "python",
      "name": "python3"
    },
    "language_info": {
      "codemirror_mode": {
        "name": "ipython",
        "version": 3
      },
      "file_extension": ".py",
      "mimetype": "text/x-python",
      "name": "python",
      "nbconvert_exporter": "python",
      "pygments_lexer": "ipython3",
      "version": "3.8.5"
    }
  },
  "cells": [
    {
      "cell_type": "markdown",
      "metadata": {
        "id": "view-in-github",
        "colab_type": "text"
      },
      "source": [
        "<a href=\"https://colab.research.google.com/github/Gratisfo/project_ml/blob/main/depressive_posts_in_Russian_language.ipynb\" target=\"_parent\"><img src=\"https://colab.research.google.com/assets/colab-badge.svg\" alt=\"Open In Colab\"/></a>"
      ]
    },
    {
      "cell_type": "markdown",
      "metadata": {
        "id": "nzfD_Wk1ZN6L"
      },
      "source": [
        "\n",
        "### **Dataset of depressive posts in Russian language collected from social media** [(paper)](https://www.sciencedirect.com/science/article/pii/S2352340920300895)\n",
        "\n",
        "Скачать датасет в формате .tsv можно [здесь](https://yadi.sk/d/G5rq-R3AK8SOuw).\n",
        "\n",
        "\n",
        "Задачи:\n",
        "1. Использовать ```pandas``` и ряд инструментов для автоматической обработки текстов на русском языке, чтобы ответить на вопросы.\n",
        "2. Написать функции для извлечения текстовых признаков.\n",
        "\n"
      ]
    },
    {
      "cell_type": "code",
      "metadata": {
        "colab": {
          "base_uri": "https://localhost:8080/",
          "height": 197
        },
        "id": "9tsSaFBdgu1B",
        "outputId": "ab4f6872-15f1-4257-d370-0903ab9fc978"
      },
      "source": [
        "import pandas as pd\n",
        "\n",
        "df = pd.read_csv(\"depression_data.tsv\", sep=\"\\t\")\n",
        "df.head()"
      ],
      "execution_count": null,
      "outputs": [
        {
          "output_type": "execute_result",
          "data": {
            "text/html": [
              "<div>\n",
              "<style scoped>\n",
              "    .dataframe tbody tr th:only-of-type {\n",
              "        vertical-align: middle;\n",
              "    }\n",
              "\n",
              "    .dataframe tbody tr th {\n",
              "        vertical-align: top;\n",
              "    }\n",
              "\n",
              "    .dataframe thead th {\n",
              "        text-align: right;\n",
              "    }\n",
              "</style>\n",
              "<table border=\"1\" class=\"dataframe\">\n",
              "  <thead>\n",
              "    <tr style=\"text-align: right;\">\n",
              "      <th></th>\n",
              "      <th>text</th>\n",
              "      <th>label</th>\n",
              "      <th>age</th>\n",
              "    </tr>\n",
              "  </thead>\n",
              "  <tbody>\n",
              "    <tr>\n",
              "      <th>0</th>\n",
              "      <td>Когда-то я был добрым романтиком, который стре...</td>\n",
              "      <td>1</td>\n",
              "      <td>32.0</td>\n",
              "    </tr>\n",
              "    <tr>\n",
              "      <th>1</th>\n",
              "      <td>Здраствуйте! Я каждый день просыпаюсь с мыслью...</td>\n",
              "      <td>1</td>\n",
              "      <td>28.0</td>\n",
              "    </tr>\n",
              "    <tr>\n",
              "      <th>2</th>\n",
              "      <td>У меня проблемы с девушкой. Каждую ссору я не ...</td>\n",
              "      <td>1</td>\n",
              "      <td>16.0</td>\n",
              "    </tr>\n",
              "    <tr>\n",
              "      <th>3</th>\n",
              "      <td>Вся моя жизнь это один сплошной ад, в котором ...</td>\n",
              "      <td>1</td>\n",
              "      <td>32.0</td>\n",
              "    </tr>\n",
              "    <tr>\n",
              "      <th>4</th>\n",
              "      <td>Я хочу уснуть и не проснуться.каждый день одно...</td>\n",
              "      <td>1</td>\n",
              "      <td>14.0</td>\n",
              "    </tr>\n",
              "  </tbody>\n",
              "</table>\n",
              "</div>"
            ],
            "text/plain": [
              "                                                text  label   age\n",
              "0  Когда-то я был добрым романтиком, который стре...      1  32.0\n",
              "1  Здраствуйте! Я каждый день просыпаюсь с мыслью...      1  28.0\n",
              "2  У меня проблемы с девушкой. Каждую ссору я не ...      1  16.0\n",
              "3  Вся моя жизнь это один сплошной ад, в котором ...      1  32.0\n",
              "4  Я хочу уснуть и не проснуться.каждый день одно...      1  14.0"
            ]
          },
          "metadata": {
            "tags": []
          },
          "execution_count": 1
        }
      ]
    },
    {
      "cell_type": "markdown",
      "metadata": {
        "id": "jgwa7XyGfuCI"
      },
      "source": [
        "### Часть 1: Простая статистика "
      ]
    },
    {
      "cell_type": "markdown",
      "metadata": {
        "id": "5SqrBy6iloMd"
      },
      "source": [
        "1. Среднее значение возраста в диапазоне от 14 до 50 лет включительно."
      ]
    },
    {
      "cell_type": "code",
      "metadata": {
        "id": "g6mQWTGnJ492",
        "outputId": "4af118c1-e390-42ba-8453-5f3960477589"
      },
      "source": [
        "stat1 = df[(df['age'] <=50) & (df['age'] >= 14)]\n",
        "stat1.mean()"
      ],
      "execution_count": null,
      "outputs": [
        {
          "output_type": "execute_result",
          "data": {
            "text/plain": [
              "label     1.000000\n",
              "age      22.704172\n",
              "dtype: float64"
            ]
          },
          "metadata": {
            "tags": []
          },
          "execution_count": 88
        }
      ]
    },
    {
      "cell_type": "markdown",
      "metadata": {
        "id": "Pw5gpMkDk4R6"
      },
      "source": [
        "2. Доля 16-летних авторов диапазоне от 16 до 26 лет включительно"
      ]
    },
    {
      "cell_type": "code",
      "metadata": {
        "id": "qXejPDLZj3eX",
        "outputId": "47e71bcc-aa4d-4cf8-814b-a92854280304"
      },
      "source": [
        "stat2 = df[(df['age'] <=26) & (df['age'] >= 16)]\n",
        "stat2.age.value_counts(normalize=True)"
      ],
      "execution_count": null,
      "outputs": [
        {
          "output_type": "execute_result",
          "data": {
            "text/plain": [
              "16.0    0.125941\n",
              "17.0    0.125112\n",
              "18.0    0.114750\n",
              "20.0    0.106598\n",
              "19.0    0.096857\n",
              "21.0    0.087945\n",
              "22.0    0.079724\n",
              "23.0    0.077375\n",
              "25.0    0.069845\n",
              "24.0    0.063351\n",
              "26.0    0.052504\n",
              "Name: age, dtype: float64"
            ]
          },
          "metadata": {
            "tags": []
          },
          "execution_count": 89
        }
      ]
    },
    {
      "cell_type": "markdown",
      "metadata": {
        "id": "vGinA-Swjvlc"
      },
      "source": [
        "3. Количество текстов, авторам которых 28 или 30 лет"
      ]
    },
    {
      "cell_type": "code",
      "metadata": {
        "id": "QNz0sLmjYLxr",
        "outputId": "dfe63a19-469b-4383-fa73-2acc77f7b3c8"
      },
      "source": [
        "stat3 = df.query(\"age in [28, 30]\")\n",
        "stat3.age.value_counts()"
      ],
      "execution_count": null,
      "outputs": [
        {
          "output_type": "execute_result",
          "data": {
            "text/plain": [
              "28.0    608\n",
              "30.0    577\n",
              "Name: age, dtype: int64"
            ]
          },
          "metadata": {
            "tags": []
          },
          "execution_count": 90
        }
      ]
    },
    {
      "cell_type": "markdown",
      "metadata": {
        "id": "WIiciL_BnJzl"
      },
      "source": [
        "4. Вся татистика по колонке ```age``` в диапазоне от 18 до 30 лет включительно."
      ]
    },
    {
      "cell_type": "code",
      "metadata": {
        "id": "q2cC4Sxanka6",
        "outputId": "6b4b9c45-93de-4a46-e3e3-54c3b669c4ad"
      },
      "source": [
        "stat4 = df[(df['age'] <=30) & (df['age'] >= 18)]\n",
        "stat4.describe()"
      ],
      "execution_count": null,
      "outputs": [
        {
          "output_type": "execute_result",
          "data": {
            "text/html": [
              "<div>\n",
              "<style scoped>\n",
              "    .dataframe tbody tr th:only-of-type {\n",
              "        vertical-align: middle;\n",
              "    }\n",
              "\n",
              "    .dataframe tbody tr th {\n",
              "        vertical-align: top;\n",
              "    }\n",
              "\n",
              "    .dataframe thead th {\n",
              "        text-align: right;\n",
              "    }\n",
              "</style>\n",
              "<table border=\"1\" class=\"dataframe\">\n",
              "  <thead>\n",
              "    <tr style=\"text-align: right;\">\n",
              "      <th></th>\n",
              "      <th>label</th>\n",
              "      <th>age</th>\n",
              "    </tr>\n",
              "  </thead>\n",
              "  <tbody>\n",
              "    <tr>\n",
              "      <th>count</th>\n",
              "      <td>13205.0</td>\n",
              "      <td>13205.000000</td>\n",
              "    </tr>\n",
              "    <tr>\n",
              "      <th>mean</th>\n",
              "      <td>1.0</td>\n",
              "      <td>22.676638</td>\n",
              "    </tr>\n",
              "    <tr>\n",
              "      <th>std</th>\n",
              "      <td>0.0</td>\n",
              "      <td>3.550254</td>\n",
              "    </tr>\n",
              "    <tr>\n",
              "      <th>min</th>\n",
              "      <td>1.0</td>\n",
              "      <td>18.000000</td>\n",
              "    </tr>\n",
              "    <tr>\n",
              "      <th>25%</th>\n",
              "      <td>1.0</td>\n",
              "      <td>20.000000</td>\n",
              "    </tr>\n",
              "    <tr>\n",
              "      <th>50%</th>\n",
              "      <td>1.0</td>\n",
              "      <td>22.000000</td>\n",
              "    </tr>\n",
              "    <tr>\n",
              "      <th>75%</th>\n",
              "      <td>1.0</td>\n",
              "      <td>25.000000</td>\n",
              "    </tr>\n",
              "    <tr>\n",
              "      <th>max</th>\n",
              "      <td>1.0</td>\n",
              "      <td>30.000000</td>\n",
              "    </tr>\n",
              "  </tbody>\n",
              "</table>\n",
              "</div>"
            ],
            "text/plain": [
              "         label           age\n",
              "count  13205.0  13205.000000\n",
              "mean       1.0     22.676638\n",
              "std        0.0      3.550254\n",
              "min        1.0     18.000000\n",
              "25%        1.0     20.000000\n",
              "50%        1.0     22.000000\n",
              "75%        1.0     25.000000\n",
              "max        1.0     30.000000"
            ]
          },
          "metadata": {
            "tags": []
          },
          "execution_count": 91
        }
      ]
    },
    {
      "cell_type": "markdown",
      "metadata": {
        "id": "CT99FXGjoGs1"
      },
      "source": [
        "5. Количество в датасете положительных / отрицательных примеров"
      ]
    },
    {
      "cell_type": "code",
      "metadata": {
        "id": "j-nelLWJoMpT",
        "outputId": "486a25e2-5e52-4c3d-f2ee-a1b27a02ae1f"
      },
      "source": [
        "df['label'].value_counts()\n"
      ],
      "execution_count": null,
      "outputs": [
        {
          "output_type": "execute_result",
          "data": {
            "text/plain": [
              "0    32021\n",
              "1    32018\n",
              "Name: label, dtype: int64"
            ]
          },
          "metadata": {
            "tags": []
          },
          "execution_count": 93
        }
      ]
    },
    {
      "cell_type": "code",
      "metadata": {
        "id": "uD4hmm-PJ495",
        "outputId": "2777ace5-5a37-4802-d324-1196343ded13"
      },
      "source": [
        "df[(df['label'] ==1)].text"
      ],
      "execution_count": null,
      "outputs": [
        {
          "output_type": "execute_result",
          "data": {
            "text/plain": [
              "0        Когда-то я был добрым романтиком, который стре...\n",
              "1        Здраствуйте! Я каждый день просыпаюсь с мыслью...\n",
              "2        У меня проблемы с девушкой. Каждую ссору я не ...\n",
              "3        Вся моя жизнь это один сплошной ад, в котором ...\n",
              "4        Я хочу уснуть и не проснуться.каждый день одно...\n",
              "                               ...                        \n",
              "32013    # Депрессия - это гораздо больше, чем просто г...\n",
              "32014    Вы можете избежать обидчика, но насилие никогд...\n",
              "32015    У меня #CerebralPalsy & #depression. CP не улу...\n",
              "32016    Ты не невидимка, ты не бремя, ты потрясающий! ...\n",
              "32017    Вчера вечером ходил на Волшебное Лекарство в @...\n",
              "Name: text, Length: 32018, dtype: object"
            ]
          },
          "metadata": {
            "tags": []
          },
          "execution_count": 38
        }
      ]
    },
    {
      "cell_type": "markdown",
      "metadata": {
        "id": "QHldQF5FoAyB"
      },
      "source": [
        "### Часть 2: Предобработка "
      ]
    },
    {
      "cell_type": "markdown",
      "metadata": {
        "id": "Mc1d4G-q671X"
      },
      "source": [
        "1. Количество предложений в каждом тексте. "
      ]
    },
    {
      "cell_type": "code",
      "metadata": {
        "id": "LgRfHgCoJ495"
      },
      "source": [
        "from razdel import sentenize, tokenize\n",
        "\n",
        "def get_num_sentences(text):\n",
        "    segmented_sentences = sentenize(text)\n",
        "    num_sentences = len(list(segmented_sentences))\n",
        "    return num_sentences\n"
      ],
      "execution_count": null,
      "outputs": []
    },
    {
      "cell_type": "code",
      "metadata": {
        "id": "__ovCZP0J496"
      },
      "source": [
        "for index, text in enumerate(df['text']):\n",
        "    df.loc[index, 'len_sent'] = get_num_sentences(text)"
      ],
      "execution_count": null,
      "outputs": []
    },
    {
      "cell_type": "markdown",
      "metadata": {
        "id": "NX7FxEafFTiy"
      },
      "source": [
        "2. Токенизации текста. Удаление стоп-слова."
      ]
    },
    {
      "cell_type": "code",
      "metadata": {
        "id": "Y1S782xBFlIi"
      },
      "source": [
        "import nltk\n",
        "import string\n",
        "from nltk.corpus import stopwords\n",
        "from string import ascii_letters\n",
        "\n",
        "\n",
        "def tokenize_text(text):\n",
        "    # токенизируем\n",
        "    tokens = [_.text for _ in list(tokenize(text))]\n",
        "    \n",
        "    # приводим к нижнему регистру\n",
        "    tokens = [w.lower() for w in tokens]\n",
        "    \n",
        "    # убираем пунктуацию\n",
        "    table = str.maketrans('', '', string.punctuation)\n",
        "    stripped = [w.translate(table) for w in tokens]\n",
        "    \n",
        "    # убираем числа и оставлем только кирилицу\n",
        "    words = [word for word in stripped if word.isalpha()\n",
        "             and not all(map(lambda c: c in ascii_letters, word))]\n",
        "    \n",
        "    # удаляем стоп-слова\n",
        "    stop_words = set(stopwords.words('russian'))\n",
        "    words = [w for w in words if not w in stop_words]\n",
        "    \n",
        "    text = ' '.join(words)\n",
        "    return words"
      ],
      "execution_count": null,
      "outputs": []
    },
    {
      "cell_type": "markdown",
      "metadata": {
        "id": "HVq8if4s8q_1"
      },
      "source": [
        "3. Количество токенов в тексте (без стоп-слов). Среднее этих значений как по всей выборке, так и внутри каждого класса. "
      ]
    },
    {
      "cell_type": "code",
      "metadata": {
        "id": "rP8_BV3I-RPE"
      },
      "source": [
        "def get_num_tokens(text):\n",
        "    num_tokens = len(tokenize_text(text))\n",
        "    return num_tokens"
      ],
      "execution_count": null,
      "outputs": []
    },
    {
      "cell_type": "code",
      "metadata": {
        "id": "RMMfS9DFJ497"
      },
      "source": [
        "for index, text in enumerate(df['text']):\n",
        "    df.loc[index, 'len_tokens'] = get_num_tokens(text)"
      ],
      "execution_count": null,
      "outputs": []
    },
    {
      "cell_type": "code",
      "metadata": {
        "id": "-wUHprEPJ497",
        "outputId": "ff366b2c-e209-47ea-e2a0-b41831ecce45"
      },
      "source": [
        "print('среднее значений по всей выборке', df.len_tokens.mean())\n",
        "print('среднее значений внутри класса label=0', df[df['label']==0].len_tokens.mean())\n",
        "print('среднее значений внутри класса label=1', df[df['label']==1].len_tokens.mean())\n"
      ],
      "execution_count": null,
      "outputs": [
        {
          "output_type": "stream",
          "text": [
            "среднее значений по всей выборке 97.92175080810131\n",
            "среднее значений внутри класса label=0 127.18556572249462\n",
            "среднее значений внутри класса label=1 68.65519395340121\n"
          ],
          "name": "stdout"
        }
      ]
    },
    {
      "cell_type": "markdown",
      "metadata": {
        "id": "xXsyP9NHG-gO"
      },
      "source": [
        "4. Функция, которая переводит текст в последовательность лемм."
      ]
    },
    {
      "cell_type": "code",
      "metadata": {
        "id": "n1o_Rh2iHDmH"
      },
      "source": [
        "import pymorphy2\n",
        "morph = pymorphy2.MorphAnalyzer()\n",
        "def get_lemm(text):\n",
        "    lemm = [morph.parse(w)[0].normal_form for w in tokenize_text(text)]\n",
        "    return lemm"
      ],
      "execution_count": null,
      "outputs": []
    },
    {
      "cell_type": "markdown",
      "metadata": {
        "id": "D5kyEWTZ98r3"
      },
      "source": [
        "5. Функция, которая переводит текст в последовательность частеречных тегов."
      ]
    },
    {
      "cell_type": "code",
      "metadata": {
        "id": "83EABAwH756M"
      },
      "source": [
        "def get_speech_part(text):\n",
        "    text = tokenize_text(text)\n",
        "    tags = [morph.parse(word)[0].tag.POS  for word in text]\n",
        "    return tags"
      ],
      "execution_count": null,
      "outputs": []
    },
    {
      "cell_type": "markdown",
      "metadata": {
        "id": "vcLlYOZfIWRX"
      },
      "source": [
        "### Часть 3: Визуализация "
      ]
    },
    {
      "cell_type": "markdown",
      "metadata": {
        "id": "b9s_mHYIoOjg"
      },
      "source": [
        "1. Распределение количество предложений / текст."
      ]
    },
    {
      "cell_type": "code",
      "metadata": {
        "id": "5dWKhmfNJ499",
        "outputId": "8ec03026-fe97-4422-bbae-c350d13ecbbb"
      },
      "source": [
        "import matplotlib.pyplot as plt\n",
        "import seaborn as sns\n",
        "df['len_sent'].plot()"
      ],
      "execution_count": null,
      "outputs": [
        {
          "output_type": "execute_result",
          "data": {
            "text/plain": [
              "<AxesSubplot:>"
            ]
          },
          "metadata": {
            "tags": []
          },
          "execution_count": 104
        },
        {
          "output_type": "display_data",
          "data": {
            "image/png": "[encoded data removed]",
            "text/plain": [
              "<Figure size 432x288 with 1 Axes>"
            ]
          },
          "metadata": {
            "tags": []
          }
        }
      ]
    },
    {
      "cell_type": "markdown",
      "metadata": {
        "id": "PzPsrj36KJ7n"
      },
      "source": [
        "2. Распределение количество-предложений / текст внутри каждого класса."
      ]
    },
    {
      "cell_type": "code",
      "metadata": {
        "id": "z7R5719eV2Me",
        "outputId": "f4c84477-fb93-4cba-ab0c-34a7e07af80d"
      },
      "source": [
        "fig, axes = plt.subplots(nrows=1, ncols=2, figsize=(15,5))\n",
        "df[df['label']==0].len_sent.plot(ax = axes[0])\n",
        "df[df['label']==1].len_sent.plot(ax = axes[1])\n",
        "\n",
        "axes[0].set_title('sent len in label 0')\n",
        "axes[1].set_title('sent len in label 1')"
      ],
      "execution_count": null,
      "outputs": [
        {
          "output_type": "execute_result",
          "data": {
            "text/plain": [
              "Text(0.5, 1.0, 'label 1')"
            ]
          },
          "metadata": {
            "tags": []
          },
          "execution_count": 107
        },
        {
          "output_type": "display_data",
          "data": {
            "image/png": "[encoded data removed]",
            "text/plain": [
              "<Figure size 1080x360 with 2 Axes>"
            ]
          },
          "metadata": {
            "tags": []
          }
        }
      ]
    },
    {
      "cell_type": "markdown",
      "metadata": {
        "id": "5zGMiWUBQKRi"
      },
      "source": [
        "3. Матрица корреляции количеств в предложений в тексте с возрастом автора в подвыборке от 16 до 32 лет включительно"
      ]
    },
    {
      "cell_type": "code",
      "metadata": {
        "id": "HynrA2c4J49-",
        "outputId": "f46ea913-073f-40e1-9604-db76b4ef6a28"
      },
      "source": [
        "agelen_df = df[['age','len_sent']]\n",
        "agelen_df.head()"
      ],
      "execution_count": null,
      "outputs": [
        {
          "output_type": "execute_result",
          "data": {
            "text/html": [
              "<div>\n",
              "<style scoped>\n",
              "    .dataframe tbody tr th:only-of-type {\n",
              "        vertical-align: middle;\n",
              "    }\n",
              "\n",
              "    .dataframe tbody tr th {\n",
              "        vertical-align: top;\n",
              "    }\n",
              "\n",
              "    .dataframe thead th {\n",
              "        text-align: right;\n",
              "    }\n",
              "</style>\n",
              "<table border=\"1\" class=\"dataframe\">\n",
              "  <thead>\n",
              "    <tr style=\"text-align: right;\">\n",
              "      <th></th>\n",
              "      <th>age</th>\n",
              "      <th>len_sent</th>\n",
              "    </tr>\n",
              "  </thead>\n",
              "  <tbody>\n",
              "    <tr>\n",
              "      <th>0</th>\n",
              "      <td>32.0</td>\n",
              "      <td>15.0</td>\n",
              "    </tr>\n",
              "    <tr>\n",
              "      <th>1</th>\n",
              "      <td>28.0</td>\n",
              "      <td>6.0</td>\n",
              "    </tr>\n",
              "    <tr>\n",
              "      <th>2</th>\n",
              "      <td>16.0</td>\n",
              "      <td>10.0</td>\n",
              "    </tr>\n",
              "    <tr>\n",
              "      <th>3</th>\n",
              "      <td>32.0</td>\n",
              "      <td>5.0</td>\n",
              "    </tr>\n",
              "    <tr>\n",
              "      <th>4</th>\n",
              "      <td>14.0</td>\n",
              "      <td>18.0</td>\n",
              "    </tr>\n",
              "  </tbody>\n",
              "</table>\n",
              "</div>"
            ],
            "text/plain": [
              "    age  len_sent\n",
              "0  32.0      15.0\n",
              "1  28.0       6.0\n",
              "2  16.0      10.0\n",
              "3  32.0       5.0\n",
              "4  14.0      18.0"
            ]
          },
          "metadata": {
            "tags": []
          },
          "execution_count": 113
        }
      ]
    },
    {
      "cell_type": "code",
      "metadata": {
        "id": "_YlT1Zc_J49_",
        "outputId": "f3a1c8b4-6e51-415c-e836-80d8647983bf"
      },
      "source": [
        "agelen_df.corr()"
      ],
      "execution_count": null,
      "outputs": [
        {
          "output_type": "execute_result",
          "data": {
            "text/html": [
              "<div>\n",
              "<style scoped>\n",
              "    .dataframe tbody tr th:only-of-type {\n",
              "        vertical-align: middle;\n",
              "    }\n",
              "\n",
              "    .dataframe tbody tr th {\n",
              "        vertical-align: top;\n",
              "    }\n",
              "\n",
              "    .dataframe thead th {\n",
              "        text-align: right;\n",
              "    }\n",
              "</style>\n",
              "<table border=\"1\" class=\"dataframe\">\n",
              "  <thead>\n",
              "    <tr style=\"text-align: right;\">\n",
              "      <th></th>\n",
              "      <th>age</th>\n",
              "      <th>len_sent</th>\n",
              "    </tr>\n",
              "  </thead>\n",
              "  <tbody>\n",
              "    <tr>\n",
              "      <th>age</th>\n",
              "      <td>1.000000</td>\n",
              "      <td>-0.004896</td>\n",
              "    </tr>\n",
              "    <tr>\n",
              "      <th>len_sent</th>\n",
              "      <td>-0.004896</td>\n",
              "      <td>1.000000</td>\n",
              "    </tr>\n",
              "  </tbody>\n",
              "</table>\n",
              "</div>"
            ],
            "text/plain": [
              "               age  len_sent\n",
              "age       1.000000 -0.004896\n",
              "len_sent -0.004896  1.000000"
            ]
          },
          "metadata": {
            "tags": []
          },
          "execution_count": 109
        }
      ]
    },
    {
      "cell_type": "code",
      "metadata": {
        "id": "qAeNmcoqQi5x",
        "outputId": "2055f285-9486-4fda-eea5-cbd70507a1f3"
      },
      "source": [
        "fig, ax = plt.subplots(figsize=(10, 5))\n",
        "\n",
        "sns.heatmap(\n",
        "    data=agelen_df.corr(), \n",
        "    annot=True,\n",
        "    ax=ax\n",
        ")\n",
        "\n",
        "plt.title(\"Корреляция между возрастом и колличеством предложений\")\n",
        "plt.show()"
      ],
      "execution_count": null,
      "outputs": [
        {
          "output_type": "display_data",
          "data": {
            "image/png": "[encoded data removed]",
            "text/plain": [
              "<Figure size 720x360 with 2 Axes>"
            ]
          },
          "metadata": {
            "tags": []
          }
        }
      ]
    },
    {
      "cell_type": "markdown",
      "metadata": {
        "id": "ZbcJi6KcJ49_"
      },
      "source": [
        "Верно, что количество предложений в тексте коррелирует с возрастом автора в подвыборке от 16 до 32 лет включительно.\n",
        "Корреляция – отрицательная "
      ]
    },
    {
      "cell_type": "markdown",
      "metadata": {
        "id": "nBpo_1O5Ld7H"
      },
      "source": [
        "### Часть 4: Извлечение текстовых признаков (4 балла)"
      ]
    },
    {
      "cell_type": "markdown",
      "metadata": {
        "id": "oqZUzenfL2sF"
      },
      "source": [
        "1. Функци для получения посимвольных н-грамм (без использования библиотек)."
      ]
    },
    {
      "cell_type": "code",
      "metadata": {
        "id": "UOOp61e1MCU-"
      },
      "source": [
        "def char_ngrams(text, n):\n",
        "    grams = []\n",
        "    \n",
        "    for i in range(len(text)):\n",
        "        part = [text[i:i+n]]\n",
        "        for gram in part:\n",
        "            if len(gram) == n:\n",
        "                grams.append(gram)\n",
        "    return grams"
      ],
      "execution_count": null,
      "outputs": []
    },
    {
      "cell_type": "code",
      "metadata": {
        "colab": {
          "base_uri": "https://localhost:8080/",
          "height": 34
        },
        "id": "LctAR2cEMV0s",
        "scrolled": true,
        "outputId": "583c32a5-4efd-4686-97e9-b266350c0af5"
      },
      "source": [
        "# пример работы функции\n",
        "\n",
        "text = \"уставшая мама мыла грязную раму\"\n",
        "\n",
        "char_ngrams(text, n=3)[:10]"
      ],
      "execution_count": null,
      "outputs": [
        {
          "output_type": "execute_result",
          "data": {
            "text/plain": [
              "['уст', 'ста', 'тав', 'авш', 'вша', 'шая', 'ая ', 'я м', ' ма', 'мам']"
            ]
          },
          "metadata": {
            "tags": []
          },
          "execution_count": 124
        }
      ]
    },
    {
      "cell_type": "markdown",
      "metadata": {
        "id": "CnPgflCeNsZA"
      },
      "source": [
        "2. Фунция для получения пословных н-грамм (без использования библиотек)."
      ]
    },
    {
      "cell_type": "code",
      "metadata": {
        "id": "fX_6RyMFOGL2"
      },
      "source": [
        "def word_ngrams(text, n):\n",
        "    grams = []\n",
        "    text = text.split()\n",
        "    for i in range(len(text)):\n",
        "        part = [text[i:i+n]]\n",
        "        for gram in part:\n",
        "            if len(gram) == n:\n",
        "                grams.append(gram)\n",
        "    return grams"
      ],
      "execution_count": null,
      "outputs": []
    },
    {
      "cell_type": "code",
      "metadata": {
        "colab": {
          "base_uri": "https://localhost:8080/",
          "height": 34
        },
        "id": "anLUGeXROekT",
        "outputId": "ed3a30af-d19e-48c5-abe6-4605ef6dcca6"
      },
      "source": [
        "word_ngrams(text, n=4)"
      ],
      "execution_count": null,
      "outputs": [
        {
          "output_type": "execute_result",
          "data": {
            "text/plain": [
              "[['уставшая', 'мама', 'мыла', 'грязную'], ['мама', 'мыла', 'грязную', 'раму']]"
            ]
          },
          "metadata": {
            "tags": []
          },
          "execution_count": 132
        }
      ]
    },
    {
      "cell_type": "markdown",
      "metadata": {
        "id": "zU4PJTZVOvcQ"
      },
      "source": [
        "3. Функция для получения н-грамм лемм (без использования библиотек)."
      ]
    },
    {
      "cell_type": "code",
      "metadata": {
        "id": "dgWG3NdLO0JF"
      },
      "source": [
        "def lemma_ngrams(text, n):\n",
        "    grams = []\n",
        "    text = get_lemm(text)\n",
        "    for i in range(len(text)):\n",
        "        part = [text[i:i+n]]\n",
        "        for gram in part:\n",
        "            if len(gram) == n:\n",
        "                grams.append(gram)\n",
        "    return grams"
      ],
      "execution_count": null,
      "outputs": []
    },
    {
      "cell_type": "code",
      "metadata": {
        "colab": {
          "base_uri": "https://localhost:8080/",
          "height": 52
        },
        "id": "k1XmkQ_rO_p1",
        "outputId": "99a26cb6-ca99-427c-ddc4-c901e3f184a1"
      },
      "source": [
        "lemma_ngrams(text, n=4)"
      ],
      "execution_count": null,
      "outputs": [
        {
          "output_type": "execute_result",
          "data": {
            "text/plain": [
              "[['устать', 'мама', 'мыло', 'грязный'], ['мама', 'мыло', 'грязный', 'рам']]"
            ]
          },
          "metadata": {
            "tags": []
          },
          "execution_count": 140
        }
      ]
    },
    {
      "cell_type": "markdown",
      "metadata": {
        "id": "LHUo6LdLOblj"
      },
      "source": [
        "4. Функция для получения н-грамм частеречных тегов (без использования библиотек)."
      ]
    },
    {
      "cell_type": "code",
      "metadata": {
        "id": "YlPDRUCcOoCX"
      },
      "source": [
        "def pos_ngrams(text, n):\n",
        "    grams = []\n",
        "    text = get_speech_part(text)\n",
        "    for i in range(len(text)):\n",
        "        part = [text[i:i+n]]\n",
        "        for gram in part:\n",
        "            if len(gram) == n:\n",
        "                grams.append(gram)\n",
        "    return grams"
      ],
      "execution_count": null,
      "outputs": []
    },
    {
      "cell_type": "code",
      "metadata": {
        "colab": {
          "base_uri": "https://localhost:8080/",
          "height": 34
        },
        "id": "a4kQmEqiPHPv",
        "outputId": "ede469bd-8410-4c03-f361-42887601fc9f"
      },
      "source": [
        "# пример работы функции\n",
        "\n",
        "pos_ngrams(text, n=3)"
      ],
      "execution_count": null,
      "outputs": [
        {
          "output_type": "execute_result",
          "data": {
            "text/plain": [
              "[['PRTF', 'NOUN', 'NOUN'], ['NOUN', 'NOUN', 'ADJF'], ['NOUN', 'ADJF', 'NOUN']]"
            ]
          },
          "metadata": {
            "tags": []
          },
          "execution_count": 146
        }
      ]
    },
    {
      "cell_type": "code",
      "metadata": {
        "colab": {
          "base_uri": "https://localhost:8080/",
          "height": 34
        },
        "id": "iBh5fRbOPKsn",
        "outputId": "e4fdb66d-2f6e-4558-9072-7536adea29b2"
      },
      "source": [
        "pos_ngrams(text, n=4)"
      ],
      "execution_count": null,
      "outputs": [
        {
          "output_type": "execute_result",
          "data": {
            "text/plain": [
              "[['PRTF', 'NOUN', 'NOUN', 'ADJF'], ['NOUN', 'NOUN', 'ADJF', 'NOUN']]"
            ]
          },
          "metadata": {
            "tags": []
          },
          "execution_count": 147
        }
      ]
    },
    {
      "cell_type": "markdown",
      "metadata": {
        "id": "ZnUBQ6hLPNb3"
      },
      "source": [
        "5. Функция для получения частотного словаря частеречных тегов по коллекции документов."
      ]
    },
    {
      "cell_type": "code",
      "metadata": {
        "id": "P69DZahVPctr"
      },
      "source": [
        "def build_pos_dict(corpus):\n",
        "    text = ' '.join(corpus)\n",
        "    pos = get_speech_part(text)\n",
        "    pos_dict = {}\n",
        "    for i in pos:\n",
        "        if i in pos_dict:\n",
        "            pos_dict[i] += 1\n",
        "        else:\n",
        "            pos_dict[i] = 1\n",
        "    return dict(sorted(pos_dict.items(), key=lambda kv: kv[1], reverse=True))\n",
        "    "
      ],
      "execution_count": null,
      "outputs": []
    },
    {
      "cell_type": "code",
      "metadata": {
        "colab": {
          "base_uri": "https://localhost:8080/",
          "height": 34
        },
        "id": "7ZLFo264Pa4b",
        "outputId": "e43a31d5-f4ec-4468-8ad2-c892cfa4c662"
      },
      "source": [
        "# пример работы функции\n",
        "\n",
        "corpus = [\n",
        "    \"мама мыла уставшую раму\",\n",
        "    \"высшая школа экономики\",\n",
        "    \"компьютерная лингвистика\",\n",
        "    \"осень наступила\"\n",
        "]\n",
        "\n",
        "build_pos_dict(corpus)"
      ],
      "execution_count": null,
      "outputs": [
        {
          "output_type": "execute_result",
          "data": {
            "text/plain": [
              "{'NOUN': 7, 'ADJF': 2, 'PRTF': 1, 'VERB': 1}"
            ]
          },
          "metadata": {
            "tags": []
          },
          "execution_count": 180
        }
      ]
    },
    {
      "cell_type": "markdown",
      "metadata": {
        "id": "yb_mcJ8sSr3-"
      },
      "source": [
        "6. Частотный словарь лемм по текстам внутри каждого класса. Топ-15 лемм для текстов каждого класса"
      ]
    },
    {
      "cell_type": "code",
      "metadata": {
        "id": "jTIRuzmLJ4-H",
        "outputId": "c5ce286b-5472-4ba0-90b4-65d4a163fd34"
      },
      "source": [
        "# считаю все ручками\n",
        "def built_lem_dict(corpus):\n",
        "    list_lem = []\n",
        "    for text in corpus :\n",
        "        for word in get_lemm(text):\n",
        "            list_lem.append(word)\n",
        "    dict_lem = {}\n",
        "    for i in list_lem:\n",
        "        if i in dict_lem:\n",
        "            dict_lem[i] += 1\n",
        "        else:\n",
        "            dict_lem[i] = 1\n",
        "    return dict(sorted(dict_lem.items(), key=lambda kv: kv[1], reverse=True))"
      ],
      "execution_count": null,
      "outputs": [
        {
          "output_type": "execute_result",
          "data": {
            "text/plain": [
              "{'год': 34,\n",
              " 'город': 18,\n",
              " 'который': 17,\n",
              " 'реализация': 16,\n",
              " 'работа': 16,\n",
              " 'центр': 15,\n",
              " 'социальный': 15,\n",
              " 'программа': 14,\n",
              " 'рамка': 13,\n",
              " 'область': 12,\n",
              " 'также': 10,\n",
              " 'казахстан': 10,\n",
              " 'конкурс': 10,\n",
              " 'интернет': 10,\n",
              " 'человек': 10,\n",
              " 'строительство': 10,\n",
              " 'республика': 10,\n",
              " 'байконур': 10,\n",
              " 'апрель': 9,\n",
              " 'население': 9,\n",
              " 'один': 8,\n",
              " 'культура': 8,\n",
              " 'компания': 8,\n",
              " 'встреча': 8,\n",
              " 'вопрос': 8,\n",
              " 'дать': 7,\n",
              " 'язык': 7,\n",
              " 'общественный': 7,\n",
              " 'россия': 7,\n",
              " 'участие': 7,\n",
              " 'регион': 7,\n",
              " 'сотрудничество': 7,\n",
              " 'здравоохранение': 7,\n",
              " 'глава': 7,\n",
              " 'группа': 7,\n",
              " 'многодетный': 7,\n",
              " 'талдыкорган': 6,\n",
              " 'алматинский': 6,\n",
              " 'заместитель': 6,\n",
              " 'рассказать': 6,\n",
              " 'казахский': 6,\n",
              " 'мероприятие': 6,\n",
              " 'цель': 6,\n",
              " 'земля': 6,\n",
              " 'проект': 6,\n",
              " 'ход': 6,\n",
              " 'развитие': 6,\n",
              " 'председатель': 6,\n",
              " 'направление': 6,\n",
              " 'район': 6,\n",
              " 'министр': 6,\n",
              " 'посетить': 6,\n",
              " 'продолжение': 6,\n",
              " 'космический': 6,\n",
              " 'корабль': 6,\n",
              " 'имя': 5,\n",
              " 'семья': 5,\n",
              " 'родиться': 5,\n",
              " 'килограмм': 5,\n",
              " 'народ': 5,\n",
              " 'участник': 5,\n",
              " 'дом': 5,\n",
              " 'свой': 5,\n",
              " 'поддержка': 5,\n",
              " 'елбас': 5,\n",
              " 'рухани': 5,\n",
              " 'победитель': 5,\n",
              " 'политика': 5,\n",
              " 'новый': 5,\n",
              " 'наш': 5,\n",
              " 'задача': 5,\n",
              " 'среди': 5,\n",
              " 'рабочий': 5,\n",
              " 'вход': 5,\n",
              " 'платный': 5,\n",
              " 'тройня': 4,\n",
              " 'девочка': 4,\n",
              " 'весь': 4,\n",
              " 'сегодня': 4,\n",
              " 'день': 4,\n",
              " 'момент': 4,\n",
              " 'это': 4,\n",
              " 'директор': 4,\n",
              " 'такой': 4,\n",
              " 'затем': 4,\n",
              " 'грамм': 4,\n",
              " 'два': 4,\n",
              " 'стать': 4,\n",
              " 'традиция': 4,\n",
              " 'интерес': 4,\n",
              " 'национальный': 4,\n",
              " 'праздник': 4,\n",
              " 'дело': 4,\n",
              " 'пенсионный': 4,\n",
              " 'фонд': 4,\n",
              " 'ростелеком': 4,\n",
              " 'спасибо': 4,\n",
              " 'число': 4,\n",
              " 'представитель': 4,\n",
              " 'итог': 4,\n",
              " 'пройти': 4,\n",
              " 'выделить': 4,\n",
              " 'объект': 4,\n",
              " 'данный': 4,\n",
              " 'новое': 4,\n",
              " 'провести': 4,\n",
              " 'визит': 4,\n",
              " 'нурсултан': 4,\n",
              " 'нефть': 4,\n",
              " 'состояться': 4,\n",
              " 'школа': 4,\n",
              " 'система': 4,\n",
              " 'отдел': 4,\n",
              " 'выставка': 4,\n",
              " 'руководитель': 4,\n",
              " 'гражданин': 4,\n",
              " 'алматы': 4,\n",
              " 'член': 4,\n",
              " 'тенг': 4,\n",
              " 'гдк': 4,\n",
              " 'юрий': 4,\n",
              " 'гагарин': 4,\n",
              " 'чемпионат': 4,\n",
              " 'ск': 4,\n",
              " 'маяк': 4,\n",
              " 'бокс': 4,\n",
              " 'появиться': 3,\n",
              " 'областной': 3,\n",
              " 'аким': 3,\n",
              " 'амандык': 3,\n",
              " 'батал': 3,\n",
              " 'лично': 3,\n",
              " 'молодая': 3,\n",
              " 'очень': 3,\n",
              " 'ребёнок': 3,\n",
              " 'рождение': 3,\n",
              " 'время': 3,\n",
              " 'добавить': 3,\n",
              " 'отметить': 3,\n",
              " 'поколение': 3,\n",
              " 'табысый': 3,\n",
              " 'государственный': 3,\n",
              " 'важный': 3,\n",
              " 'песнь': 3,\n",
              " 'жизнь': 3,\n",
              " 'выступить': 3,\n",
              " 'обучение': 3,\n",
              " 'организовать': 3,\n",
              " 'история': 3,\n",
              " 'всероссийский': 3,\n",
              " 'принять': 3,\n",
              " 'компьютерный': 3,\n",
              " 'азбука': 3,\n",
              " 'конкурсный': 3,\n",
              " 'электронный': 3,\n",
              " 'тысяча': 3,\n",
              " 'каждый': 3,\n",
              " 'грамотность': 3,\n",
              " 'услуга': 3,\n",
              " 'комплекс': 3,\n",
              " 'другой': 3,\n",
              " 'пао': 3,\n",
              " 'дворец': 3,\n",
              " 'сфера': 3,\n",
              " 'технология': 3,\n",
              " 'хозяйство': 3,\n",
              " 'премьерминистр': 3,\n",
              " 'посвятить': 3,\n",
              " 'нефтепродукт': 3,\n",
              " 'путь': 3,\n",
              " 'многие': 3,\n",
              " 'лисаковский': 3,\n",
              " 'внутренний': 3,\n",
              " 'акимат': 3,\n",
              " 'круглый': 3,\n",
              " 'стол': 3,\n",
              " 'основный': 3,\n",
              " 'библиотека': 3,\n",
              " 'тематический': 3,\n",
              " 'молодёжный': 3,\n",
              " 'безопасность': 3,\n",
              " 'являться': 3,\n",
              " 'обсудить': 3,\n",
              " 'мера': 3,\n",
              " 'гульшара': 3,\n",
              " 'малообеспеченный': 3,\n",
              " 'рк': 3,\n",
              " 'занятость': 3,\n",
              " 'карта': 3,\n",
              " 'матерь': 3,\n",
              " 'ю': 3,\n",
              " 'север': 3,\n",
              " 'павло': 3,\n",
              " 'королёв': 3,\n",
              " 'казтрансойло': 3,\n",
              " 'кбт': 3,\n",
              " 'сборник': 3,\n",
              " 'долгожданный': 2,\n",
              " 'свет': 2,\n",
              " 'перинатальный': 2,\n",
              " 'квартира': 2,\n",
              " 'радость': 2,\n",
              " 'родитель': 2,\n",
              " 'руководство': 2,\n",
              " 'здоровье': 2,\n",
              " 'быть': 2,\n",
              " 'чувствовать': 2,\n",
              " 'мама': 2,\n",
              " 'вес': 2,\n",
              " 'слово': 2,\n",
              " 'впервые': 2,\n",
              " 'грам': 2,\n",
              " 'связь': 2,\n",
              " 'изучение': 2,\n",
              " 'учащийся': 2,\n",
              " 'старший': 2,\n",
              " 'продемонстрировать': 2,\n",
              " 'знание': 2,\n",
              " 'обычай': 2,\n",
              " 'ребята': 2,\n",
              " 'показать': 2,\n",
              " 'казах': 2,\n",
              " 'бесплатный': 2,\n",
              " 'курс': 2,\n",
              " 'финансовый': 2,\n",
              " 'деятельность': 2,\n",
              " 'жаңғыр': 2,\n",
              " 'туғать': 2,\n",
              " 'проведение': 2,\n",
              " 'приём': 2,\n",
              " 'выступать': 2,\n",
              " 'сайт': 2,\n",
              " 'тема': 2,\n",
              " 'состав': 2,\n",
              " 'министерство': 2,\n",
              " 'собрать': 2,\n",
              " 'принимать': 2,\n",
              " 'проводиться': 2,\n",
              " 'разработать': 2,\n",
              " 'соглашение': 2,\n",
              " 'пенсионер': 2,\n",
              " 'качество': 2,\n",
              " 'малгобек': 2,\n",
              " 'спортивный': 2,\n",
              " 'место': 2,\n",
              " 'психоневрологический': 2,\n",
              " 'диспансер': 2,\n",
              " 'благодаря': 2,\n",
              " 'роснефть': 2,\n",
              " 'игорь': 2,\n",
              " 'сечин': 2,\n",
              " 'нацпроект': 2,\n",
              " 'поручение': 2,\n",
              " 'промышленность': 2,\n",
              " 'кроме': 2,\n",
              " 'государство': 2,\n",
              " 'прибыть': 2,\n",
              " 'михаил': 2,\n",
              " 'сенат': 2,\n",
              " 'парламент': 2,\n",
              " 'назарбаев': 2,\n",
              " 'генеральный': 2,\n",
              " 'мпа': 2,\n",
              " 'снг': 2,\n",
              " 'маджлисить': 2,\n",
              " 'клуб': 2,\n",
              " 'украина': 2,\n",
              " 'техника': 2,\n",
              " 'экспорт': 2,\n",
              " 'великий': 2,\n",
              " 'отечественный': 2,\n",
              " 'автопробег': 2,\n",
              " 'протест': 2,\n",
              " 'курский': 2,\n",
              " 'достигнуть': 2,\n",
              " 'импульс': 2,\n",
              " 'презентация': 2,\n",
              " 'решить': 2,\n",
              " 'поставить': 2,\n",
              " 'центральный': 2,\n",
              " 'библиотечный': 2,\n",
              " 'лисаковск': 2,\n",
              " 'жангыр': 2,\n",
              " 'цбс': 2,\n",
              " 'елизавета': 2,\n",
              " 'волокитин': 2,\n",
              " 'разъяснение': 2,\n",
              " 'сотрудник': 2,\n",
              " 'колледж': 2,\n",
              " 'активный': 2,\n",
              " 'организация': 2,\n",
              " 'главный': 2,\n",
              " 'специалист': 2,\n",
              " 'начать': 2,\n",
              " 'частность': 2,\n",
              " 'местный': 2,\n",
              " 'пример': 2,\n",
              " 'костанайский': 2,\n",
              " 'том': 2,\n",
              " 'далее': 2,\n",
              " 'президент': 2,\n",
              " 'передавать': 2,\n",
              " 'туристский': 2,\n",
              " 'полиция': 2,\n",
              " 'гость': 2,\n",
              " 'әлеуметтік': 2,\n",
              " 'қамқорлық': 2,\n",
              " 'доход': 2,\n",
              " 'слой': 2,\n",
              " 'решение': 2,\n",
              " 'жилищный': 2,\n",
              " 'улучшение': 2,\n",
              " 'образование': 2,\n",
              " 'защита': 2,\n",
              " 'комитет': 2,\n",
              " 'жилищнокоммунальный': 2,\n",
              " 'абдыкаликов': 2,\n",
              " 'социально': 2,\n",
              " 'жетыс': 2,\n",
              " 'блок': 2,\n",
              " 'талдыкоргать': 2,\n",
              " 'жилой': 2,\n",
              " 'зал': 2,\n",
              " 'делегация': 2,\n",
              " 'конкретный': 2,\n",
              " 'метр': 2,\n",
              " 'е': 2,\n",
              " 'космодром': 2,\n",
              " 'ракетный': 2,\n",
              " 'дюсш': 2,\n",
              " 'баскетбол': 2,\n",
              " 'мужской': 2,\n",
              " 'женский': 2,\n",
              " 'команда': 2,\n",
              " 'фойе': 2,\n",
              " 'животное': 2,\n",
              " 'ооо': 2,\n",
              " 'инвест': 2,\n",
              " 'дагестан': 2,\n",
              " 'быстрый': 2,\n",
              " 'шахматы': 2,\n",
              " 'мемориал': 2,\n",
              " 'открытый': 2,\n",
              " 'турнир': 2,\n",
              " 'кубок': 2,\n",
              " 'федерация': 2,\n",
              " 'юноша': 2,\n",
              " 'ккз': 2,\n",
              " 'сатурн': 2,\n",
              " 'награждение': 2,\n",
              " 'театральный': 2,\n",
              " 'театр': 2,\n",
              " 'инженер': 2,\n",
              " 'испытатель': 2,\n",
              " 'находиться': 2,\n",
              " 'энергия': 2,\n",
              " 'плата': 2,\n",
              " 'корпорация': 2,\n",
              " 'предприятие': 2,\n",
              " 'семейство': 2,\n",
              " 'рассказ': 2,\n",
              " 'церемония': 2,\n",
              " 'грантовой': 2,\n",
              " 'взаимовыгодный': 2,\n",
              " 'университет': 2,\n",
              " 'транспортировка': 2,\n",
              " 'инициатива': 2,\n",
              " 'уязвимый': 2,\n",
              " 'дополнительно': 2,\n",
              " 'миллиард': 2,\n",
              " 'фольклор': 2,\n",
              " 'известный': 2,\n",
              " 'алиш': 1,\n",
              " 'алим': 1,\n",
              " 'альмир': 1,\n",
              " 'подарить': 1,\n",
              " 'комнатный': 1,\n",
              " 'тройняшка': 1,\n",
              " 'разделить': 1,\n",
              " 'поздравить': 1,\n",
              " 'приехать': 1,\n",
              " 'акан': 1,\n",
              " 'абдуалиев': 1,\n",
              " 'вручить': 1,\n",
              " 'ключ': 1,\n",
              " 'рад': 1,\n",
              " 'пусть': 1,\n",
              " 'крепкий': 1,\n",
              " 'будущее': 1,\n",
              " 'светлый': 1,\n",
              " 'верить': 1,\n",
              " 'страна': 1,\n",
              " 'они': 1,\n",
              " 'гордиться': 1,\n",
              " 'пожелать': 1,\n",
              " 'несмотря': 1,\n",
              " 'младенец': 1,\n",
              " 'ранний': 1,\n",
              " 'срок': 1,\n",
              " 'точно': 1,\n",
              " 'радостно': 1,\n",
              " 'поделиться': 1,\n",
              " 'енлик': 1,\n",
              " 'кайсаров': 1,\n",
              " 'канат': 1,\n",
              " 'калиқанула': 1,\n",
              " 'практика': 1,\n",
              " 'третье': 1,\n",
              " 'столкнуться': 1,\n",
              " 'случаем': 1,\n",
              " 'мальчик': 1,\n",
              " 'спустя': 1,\n",
              " 'снова': 1,\n",
              " 'свидетель': 1,\n",
              " 'радостный': 1,\n",
              " 'событие': 1,\n",
              " 'состояние': 1,\n",
              " 'хороший': 1,\n",
              " 'весить': 1,\n",
              " 'три': 1,\n",
              " 'стоить': 1,\n",
              " 'ранее': 1,\n",
              " 'рождаться': 1,\n",
              " 'асель': 1,\n",
              " 'досановый': 1,\n",
              " 'празднование': 1,\n",
              " 'наурыз': 1,\n",
              " 'олицетворение': 1,\n",
              " 'непрерывный': 1,\n",
              " 'отражать': 1,\n",
              " 'величие': 1,\n",
              " 'начало': 1,\n",
              " 'мировой': 1,\n",
              " 'курсант': 1,\n",
              " 'класс': 1,\n",
              " 'школыгимназия': 1,\n",
              " 'посёлок': 1,\n",
              " 'отеген': 1,\n",
              " 'батыр': 1,\n",
              " 'неплохой': 1,\n",
              " 'древние': 1,\n",
              " 'обряд': 1,\n",
              " 'иметь': 1,\n",
              " 'развивать': 1,\n",
              " 'прививать': 1,\n",
              " 'любовь': 1,\n",
              " 'родина': 1,\n",
              " 'сплотить': 1,\n",
              " 'школьный': 1,\n",
              " 'коллектив': 1,\n",
              " 'общаться': 1,\n",
              " 'одетый': 1,\n",
              " 'яркий': 1,\n",
              " 'костюм': 1,\n",
              " 'объединить': 1,\n",
              " 'богатый': 1,\n",
              " 'праздничный': 1,\n",
              " 'дастархан': 1,\n",
              " 'блюдо': 1,\n",
              " 'традиционный': 1,\n",
              " 'наурызкожий': 1,\n",
              " 'сценарий': 1,\n",
              " 'благословение': 1,\n",
              " 'уважаемый': 1,\n",
              " 'аксакал': 1,\n",
              " 'очищение': 1,\n",
              " 'шанырак': 1,\n",
              " 'злой': 1,\n",
              " 'дух': 1,\n",
              " 'трава': 1,\n",
              " 'адыраспать': 1,\n",
              " 'приносить': 1,\n",
              " 'удача': 1,\n",
              " 'мудрый': 1,\n",
              " 'наставление': 1,\n",
              " 'недавно': 1,\n",
              " 'войти': 1,\n",
              " 'келина': 1,\n",
              " 'вели': 1,\n",
              " 'диалог': 1,\n",
              " 'петь': 1,\n",
              " 'любимый': 1,\n",
              " 'народный': 1,\n",
              " 'инсценировать': 1,\n",
              " 'постановка': 1,\n",
              " 'коренной': 1,\n",
              " 'преподаватель': 1,\n",
              " 'карлыгаш': 1,\n",
              " 'талгат': 1,\n",
              " 'хамитовый': 1,\n",
              " 'завершать': 1,\n",
              " 'пожелание': 1,\n",
              " 'изучать': 1,\n",
              " 'расширять': 1,\n",
              " 'пополнять': 1,\n",
              " 'интересоваться': 1,\n",
              " 'бытом': 1,\n",
              " 'жить': 1,\n",
              " 'душить': 1,\n",
              " 'сила': 1,\n",
              " 'неизменный': 1,\n",
              " 'красота': 1,\n",
              " 'английский': 1,\n",
              " 'объединение': 1,\n",
              " 'социальногражданский': 1,\n",
              " 'базис': 1,\n",
              " 'болашак': 1,\n",
              " 'тоо': 1,\n",
              " 'филип': 1,\n",
              " 'моррис': 1,\n",
              " 'вести': 1,\n",
              " 'плодотворный': 1,\n",
              " 'жер': 1,\n",
              " 'возрождение': 1,\n",
              " 'воспитание': 1,\n",
              " 'истинный': 1,\n",
              " 'патриотизм': 1,\n",
              " 'уважение': 1,\n",
              " 'подрастать': 1,\n",
              " 'жанар': 1,\n",
              " 'дауренбеков': 1,\n",
              " 'қош': 1,\n",
              " 'келдің': 1,\n",
              " 'наурызть': 1,\n",
              " 'объявлять': 1,\n",
              " 'пять': 1,\n",
              " 'открываться': 1,\n",
              " 'организатор': 1,\n",
              " 'мочь': 1,\n",
              " 'возраст': 1,\n",
              " 'обучиться': 1,\n",
              " 'компьютер': 1,\n",
              " 'специализировать': 1,\n",
              " 'необходимый': 1,\n",
              " 'подать': 1,\n",
              " 'заявка': 1,\n",
              " 'приложить': 1,\n",
              " 'эссе': 1,\n",
              " 'номинация': 1,\n",
              " 'портал': 1,\n",
              " 'опыт': 1,\n",
              " 'мой': 1,\n",
              " 'интернетдостижение': 1,\n",
              " 'интернетпредприниматель': 1,\n",
              " 'интернетработодатель': 1,\n",
              " 'интернетинициатива': 1,\n",
              " 'приниматься': 1,\n",
              " 'октябрь': 1,\n",
              " 'определить': 1,\n",
              " 'комиссия': 1,\n",
              " 'входить': 1,\n",
              " 'нижегородский': 1,\n",
              " 'российский': 1,\n",
              " 'ассоциация': 1,\n",
              " 'коммуникация': 1,\n",
              " 'региональный': 1,\n",
              " 'интернеттехнология': 1,\n",
              " 'планироваться': 1,\n",
              " 'подвести': 1,\n",
              " 'ноябрь': 1,\n",
              " 'тот': 1,\n",
              " 'пора': 1,\n",
              " 'немой': 1,\n",
              " 'публиковаться': 1,\n",
              " 'одноимённый': 1,\n",
              " 'обучать': 1,\n",
              " 'пособие': 1,\n",
              " 'интернетпортал': 1,\n",
              " 'подписать': 1,\n",
              " 'облегчить': 1,\n",
              " 'доступ': 1,\n",
              " 'получение': 1,\n",
              " 'вид': 1,\n",
              " 'повысить': 1,\n",
              " 'посредством': 1,\n",
              " 'инспекционный': 1,\n",
              " 'поездка': 1,\n",
              " 'проверить': 1,\n",
              " 'гектар': 1,\n",
              " 'спорткомплекс': 1,\n",
              " 'разместить': 1,\n",
              " 'бассейн': 1,\n",
              " 'секция': 1,\n",
              " 'дзюдо': 1,\n",
              " 'самбо': 1,\n",
              " 'волейбол': 1,\n",
              " 'планировать': 1,\n",
              " 'открыть': 1,\n",
              " 'осень': 1,\n",
              " 'возможный': 1,\n",
              " 'воинский': 1,\n",
              " 'слава': 1,\n",
              " 'построить': 1,\n",
              " 'культурный': 1,\n",
              " 'вестись': 1,\n",
              " 'открыться': 1,\n",
              " 'заранее': 1,\n",
              " 'подобрать': 1,\n",
              " 'квалифицировать': 1,\n",
              " 'персонал': 1,\n",
              " 'медучреждение': 1,\n",
              " 'ингушетия': 1,\n",
              " 'меморандум': 1,\n",
              " 'договор': 1,\n",
              " 'передача': 1,\n",
              " 'осудить': 1,\n",
              " 'лицо': 1,\n",
              " 'обновить': 1,\n",
              " 'свежий': 1,\n",
              " 'ветер': 1,\n",
              " 'отхватывать': 1,\n",
              " 'инфраструктура': 1,\n",
              " 'сельский': 1,\n",
              " 'акорд': 1,\n",
              " 'переговоры': 1,\n",
              " 'венгрия': 1,\n",
              " 'виктор': 1,\n",
              " 'орбаном': 1,\n",
              " 'официальный': 1,\n",
              " 'двусторонний': 1,\n",
              " 'предполагать': 1,\n",
              " 'обсуждение': 1,\n",
              " 'ключевой': 1,\n",
              " 'казахстансковенгерский': 1,\n",
              " 'международный': 1,\n",
              " 'проблематика': 1,\n",
              " 'астан': 1,\n",
              " 'новость': 1,\n",
              " 'собрание': 1,\n",
              " 'беларусь': 1,\n",
              " 'мясник': 1,\n",
              " 'дариг': 1,\n",
              " 'жогорка': 1,\n",
              " 'кенеш': 1,\n",
              " 'кыргызский': 1,\n",
              " 'дастанбек': 1,\n",
              " 'джумабек': 1,\n",
              " 'секретарить': 1,\n",
              " 'совет': 1,\n",
              " 'полномочный': 1,\n",
              " 'молдова': 1,\n",
              " 'иона': 1,\n",
              " 'липчиу': 1,\n",
              " 'намояндагон': 1,\n",
              " 'оля': 1,\n",
              " 'таджикистан': 1,\n",
              " 'шукурджон': 1,\n",
              " 'зухуров': 1,\n",
              " 'олия': 1,\n",
              " 'мажлис': 1,\n",
              " 'узбекистан': 1,\n",
              " 'нигматилла': 1,\n",
              " 'юлдашева': 1,\n",
              " 'торжественный': 1,\n",
              " 'подведение': 1,\n",
              " 'творческий': 1,\n",
              " 'сезон': 1,\n",
              " 'ветеран': 1,\n",
              " 'северсталь': 1,\n",
              " 'строитель': 1,\n",
              " 'праздникчереповец': 1,\n",
              " 'дворецкультура': 1,\n",
              " 'хорошеенастроение': 1,\n",
              " 'звукооператор': 1,\n",
              " 'поставлять': 1,\n",
              " 'дизельный': 1,\n",
              " 'топливо': 1,\n",
              " 'ездить': 1,\n",
              " 'украинский': 1,\n",
              " 'включая': 1,\n",
              " 'автозак': 1,\n",
              " 'возить': 1,\n",
              " 'пророссийский': 1,\n",
              " 'заключённый': 1,\n",
              " 'военнопленный': 1,\n",
              " 'сегодняшний': 1,\n",
              " 'запрет': 1,\n",
              " 'правительство': 1,\n",
              " 'митинг': 1,\n",
              " 'годовщина': 1,\n",
              " 'победа': 1,\n",
              " 'война': 1,\n",
              " 'краевой': 1,\n",
              " 'эх': 1,\n",
              " 'дорожка': 1,\n",
              " 'фронтовой': 1,\n",
              " 'штабпобеда': 1,\n",
              " 'петровскийго': 1,\n",
              " 'штабпобедыпетровскийгоск': 1,\n",
              " 'поколениепобедитель': 1,\n",
              " 'домкультурыселошангал': 1,\n",
              " 'май': 1,\n",
              " 'акция': 1,\n",
              " 'целейакция': 1,\n",
              " 'медиа': 1,\n",
              " 'актуальный': 1,\n",
              " 'поздравлять': 1,\n",
              " 'уренгой': 1,\n",
              " 'интересный': 1,\n",
              " 'начинание': 1,\n",
              " 'видеостена': 1,\n",
              " 'дверь': 1,\n",
              " 'импульскласс': 1,\n",
              " 'остаться': 1,\n",
              " 'неделя': 1,\n",
              " 'импульсчеловек': 1,\n",
              " 'новыйуренгой': 1,\n",
              " 'янао': 1,\n",
              " 'откликнуться': 1,\n",
              " 'поддержать': 1,\n",
              " 'болашаққ': 1,\n",
              " 'бағдар': 1,\n",
              " 'внести': 1,\n",
              " 'вклад': 1,\n",
              " 'стремиться': 1,\n",
              " 'лисаковчанин': 1,\n",
              " 'лтк': 1,\n",
              " 'роль': 1,\n",
              " 'модератор': 1,\n",
              " 'база': 1,\n",
              " 'дистанционный': 1,\n",
              " 'образовательный': 1,\n",
              " 'рудненский': 1,\n",
              " 'индустриальный': 1,\n",
              " 'институт': 1,\n",
              " 'проинформировать': 1,\n",
              " 'содержание': 1,\n",
              " 'оформить': 1,\n",
              " 'книжный': 1,\n",
              " 'полка': 1,\n",
              " 'целое': 1,\n",
              " 'большой': 1,\n",
              " 'количество': 1,\n",
              " 'жанғыр': 1,\n",
              " 'сохранить': 1,\n",
              " 'работать': 1,\n",
              " 'частица': 1,\n",
              " 'присутствовать': 1,\n",
              " 'раскладка': 1,\n",
              " 'людмила': 1,\n",
              " 'сенчева': 1,\n",
              " 'технический': 1,\n",
              " 'перечислить': 1,\n",
              " 'студент': 1,\n",
              " 'учебный': 1,\n",
              " 'заведение': 1,\n",
              " 'упомянуть': 1,\n",
              " 'проводить': 1,\n",
              " 'взаимодействие': 1,\n",
              " 'доклад': 1,\n",
              " 'богатко': 1,\n",
              " 'закрепить': 1,\n",
              " 'подпрограмма': 1,\n",
              " 'атамекен': 1,\n",
              " 'ақпаратый': 1,\n",
              " 'толқын': 1,\n",
              " 'подпроект': 1,\n",
              " 'волонтёр': 1,\n",
              " 'рақмета': 1,\n",
              " 'сағать': 1,\n",
              " 'есть': 1,\n",
              " 'предприниматель': 1,\n",
              " 'привлечение': 1,\n",
              " 'меценат': 1,\n",
              " 'прошлое': 1,\n",
              " 'реализовать': 1,\n",
              " 'конструктивный': 1,\n",
              " 'продолжить': 1,\n",
              " 'затобольский': 1,\n",
              " 'средний': 1,\n",
              " 'молодежьбудущий': 1,\n",
              " 'прогрессивный': 1,\n",
              " 'кгу': 1,\n",
              " 'ресурсный': 1,\n",
              " 'бахыт': 1,\n",
              " 'гарипжан': 1,\n",
              " 'план': 1,\n",
              " 'молодёжь': 1,\n",
              " 'шәкірттеречь': 1,\n",
              " 'ұстаз': 1,\n",
              " 'бола': 1,\n",
              " 'ірілік': 1,\n",
              " 'есембета': 1,\n",
              " 'саят': 1,\n",
              " 'гу': 1,\n",
              " 'мичуринский': 1,\n",
              " 'сш': 1,\n",
              " 'преподователь': 1,\n",
              " 'сообщить': 1,\n",
              " 'ерлана': 1,\n",
              " 'тургумбай': 1,\n",
              " 'расширить': 1,\n",
              " 'заседание': 1,\n",
              " 'коллегия': 1,\n",
              " 'мвд': 1,\n",
              " 'касымжомарт': 1,\n",
              " 'токаева': 1,\n",
              " 'обеспечивать': 1,\n",
              " 'комфорт': 1,\n",
              " 'иностранный': 1,\n",
              " 'пребывание': 1,\n",
              " 'основной': 1,\n",
              " 'подразделение': 1,\n",
              " 'консультирование': 1,\n",
              " 'информирование': 1,\n",
              " 'турист': 1,\n",
              " 'интересовать': 1,\n",
              " 'обеспечение': 1,\n",
              " 'создать': 1,\n",
              " 'акмолинский': 1,\n",
              " 'правительственный': 1,\n",
              " 'адбыкаликов': 1,\n",
              " 'известно': 1,\n",
              " 'информационноразъяснительный': 1,\n",
              " 'направленый': 1,\n",
              " 'комплексный': 1,\n",
              " 'повышение': 1,\n",
              " 'низкий': 1,\n",
              " 'труд': 1,\n",
              " 'сначала': 1,\n",
              " 'расположить': 1,\n",
              " 'обслуживание': 1,\n",
              " 'ознакомить': 1,\n",
              " 'есжановый': 1,\n",
              " 'бейбитый': 1,\n",
              " 'детально': 1,\n",
              " 'рассмотреть': 1,\n",
              " 'порядок': 1,\n",
              " 'назначение': 1,\n",
              " 'адресный': 1,\n",
              " 'помощь': 1,\n",
              " 'ряд': 1,\n",
              " 'геоинформационный': 1,\n",
              " 'представить': 1,\n",
              " 'управление': 1,\n",
              " 'цифровой': 1,\n",
              " 'гаухар': 1,\n",
              " 'шокановый': 1,\n",
              " 'цоном': 1,\n",
              " 'выдать': 1,\n",
              " 'свыше': 1,\n",
              " 'документ': 1,\n",
              " 'форма': 1,\n",
              " 'оказать': 1,\n",
              " 'обеспечить': 1,\n",
              " 'постоянный': 1,\n",
              " 'местами': 1,\n",
              " 'направить': 1,\n",
              " 'оплачивать': 1,\n",
              " 'подчеркнуть': 1,\n",
              " 'предусмотреть': 1,\n",
              " 'средство': 1,\n",
              " 'микрокредитование': 1,\n",
              " 'грант': 1,\n",
              " 'бизнесидея': 1,\n",
              " 'сертификат': 1,\n",
              " 'миллион': 1,\n",
              " 'проезд': 1,\n",
              " 'транспорт': 1,\n",
              " 'выкуп': 1,\n",
              " 'уштобе': 1,\n",
              " 'подключение': 1,\n",
              " 'централизовать': 1,\n",
              " 'газоснабжение': 1,\n",
              " 'установка': 1,\n",
              " 'датчик': 1,\n",
              " 'угарный': 1,\n",
              " 'газа': 1,\n",
              " 'встретиться': 1,\n",
              " 'гражданский': 1,\n",
              " 'общество': 1,\n",
              " 'прозвучать': 1,\n",
              " 'найти': 1,\n",
              " 'некоторый': 1,\n",
              " 'абдикаликов': 1,\n",
              " 'личный': 1,\n",
              " 'проинспектировать': 1,\n",
              " 'учреждение': 1,\n",
              " 'ответить': 1,\n",
              " 'житель': 1,\n",
              " 'наука': 1,\n",
              " 'шамшидинов': 1,\n",
              " 'побывать': 1,\n",
              " 'коксуск': 1,\n",
              " 'жайымбет': 1,\n",
              " 'жкх': 1,\n",
              " 'текели': 1,\n",
              " 'биртан': 1,\n",
              " 'ознакомиться': 1,\n",
              " 'ескельдинский': 1,\n",
              " 'галина': 1,\n",
              " 'митковский': 1,\n",
              " 'суббота': 1,\n",
              " 'перерыв': 1,\n",
              " 'музей': 1,\n",
              " 'экспрессвыставка': 1,\n",
              " 'творец': 1,\n",
              " 'отчётный': 1,\n",
              " 'концертный': 1,\n",
              " 'овк': 1,\n",
              " 'малый': 1,\n",
              " 'закрытие': 1,\n",
              " 'городской': 1,\n",
              " 'фестиваль': 1,\n",
              " 'искусство': 1,\n",
              " 'гастроль': 1,\n",
              " 'юмористический': 1,\n",
              " 'шаншар': 1,\n",
              " 'воскресение': 1,\n",
              " 'сми': 1,\n",
              " 'администрация': 1,\n",
              " 'ежегодно': 1,\n",
              " 'мир': 1,\n",
              " 'отмечать': 1,\n",
              " 'космонавтика': 1,\n",
              " 'настоящий': 1,\n",
              " 'объединять': 1,\n",
              " 'единый': 1,\n",
              " 'стремление': 1,\n",
              " 'познать': 1,\n",
              " 'её': 1,\n",
              " 'предел': 1,\n",
              " 'добрый': 1,\n",
              " 'кцсон': 1,\n",
              " 'суздальский': 1,\n",
              " 'получатель': 1,\n",
              " 'матвеев': 1,\n",
              " 'уроженец': 1,\n",
              " 'суздаль': 1,\n",
              " 'проработать': 1,\n",
              " 'прежний': 1,\n",
              " 'название': 1,\n",
              " 'цкбэма': 1,\n",
              " 'нпо': 1,\n",
              " 'нынешний': 1,\n",
              " 'ракетнокосмический': 1,\n",
              " 'ведущий': 1,\n",
              " 'ссср': 1,\n",
              " 'головной': 1,\n",
              " 'московский': 1,\n",
              " 'филиал': 1,\n",
              " 'разработка': 1,\n",
              " 'изготовление': 1,\n",
              " 'первое': 1,\n",
              " 'искусственный': 1,\n",
              " 'спутник': 1,\n",
              " 'ракетноситель': 1,\n",
              " 'пилотировать': 1,\n",
              " 'союз': 1,\n",
              " 'беспилотный': 1,\n",
              " 'грузовой': 1,\n",
              " 'прогресс': 1,\n",
              " 'вспомнить': 1,\n",
              " 'отряд': 1,\n",
              " 'летчиковкосмонавт': 1,\n",
              " 'испытывать': 1,\n",
              " 'анохин': 1,\n",
              " 'бугров': 1,\n",
              " 'волков': 1,\n",
              " 'долгополов': 1,\n",
              " 'гречко': 1,\n",
              " 'елисеев': 1,\n",
              " 'кубасовый': 1,\n",
              " 'мн': 1,\n",
              " 'др': 1,\n",
              " 'многий': 1,\n",
              " 'знак': 1,\n",
              " 'макет': 1,\n",
              " 'плакат': 1,\n",
              " 'фото': 1,\n",
              " 'книга': 1,\n",
              " 'лётчик': 1,\n",
              " 'космонавт': 1,\n",
              " 'больший': 1,\n",
              " 'послушать': 1,\n",
              " 'беседа': 1,\n",
              " 'задавать': 1,\n",
              " 'получать': 1,\n",
              " 'исчерпывающий': 1,\n",
              " 'ответ': 1,\n",
              " 'газпром': 1,\n",
              " 'родные': 1,\n",
              " 'пригласить': 1,\n",
              " 'студия': 1,\n",
              " 'мода': 1,\n",
              " 'модница': 1,\n",
              " 'рг': 1,\n",
              " 'дорога': 1,\n",
              " 'трансформация': 1,\n",
              " 'правление': 1,\n",
              " 'орало': 1,\n",
              " 'идырысов': 1,\n",
              " 'ректор': 1,\n",
              " 'кенжебек': 1,\n",
              " 'ибрашев': 1,\n",
              " 'сторона': 1,\n",
              " 'дальнейший': 1,\n",
              " 'подготовка': 1,\n",
              " 'переподготовка': 1,\n",
              " 'кадр': 1,\n",
              " ...}"
            ]
          },
          "metadata": {
            "tags": []
          },
          "execution_count": 207
        }
      ]
    },
    {
      "cell_type": "code",
      "metadata": {
        "id": "0E44oOUNJ4-H"
      },
      "source": [
        "def built_lem_d(corpus):\n",
        "    list_lem = []\n",
        "    for text in corpus :\n",
        "        for word in get_lemm(text):\n",
        "            list_lem.append(word)\n",
        "    dict_lem = Counter(list_lem) \n",
        "    return dict(sorted(dict_lem.items(), key=lambda kv: kv[1], reverse=True))"
      ],
      "execution_count": null,
      "outputs": []
    },
    {
      "cell_type": "code",
      "metadata": {
        "id": "03icHOMAJ4-H",
        "outputId": "39b977be-f8aa-4115-a985-d3ead8c01b2b"
      },
      "source": [
        "dict_0 =  built_lem_dict(df[df['label']==0].text[:250])\n",
        "print('частотный словарь лемм по текстам внутри 0 класса', dict_0)"
      ],
      "execution_count": null,
      "outputs": [
        {
          "output_type": "stream",
          "text": [
            "частотный словарь лемм по текстам внутри 0 класса {'год': 324, 'который': 144, 'область': 133, 'казахстан': 124, 'наш': 102, 'это': 97, 'работа': 96, 'город': 91, 'район': 90, 'россия': 89, 'свой': 88, 'человек': 87, 'проект': 87, 'также': 85, 'президент': 85, 'один': 82, 'республика': 75, 'центр': 74, 'день': 73, 'программа': 72, 'участие': 68, 'компания': 67, 'апрель': 66, 'встреча': 64, 'ребёнок': 63, 'развитие': 63, 'время': 62, 'весь': 60, 'новый': 59, 'рамка': 58, 'мероприятие': 57, 'страна': 54, 'жизнь': 52, 'дело': 51, 'принять': 51, 'самый': 51, 'место': 50, 'нурсултан': 50, 'экскурсия': 49, 'стать': 48, 'реализация': 48, 'социальный': 47, 'глава': 47, 'конкурс': 46, 'государственный': 45, 'вопрос': 45, 'министр': 45, 'мир': 45, 'каждый': 44, 'строительство': 44, 'провести': 44, 'рубль': 44, 'пройти': 43, 'аким': 42, 'семья': 42, 'назарбаев': 42, 'состояться': 42, 'культура': 41, 'регион': 41, 'школа': 41, 'два': 40, 'участник': 39, 'ход': 39, 'футбол': 39, 'дом': 38, 'метр': 38, 'поддержка': 37, 'группа': 37, 'турнир': 37, 'производство': 37, 'теннис': 37, 'дать': 36, 'алматинский': 36, 'территория': 36, 'председатель': 35, 'полиция': 35, 'посещение': 35, 'получить': 35, 'сегодня': 34, 'такой': 34, 'быть': 33, 'фонд': 33, 'далее': 33, 'первое': 33, 'храм': 33, 'национальный': 32, 'история': 32, 'новое': 32, 'международный': 32, 'открытый': 32, 'большой': 31, 'рк': 31, 'предприятие': 31, 'прессслужба': 31, 'джиган': 31, 'елбас': 30, 'касымжомарт': 30, 'являться': 30, 'тур': 30, 'хороший': 29, 'мой': 29, 'руководитель': 29, 'алматы': 29, 'фестиваль': 29, 'детский': 29, 'другой': 28, 'сфера': 28, 'молодёжь': 28, 'том': 28, 'передавать': 28, 'посетить': 28, 'образование': 28, 'возможность': 28, 'башкортостан': 28, 'хоккей': 28, 'отметить': 27, 'цель': 27, 'министерство': 27, 'работать': 27, 'представить': 27, 'многодетный': 27, 'число': 26, 'российский': 26, 'тысяча': 26, 'сотрудничество': 26, 'май': 26, 'акимат': 26, 'обсудить': 26, 'помощь': 26, 'лига': 26, 'директор': 25, 'интернет': 25, 'задача': 25, 'токай': 25, 'челленджер': 25, 'рассказать': 24, 'население': 24, 'итог': 24, 'тот': 24, 'визит': 24, 'совет': 24, 'направление': 24, 'молодёжный': 24, 'гость': 24, 'создать': 24, 'городской': 24, 'ссылка': 24, 'стоимость': 24, 'корея': 24, 'отель': 24, 'народ': 23, 'представитель': 23, 'дворец': 23, 'сельский': 23, 'государство': 23, 'путь': 23, 'выставка': 23, 'туристский': 23, 'завтрак': 23, 'билет': 23, 'песня': 23, 'высокий': 23, 'узбекистан': 22, 'среди': 22, 'иностранный': 22, 'музей': 22, 'александр': 22, 'женщина': 22, 'язык': 21, 'обучение': 21, 'общественный': 21, 'деятельность': 21, 'сотрудник': 21, 'начать': 21, 'заседание': 21, 'безопасность': 21, 'житель': 21, 'находиться': 21, 'плата': 21, 'отношение': 21, 'читать': 21, 'конференция': 21, 'должный': 21, 'завод': 21, 'сила': 20, 'земля': 20, 'спасибо': 20, 'великий': 20, 'река': 20, 'огромный': 20, 'бизнес': 20, 'творчество': 20, 'запустить': 20, 'очень': 19, 'начало': 19, 'организатор': 19, 'комплекс': 19, 'технология': 19, 'посвятить': 19, 'творческий': 19, 'байконур': 19, 'чемпионат': 19, 'баскетбол': 19, 'команда': 19, 'миллиард': 19, 'лидер': 19, 'ночь': 19, 'создание': 19, 'друг': 19, 'смочь': 19, 'мировой': 18, 'учащийся': 18, 'организовать': 18, 'ветеран': 18, 'акция': 18, 'студент': 18, 'организация': 18, 'направить': 18, 'сделать': 18, 'сообщать': 18, 'памятник': 18, 'доложить': 18, 'совместный': 18, 'ул': 18, 'идея': 18, 'появиться': 17, 'имя': 17, 'проведение': 17, 'мочь': 17, 'тема': 17, 'региональный': 17, 'астан': 17, 'беларусь': 17, 'победа': 17, 'центральный': 17, 'внутренний': 17, 'миллион': 17, 'зал': 17, 'филиал': 17, 'партия': 17, 'санктпетербург': 17, 'столица': 17, 'площадка': 17, 'подарок': 17, 'экономический': 17, 'татарстан': 17, 'открытие': 17, 'рынок': 17, 'ваш': 17, 'заместитель': 16, 'слово': 16, 'три': 16, 'класс': 16, 'выступать': 16, 'электронный': 16, 'принимать': 16, 'построить': 16, 'поручение': 16, 'акорд': 16, 'специалист': 16, 'местный': 16, 'гражданин': 16, 'рабочий': 16, 'получать': 16, 'вместе': 16, 'особый': 16, 'этот': 16, 'москва': 16, 'казинформ': 16, 'ханой': 16, 'родиться': 15, 'состояние': 15, 'поколение': 15, 'праздник': 15, 'необходимый': 15, 'политика': 15, 'спортивный': 15, 'хозяйство': 15, 'официальный': 15, 'интересный': 15, 'презентация': 15, 'система': 15, 'основный': 15, 'библиотека': 15, 'учебный': 15, 'главный': 15, 'мвд': 15, 'токаева': 15, 'занятость': 15, 'федерация': 15, 'гостиница': 15, 'увидеть': 15, 'мы': 15, 'педагог': 15, 'оборона': 15, 'внимание': 15, 'пункт': 15, 'достижение': 15, 'экономика': 15, 'молодая': 14, 'вручить': 14, 'затем': 14, 'иметь': 14, 'любовь': 14, 'состав': 14, 'вид': 14, 'объект': 14, 'активный': 14, 'сообщить': 14, 'обеспечение': 14, 'мера': 14, 'защита': 14, 'цифровой': 14, 'юрий': 14, 'искусство': 14, 'корабль': 14, 'добрый': 14, 'книга': 14, 'дорога': 14, 'известный': 14, 'обед': 14, 'профессиональный': 14, 'условие': 14, 'себя': 14, 'разный': 14, 'савичева': 14, 'награда': 14, 'премия': 14, 'несколько': 14, 'ещё': 14, 'европа': 14, 'экологический': 14, 'рф': 14, 'номер': 14, 'северный': 14, 'зона': 14, 'луанга': 14, 'экстралига': 14, 'областной': 13, 'родитель': 13, 'здоровье': 13, 'будущее': 13, 'традиция': 13, 'жить': 13, 'номинация': 13, 'услуга': 13, 'данный': 13, 'благодаря': 13, 'кроме': 13, 'правительство': 13, 'отечественный': 13, 'война': 13, 'решение': 13, 'порядок': 13, 'встретиться': 13, 'театр': 13, 'университет': 13, 'дальнейший': 13, 'южный': 13, 'взрослый': 13, 'посетитель': 13, 'парк': 13, 'текущий': 13, 'различный': 13, 'алексей': 13, 'ждать': 13, 'спорт': 13, 'говорить': 13, 'знать': 13, 'выступление': 13, 'салават': 13, 'сердце': 13, 'рука': 13, 'свободный': 13, 'формат': 13, 'какой': 13, 'германия': 13, 'продукция': 13, 'орден': 13, 'трансфер': 13, 'прабанг': 13, 'свет': 12, 'руководство': 12, 'мама': 12, 'впервые': 12, 'интерес': 12, 'яркий': 12, 'традиционный': 12, 'важный': 12, 'приём': 12, 'планироваться': 12, 'качество': 12, 'венгрия': 12, 'двусторонний': 12, 'украина': 12, 'ряд': 12, 'тенг': 12, 'московский': 12, 'заниматься': 12, 'предстоящий': 12, 'выбор': 12, 'сад': 12, 'казахстанский': 12, 'русский': 12, 'берег': 12, 'парка': 12, 'остров': 12, 'современный': 12, 'владимир': 12, 'улица': 12, 'жильё': 12, 'юлаева': 12, 'успех': 12, 'альбом': 12, 'край': 12, 'конец': 12, 'специальный': 12, 'король': 12, 'служба': 12, 'общий': 12, 'проблема': 12, 'добро': 12, 'инновационный': 12, 'бейсбол': 12, 'суперлига': 12, 'любимый': 11, 'выделить': 11, 'волейбол': 11, 'вестись': 11, 'премьерминистр': 11, 'виктор': 11, 'снг': 11, 'отдел': 11, 'стол': 11, 'технический': 11, 'колледж': 11, 'прошлое': 11, 'реализовать': 11, 'план': 11, 'расположить': 11, 'член': 11, 'управление': 11, 'подчеркнуть': 11, 'матерь': 11, 'общество': 11, 'учреждение': 11, 'вход': 11, 'церемония': 11, 'подготовка': 11, 'бюджет': 11, 'информация': 11, 'гид': 11, 'площадь': 11, 'трасса': 11, 'школьник': 11, 'душа': 11, 'далёкий': 11, 'идти': 11, 'форум': 11, 'период': 11, 'музыкальный': 11, 'источник': 11, 'маленькая': 11, 'последний': 11, 'представлять': 11, 'любить': 11, 'июнь': 11, 'участвовать': 11, 'дерево': 11, 'село': 11, 'здание': 11, 'североказахстанский': 11, 'вода': 11, 'километр': 11, 'производственный': 11, 'выпуск': 11, 'байкал': 11, 'цех': 11, 'подарить': 10, 'момент': 10, 'старший': 10, 'дух': 10, 'курс': 10, 'тоо': 10, 'воспитание': 10, 'ростелеком': 10, 'всероссийский': 10, 'входить': 10, 'проводиться': 10, 'пенсионер': 10, 'здравоохранение': 10, 'переговоры': 10, 'сенат': 10, 'парламент': 10, 'генеральный': 10, 'техника': 10, 'вклад': 10, 'образовательный': 10, 'количество': 10, 'заведение': 10, 'предприниматель': 10, 'средний': 10, 'костанайский': 10, 'средство': 10, 'наука': 10, 'продолжение': 10, 'бокс': 10, 'администрация': 10, 'космический': 10, 'её': 10, 'петербург': 10, 'обзорный': 10, 'уникальный': 10, 'входной': 10, 'предложение': 10, 'мастеркласс': 10, 'адрес': 10, 'сеть': 10, 'ежегодный': 10, 'депутат': 10, 'полный': 10, 'уфа': 10, 'трек': 10, 'лауреат': 10, 'работник': 10, 'юный': 10, 'отдых': 10, 'оборудование': 10, 'населить': 10, 'власть': 10, 'перспектива': 10, 'инвестиционный': 10, 'делать': 10, 'офис': 10, 'просто': 10, 'субботник': 10, 'атамкулов': 10, 'уровень': 10, 'результат': 10, 'экология': 10, 'век': 10, 'иркутск': 10, 'приморский': 10, 'арктический': 10, 'хоргос': 10, 'коррекционный': 10, 'халонг': 10, 'вьетнамский': 10, 'товарищеский': 10, 'гандбол': 10, 'ранний': 9, 'событие': 9, 'связь': 9, 'казахский': 9, 'коллектив': 9, 'народный': 9, 'показать': 9, 'преподаватель': 9, 'красота': 9, 'рухани': 9, 'пять': 9, 'сайт': 9, 'конкурсный': 9, 'соглашение': 9, 'планировать': 9, 'культурный': 9, 'михаил': 9, 'клуб': 9, 'поставить': 9, 'институт': 9, 'проинформировать': 9, 'пример': 9, 'карта': 9, 'настоящий': 9, 'название': 9, 'разработка': 9, 'сторона': 9, 'активно': 9, 'семь': 9, 'небо': 9, 'сооружение': 9, 'четыре': 9, 'прибытие': 9, 'нурлан': 9, 'районный': 9, 'занятие': 9, 'благодарность': 9, 'азия': 9, 'крупный': 9, 'матч': 9, 'честь': 9, 'дочь': 9, 'проходить': 9, 'уборка': 9, 'приглашать': 9, 'читатель': 9, 'нужный': 9, 'р': 9, 'кабинет': 9, 'петропавловск': 9, 'право': 9, 'научный': 9, 'спикер': 9, 'корреспондент': 9, 'андрей': 9, 'аэропорт': 9, 'стратегический': 9, 'тренинг': 9, 'семейный': 9, 'давать': 9, 'писать': 9, 'сетевой': 9, 'финал': 9, 'рипа': 9, 'ангкор': 9, 'дивизион': 9, 'дания': 9, 'талдыкорган': 8, 'рождение': 8, 'поделиться': 8, 'знание': 8, 'войти': 8, 'петь': 8, 'финансовый': 8, 'пенсионный': 8, 'возраст': 8, 'компьютерный': 8, 'заявка': 8, 'портал': 8, 'собрать': 8, 'пора': 8, 'разработать': 8, 'подписать': 8, 'получение': 8, 'открыть': 8, 'промышленность': 8, 'новость': 8, 'актуальный': 8, 'дверь': 8, 'решить': 8, 'многие': 8, 'поддержать': 8, 'внести': 8, 'лисаковск': 8, 'база': 8, 'взаимодействие': 8, 'ерлана': 8, 'тургумбай': 8, 'расширить': 8, 'коллегия': 8, 'подразделение': 8, 'акмолинский': 8, 'блок': 8, 'обеспечить': 8, 'найти': 8, 'е': 8, 'ооо': 8, 'ск': 8, 'нпо': 8, 'многий': 8, 'пригласить': 8, 'инициатива': 8, 'благоустройство': 8, 'поэтому': 8, 'этап': 8, 'размещение': 8, 'крейсер': 8, 'собор': 8, 'высота': 8, 'канал': 8, 'мост': 8, 'вуз': 8, 'течение': 8, 'час': 8, 'прошедшее': 8, 'вооружённый': 8, 'анна': 8, 'состоять': 8, 'позволить': 8, 'квартал': 8, 'занять': 8, 'юлий': 8, 'золотой': 8, 'артист': 8, 'узнать': 8, 'становиться': 8, 'чемпион': 8, 'диплом': 8, 'маленький': 8, 'иван': 8, 'благотворительный': 8, 'зелёный': 8, 'бывший': 8, 'политический': 8, 'ао': 8, 'напомнить': 8, 'инвестор': 8, 'восток': 8, 'множество': 8, 'часть': 8, 'около': 8, 'миа': 8, 'бейбут': 8, 'жертва': 8, 'вова': 8, 'регистрация': 8, 'иркутский': 8, 'художественный': 8, 'муниципальный': 8, 'утилизация': 8, 'партнёр': 8, 'пётр': 8, 'красивый': 8, 'клиент': 8, 'рязанский': 8, 'лукашенко': 8, 'арктика': 8, 'изделие': 8, 'сий': 8, 'меконг': 8, 'чехия': 8, 'бундеслига': 8, 'шымкент': 8, 'квартира': 7, 'изучение': 7, 'батыр': 7, 'ребята': 7, 'победитель': 7, 'открыться': 7, 'лицо': 7, 'ключевой': 7, 'роль': 7, 'круглый': 7, 'турист': 7, 'повышение': 7, 'труд': 7, 'комитет': 7, 'делегация': 7, 'личный': 7, 'галина': 7, 'платный': 7, 'быстрый': 7, 'кубок': 7, 'больший': 7, 'предложить': 7, 'кафе': 7, 'залив': 7, 'исторический': 7, 'дополнительный': 7, 'бесплатно': 7, 'продажа': 7, 'ермекбаев': 7, 'считать': 7, 'игра': 7, 'сентябрь': 7, 'совместно': 7, 'среда': 7, 'крыло': 7, 'отдельный': 7, 'туркестанский': 7, 'учёный': 7, 'отрасль': 7, 'настоящее': 7, 'денис': 7, 'родной': 7, 'указанный': 7, 'сцена': 7, 'юлия': 7, 'крутой': 7, 'декабрь': 7, 'прекрасный': 7, 'звезда': 7, 'чистый': 7, 'участок': 7, 'мусор': 7, 'природа': 7, 'сохранение': 7, 'екатеринбург': 7, 'помогать': 7, 'забота': 7, 'республиканский': 7, 'мун': 7, 'ярмарка': 7, 'поступить': 7, 'желание': 7, 'продвижение': 7, 'спб': 7, 'автодорога': 7, 'крым': 7, 'начаться': 7, 'игрок': 7, 'график': 7, 'посмотреть': 7, 'переработка': 7, 'счастливый': 7, 'хотеть': 7, 'линия': 7, 'сказать': 7, 'счастие': 7, 'бобровый': 7, 'письмо': 7, 'выдача': 7, 'танец': 7, 'гора': 7, 'статуя': 7, 'будда': 7, 'девочка': 6, 'гордиться': 6, 'стоить': 6, 'уважаемый': 6, 'аксакал': 6, 'песнь': 6, 'коренной': 6, 'выступить': 6, 'подрастать': 6, 'азбука': 6, 'коммуникация': 6, 'ноябрь': 6, 'грамотность': 6, 'проверить': 6, 'инфраструктура': 6, 'прибыть': 6, 'таджикистан': 6, 'остаться': 6, 'неделя': 6, 'проводить': 6, 'основной': 6, 'доход': 6, 'малообеспеченный': 6, 'документ': 6, 'форма': 6, 'побывать': 6, 'текели': 6, 'гагарин': 6, 'ю': 6, 'ведущий': 6, 'фото': 6, 'торговый': 6, 'байбек': 6, 'дополнительно': 6, 'назвать': 6, 'развиваться': 6, 'сборник': 6, 'статья': 6, 'фонтан': 6, 'парадный': 6, 'малое': 6, 'ресторан': 6, 'аврор': 6, 'знаменитый': 6, 'архитектура': 6, 'столичный': 6, 'царский': 6, 'екатерининский': 6, 'французский': 6, 'китайский': 6, 'оставить': 6, 'несовершеннолетний': 6, 'совершить': 6, 'правонарушение': 6, 'движение': 6, 'торговоэкономический': 6, 'граница': 6, 'составить': 6, 'внеочередной': 6, 'дорогой': 6, 'набор': 6, 'абай': 6, 'предоставить': 6, 'орган': 6, 'отделение': 6, 'потребность': 6, 'увеличить': 6, 'тимати': 6, 'чарт': 6, 'музыка': 6, 'занимать': 6, 'вечер': 6, 'клип': 6, 'март': 6, 'эфир': 6, 'радиочарт': 6, 'бодибилдинг': 6, 'красный': 6, 'четверг': 6, 'чистота': 6, 'сбор': 6, 'ситуация': 6, 'живописный': 6, 'б': 6, 'гордость': 6, 'режим': 6, 'олег': 6, 'ужин': 6, 'согласие': 6, 'рассказывать': 6, 'часы': 6, 'кумар': 6, 'ученик': 6, 'эксперт': 6, 'азербайджан': 6, 'писатель': 6, 'познакомиться': 6, 'консультация': 6, 'цон': 6, 'матвиенко': 6, 'приложение': 6, 'сессия': 6, 'прошлый': 6, 'подготовить': 6, 'приятно': 6, 'детка': 6, 'деньга': 6, 'пост': 6, 'инвестиция': 6, 'ремонт': 6, 'память': 6, 'строить': 6, 'судьба': 6, 'великое': 6, 'литература': 6, 'студенческий': 6, 'приходить': 6, 'атмосфера': 6, 'тепло': 6, 'бог': 6, 'корпус': 6, 'вчера': 6, 'пос': 6, 'широкий': 6, 'док': 6, 'мид': 6, 'поручить': 6, 'балет': 6, 'lanфинал': 6, 'вьетнам': 6, 'бухта': 6, 'озеро': 6, 'королевский': 6, 'долгопрудный': 6, 'радость': 5, 'поздравить': 5, 'лично': 5, 'ключ': 5, 'срок': 5, 'спустя': 5, 'килограмм': 5, 'продемонстрировать': 5, 'родина': 5, 'трава': 5, 'диалог': 5, 'душить': 5, 'английский': 5, 'вести': 5, 'открываться': 5, 'опыт': 5, 'ассоциация': 5, 'одноимённый': 5, 'поездка': 5, 'пао': 5, 'орбаном': 5, 'мпа': 5, 'сезон': 5, 'сегодняшний': 5, 'экспорт': 5, 'лисаковский': 5, 'содержание': 5, 'целое': 5, 'волонтёр': 5, 'частность': 5, 'привлечение': 5, 'ресурсный': 5, 'гу': 5, 'обеспечивать': 5, 'информирование': 5, 'жилищный': 5, 'улучшение': 5, 'обслуживание': 5, 'рассмотреть': 5, 'свыше': 5, 'транспорт': 5, 'некоторый': 5, 'космодром': 5, 'маяк': 5, 'ежегодно': 5, 'единый': 5, 'союз': 5, 'др': 5, 'знак': 5, 'бауыржан': 5, 'запуск': 5, 'включать': 5, 'презентовать': 5, 'любой': 5, 'проспект': 5, 'стиль': 5, 'полёт': 5, 'сесть': 5, 'питание': 5, 'категория': 5, 'чело': 5, 'сель': 5, 'включить': 5, 'исполнение': 5, 'армия': 5, 'крупномасштабный': 5, 'суд': 5, 'структура': 5, 'татьяна': 5, 'учёт': 5, 'вокал': 5, 'сам': 5, 'ценный': 5, 'навык': 5, 'укрепление': 5, 'утвердить': 5, 'заказ': 5, 'завершить': 5, 'предпринимательство': 5, 'продолжиться': 5, 'активность': 5, 'хипхоп': 5, 'жанна': 5, 'фриска': 5, 'дискотека': 5, 'авария': 5, 'ходить': 5, 'выход': 5, 'отпустить': 5, 'холодное': 5, 'держать': 5, 'дуэт': 5, 'видео': 5, 'нечего': 5, 'твой': 5, 'оксана': 5, 'версия': 5, 'значимый': 5, 'серебряный': 5, 'призёр': 5, 'мо': 5, 'мысль': 5, 'почётный': 5, 'высадить': 5, 'ближний': 5, 'бизнесмен': 5, 'окружающий': 5, 'памятный': 5, 'цвета': 5, 'станкевич': 5, 'знакомство': 5, 'нужно': 5, 'чудо': 5, 'мясной': 5, 'карагандинский': 5, 'актюбинский': 5, 'связать': 5, 'инициировать': 5, 'чже': 5, 'составлять': 5, 'еаэс': 5, 'пятница': 5, 'автомобиль': 5, 'мобильный': 5, 'справка': 5, 'стартовать': 5, 'мечта': 5, 'анк': 5, 'ассамблея': 5, 'изобретатель': 5, 'потенциал': 5, 'педагогический': 5, 'наставник': 5, 'выпустить': 5, 'информационный': 5, 'думать': 5, 'что': 5, 'видеть': 5, 'заявить': 5, 'природный': 5, 'тюльпан': 5, 'франция': 5, 'проектный': 5, 'глубокий': 5, 'масштабный': 5, 'западный': 5, 'башня': 5, 'реальность': 5, 'строительный': 5, 'компетенция': 5, 'юбилей': 5, 'иной': 5, 'здоровый': 5, 'зарабатывать': 5, 'достойный': 5, 'использовать': 5, 'столько': 5, 'осквернить': 5, 'каскелен': 5, 'туризм': 5, 'поэзия': 5, 'стих': 5, 'неправительственный': 5, 'жетысуский': 5, 'создавать': 5, 'назгуль': 5, 'совещание': 5, 'заслуга': 5, 'месяц': 5, 'возвращаться': 5, 'хотеться': 5, 'призвать': 5, 'ценность': 5, 'стена': 5, 'открывать': 5, 'талантливый': 5, 'качественный': 5, 'дёр': 5, 'телевидение': 5, 'предлагать': 5, 'медицина': 5, 'шоу': 5, 'помочь': 5, 'концерт': 5, 'страница': 5, 'морской': 5, 'ансамбль': 5, 'очередь': 5, 'селезадерживать': 5, 'плотина': 5, 'капчагай': 5, 'путешествие': 5, 'камбоджа': 5, 'кан': 5, 'тхо': 5, 'круиз': 5, 'пагода': 5, 'пещера': 5, 'возвращение': 5, 'выписка': 5, 'звание': 5, 'изображение': 5, 'кбо': 5, 'ф': 5, 'словакия': 5, 'косметика': 5, 'шина': 5, 'инвентарь': 5, 'долгожданный': 4, 'тройня': 4, 'приехать': 4, 'пусть': 4, 'верить': 4, 'добавить': 4, 'грамм': 4, 'ранее': 4, 'посёлок': 4, 'развивать': 4, 'общаться': 4, 'богатый': 4, 'праздничный': 4, 'блюдо': 4, 'недавно': 4, 'жаңғыр': 4, 'истинный': 4, 'определить': 4, 'комиссия': 4, 'нижегородский': 4, 'подвести': 4, 'пособие': 4, 'психоневрологический': 4, 'возможный': 4, 'обновить': 4, 'свежий': 4, 'мясник': 4, 'дариг': 4, 'жогорка': 4, 'кенеш': 4, 'включая': 4, 'нефть': 4, 'достигнуть': 4, 'стремиться': 4, 'библиотечный': 4, 'индустриальный': 4, 'разъяснение': 4, 'тематический': 4, 'сохранить': 4, 'комфорт': 4, 'консультирование': 4, 'интересовать': 4, 'известно': 4, 'слой': 4, 'адресный': 4, 'выдать': 4, 'оказать': 4, 'постоянный': 4, 'грант': 4, 'проезд': 4, 'ответить': 4, 'ескельдинский': 4, 'гдк': 4, 'женский': 4, 'север': 4, 'награждение': 4, 'театральный': 4, 'отмечать': 4, 'энергия': 4, 'корпорация': 4, 'космонавт': 4, 'беседа': 4, 'газпром': 4, 'правление': 4, 'ректор': 4, 'кадр': 4, 'основать': 4, 'уязвимый': 4, 'осуществить': 4, 'сказка': 4, 'особенность': 4, 'отъезд': 4, 'мозырь': 4, 'петергоф': 4, 'императорский': 4, 'резиденция': 4, 'финский': 4, 'ручной': 4, 'невский': 4, 'внутри': 4, 'крепость': 4, 'смольный': 4, 'возвести': 4, 'звонница': 4, 'подняться': 4, 'огонь': 4, 'катер': 4, 'разведение': 4, 'грот': 4, 'экспозиция': 4, 'домой': 4, 'менее': 4, 'проживание': 4, 'ночное': 4, 'аннушка': 4, 'комната': 4, 'аудиогид': 4, 'вооружение': 4, 'ермекбай': 4, 'ведомство': 4, 'применение': 4, 'усманский': 4, 'начальник': 4, 'особенно': 4, 'профилактика': 4, 'мастер': 4, 'николай': 4, 'фотография': 4, 'запланировать': 4, 'выражать': 4, 'приграничный': 4, 'отбас': 4, 'тело': 4, 'основа': 4, 'опубликовать': 4, 'список': 4, 'второе': 4, 'оказаться': 4, 'рустам': 4, 'журналист': 4, 'объём': 4, 'хоккейный': 4, 'профессия': 4, 'лоя': 4, 'стас': 4, 'михайлов': 4, 'род': 4, 'одесса': 4, 'дальний': 4, 'коллекция': 4, 'написать': 4, 'начинающий': 4, 'выходить': 4, 'студийный': 4, 'данные': 4, 'выйти': 4, 'вика': 4, 'помимо': 4, 'статуэтка': 4, 'пара': 4, 'тяжёлый': 4, 'победить': 4, 'обслуживающий': 4, 'жила': 4, 'очистка': 4, 'камень': 4, 'сафмара': 4, 'оказывать': 4, 'позволять': 4, 'отход': 4, 'казалось': 4, 'хабир': 4, 'герой': 4, 'маршрут': 4, 'поэт': 4, 'онлайн': 4, 'замечательный': 4, 'удивить': 4, 'сувенир': 4, 'сопровождение': 4, 'животноводство': 4, 'х': 4, 'обратиться': 4, 'затронуть': 4, 'проживать': 4, 'пообещать': 4, 'расселение': 4, 'детство': 4, 'ондасын': 4, 'тюркоязычный': 4, 'василий': 4, 'журнал': 4, 'служить': 4, 'святой': 4, 'павлодарский': 4, 'казтаг': 4, 'армения': 4, 'поле': 4, 'встречаться': 4, 'валентин': 4, 'способ': 4, 'чаща': 4, 'пользоваться': 4, 'доступно': 4, 'госуслуга': 4, 'например': 4, 'достаточно': 4, 'тимур': 4, 'мнение': 4, 'технологический': 4, 'дума': 4, 'ресурс': 4, 'закон': 4, 'переехать': 4, 'элитный': 4, 'папа': 4, 'тонна': 4, 'оно': 4, 'научнопрактический': 4, 'благо': 4, 'озеленение': 4, 'расти': 4, 'действовать': 4, 'наиболее': 4, 'строиться': 4, 'сдать': 4, 'смысл': 4, 'главый': 4, 'болгария': 4, 'деловой': 4, 'крыша': 4, 'внешнеполитический': 4, 'ввести': 4, 'степень': 4, 'успешный': 4, 'вокруг': 4, 'новинка': 4, 'ежедневный': 4, 'недвижимость': 4, 'смотреть': 4, 'заключение': 4, 'охватить': 4, 'исполнительный': 4, 'семеро': 4, 'постройка': 4, 'башкирский': 4, 'почему': 4, 'взять': 4, 'действительно': 4, 'должность': 4, 'именно': 4, 'подвиг': 4, 'охрана': 4, 'пакет': 4, 'алюминиевый': 4, 'меридиан': 4, 'искать': 4, 'принцип': 4, 'люба': 4, 'планета': 4, 'шоссе': 4, 'книгамарт': 4, 'удаться': 4, 'коллега': 4, 'играть': 4, 'подобный': 4, 'советский': 4, 'благодарный': 4, 'прогулка': 4, 'двор': 4, 'резьба': 4, 'ныне': 4, 'образ': 4, 'воспитанник': 4, 'собраться': 4, 'обязательно': 4, 'круг': 4, 'материал': 4, 'муж': 4, 'практически': 4, 'авторский': 4, 'творить': 4, 'вдохновение': 4, 'определение': 4, 'федеральный': 4, 'точка': 4, 'катунино': 4, 'лайский': 4, 'следующий': 4, 'аналоговый': 4, 'эффективность': 4, 'цена': 4, 'молоко': 4, 'коррекция': 4, 'китай': 4, 'федоровский': 4, 'деревня': 4, 'динамо': 4, 'украсить': 4, 'речь': 4, 'коммуникационный': 4, 'дружба': 4, 'киберспорт': 4, 'контент': 4, 'лагерь': 4, 'самар': 4, 'отличный': 4, 'вицепрезидент': 4, 'старт': 4, 'трутнеть': 4, 'преференция': 4, 'чукурбулак': 4, 'водный': 4, 'мцпс': 4, 'ворот': 4, 'кунанбай': 4, 'лаос': 4, 'пномпень': 4, 'мор': 4, 'лаосский': 4, 'вата': 4, 'пром': 4, 'кто': 4, 'турция': 4, 'литр': 4, 'европейский': 4, 'пляжный': 4, 'премьерлига': 4, 'швеция': 4, 'финляндия': 4, 'млб': 4, 'мален': 4, 'полковник': 4, 'амандык': 3, 'батал': 3, 'комнатный': 3, 'вес': 3, 'третье': 3, 'празднование': 3, 'табысый': 3, 'древние': 3, 'обряд': 3, 'школьный': 3, 'объединить': 3, 'приносить': 3, 'пожелание': 3, 'бесплатный': 3, 'объединение': 3, 'плодотворный': 3, 'уважение': 3, 'дауренбеков': 3, 'объявлять': 3, 'компьютер': 3, 'специализировать': 3, 'подать': 3, 'обучать': 3, 'доступ': 3, 'повысить': 3, 'посредством': 3, 'диспансер': 3, 'роснефть': 3, 'игорь': 3, 'воинский': 3, 'собрание': 3, 'дастанбек': 3, 'джумабек': 3, 'полномочный': 3, 'торжественный': 3, 'нефтепродукт': 3, 'украинский': 3, 'поздравлять': 3, 'импульс': 3, 'жангыр': 3, 'цбс': 3, 'оформить': 3, 'книжный': 3, 'присутствовать': 3, 'доклад': 3, 'продолжить': 3, 'кгу': 3, 'ұстаз': 3, 'сш': 3, 'пребывание': 3, 'правительственный': 3, 'гульшара': 3, 'информационноразъяснительный': 3, 'комплексный': 3, 'сначала': 3, 'социально': 3, 'ознакомить': 3, 'предусмотреть': 3, 'сертификат': 3, 'жилой': 3, 'газа': 3, 'гражданский': 3, 'конкретный': 3, 'ознакомиться': 3, 'суббота': 3, 'ракетный': 3, 'мужской': 3, 'фойе': 3, 'животное': 3, 'дагестан': 3, 'шахматы': 3, 'мемориал': 3, 'малый': 3, 'сми': 3, 'предел': 3, 'павло': 3, 'королёв': 3, 'искусственный': 3, 'спутник': 3, 'прогресс': 3, 'вспомнить': 3, 'рассказ': 3, 'ответ': 3, 'студия': 3, 'казтрансойло': 3, 'кбт': 3, 'орало': 3, 'оказание': 3, 'заявление': 3, 'вицепремьер': 3, 'съезд': 3, 'отан': 3, 'грань': 3, 'степь': 3, 'эпос': 3, 'героизм': 3, 'специально': 3, 'записать': 3, 'оао': 3, 'нпз': 3, 'многочисленный': 3, 'троицкий': 3, 'кровь': 3, 'выстрел': 3, 'пожертвование': 3, 'птичий': 3, 'остановка': 3, 'символ': 3, 'колонна': 3, 'визитный': 3, 'карточка': 3, 'галерея': 3, 'пандус': 3, 'девушка': 3, 'ориентировочно': 3, 'экскурсионный': 3, 'сохранять': 3, 'действительный': 3, 'аренда': 3, 'роман': 3, 'приоритетный': 3, 'дши': 3, 'мастерство': 3, 'гитара': 3, 'павел': 3, 'понравиться': 3, 'сергей': 3, 'слушать': 3, 'процесс': 3, 'серия': 3, 'перевозка': 3, 'торговля': 3, 'товарооборот': 3, 'малоимущий': 3, 'возможно': 3, 'бақытта': 3, 'борьба': 3, 'тренд': 3, 'дорожный': 3, 'касаться': 3, 'ювенальна': 3, 'возглавить': 3, 'восточноказахстанский': 3, 'миннихан': 3, 'радий': 3, 'википедия': 3, 'фамилия': 3, 'седокова': 3, 'мак': 3, 'лейбл': 3, 'биография': 3, 'престижный': 3, 'отец': 3, 'плавание': 3, 'привезти': 3, 'тип': 3, 'увеличиться': 3, 'выпускать': 3, 'просмотр': 3, 'превысить': 3, 'фильм': 3, 'контракт': 3, 'независимый': 3, 'хит': 3, 'музтво': 3, 'радио': 3, 'дуэтный': 3, 'продолжать': 3, 'краснодарский': 3, 'именитый': 3, 'финалист': 3, 'медаль': 3, 'наградить': 3, 'выдающийся': 3, 'киевский': 3, 'глаз': 3, 'готовый': 3, 'телепередача': 3, 'тротуар': 3, 'голубой': 3, 'ель': 3, 'гуцериев': 3, 'орск': 3, 'доставить': 3, 'самарский': 3, 'устройство': 3, 'порода': 3, 'ответственный': 3, 'воспитать': 3, 'некогда': 3, 'простой': 3, 'родник': 3, 'бытовой': 3, 'оставлять': 3, 'прилегать': 3, 'весёлый': 3, 'полезный': 3, 'алексеевский': 3, 'земляк': 3, 'пообщаться': 3, 'усилие': 3, 'историколитературный': 3, 'анатолий': 3, 'впечатление': 3, 'прохождение': 3, 'вершина': 3, 'городок': 3, 'основание': 3, 'длина': 3, 'строение': 3, 'украшать': 3, 'приобрести': 3, 'расчёт': 3, 'скот': 3, 'обсуждать': 3, 'неперспективный': 3, 'телеканал': 3, 'профессор': 3, 'приурочить': 3, 'уделить': 3, 'будущий': 3, 'анонс': 3, 'ина': 3, 'культурногуманитарный': 3, 'есиль': 3, 'доступный': 3, 'telegramбот': 3, 'космос': 3, 'освоение': 3, 'джумурбай': 3, 'константин': 3, 'премьер': 3, 'вакансия': 3, 'мку': 3, 'работодатель': 3, 'поступление': 3, 'окончание': 3, 'стен': 3, 'благодарить': 3, 'ценить': 3, 'раз': 3, 'я': 3, 'сравнить': 3, 'единственный': 3, 'долго': 3, 'поверить': 3, 'даваться': 3, 'спг': 3, 'француз': 3, 'заявлять': 3, 'выглядеть': 3, 'азс': 3, 'приобретение': 3, 'разговор': 3, 'протяжённость': 3, 'ботанический': 3, 'уверить': 3, 'поработать': 3, 'сей': 3, 'забыть': 3, 'признанный': 3, 'агентство': 3, 'вод': 3, 'стадион': 3, 'этаж': 3, 'ялтинский': 3, 'иран': 3, 'юбилейный': 3, 'квартирный': 3, 'голова': 3, 'завершение': 3, 'поблагодарить': 3, 'преддверие': 3, 'предусматривать': 3, 'внешний': 3, 'намерить': 3, 'максим': 3, 'младший': 3, 'соответственно': 3, 'молочный': 3, 'легенда': 3, 'шаурый': 3, 'изменить': 3, 'сотня': 3, 'прямая': 3, 'подробность': 3, 'продолжаться': 3, 'познавательный': 3, 'грузия': 3, 'лечение': 3, 'славиться': 3, 'присутствующий': 3, 'воспитывать': 3, 'выездной': 3, 'семинар': 3, 'социальноэкономический': 3, 'торжественно': 3, 'успеть': 3, 'никто': 3, 'рустэма': 3, 'контейнер': 3, 'раздельный': 3, 'коридор': 3, 'пробовать': 3, 'протяжение': 3, 'издание': 3, 'библиосубботник': 3, 'собираться': 3, 'инструмент': 3, 'искренне': 3, 'хотя': 3, 'чтение': 3, 'божий': 3, 'считаться': 3, 'всемирно': 3, 'бывать': 3, 'чай': 3, 'усачёвый': 3, 'живой': 3, 'приобретать': 3, 'повезти': 3, 'суметь': 3, 'военный': 3, 'редкий': 3, 'интересно': 3, 'бурятия': 3, 'бурятский': 3, 'часто': 3, 'устьорда': 3, 'жизненный': 3, 'встретить': 3, 'официально': 3, 'вещий': 3, 'отсюда': 3, 'художник': 3, 'старое': 3, 'знакомый': 3, 'поздний': 3, 'абсолютно': 3, 'сколько': 3, 'вернуться': 3, 'талант': 3, 'желать': 3, 'отчёт': 3, 'валентина': 3, 'масштаб': 3, 'уемский': 3, 'рост': 3, 'рикасих': 3, 'летний': 3, 'золотица': 3, 'осуществляться': 3, 'пертоминск': 3, 'кв': 3, 'васьковый': 3, 'документация': 3, 'обращение': 3, 'луговой': 3, 'выполнить': 3, 'сигнал': 3, 'счёт': 3, 'расход': 3, 'готовность': 3, 'предпринимать': 3, 'модель': 3, 'попасть': 3, 'зритель': 3, 'дробный': 3, 'помнить': 3, 'дружный': 3, 'дата': 3, 'трудолюбивый': 3, 'управлять': 3, 'сын': 3, 'среднее': 3, 'юговосточный': 3, 'штат': 3, 'гккп': 3, 'степногорск': 3, 'гульназа': 3, 'промышленный': 3, 'ташкент': 3, 'высокотехнологичный': 3, 'расширение': 3, 'бренд': 3, 'вызвать': 3, 'подробный': 3, 'телефон': 3, 'сельхозкомплекс': 3, 'ноябрьский': 3, 'алаутво': 3, 'смартфон': 3, 'открыто': 3, 'кыргызстан': 3, 'франшиза': 3, 'мороженое': 3, 'принадлежность': 3, 'продукт': 3, 'она': 3, 'атырау': 3, 'вариант': 3, 'дизайн': 3, 'магнум': 3, 'обзор': 3, 'оценить': 3, 'декоративный': 3, 'частный': 3, 'саратовский': 3, 'соединить': 3, 'эксплуатация': 3, 'транспортный': 3, 'значение': 3, 'перейти': 3, 'польза': 3, 'кигинский': 3, 'рб': 3, 'металлический': 3, 'концертхолл': 3, 'вднг': 3, 'призовой': 3, 'отборочный': 3, 'размер': 3, 'уверенный': 3, 'прожить': 3, 'собственный': 3, 'необходимость': 3, 'поговорить': 3, 'антивозрастной': 3, 'отвечать': 3, 'бумага': 3, 'самрукказын': 3, 'проявить': 3, 'димаш': 3, 'кудайберген': 3, 'витебск': 3, 'адалдық': 3, 'алаң': 3, 'кольцо': 3, 'прибыль': 3, 'бесконечный': 3, 'мессенджер': 3, 'доля': 3, 'алмаленький': 3, 'коммунальный': 3, 'психологопедагогический': 3, 'кузетов': 3, 'дефектолог': 3, 'воспитатель': 3, 'начинать': 3, 'капчагайский': 3, 'лязат': 3, 'минута': 3, 'кроссовер': 3, 'оэз': 3, 'магазин': 3, 'хошимин': 3, 'пак': 3, 'оу': 3, 'дельта': 3, 'перелёт': 3, 'переезд': 3, 'человечество': 3, 'дракон': 3, 'терраса': 3, 'достопримечательность': 3, 'лотос': 3, 'русскоговорить': 3, 'бан': 3, 'рисовый': 3, 'апсара': 3, 'виза': 3, 'аппарат': 3, 'департамент': 3, 'половинка': 3, 'япония': 3, 'австралия': 3, 'литва': 3, 'эстония': 3, 'нбл': 3, 'швейцария': 3, 'капелька': 3, 'тюменский': 3, 'десятка': 3, 'вокич': 3, 'стартап': 3, 'завтра': 3, 'речной': 3, 'слёт': 3, 'полицейский': 3, 'коррупция': 3, 'дп': 3, 'тренажёр': 3, 'тариф': 3, 'квтч': 3, 'прайсуотерхаускуперс': 3, 'такса': 3, 'энд': 3, 'эдвайзоря': 3, 'посол': 3, 'нидерланды': 3, 'перинатальный': 2, 'разделить': 2, 'рад': 2, 'крепкий': 2, 'пожелать': 2, 'несмотря': 2, 'чувствовать': 2, 'канат': 2, 'случаем': 2, 'снова': 2, 'грам': 2, 'рождаться': 2, 'асель': 2, 'досановый': 2, 'неплохой': 2, 'обычай': 2, 'костюм': 2, 'удача': 2, 'мудрый': 2, 'казах': 2, 'талгат': 2, 'интересоваться': 2, 'базис': 2, 'туғать': 2, 'жер': 2, 'наурызть': 2, 'обучиться': 2, 'приложить': 2, 'эссе': 2, 'интернетдостижение': 2, 'интернетпредприниматель': 2, 'интернетработодатель': 2, 'интернетинициатива': 2, 'приниматься': 2, 'октябрь': 2, 'интернеттехнология': 2, 'немой': 2, 'публиковаться': 2, 'интернетпортал': 2, 'облегчить': 2, 'малгобек': 2, 'разместить': 2, 'бассейн': 2, 'секция': 2, 'сечин': 2, 'нацпроект': 2, 'слава': 2, 'подобрать': 2, 'договор': 2, 'передача': 2, 'ветер': 2, 'казахстансковенгерский': 2, 'проблематика': 2, 'кыргызский': 2, 'молдова': 2, 'маджлисить': 2, 'подведение': 2, 'северсталь': 2, 'строитель': 2, 'годовщина': 2, 'автопробег': 2, 'дорожка': 2, 'протест': 2, 'курский': 2, 'начинание': 2, 'откликнуться': 2, 'елизавета': 2, 'волокитин': 2, 'людмила': 2, 'закрепить': 2, 'подпрограмма': 2, 'есть': 2, 'меценат': 2, 'әлеуметтік': 2, 'қамқорлық': 2, 'жилищнокоммунальный': 2, 'абдыкаликов': 2, 'жетыс': 2, 'назначение': 2, 'талдыкоргать': 2, 'оплачивать': 2, 'бизнесидея': 2, 'выкуп': 2, 'подключение': 2, 'коксуск': 2, 'дюсш': 2, 'инвест': 2, 'юноша': 2, 'ккз': 2, 'сатурн': 2, 'концертный': 2, 'закрытие': 2, 'гастроль': 2, 'инженер': 2, 'испытатель': 2, 'космонавтика': 2, 'объединять': 2, 'уроженец': 2, 'проработать': 2, 'нынешний': 2, 'изготовление': 2, 'семейство': 2, 'грузовой': 2, 'испытывать': 2, 'грантовой': 2, 'взаимовыгодный': 2, 'транспортировка': 2, 'магистральный': 2, 'охват': 2, 'нужда': 2, 'согласно': 2, 'фольклор': 2, 'прикрепить': 2, 'диск': 2, 'услышать': 2, 'композиция': 2, 'дк': 2, 'мозырский': 2, 'взморье': 2, 'стрельна': 2, 'михайловка': 2, 'знаменка': 2, 'александрия': 2, 'нижний': 2, 'тайна': 2, 'каскад': 2, 'мраморный': 2, 'золочёный': 2, 'скульптура': 2, 'фонтанный': 2, 'забава': 2, 'белка': 2, 'восхищать': 2, 'стрелка': 2, 'васильевский': 2, 'заход': 2, 'марсовый': 2, 'пол': 2, 'спасти': 2, 'собоор': 2, 'исаакиевский': 2, 'адмиралтейство': 2, 'медный': 2, 'всадник': 2, 'петропавловский': 2, 'отсель': 2, 'грозить': 2, 'швед': 2, 'фортификационный': 2, 'нева': 2, 'полуденный': 2, 'нарышкина': 2, 'бастион': 2, 'петровский': 2, 'барокко': 2, 'доминанта': 2, 'необычный': 2, 'фонарщик': 2, 'трёхвековой': 2, 'зажечься': 2, 'кафедральный': 2, 'казанский': 2, 'колоннада': 2, 'шампанское': 2, 'дворцовый': 2, 'отечество': 2, 'осмотр': 2, 'павильон': 2, 'эрмитаж': 2, 'камеронов': 2, 'родникфонтан': 2, 'кувшин': 2, 'придворный': 2, 'экипаж': 2, 'подлинный': 2, 'карета': 2, 'сани': 2, 'принадлежащий': 2, 'романов': 2, 'янтарный': 2, 'белоруссия': 2, 'выдаваться': 2, 'предъявление': 2, 'немецкий': 2, 'залог': 2, 'удостоверять': 2, 'личностьгостиница': 2, 'прайс': 2, 'шәкіртка': 2, 'болуірілік': 2, 'ради': 2, 'инициатор': 2, 'высказать': 2, 'уделять': 2, 'пристальный': 2, 'иметься': 2, 'врач': 2, 'негативный': 2, 'влияние': 2, 'мбудо': 2, 'хоровой': 2, 'пение': 2, 'светлана': 2, 'актовый': 2, 'опытный': 2, 'остановиться': 2, 'раздать': 2, 'мма': 2, 'единоборство': 2, 'любитель': 2, 'правовой': 2, 'становление': 2, 'самореализация': 2, 'минувший': 2, 'задействовать': 2, 'социальнозначить': 2, 'освещаться': 2, 'нуржамал': 2, 'жортымбаев': 2, 'истекший': 2, 'трудоустроить': 2, 'временной': 2, 'специальность': 2, 'снижение': 2, 'инспектор': 2, 'сведение': 2, 'правоохранительный': 2, 'зарегистрировать': 2, 'преступление': 2, 'предупреждение': 2, 'наряду': 2, 'преснов': 2, 'акцентировать': 2, 'практический': 2, 'нуждающийся': 2, 'способность': 2, 'деталь': 2, 'сформировать': 2, 'рейтинг': 2, 'доллар': 2, 'строчка': 2, 'видеорегистратор': 2, 'планшет': 2, 'рация': 2, 'нургали': 2, 'врио': 2, 'хабиров': 2, 'нефтегазовый': 2, 'деятель': 2, 'подписание': 2, 'габдуллатукать': 2, 'башкирия': 2, 'жанр': 2, 'август': 2, 'дискография': 2, 'видеография': 2, 'саундтрек': 2, 'граммофон': 2, 'плёнка': 2, 'зарубежный': 2, 'собирать': 2, 'пластинка': 2, 'кошелёк': 2, 'факультет': 2, 'богдан': 2, 'титомиро': 2, 'записывать': 2, 'грязный': 2, 'одноклассница': 2, 'радиостанция': 2, 'радиослушатель': 2, 'карнавал': 2, 'певица': 2, 'запись': 2, 'сингл': 2, 'последовать': 2, 'февраль': 2, 'подкачаться': 2, 'весной': 2, 'похудеть': 2, 'лидировать': 2, 'дочка': 2, 'июль': 2, 'кикбоксинг': 2, 'завоевать': 2, 'олимпийский': 2, 'восточный': 2, 'днём': 2, 'фитнес': 2, 'беречь': 2, 'отсутствовать': 2, 'мулат': 2, 'тесно': 2, 'туса': 2, 'полина': 2, 'сиять': 2, 'январь': 2, 'горловка': 2, 'санитарный': 2, 'кп': 2, 'укгга': 2, 'регулярно': 2, 'наведение': 2, 'чистка': 2, 'придомовый': 2, 'возле': 2, 'вывоз': 2, 'оренбургский': 2, 'климатический': 2, 'саженцевый': 2, 'высадка': 2, 'усилить': 2, 'появление': 2, 'реализоваться': 2, 'бережный': 2, 'уголок': 2, 'пролегать': 2, 'сосна': 2, 'секрет': 2, 'давно': 2, 'главное': 2, 'заведовать': 2, 'кулаковый': 2, 'краска': 2, 'проделать': 2, 'философ': 2, 'видеоролик': 2, 'мухоудеровка': 2, 'борис': 2, 'мухоудеровский': 2, 'территориальный': 2, 'экскурсовод': 2, 'дарья': 2, 'указать': 2, 'отправление': 2, 'инструктаж': 2, 'лёгкий': 2, 'отсутствие': 2, 'понять': 2, 'начинаться': 2, 'объявить': 2, 'султан': 2, 'торговоразвлекательный': 2, 'освобождение': 2, 'пирамида': 2, 'восемь': 2, 'равный': 2, 'поистине': 2, 'ночью': 2, 'светиться': 2, 'единство': 2, 'военноисторический': 2, 'давний': 2, 'воссоздать': 2, 'сладость': 2, 'сообщение': 2, 'аскар': 2, 'кредитный': 2, 'ставка': 2, 'вознаграждение': 2, 'племенной': 2, 'поголовье': 2, 'заинтересовать': 2, 'кредитование': 2, 'заводить': 2, 'начальный': 2, 'соблюдать': 2, 'оразалина': 2, 'каракалпакстан': 2, 'уразалина': 2, 'древний': 2, 'никифоров': 2, 'присудить': 2, 'воздух': 2, 'южнокорейский': 2, 'сарыарка': 2, 'иностранец': 2, 'оснастить': 2, 'оперативный': 2, 'евразийский': 2, 'тасс': 2, 'есправка': 2, 'перерегистрация': 2, 'модно': 2, 'удобно': 2, 'экономить': 2, 'обучающийся': 2, 'произойти': 2, 'короткий': 2, 'озвучить': 2, 'ско': 2, 'царство': 2, 'фиаско': 2, 'бюджетный': 2, 'технопарк': 2, 'раскрыть': 2, 'реальный': 2, 'жюри': 2, 'бизнессообщество': 2, 'сухарев': 2, 'зао': 2, 'инжиниринговый': 2, 'спонсор': 2, 'юти': 2, 'екатерина': 2, 'госдума': 2, 'кумертау': 2, 'справа': 2, 'посадить': 2, 'кк': 2, 'белореченский': 2, 'цксопеть': 2, 'белореченск': 2, 'виктория': 2, 'осуществлять': 2, 'подбор': 2, 'стенд': 2, 'памятка': 2, 'буклет': 2, 'безработный': 2, 'индивидуальный': 2, 'трудовой': 2, 'почёт': 2, 'получаться': 2, 'гдеть': 2, 'выделяться': 2, 'кл': 2, 'прийтись': 2, 'зато': 2, 'нефтяной': 2, 'супер': 2, 'хим': 2, 'учёба': 2, 'параллельно': 2, 'отдельно': 2, 'брайан': 2, 'трейся': 2, 'способный': 2, 'камчатка': 2, 'купить': 2, 'патрик': 2, 'прогноз': 2, 'весьма': 2, 'инвестпроект': 2, 'примерно': 2, 'наводить': 2, 'незабываемый': 2, 'ирина': 2, 'округ': 2, 'асхат': 2, 'полоса': 2, 'квадратный': 2, 'вдоль': 2, 'насаждение': 2, 'омар': 2, 'наполнить': 2, 'цветок': 2, 'штука': 2, 'вырастить': 2, 'польша': 2, 'драматический': 2, 'строительномонтажный': 2, 'лепта': 2, 'сму': 2, 'жамбылский': 2, 'факт': 2, 'лондон': 2, 'глубина': 2, 'тоннель': 2, 'пулково': 2, 'длинный': 2, 'море': 2, 'дамба': 2, 'инфраструктурный': 2, 'скоростной': 2, 'диаметр': 2, 'соединять': 2, 'прямо': 2, 'сто': 2, 'индия': 2, 'положение': 2, 'арен': 2, 'полуостров': 2, 'сумма': 2, 'эффект': 2, 'посещать': 2, 'концепция': 2, 'абиш': 2, 'коксуский': 2, 'арендный': 2, 'построение': 2, 'фк': 2, 'кайрат': 2, 'кокшетау': 2, 'ветеринария': 2, 'соседний': 2, 'едиго': 2, 'сакральный': 2, 'партнерство': 2, 'готовиться': 2, 'арена': 2, 'опережение': 2, 'остальной': 2, 'выплата': 2, 'бизнестренер': 2, 'академия': 2, 'артуро': 2, 'топ': 2, 'признать': 2, 'профессионал': 2, 'мышление': 2, 'процветание': 2, 'настроить': 2, 'ольга': 2, 'кампания': 2, 'операция': 2, 'акжайык': 2, 'банда': 2, 'напротив': 2, 'карасайский': 2, 'редакция': 2, 'мёд': 2, 'новосибирский': 2, 'испания': 2, 'италия': 2, 'абен': 2, 'лирический': 2, 'патриотический': 2, 'реализовывать': 2, 'активизация': 2, 'выбрать': 2, 'содействовать': 2, 'болсын': 2, 'моногород': 2, 'кужекеев': 2, 'надворный': 2, 'амангельдин': 2, 'бактыбай': 2, 'скитаться': 2, 'съёмный': 2, 'аспмк': 2, 'сычев': 2, 'нотариус': 2, 'войтюк': 2, 'оплатить': 2, 'историк': 2, 'султанов': 2, 'зигата': 2, 'адигам': 2, 'ответственность': 2, 'мардан': 2, 'столь': 2, 'превратиться': 2, 'кстати': 2, 'башкир': 2, 'требовать': 2, 'достояние': 2, 'исходить': 2, 'кампус': 2, 'доставать': 2, 'тетрапаки': 2, 'общежитие': 2, 'чаять': 2, 'римма': 2, 'следовать': 2, 'макулатура': 2, 'прийти': 2, 'потолок': 2, 'аудитория': 2, 'привести': 2, 'цифра': 2, 'недавний': 2, 'совершать': 2, 'заботиться': 2, 'вторсырье': 2, 'вдохновлять': 2, 'лосиный': 2, 'присоединяться': 2, 'подмосковье': 2, 'знаете': 2, 'значит': 2, 'менять': 2, 'шаг': 2, 'воплощение': 2, 'желающий': 2, 'вернадский': 2, 'креативный': 2, 'предоставление': 2, 'игровой': 2, 'монтессорить': 2, 'ветка': 2, 'посадка': 2, 'плетение': 2, 'прихватить': 2, 'интервью': 2, 'прежде': 2, 'приглашение': 2, 'программный': 2, 'петров': 2, 'изз': 2, 'значимость': 2, 'способствовать': 2, 'литературный': 2, 'флагман': 2, 'молчановка': 2, 'семя': 2, 'чтоть': 2, 'старинный': 2, 'роскошный': 2, 'геласимов': 2, 'задумать': 2, 'познакомить': 2, 'близкий': 2, 'купцов': 2, 'деревянный': 2, 'очаровать': 2, 'подуматься': 2, 'предок': 2, 'тонкий': 2, 'причудливый': 2, 'завораживать': 2, 'запомниться': 2, 'популярный': 2, 'слышать': 2, 'уста': 2, 'елена': 2, 'пинегин': 2, 'внученька': 2, 'классик': 2, 'вживую': 2, 'сказочный': 2, 'автограф': 2, 'захватить': 2, 'внучка': 2, 'удивительный': 2, 'корка': 2, 'степной': 2, 'невельский': 2, 'исследователь': 2, 'сахалин': 2, 'командир': 2, 'экспонат': 2, 'жуков': 2, 'всебурятский': 2, 'лира': 2, 'выезжать': 2, 'уланудэ': 2, 'корень': 2, 'сложиться': 2, 'удивление': 2, 'быстро': 2, 'заказывать': 2, 'ангарск': 2, 'гостья': 2, 'байкальский': 2, 'ангарский': 2, 'святыня': 2, 'както': 2, 'посвящение': 2, 'поить': 2, 'сеять': 2, 'сутки': 2, 'сон': 2, 'удовольствие': 2, 'звонок': 2, 'немалый': 2, 'говориться': 2, 'печататься': 2, 'пошлый': 2, 'испортить': 2, 'дно': 2, 'выше': 2, 'бояться': 2, 'болеть': 2, 'кемтый': 2, 'свершение': 2, 'понимание': 2, 'положительный': 2, 'тенденция': 2, 'чёткий': 2, 'архангельский': 2, 'больница': 2, 'вовлечь': 2, 'профиль': 2, 'формирование': 2, 'заостровие': 2, 'смена': 2, 'анисимовый': 2, 'талаг': 2, 'уйма': 2, 'фап': 2, 'уна': 2, 'путём': 2, 'вознесение': 2, 'патракеевка': 2, 'копиться': 2, 'десятилетие': 2, 'аварийный': 2, 'боброволявленский': 2, 'катунинский': 2, 'дворовый': 2, 'поселение': 2, 'питьевой': 2, 'наличие': 2, 'проектносметный': 2, 'модернизация': 2, 'пустошь': 2, 'тко': 2, 'соответствие': 2, 'схема': 2, 'реформа': 2, 'изучить': 2, 'критерий': 2, 'газопровод': 2, 'ст': 2, 'муниципалитет': 2, 'пушлахта': 2, 'телевизионный': 2, 'ниже': 2, 'межпарламентский': 2, 'нагло': 2, 'даурен': 2, 'хабар': 2, 'союзник': 2, 'вышеуказанный': 2, 'кремлёвский': 2, 'опера': 2, 'фронт': 2, 'молодой': 2, 'торкин': 2, 'славный': 2, 'воевать': 2, 'кенигсберг': 2, 'руководящий': 2, 'юстиция': 2, 'казсср': 2, 'трест': 2, 'внук': 2, 'правнук': 2, 'забывать': 2, 'погулять': 2, 'трудный': 2, 'кажется': 2, 'заработать': 2, 'звёздный': 2, 'шымкентец': 2, 'сюда': 2, 'повар': 2, 'зко': 2, 'алтай': 2, 'кульгин': 2, 'оператор': 2, 'юридический': 2, 'домашний': 2, 'швейный': 2, 'независимость': 2, 'ташкентский': 2, 'бизнесфорум': 2, 'энергетика': 2, 'фармацевтика': 2, 'химический': 2, 'товар': 2, 'платформа': 2, 'виртуальный': 2, 'цифровизация': 2, 'экспортный': 2, 'намерение': 2, 'целевой': 2, 'посольство': 2, 'бетон': 2, 'восстановить': 2, 'ямал': 2, 'покупка': 2, 'помещение': 2, 'окружный': 2, 'вывод': 2, 'тест': 2, 'лечебный': 2, 'greenwayэтый': 2, 'привлекательный': 2, 'пожилое': 2, 'класть': 2, 'называться': 2, 'экопереработка': 2, 'донэкопёр': 2, 'контактный': 2, 'попробовать': 2, 'красивыеквартира': 2, 'ментор': 2, 'геннадий': 2, 'содействие': 2, 'инновация': 2, 'ано': 2, 'одкб': 2, 'верба': 2, 'задний': 2, 'летом': 2, 'липецкий': 2, 'смоленский': 2, 'волга': 2, 'топменеджер': 2, 'немногий': 2, 'заправка': 2, 'функционировать': 2, 'дубай': 2, 'белорусский': 2, 'признательный': 2, 'консультативный': 2, 'кредит': 2, 'фестивалямарафон': 2, 'миг': 2, 'выразить': 2, 'вложить': 2, 'стандарт': 2, 'доказать': 2, 'киев': 2, 'максимально': 2, 'квалификация': 2, 'трансляция': 2, 'комментатор': 2, 'малецкий': 2, 'ожидание': 2, 'фанат': 2, 'скаут': 2, 'выживание': 2, 'путин': 2, 'вы': 2, 'характеризовать': 2, 'наладить': 2, 'сотрудничать': 2, 'пожаловать': 2, 'сибирь': 2, 'пинаев': 2, 'горгиладзе': 2, 'консультант': 2, 'передовой': 2, 'лаборатория': 2, 'возрастной': 2, 'клинический': 2, 'патология': 2, 'санктпетербургский': 2, 'биорегуляция': 2, 'геронтология': 2, 'медицинский': 2, 'отбор': 2, 'использоваться': 2, 'самостоятельный': 2, 'унифицировать': 2, 'интеграция': 2, 'вообще': 2, 'настройка': 2, 'последующий': 2, 'обладатель': 2, 'минвостокразвитие': 2, 'стоять': 2, 'сравнение': 2, 'перечень': 2, 'анализ': 2, 'предлагаться': 2, 'добыча': 2, 'показатель': 2, 'сложный': 2, 'раздел': 2, 'ложкина': 2, 'парламентский': 2, 'дарига': 2, 'конезавод': 2, 'липица': 2, 'многовековый': 2, 'закупка': 2, 'сектор': 2, 'утренний': 2, 'случай': 2, 'славянский': 2, 'базар': 2, 'минимальный': 2, 'вложение': 2, 'независимо': 2, 'полый': 2, 'мсб': 2, 'казахстанскокитайский': 2, 'панфиловский': 2, 'пограничный': 2, 'синьцзянский': 2, 'производственностроительный': 2, 'хоргосвосточный': 2, 'защитный': 2, 'логопед': 2, 'психолог': 2, 'ритмика': 2, 'голос': 2, 'выпускница': 2, 'жансугуров': 2, 'пришлый': 2, 'амин': 2, 'учесть': 2, 'улыбка': 2, 'инвалид': 2, 'брать': 2, 'чувство': 2, 'существовать': 2, 'призывать': 2, 'приветственный': 2, 'садык': 2, 'слеза': 2, 'өрлеу': 2, 'ипк': 2, 'пр': 2, 'марка': 2, 'съёмка': 2, 'рязань': 2, 'казань': 2, 'деревообрабатывающий': 2, 'скважина': 2, 'волгоградский': 2, 'владивосток': 2, 'индиго': 2, 'литьё': 2, 'ульяновский': 2, 'душевая': 2, 'итальянский': 2, 'букит': 2, 'бинтанга': 2, 'называть': 2, 'треугольник': 2, 'вкусный': 2, 'развлечение': 2, 'групповой': 2, 'индокитайский': 2, 'вояж': 2, 'прабангсий': 2, 'забронировать': 2, 'гарантировать': 2, 'чау': 2, 'храмовый': 2, 'экзотический': 2, 'продолжительность': 2, 'вылет': 2, 'юнеско': 2, 'островок': 2, 'таинственный': 2, 'леса': 2, 'погрузиться': 2, 'пролетать': 2, 'хвост': 2, 'задеть': 2, 'лишь': 2, 'титов': 2, 'белые': 2, 'песок': 2, 'подъесть': 2, 'панорамный': 2, 'пейзаж': 2, 'борт': 2, 'комфортный': 2, 'восход': 2, 'солнце': 2, 'сдача': 2, 'отправляться': 2, 'вечером': 2, 'текстильный': 2, 'окружить': 2, 'плита': 2, 'hồ': 2, 'столб': 2, 'печаль': 2, 'хо': 2, 'ши': 2, 'мина': 2, 'чан': 2, 'архитектурный': 2, 'священный': 2, 'бронзовый': 2, 'когдато': 2, 'напоминать': 2, 'ремесленный': 2, 'буддистский': 2, 'колониальный': 2, 'первозданный': 2, 'сочетание': 2, 'приёмный': 2, 'левый': 2, 'тронный': 2, 'королева': 2, 'мозаика': 2, 'кристалл': 2, 'звереть': 2, 'несущий': 2, 'лежачий': 2, 'холл': 2, 'проказить': 2, 'ров': 2, 'океан': 2, 'королевство': 2, 'кхмерский': 2, 'ранг': 2, 'пном': 2, 'кулена': 2, 'бантея': 2, 'срей': 2, 'потомок': 2, 'половина': 2, 'плавучий': 2, 'фрукт': 2, 'росс': 2, 'урицкий': 2, 'акварель': 2, 'научить': 2, 'совершенствование': 2, 'детскоюношеский': 2, 'горняк': 2, 'шахан': 2, 'завершиться': 2, 'обида': 2, 'кома': 2, 'британский': 2, 'медведев': 2, 'пелие': 2, 'лайонс': 2, 'хименотравер': 2, 'султанлар': 2, 'орхус': 2, 'бемельманс': 2, 'брондбь': 2, 'тим': 2, 'первенство': 2, 'мансоурить': 2, 'аргуэльо': 2, 'норвегия': 2, 'пролига': 2, 'прьевидз': 2, 'либёрце': 2, 'лкл': 2, 'эсилига': 2, 'пинский': 2, 'берлин': 2, 'промоушный': 2, 'безлюдный': 2, 'набережная': 2, 'гелиос': 2, 'экош': 2, 'лёд': 2, 'задание': 2, 'радовать': 2, 'скоморошка': 2, 'палитра': 2, 'доверие': 2, 'ура': 2, 'сидеть': 2, 'корпоративный': 2, 'устать': 2, 'таможенный': 2, 'биося': 2, 'смарт': 2, 'клепетана': 2, 'мигрировать': 2, 'присоединиться': 2, 'письмадобрый': 2, 'надпись': 2, 'такоготь': 2, 'исследование': 2, 'орис': 2, 'дамир': 2, 'продлиться': 2, 'четверть': 2, 'полуфинал': 2, 'пространство': 2, 'высоко': 2, 'дмитровский': 2, 'энергетический': 2, 'кировский': 2, 'поддерживать': 2, 'непосредственно': 2, 'миссия': 2, 'умбет': 2, 'удостоиться': 2, 'отличие': 2, 'ана': 2, 'мена': 2, 'ар': 2, 'возобновлять': 2, 'содержимый': 2, 'ену': 2, 'полугодие': 2, 'ботабек': 2, 'семён': 2, 'чжэ': 2, 'саудовский': 2, 'аравия': 2, 'алиш': 1, 'алим': 1, 'альмир': 1, 'тройняшка': 1, 'акан': 1, 'абдуалиев': 1, 'светлый': 1, 'они': 1, 'младенец': 1, 'точно': 1, 'радостно': 1, 'енлик': 1, 'кайсаров': 1, 'калиқанула': 1, 'практика': 1, 'столкнуться': 1, 'мальчик': 1, 'свидетель': 1, 'радостный': 1, 'весить': 1, 'наурыз': 1, 'олицетворение': 1, 'непрерывный': 1, 'отражать': 1, 'величие': 1, 'курсант': 1, 'школыгимназия': 1, 'отеген': 1, 'прививать': 1, 'сплотить': 1, 'одетый': 1, 'дастархан': 1, 'наурызкожий': 1, 'сценарий': 1, 'благословение': 1, 'очищение': 1, 'шанырак': 1, 'злой': 1, 'адыраспать': 1, 'наставление': 1, 'келина': 1, 'вели': 1, 'инсценировать': 1, 'постановка': 1, 'карлыгаш': 1, 'хамитовый': 1, 'завершать': 1, 'изучать': 1, 'расширять': 1, 'пополнять': 1, 'бытом': 1, 'неизменный': 1, 'социальногражданский': 1, 'болашак': 1, 'филип': 1, 'моррис': 1, 'возрождение': 1, 'патриотизм': 1, 'жанар': 1, 'қош': 1, 'келдің': 1, 'инспекционный': 1, 'гектар': 1, 'спорткомплекс': 1, 'дзюдо': 1, 'самбо': 1, 'осень': 1, 'заранее': 1, 'квалифицировать': 1, 'персонал': 1, 'медучреждение': 1, 'ингушетия': 1, 'меморандум': 1, 'осудить': 1, 'отхватывать': 1, 'предполагать': 1, 'обсуждение': 1, 'секретарить': 1, 'иона': 1, 'липчиу': 1, 'намояндагон': 1, 'оля': 1, 'шукурджон': 1, 'зухуров': 1, 'олия': 1, 'мажлис': 1, 'нигматилла': 1, 'юлдашева': 1, 'праздникчереповец': 1, 'дворецкультура': 1, 'хорошеенастроение': 1, 'звукооператор': 1, 'поставлять': 1, 'дизельный': 1, 'топливо': 1, 'ездить': 1, 'автозак': 1, 'возить': 1, 'пророссийский': 1, 'заключённый': 1, 'военнопленный': 1, 'запрет': 1, 'митинг': 1, 'краевой': 1, 'эх': 1, 'фронтовой': 1, 'штабпобеда': 1, 'петровскийго': 1, 'штабпобедыпетровскийгоск': 1, 'поколениепобедитель': 1, 'домкультурыселошангал': 1, 'целейакция': 1, 'медиа': 1, 'уренгой': 1, 'видеостена': 1, 'импульскласс': 1, 'импульсчеловек': 1, 'новыйуренгой': 1, 'янао': 1, 'болашаққ': 1, 'бағдар': 1, 'лисаковчанин': 1, 'лтк': 1, 'модератор': 1, 'дистанционный': 1, 'рудненский': 1, 'полка': 1, 'жанғыр': 1, 'частица': 1, 'раскладка': 1, 'сенчева': 1, 'перечислить': 1, 'упомянуть': 1, 'богатко': 1, 'атамекен': 1, 'ақпаратый': 1, 'толқын': 1, 'подпроект': 1, 'рақмета': 1, 'сағать': 1, 'конструктивный': 1, 'затобольский': 1, 'молодежьбудущий': 1, 'прогрессивный': 1, 'бахыт': 1, 'гарипжан': 1, 'шәкірттеречь': 1, 'бола': 1, 'ірілік': 1, 'есембета': 1, 'саят': 1, 'мичуринский': 1, 'преподователь': 1, 'адбыкаликов': 1, 'направленый': 1, 'низкий': 1, 'есжановый': 1, 'бейбитый': 1, 'детально': 1, 'геоинформационный': 1, 'гаухар': 1, 'шокановый': 1, 'цоном': 1, 'местами': 1, 'микрокредитование': 1, 'уштобе': 1, 'централизовать': 1, 'газоснабжение': 1, 'установка': 1, 'датчик': 1, 'угарный': 1, 'прозвучать': 1, 'абдикаликов': 1, 'проинспектировать': 1, 'шамшидинов': 1, 'жайымбет': 1, 'жкх': 1, 'биртан': 1, 'митковский': 1, 'перерыв': 1, 'экспрессвыставка': 1, 'творец': 1, 'отчётный': 1, 'овк': 1, 'юмористический': 1, 'шаншар': 1, 'воскресение': 1, 'стремление': 1, 'познать': 1, 'кцсон': 1, 'суздальский': 1, 'получатель': 1, 'матвеев': 1, 'суздаль': 1, 'прежний': 1, 'цкбэма': 1, 'ракетнокосмический': 1, 'ссср': 1, 'головной': 1, 'ракетноситель': 1, 'пилотировать': 1, 'беспилотный': 1, 'отряд': 1, 'летчиковкосмонавт': 1, 'анохин': 1, 'бугров': 1, 'волков': 1, 'долгополов': 1, 'гречко': 1, 'елисеев': 1, 'кубасовый': 1, 'мн': 1, 'макет': 1, 'плакат': 1, 'лётчик': 1, 'послушать': 1, 'задавать': 1, 'исчерпывающий': 1, 'родные': 1, 'мода': 1, 'модница': 1, 'рг': 1, 'трансформация': 1, 'идырысов': 1, 'кенжебек': 1, 'ибрашев': 1, 'переподготовка': 1, 'соблюдение': 1, 'импорт': 1, 'трубопровод': 1, 'флешмоб': 1, 'организавать': 1, 'донентаева': 1, 'призыв': 1, 'производитель': 1, 'достык': 1, 'анвар': 1, 'жмеринка': 1, 'ловить': 1, 'вко': 1, 'абдыкалыков': 1, 'вкгт': 1, 'серикбаев': 1, 'пояснить': 1, 'нур': 1, 'триллион': 1, 'изобразить': 1, 'описываться': 1, 'антология': 1, 'оригинал': 1, 'композитор': 1, 'балкадиш': 1, 'дударай': 1, 'певец': 1, 'амре': 1, 'кашаубаев': 1, 'кок': 1, 'шолак': 1, 'кенить': 1, 'азирбаев': 1, 'манарбек': 1, 'ержановый': 1, 'кали': 1, 'байжановый': 1, 'аудиосборник': 1, 'таврический': 1, 'мазо': 1, 'ювенальный': 1, 'усманец': 1, 'принятие': 1, 'никакой': 1, 'предпосылка': 1, 'лицей': 1, 'инна': 1, 'шепелевый': 1, 'прибытков': 1, 'надежда': 1, 'шарапов': 1, 'зелепукин': 1, 'гуз': 1, 'мрб': 1, 'марин': 1, 'боев': 1, 'силовой': 1, 'прокурор': 1, 'попов': 1, 'омвд': 1, 'артём': 1, 'ивченко': 1, 'борзуновый': 1, 'щербак': 1, 'следственный': 1, 'шеховец': 1, 'рябой': 1, 'отвлечь': 1, 'приобщение': 1, 'усмань': 1, 'ведринцев': 1, 'валерий': 1, 'дуван': 1, 'дувановый': 1, 'увлечение': 1, 'мясников': 1, 'фотоаппарат': 1, 'экспортноимпортный': 1, 'транзитный': 1, 'рассмотрение': 1, 'мф': 1, 'упорядочить': 1, 'улучшить': 1, 'контрольнопропускной': 1, 'торговологистический': 1, 'хаб': 1, 'смешанный': 1, 'борцовский': 1, 'ударный': 1, 'самооборона': 1, 'духовный': 1, 'втчтсб': 1, 'угол': 1, 'пушкин': 1, 'будить': 1, 'хабиб': 1, 'организационный': 1, 'многое': 1, 'председательство': 1, 'алмат': 1, 'исмагулов': 1, 'зарина': 1, 'мурзалина': 1, 'докладчик': 1, 'краткосрочный': 1, 'бастау': 1, 'безработица': 1, 'преступность': 1, 'зачитать': 1, 'айсулу': 1, 'исмаиловый': 1, 'правонарушитель': 1, 'профилактический': 1, 'пресечение': 1, 'уголовный': 1, 'всеобуч': 1, 'мк': 1, 'насчитываться': 1, 'партиец': 1, 'партийный': 1, 'нацелить': 1, 'волонтёрский': 1, 'уделяться': 1, 'жасотановец': 1, 'проблемный': 1, 'леонид': 1, 'михельсон': 1, 'оцениваться': 1, 'лисиный': 1, 'вагит': 1, 'алекпер': 1, 'фарит': 1, 'аграрный': 1, 'госсовет': 1, 'ярко': 1, 'братский': 1, 'тукать': 1, 'ак': 1, 'барс': 1, 'надеяться': 1, 'курултайбашкир': 1, 'днитатарстанавбашкортостан': 1, 'созыв': 1, 'рнкат': 1, 'устименко': 1, 'вайнштейн': 1, 'рэпер': 1, 'псевдоним': 1, 'крестный': 1, 'натали': 1, 'бьянка': 1, 'устименковайнштейн': 1, 'рэписполнитель': 1, 'происхождение': 1, 'примечание': 1, 'сценический': 1, 'исполниться': 1, 'служилый': 1, 'моряк': 1, 'кассетный': 1, 'магнитофон': 1, 'аудио': 1, 'впоследствии': 1, 'кассета': 1, 'виниловый': 1, 'девять': 1, 'одноклассник': 1, 'выпускной': 1, 'показаться': 1, 'слишком': 1, 'двигаться': 1, 'вечеринка': 1, 'вскоре': 1, 'перспективный': 1, 'мс': 1, 'диджей': 1, 'крёстная': 1, 'пацан': 1, 'окончить': 1, 'физический': 1, 'юнп': 1, 'ушинский': 1, 'шлюшка': 1, 'интернетхит': 1, 'вручение': 1, 'юля': 1, 'сняться': 1, 'эпизодический': 1, 'бой': 1, 'тень': 1, 'раунд': 1, 'экран': 1, 'появляться': 1, 'видеоклип': 1, 'седоковый': 1, 'сосо': 1, 'павлиашвили': 1, 'теон': 1, 'дольников': 1, 'ремикс': 1, 'релиз': 1, 'дима': 1, 'билан': 1, 'эксвокалистка': 1, 'заканчиваться': 1, 'покидать': 1, 'танцевальный': 1, 'режиссёр': 1, 'клипмейкер': 1, 'худяков': 1, 'оказываться': 1, 'топовый': 1, 'слушатель': 1, 'щедрый': 1, 'исполнитель': 1, 'грамофон': 1, 'заветный': 1, 'всенародно': 1, 'любовьнаркоз': 1, 'сразу': 1, 'хитпарад': 1, 'снятой': 1, 'стопроцентно': 1, 'репер': 1, 'жениться': 1, 'самойлов': 1, 'ариел': 1, 'лей': 1, 'тайбокс': 1, 'абсолютный': 1, 'абраудюрсо': 1, 'яшанкин': 1, 'бодибилдер': 1, 'заслуженно': 1, 'уступить': 1, 'пекин': 1, 'атлетика': 1, 'дмитрия': 1, 'клокова': 1, 'самсон': 1, 'краснодар': 1, 'дубинин': 1, 'джига': 1, 'латвийский': 1, 'означать': 1, 'ри': 1, 'шл': 1, 'ки': 1, 'ровно': 1, 'смока': 1, 'одессамам': 1, 'таня': 1, 'терёшина': 1, 'скай': 1, 'ахумилительный': 1, 'дождь': 1, 'карма': 1, 'базиля': 1, 'вышибать': 1, 'фэшндуэт': 1, 'дуэтгод': 1, 'отзыв': 1, 'выполняться': 1, 'флп': 1, 'бордюрный': 1, 'планирование': 1, 'асфальтный': 1, 'вырубка': 1, 'листва': 1, 'подметание': 1, 'вручную': 1, 'мелкий': 1, 'тбо': 1, 'выемка': 1, 'урна': 1, 'ужкх': 1, 'неравнодушный': 1, 'триста': 1, 'питомник': 1, 'выращиваться': 1, 'схожий': 1, 'приживаемость': 1, 'водовод': 1, 'полив': 1, 'еловый': 1, 'аллея': 1, 'щит': 1, 'естественный': 1, 'неблагоприятный': 1, 'дым': 1, 'пыль': 1, 'загазованность': 1, 'благотворный': 1, 'позитивно': 1, 'сказаться': 1, 'общественнозначить': 1, 'природоохранный': 1, 'весомый': 1, 'гуцерие': 1, 'чернава': 1, 'колмиюсский': 1, 'шлях': 1, 'бить': 1, 'родниковый': 1, 'нуждаться': 1, 'истина': 1, 'усвоить': 1, 'чернавский': 1, 'шубин': 1, 'добровольческий': 1, 'очищать': 1, 'экопоход': 1, 'зачастую': 1, 'энтузиазм': 1, 'постараться': 1, 'эколог': 1, 'степанненков': 1, 'собранный': 1, 'засиять': 1, 'словно': 1, 'зазвучать': 1, 'угоститься': 1, 'дар': 1, 'возложить': 1, 'округа': 1, 'литературномузейный': 1, 'просветитель': 1, 'красногвардейский': 1, 'вейделевский': 1, 'валуйский': 1, 'ровеньский': 1, 'кряженков': 1, 'краевед': 1, 'мосор': 1, 'стремиловый': 1, 'наталья': 1, 'кружка': 1, 'былдин': 1, 'сош': 1, 'туров': 1, 'глущенко': 1, 'канышева': 1, 'автобусный': 1, 'маринс': 1, 'свердловск': 1, 'следование': 1, 'кинофильм': 1, 'развлекательный': 1, 'загранпаспорт': 1, 'доверенность': 1, 'долг': 1, 'взглянуть': 1, 'сквозь': 1, 'призма': 1, 'заглянуть': 1, 'конституция': 1, 'перенос': 1, 'прикоснуться': 1, 'необыкновенный': 1, 'мечеть': 1, 'хазрет': 1, 'лифт': 1, 'монумент': 1, 'астанабайтерек': 1, 'ханшатыр': 1, 'правильный': 1, 'четырехграть': 1, 'применять': 1, 'эпитет': 1, 'архитектор': 1, 'норман': 1, 'фостер': 1, 'заключать': 1, 'пропорция': 1, 'сечение': 1, 'сверкать': 1, 'купол': 1, 'подобно': 1, 'указывать': 1, 'религия': 1, 'разнообразие': 1, 'комфортабельный': 1, 'автобус': 1, 'страхование': 1, 'предоплата': 1, 'окончательный': 1, 'кх': 1, 'пан': 1, 'алибек': 1, 'казбек': 1, 'сельхозтоваропроизводитель': 1, 'уалихановский': 1, 'сыбаг': 1, 'льготный': 1, 'годовой': 1, 'закупить': 1, 'гол': 1, 'маточный': 1, 'крс': 1, 'герефорд': 1, 'завезти': 1, 'карантин': 1, 'бидаик': 1, 'просить': 1, 'букетовый': 1, 'питаться': 1, 'диапазон': 1, 'облакимат': 1, 'актоба': 1, 'двухлетие': 1, 'едіг': 1, 'едыге': 1, 'личность': 1, 'интернетресурс': 1, 'именинница': 1, 'никифоровволгин': 1, 'мастеровой': 1, 'переезжать': 1, 'тверская': 1, 'губерния': 1, 'нарва': 1, 'никифороваволгин': 1, 'эстонский': 1, 'газета': 1, 'парижский': 1, 'иллюстрировать': 1, 'псаломщик': 1, 'ридигер': 1, 'патриарх': 1, 'алексий': 1, 'какоеть': 1, 'электромотобайк': 1, 'изобретение': 1, 'повестка': 1, 'астанчан': 1, 'асп': 1, 'оперативно': 1, 'байконыра': 1, 'коммуникабельный': 1, 'одобрить': 1, 'специализация': 1, 'благоприятный': 1, 'климат': 1, 'вэс': 1, 'контакт': 1, 'арарат': 1, 'мирзоян': 1, 'наркологический': 1, 'противотуберкулёзный': 1, 'карагандинец': 1, 'уменьшаться': 1, 'гбоу': 1, 'зайцев': 1, 'классный': 1, 'всемирный': 1, 'авиация': 1, 'потрясти': 1, 'притяжение': 1, 'шагнуть': 1, 'темп': 1, 'орбита': 1, 'принц': 1, 'жарасым': 1, 'созываться': 1, 'табаско': 1, 'паца': 1, 'шаут': 1, 'рабство': 1, 'сименс': 1, 'маста': 1, 'грандиозный': 1, 'привлечь': 1, 'экспертный': 1, 'лычева': 1, 'ищенко': 1, 'рационализатор': 1, 'сиволобцев': 1, 'трансмашхолдинг': 1, 'тарсия': 1, 'колычева': 1, 'люция': 1, 'фаиль': 1, 'башкортостанский': 1, 'машиностроитель': 1, 'мощный': 1, 'заряд': 1, 'эмоция': 1, 'совершенствоваться': 1, 'лычовой': 1, 'слева': 1, 'мэр': 1, 'беляев': 1, 'наукаитехника': 1, 'госдумарфа': 1, 'гку': 1, 'цзн': 1, 'планет': 1, 'ип': 1, 'линевич': 1, 'лабиринт': 1, 'кубаньти': 1, 'мб': 1, 'доу': 1, 'овощ': 1, 'мау': 1, 'резерв': 1, 'волна': 1, 'росгосстрах': 1, 'муп': 1, 'бр': 1, 'мбу': 1, 'адыгея': 1, 'низ': 1, 'незанятый': 1, 'человекаинвалид': 1, 'одновременно': 1, 'законодательство': 1, 'самозанятость': 1, 'кадровый': 1, 'отлично': 1, 'висеть': 1, 'доска': 1, 'посерединка': 1, 'юношество': 1, 'сверстник': 1, 'изгой': 1, 'издеваться': 1, 'добродушный': 1, 'преодолеть': 1, 'стимул': 1, 'следствие': 1, 'спец': 1, 'юкос': 1, 'детиолимпиадник': 1, 'гений': 1, 'образоваться': 1, 'фак': 1, 'вряд': 1, 'закончить': 1, 'вышка': 1, 'взятка': 1, 'закипеть': 1, 'университетский': 1, 'учебалекция': 1, 'наверно': 1, 'саморазвитие': 1, 'наполеон': 1, 'хилла': 1, 'богатеть': 1, 'взгядэтый': 1, 'полностью': 1, 'перевернуть': 1, 'мировоззрение': 1, 'прикладывать': 1, 'трудолюбие': 1, 'впереди': 1, 'насыщенный': 1, 'идеал': 1, 'гб': 1, 'инвестировать': 1, 'терминал': 1, 'перегрузка': 1, 'новатэк': 1, 'пуянна': 1, 'оптимистичный': 1, 'топменеджмент': 1, 'превзойти': 1, 'трубопроводный': 1, 'камчатский': 1, 'логичный': 1, 'спгтерминал': 1, 'севморпуть': 1, 'обойтись': 1, 'туймазы': 1, 'комаров': 1, 'башнефтьрозница': 1, 'субботникзеленаябашкирий': 1, 'чистыйгородкрасивыйгород': 1, 'сделаемвместереспубликучища': 1, 'эмоциональный': 1, 'мгновение': 1, 'ученица': 1, 'милана': 1, 'жарёхина': 1, 'бездомникова': 1, 'ева': 1, 'софия': 1, 'похолка': 1, 'гузар': 1, 'зажигать': 1, 'башнефть': 1, 'диевский': 1, 'кисиковы': 1, 'агрофирма': 1, 'диевскай': 1, 'даниленко': 1, 'сельхозформирование': 1, 'весеннеполев': 1, 'замена': 1, 'окно': 1, 'пластиковый': 1, 'itкласс': 1, 'галым': 1, 'посильный': 1, 'планомерный': 1, 'проезжать': 1, 'велосипедный': 1, 'установить': 1, 'уличный': 1, 'освещение': 1, 'покрытие': 1, 'велодорожка': 1, 'отвести': 1, 'инстагра': 1, 'жаксылыко': 1, 'укр': 1, 'ит': 1, 'намереваться': 1, 'нежность': 1, 'преподнести': 1, 'сорт': 1, 'краснокнижный': 1, 'ақсужабағылый': 1, 'алауа': 1, 'шұбайқызыл': 1, 'жалауа': 1, 'переименование': 1, 'туркестан': 1, 'глобальный': 1, 'пул': 1, 'бикен': 1, 'римовой': 1, 'выставочный': 1, 'миля': 1, 'ссгпо': 1, 'увеличивать': 1, 'включиться': 1, 'профком': 1, 'сажать': 1, 'навести': 1, 'побелить': 1, 'бордюр': 1, 'рудный': 1, 'пб': 1, 'численность': 1, 'неофициально': 1, 'водоканал': 1, 'протяжённый': 1, 'трамвайный': 1, 'метрополитен': 1, 'залегание': 1, 'питерский': 1, 'домодедово': 1, 'шереметьево': 1, 'тройка': 1, 'пассажиропоток': 1, 'вокзал': 1, 'кад': 1, 'кольцевой': 1, 'мкад': 1, 'зсд': 1, 'югозападный': 1, 'северозападный': 1, 'эстакада': 1, 'выстроить': 1, 'крестовский': 1, 'лахтацентр': 1, 'небоскрёб': 1, 'побить': 1, 'рекорд': 1, 'буквальный': 1, 'днр': 1, 'пушилин': 1, 'сербия': 1, 'великобритания': 1, 'сирия': 1, 'шесть': 1, 'инвестсоглашение': 1, 'аксёнов': 1, 'ожидать': 1, 'страныучастник': 1, 'вопреки': 1, 'санкция': 1, 'ялта': 1, 'ялтинскийфорум': 1, 'сергейаксен': 1, 'пенза': 1, 'ямэф': 1, 'спецслужба': 1, 'нұрла': 1, 'балпык': 1, 'би': 1, 'запускаться': 1, 'алмас': 1, 'адил': 1, 'полгода': 1, 'фанзона': 1, 'соревнование': 1, 'дерби': 1, 'рахишов': 1, 'действующий': 1, 'симулятор': 1, 'футбольный': 1, 'президентский': 1, 'ппск': 1, 'самрукқазын': 1, 'шамшиев': 1, 'жалғас': 1, 'темірхан': 1, 'сұнқар': 1, 'межрегиональный': 1, 'ермек': 1, 'маржикпаев': 1, 'бизнеспартнер': 1, 'типо': 1, 'достарый': 1, 'сблизить': 1, 'почитать': 1, 'захоронение': 1, 'увековечить': 1, 'установление': 1, 'насыщенность': 1, 'токаев': 1, 'коснуться': 1, 'алтынорд': 1, 'евиза': 1, 'егостиница': 1, 'семый': 1, 'семей': 1, 'осмотреть': 1, 'культурноспортивный': 1, 'микрорайон': 1, 'карагайла': 1, 'чистовой': 1, 'отделка': 1, 'конкурсафестиваль': 1, 'отражение': 1, 'капля': 1, 'эстетический': 1, 'глинка': 1, 'корм': 1, 'селекционный': 1, 'субсидия': 1, 'фермер': 1, 'увеличиваться': 1, 'кызылординский': 1, 'уточнять': 1, 'сертифицированный': 1, 'чек': 1, 'финансы': 1, 'автоматизированный': 1, 'правильно': 1, 'конференц': 1, 'рахат': 1, 'палас': 1, 'сатпаева': 1, 'суровцев': 1, 'исследовательский': 1, 'окрестить': 1, 'злоумышленник': 1, 'перехват': 1, 'кража': 1, 'учётный': 1, 'десяток': 1, 'тринадцать': 1, 'вроде': 1, 'обыграть': 1, 'тратить': 1, 'квеста': 1, 'увлекательный': 1, 'времяпровождение': 1, 'встречать': 1, 'умник': 1, 'гном': 1, 'красочный': 1, 'книгиразвивающиепособиябандаумникошколасемигном': 1, 'вандал': 1, 'каскеленцев': 1, 'отдать': 1, 'местныйпамятник': 1, 'турагентство': 1, 'туристический': 1, 'саноторий': 1, 'рак': 1, 'щитовидный': 1, 'железа': 1, 'эко': 1, 'санаторий': 1, 'профилакторий': 1, 'кипр': 1, 'кисловодск': 1, 'сочи': 1, 'новосибирск': 1, 'чимкент': 1, 'фишка': 1, 'библиотекарь': 1, 'баймолданов': 1, 'дауренбек': 1, 'акын': 1, 'востребовать': 1, 'любим': 1, 'произведение': 1, 'тамшыбұлақ': 1, 'белжайлау': 1, 'құс': 1, 'тілінный': 1, 'тамғать': 1, 'жыр': 1, 'алматиснка': 1, 'алакольский': 1, 'аксуский': 1, 'сарканский': 1, 'кербулакский': 1, 'жаркентский': 1, 'каратальский': 1, 'случайно': 1, 'показывать': 1, 'статистика': 1, 'талгарский': 1, 'енбекшиказахский': 1, 'минь': 1, 'скобляшов': 1, 'общественнополитический': 1, 'послание': 1, 'консультационный': 1, 'алл': 1, 'жар': 1, 'коныстарый': 1, 'кутта': 1, 'жан': 1, 'ұянызга': 1, 'бақыть': 1, 'тілеймін': 1, 'течь': 1, 'жақс': 1, 'адамдар': 1, 'көбейсі': 1, 'дейк': 1, 'обесценить': 1, 'вступить': 1, 'вручать': 1, 'избрать': 1, 'пока': 1, 'ставленник': 1, 'кремль': 1, 'награждать': 1, 'марданов': 1, 'отправить': 1, 'отставка': 1, 'минниханов': 1, 'посчитать': 1, 'почесть': 1, 'выпасть': 1, 'нищий': 1, 'депрессивный': 1, 'отсталый': 1, 'сдесить': 1, 'совершенный': 1, 'спасение': 1, 'научноисследовательский': 1, 'высококвалифицированный': 1, 'юлай': 1, 'упоминание': 1, 'награждаться': 1, 'переименовать': 1, 'зигат': 1, 'мыслитель': 1, 'множественный': 1, 'посвещённый': 1, 'жемчужина': 1, 'интелегенция': 1, 'инциатив': 1, 'врученный': 1, 'спбгу': 1, 'рухнуть': 1, 'здоровенный': 1, 'риммин': 1, 'тетрапаковый': 1, 'шкаф': 1, 'чемодан': 1, 'мытый': 1, 'сплющить': 1, 'далеко': 1, 'случайность': 1, 'задержаться': 1, 'упорхнуть': 1, 'носиться': 1, 'громкий': 1, 'голов': 1, 'остывать': 1, 'перебранка': 1, 'засунуть': 1, 'прочно': 1, 'обосноваться': 1, 'обладать': 1, 'силой': 1, 'сравнимый': 1, 'вкус': 1, 'наверное': 1, 'стучать': 1, 'административный': 1, 'вязать': 1, 'стопка': 1, 'декабрьский': 1, 'мороз': 1, 'сводить': 1, 'бора': 1, 'лёжа': 1, 'парта': 1, 'пустой': 1, 'наглухо': 1, 'заварить': 1, 'мусоропровод': 1, 'стационарный': 1, 'стекло': 1, 'пластик': 1, 'банка': 1, 'пулковский': 1, 'менталитет': 1, 'складываться': 1, 'находить': 1, 'держаться': 1, 'накануне': 1, 'влиятельный': 1, 'бизнесжурнал': 1, 'долгий': 1, 'освещать': 1, 'миллиардер': 1, 'заметить': 1, 'бойко': 1, 'троценко': 1, 'марк': 1, 'курцер': 1, 'нп': 1, 'действие': 1, 'безразличный': 1, 'формировать': 1, 'заповедник': 1, 'экобиблиотека': 1, 'метро': 1, 'бульвар': 1, 'рокоссовский': 1, 'перчатка': 1, 'любящий': 1, 'рассчитать': 1, 'велик': 1, 'приготовить': 1, 'видеоотчёт': 1, 'конкурсвinstagram': 1, 'дикий': 1, 'живопись': 1, 'лист': 1, 'флорист': 1, 'цветочек': 1, 'горшок': 1, 'авоська': 1, 'пикник': 1, 'плюшка': 1, 'гбук': 1, 'вао': 1, 'прилагать': 1, 'исходный': 1, 'впечатлить': 1, 'масштабность': 1, 'многогранность': 1, 'концепт': 1, 'разноплановость': 1, 'креатив': 1, 'гостейспикер': 1, 'признаться': 1, 'получиться': 1, 'почувствовать': 1, 'общение': 1, 'сожаление': 1, 'совпадение': 1, 'представляться': 1, 'синхронность': 1, 'безусловно': 1, 'оправдывать': 1, 'многообразие': 1, 'технологизировать': 1, 'медийный': 1, 'печатный': 1, 'подменяться': 1, 'онлайнверсия': 1, 'книгочтение': 1, 'издательский': 1, 'былой': 1, 'понятно': 1, 'меняться': 1, 'примета': 1, 'приоритет': 1, 'отменять': 1, 'сохраняться': 1, 'всяческий': 1, 'радоваться': 1, 'сосед': 1, 'несомненно': 1, 'читательский': 1, 'ощущаться': 1, 'великолепный': 1, 'культдесант': 1, 'посеять': 1, 'процитировать': 1, 'отрывок': 1, 'поэма': 1, 'танго': 1, 'героиня': 1, 'стеллаж': 1, 'просторный': 1, 'промчаться': 1, 'благодать': 1, 'сверхчитать': 1, 'книгочей': 1, 'ветчина': 1, 'толпиться': 1, 'нрав': 1, 'сплошной': 1, 'заставить': 1, 'мозаичный': 1, 'разноплановый': 1, 'кино': 1, 'прекрасно': 1, 'ты': 1, 'устроитель': 1, 'шастин': 1, 'комплекспамятник': 1, 'кружевной': 1, 'зодчество': 1, 'уют': 1, 'дыхание': 1, 'старина': 1, 'вполне': 1, 'савинов': 1, 'прелесть': 1, 'быт': 1, 'полкановый': 1, 'чайный': 1, 'рельефный': 1, 'башенка': 1, 'изыск': 1, 'декор': 1, 'фасад': 1, 'магия': 1, 'уцелеть': 1, 'отпускать': 1, 'лекция': 1, 'задолго': 1, 'приезд': 1, 'гостяспикер': 1, 'мег': 1, 'поэтпесенник': 1, 'драматургсценарист': 1, 'наслышан': 1, 'тандем': 1, 'невероятно': 1, 'бама': 1, 'квампаний': 1, 'усачёвский': 1, 'зачитываться': 1, 'неправильный': 1, 'о': 1, 'толстой': 1, 'дедморозовка': 1, 'бежать': 1, 'лавка': 1, 'срочно': 1, 'сибирячка': 1, 'подавать': 1, 'дайвайтек': 1, 'детморозовка': 1, 'моргание': 1, 'сумка': 1, 'подписывать': 1, 'искриться': 1, 'воистину': 1, 'светло': 1, 'легко': 1, 'непринуждённо': 1, 'искромётный': 1, 'юмор': 1, 'остроумие': 1, 'оставаться': 1, 'ощущение': 1, 'читаемый': 1, 'дедморозовский': 1, 'прочитать': 1, 'издать': 1, 'перечитать': 1, 'поновое': 1, 'прогулкуэкскурсия': 1, 'нацбест': 1, 'запросто': 1, 'вскользь': 1, 'проливать': 1, 'роза': 1, 'фестивалый': 1, 'адмирал': 1, 'фактически': 1, 'присоединить': 1, 'приамурья': 1, 'назначаться': 1, 'листвянка': 1, 'поразить': 1, 'воображение': 1, 'мемориальный': 1, 'уланбатор': 1, 'присутствие': 1, 'молодец': 1, 'братьямонгол': 1, 'принткопия': 1, 'полотно': 1, 'послевоенный': 1, 'копия': 1, 'кадетский': 1, 'уланубатор': 1, 'амар': 1, 'улыбчивый': 1, 'владение': 1, 'монголия': 1, 'прошёь': 1, 'шоткиновый': 1, 'звучать': 1, 'строка': 1, 'намжила': 1, 'нимбуев': 1, 'мастерски': 1, 'вдохновенно': 1, 'данило': 1, 'хамаганов': 1, 'поклонница': 1, 'знаток': 1, 'популяризатор': 1, 'рада': 1, 'эстетка': 1, 'аристократка': 1, 'довольно': 1, 'случаться': 1, 'приезжать': 1, 'взаимодействовать': 1, 'прибайкалье': 1, 'амагзаесть': 1, 'ольхонский': 1, 'причина': 1, 'болезнь': 1, 'уйти': 1, 'спасать': 1, 'книгуальбом': 1, 'захотеться': 1, 'вывезти': 1, 'аларка': 1, 'патриотка': 1, 'хударинский': 1, 'переплести': 1, 'ольхон': 1, 'ольхонец': 1, 'случиться': 1, 'наметиться': 1, 'целый': 1, 'турне': 1, 'тираж': 1, 'экз': 1, 'расходиться': 1, 'мэрия': 1, 'организовываться': 1, 'неведомый': 1, 'гаврилюкректор': 1, 'иго': 1, 'винокуров': 1, 'яков': 1, 'баденик': 1, 'боринский': 1, 'телекомпания': 1, 'актис': 1, 'еланец': 1, 'донести': 1, 'проза': 1, 'издаваться': 1, 'признание': 1, 'ничто': 1, 'издревле': 1, 'повестись': 1, 'описывать': 1, 'воспевать': 1, 'исподволь': 1, 'раздумье': 1, 'пища': 1, 'ум': 1, 'стараться': 1, 'тёплый': 1, 'отклик': 1, 'просьба': 1, 'наизусть': 1, 'смеяться': 1, 'додуматься': 1, 'известить': 1, 'неудобно': 1, 'совестно': 1, 'отрывать': 1, 'занятой': 1, 'насущный': 1, 'позвонить': 1, 'примчаться': 1, 'внушение': 1, 'загородный': 1, 'увезти': 1, 'поэтический': 1, 'провожать': 1, 'толпа': 1, 'перрон': 1, 'дружно': 1, 'репертуар': 1, 'причём': 1, 'трезвый': 1, 'громадьё': 1, 'наверняка': 1, 'шагом': 1, 'невпопад': 1, 'позаранее': 1, 'аккурат': 1, 'новогодний': 1, 'корсаковый': 1, 'кабанский': 1, 'наступление': 1, 'нг': 1, 'ообразование': 1, 'филологический': 1, 'филология': 1, 'литературножурналистский': 1, 'бам': 1, 'преподавать': 1, 'гимназия': 1, 'ораторский': 1, 'госуниверситет': 1, 'тётенька': 1, 'варка': 1, 'печать': 1, 'книжка': 1, 'шутка': 1, 'самоирония': 1, 'краткий': 1, 'мыслеформа': 1, 'песенный': 1, 'сжато': 1, 'поскольку': 1, 'декларировать': 1, 'поздно': 1, 'однокурсник': 1, 'нетерпение': 1, 'спрашивать': 1, 'замужество': 1, 'поздноватый': 1, 'тягота': 1, 'кроха': 1, 'женщинематерь': 1, 'насыщать': 1, 'чаша': 1, 'вулкан': 1, 'спать': 1, 'подспудно': 1, 'неустанно': 1, 'вызревать': 1, 'порваться': 1, 'изнутри': 1, 'думаться': 1, 'равно': 1, 'он': 1, 'беспомощный': 1, 'племя': 1, 'уходить': 1, 'беспомощность': 1, 'черта': 1, 'сансар': 1, 'ведать': 1, 'земной': 1, 'прерогатива': 1, 'разумно': 1, 'скучно': 1, 'зависеть': 1, 'высоцкий': 1, 'сказнной': 1, 'самобытный': 1, 'излучающий': 1, 'куратор': 1, 'книгомарт': 1, 'претворение': 1, 'рудкина': 1, 'впечатлять': 1, 'изменение': 1, 'ощутимый': 1, 'видение': 1, 'целеполагание': 1, 'указ': 1, 'гуманитарный': 1, 'предметный': 1, 'информатика': 1, 'жизнедеятельность': 1, 'методика': 1, 'шахматный': 1, 'демография': 1, 'соловка': 1, 'ликвидировать': 1, 'плоскостной': 1, 'физкультурнооздоровительный': 1, 'лахта': 1, 'верхний': 1, 'культурноисторический': 1, 'капитальный': 1, 'социальнокультурный': 1, 'жилищнооммунальный': 1, 'решаться': 1, 'системно': 1, 'комплексно': 1, 'переселение': 1, 'расселить': 1, 'вводить': 1, 'многоквартирный': 1, 'заостровский': 1, 'лисестровский': 1, 'талажский': 1, 'безопасный': 1, 'отремонтировать': 1, 'госэкспертиза': 1, 'водопровод': 1, 'дрейер': 1, 'архангельск': 1, 'вос': 1, 'рикасовый': 1, 'водоснабжение': 1, 'трепузовый': 1, 'очистный': 1, 'твёрдый': 1, 'непростой': 1, 'рассматриваться': 1, 'значительно': 1, 'удалить': 1, 'садоводческий': 1, 'товарищество': 1, 'газораспределительный': 1, 'станция': 1, 'газификация': 1, 'стадия': 1, 'проектирование': 1, 'межпоселковый': 1, 'грс': 1, 'исакогорка': 1, 'фельшинок': 1, 'газ': 1, 'социальнобытовый': 1, 'кяростр': 1, 'беломорье': 1, 'ластол': 1, 'хорьковый': 1, 'луда': 1, 'монтаж': 1, 'общественно': 1, 'волоконнооптический': 1, 'конкурентный': 1, 'процедура': 1, 'подрядчик': 1, 'определиться': 1, 'эфирный': 1, 'вещание': 1, 'абонентский': 1, 'побережный': 1, 'транслироваться': 1, 'зимний': 1, 'лопшеньга': 1, 'яреньга': 1, 'компенсировать': 1, 'спутниковый': 1, 'механизм': 1, 'компенсация': 1, 'прорабатываться': 1, 'слайд': 1, 'приводить': 1, 'содружество': 1, 'обратить': 1, 'регулирование': 1, 'водопользование': 1, 'трансграничный': 1, 'полигон': 1, 'модельный': 1, 'наблюдатель': 1, 'ооочень': 1, 'трындеть': 1, 'лапшерезка': 1, 'перевооружение': 1, 'прима': 1, 'всемприма': 1, 'репетиционный': 1, 'танцовщик': 1, 'хореограф': 1, 'вацлав': 1, 'нижинскиго': 1, 'происходить': 1, 'пропускной': 1, 'кутафья': 1, 'вмещать': 1, 'больной': 1, 'буфет': 1, 'вадим': 1, 'мунтагир': 1, 'климентовый': 1, 'ковен': 1, 'гарден': 1, 'де': 1, 'бана': 1, 'морис': 1, 'бежар': 1, 'илзе': 1, 'лиеп': 1, 'элеонора': 1, 'севенард': 1, 'родькина': 1, 'бруклин': 1, 'вашингтонский': 1, 'махалин': 1, 'ксандёр': 1, 'париша': 1, 'мариинский': 1, 'мельник': 1, 'венгерский': 1, 'оперный': 1, 'джулиан': 1, 'маккей': 1, 'михайловский': 1, 'артистка': 1, 'алтынай': 1, 'асылмуратов': 1, 'пленительный': 1, 'шахерезадый': 1, 'горнило': 1, 'заслуживать': 1, 'сражаться': 1, 'безусый': 1, 'юнец': 1, 'фашизм': 1, 'дед': 1, 'прадед': 1, 'слух': 1, 'горожанин': 1, 'общественность': 1, 'глубинка': 1, 'владикино': 1, 'каменский': 1, 'пензенский': 1, 'любознательный': 1, 'белофина': 1, 'демобилизация': 1, 'отчизна': 1, 'отрыв': 1, 'целинэлектросетьстрой': 1, 'примерный': 1, 'семьянин': 1, 'супруга': 1, 'древо': 1, 'образовать': 1, 'праправнук': 1, 'вспоминать': 1, 'теплота': 1, 'строгий': 1, 'справедливый': 1, 'дача': 1, 'рыбалка': 1, 'ишим': 1, 'послать': 1, 'речка': 1, 'поймать': 1, 'щука': 1, 'гордо': 1, 'вышагивать': 1, 'рыба': 1, 'звонить': 1, 'навещать': 1, 'редко': 1, 'старый': 1, 'жас': 1, 'спустить': 1, 'дедушка': 1, 'юбиляр': 1, 'роптать': 1, 'бытие': 1, 'достаться': 1, 'парад': 1, 'грудь': 1, 'отвага': 1, 'взятие': 1, 'нагрудный': 1, 'бодрость': 1, 'низко': 1, 'поклониться': 1, 'левченко': 1, 'зам': 1, 'медиагруппа': 1, 'дискуссия': 1, 'инвестиционнопредпринимательский': 1, 'говорят': 1, 'неплохо': 1, 'эпохальный': 1, 'эффектно': 1, 'проситься': 1, 'габидулла': 1, 'абдрахим': 1, 'воскресенск': 1, 'олимпиада': 1, 'гапоу': 1, 'егорьевский': 1, 'техникум': 1, 'гр': 1, 'кондитер': 1, 'летошнева': 1, 'обществознание': 1, 'василиади': 1, 'урааа': 1, 'пилотный': 1, 'локтеть': 1, 'тестовый': 1, 'посменно': 1, 'психологический': 1, 'тансло': 1, 'лаковый': 1, 'подопечный': 1, 'ведение': 1, 'мастерский': 1, 'пятилетие': 1, 'ильяс': 1, 'испанов': 1, 'рассматривать': 1, 'выделение': 1, 'холодильник': 1, 'благодарственный': 1, 'исламбек': 1, 'салжановый': 1, 'индустриально': 1, 'абиловый': 1, 'уп': 1, 'капитан': 1, 'курбанбай': 1, 'руслан': 1, 'марат': 1, 'молодость': 1, 'реклама': 1, 'телекоммуникация': 1, 'машиностроение': 1, 'обозначить': 1, 'горнодобывающий': 1, 'потребление': 1, 'опробовать': 1, 'пользователь': 1, 'бегать': 1, 'межотраслевой': 1, 'наукоемкий': 1, 'панельный': 1, 'агропромышленный': 1, 'телемедицина': 1, 'bвстреча': 1, 'обширный': 1, 'кинофестиваль': 1, 'свидание': 1, 'флористический': 1, 'араик': 1, 'галстян': 1, 'диверсификация': 1, 'российскоузбекский': 1, 'послужить': 1, 'стимулирование': 1, 'организацийэкспонент': 1, 'шавкат': 1, 'мирзиёев': 1, 'десять': 1, 'зарубежэкспо': 1, 'соорганизатор': 1, 'узбекский': 1, 'торговопромышленный': 1, 'палата': 1, 'минпромторг': 1, 'минэкономразвития': 1, 'представительство': 1, 'минсельхоз': 1, 'минэнерго': 1, 'отраслевой': 1, 'оргкомитет': 1, 'мустакиллик': 1, 'закатка': 1, 'везде': 1, 'большенство': 1, 'месячник': 1, 'зож': 1, 'чердаклинский': 1, 'цдо': 1, 'миронов': 1, 'классник': 1, 'моу': 1, 'чсш': 1, 'алаа': 1, 'запускать': 1, 'обменять': 1, 'дальневосточный': 1, 'кор': 1, 'собственность': 1, 'платить': 1, 'оборот': 1, 'выручка': 1, 'последствие': 1, 'инф': 1, 'строюглобальнуюкомпаниюмировогоуровень': 1, 'бизнесмолодость': 1, 'страничка': 1, 'экокомпания': 1, 'распространение': 1, 'экологически': 1, 'генетический': 1, 'бады': 1, 'зубной': 1, 'порошок': 1, 'безсульфатный': 1, 'шампунь': 1, 'салфетка': 1, 'моющий': 1, 'косметологический': 1, 'натуральный': 1, 'компонент': 1, 'небезразличный': 1, 'покупать': 1, 'близкие': 1, 'миллионер': 1, 'экопродукция': 1, 'скоро': 1, 'маркетинговый': 1, 'чё': 1, 'лечить': 1, 'лямм': 1, 'светофор': 1, 'равне': 1, 'хата': 1, 'умолять': 1, 'карман': 1, 'копейка': 1, 'даба': 1, 'вылететь': 1, 'одиночка': 1, 'чин': 1, 'навесить': 1, 'людская': 1, 'побожески': 1, 'скейт': 1, 'атырауска': 1, 'пожалуйста': 1, 'петиция': 1, 'браться': 1, 'минимум': 1, 'заказчик': 1, 'правка': 1, 'доводить': 1, 'надзор': 1, 'мебель': 1, 'изготовить': 1, 'эскиз': 1, 'дизайнинтерьер': 1, 'проектыдом': 1, 'проектыкоттедж': 1, 'красивыйбалкон': 1, 'дизайнерастрахань': 1, 'ремпублика': 1, 'кузьминовка': 1, 'акселерационный': 1, 'наставничество': 1, 'квантрон': 1, 'экосистема': 1, 'горячкин': 1, 'амп': 1, 'яковлев': 1, 'промсвязьбанк': 1, 'коломиец': 1, 'приовнешторгбанк': 1, 'дронов': 1, 'любезно': 1, 'еженедельный': 1, 'кипение': 1, 'ася': 1, 'научнотехнический': 1, 'сазонов': 1, 'магнитогорск': 1, 'сшоры': 1, 'макушин': 1, 'соматический': 1, 'мастерица': 1, 'чудесный': 1, 'венка': 1, 'срезать': 1, 'двина': 1, 'пасхальный': 1, 'убранство': 1, 'яичный': 1, 'скорлупка': 1, 'воскресный': 1, 'видный': 1, 'шанхай': 1, 'гамбург': 1, 'тамбовский': 1, 'орловский': 1, 'брянский': 1, 'колесо': 1, 'вячеслав': 1, 'володин': 1, 'холдинговый': 1, 'возглавлять': 1, 'рязанов': 1, 'окупаемость': 1, 'предполагаться': 1, 'основное': 1, 'водитель': 1, 'обход': 1, 'доставка': 1, 'груз': 1, 'заметно': 1, 'сократиться': 1, 'характеристика': 1, 'электроосвещение': 1, 'мотель': 1, 'аналогия': 1, 'дубайский': 1, 'зимбабве': 1, 'неоценимый': 1, 'арабский': 1, 'эмират': 1, 'банковский': 1, 'спектр': 1, 'сервис': 1, 'арбитраж': 1, 'водонагреватель': 1, 'оптимальный': 1, 'каталог': 1, 'проявлять': 1, 'серьёзно': 1, 'сопряжение': 1, 'фрагмент': 1, 'аудиозапись': 1, 'ес': 1, 'уступать': 1, 'финансист': 1, 'попросить': 1, 'финансировать': 1, 'связанный': 1, 'сыбағ': 1, 'ырысый': 1, 'апрелямай': 1, 'продуктивный': 1, 'массовый': 1, 'еңбек': 1, 'ффпсха': 1, 'мясо': 1, 'вестник': 1, 'башгосфилармония': 1, 'ахметов': 1, 'кыйг': 1, 'яктара': 1, 'кый': 1, 'тизэр': 1, 'хасанов': 1, 'госсобрание': 1, 'курултай': 1, 'туразянов': 1, 'мр': 1, 'насретдин': 1, 'выходец': 1, 'презентационный': 1, 'сочетать': 1, 'повествование': 1, 'воспоминание': 1, 'труженик': 1, 'глубоко': 1, 'сюжет': 1, 'отображать': 1, 'тыл': 1, 'земляковфронтовик': 1, 'зрителиземляк': 1, 'окунуться': 1, 'декоративноприкладный': 1, 'творение': 1, 'кигинец': 1, 'ш': 1, 'мухаметдин': 1, 'горячо': 1, 'приветствовать': 1, 'издавна': 1, 'прислать': 1, 'вносить': 1, 'шамиль': 1, 'радил': 1, 'передать': 1, 'штандарт': 1, 'насколько': 1, 'татар': 1, 'братство': 1, 'прочный': 1, 'фундамент': 1, 'благополучие': 1, 'уровеньцифровизация': 1, 'спортивноразвлекательный': 1, 'разыграть': 1, 'слот': 1, 'онлайнформат': 1, 'бороться': 1, 'терещенко': 1, 'полищук': 1, 'киберспортивный': 1, 'блогер': 1, 'инфлюенсер': 1, 'картинка': 1, 'подходить': 1, 'оформление': 1, 'стилизовать': 1, 'автографсессия': 1, 'погружение': 1, 'тренировочный': 1, 'стрельба': 1, 'лука': 1, 'зрительный': 1, 'суровый': 1, 'ощутить': 1, 'испытание': 1, 'шкура': 1, 'продюсер': 1, 'белоног': 1, 'кнопка': 1, 'инструкция': 1, 'настроение': 1, 'эмомали': 1, 'шарип': 1, 'союзнический': 1, 'партнёрство': 1, 'узкий': 1, 'отдельность': 1, 'э': 1, 'рахмон': 1, 'подъём': 1, 'укрепляться': 1, 'придать': 1, 'углубление': 1, 'взаимоотношение': 1, 'российскотаджикистанский': 1, 'пептид': 1, 'новосадовый': 1, 'отличать': 1, 'возрастать': 1, 'косметология': 1, 'амиран': 1, 'волнующий': 1, 'обменяться': 1, 'преждевременный': 1, 'старение': 1, 'шоупрограмма': 1, 'розыгрыш': 1, 'приз': 1, 'мультифункциональный': 1, 'ageпротектор': 1, 'омоложение': 1, 'восстановление': 1, 'организм': 1, 'врачаонколог': 1, 'сабуровый': 1, 'врачагенетик': 1, 'кофебрейк': 1, 'фармаколог': 1, 'эксклюзивный': 1, 'препарат': 1, 'приозерск': 1, 'хореография': 1, 'исполнительство': 1, 'приозерский': 1, 'киноконцертный': 1, 'сосновский': 1, 'стихотворение': 1, 'блокада': 1, 'профессионально': 1, 'выверить': 1, 'партнерский': 1, 'очевидно': 1, 'телекоммуникационный': 1, 'окрепнуть': 1, 'вырасти': 1, 'фокус': 1, 'реалия': 1, 'англ': 1, 'единять': 1, 'интегрировать': 1, 'бизнеспроцесс': 1, 'просвещение': 1, 'горячее': 1, 'программирование': 1, 'многофункциональный': 1, 'обращаться': 1, 'синара': 1, 'узловой': 1, 'дфо': 1, 'полпредство': 1, 'договориться': 1, 'выполнение': 1, 'понимать': 1, 'погодный': 1, 'существенный': 1, 'препятствие': 1, 'туда': 1, 'создаваться': 1, 'выровнять': 1, 'инвестирование': 1, 'господдержка': 1, 'законопроект': 1, 'президиум': 1, 'козлов': 1, 'льгота': 1, 'предварительный': 1, 'привлекательность': 1, 'шельф': 1, 'континентальный': 1, 'углеводородный': 1, 'сырьё': 1, 'сжидить': 1, 'грузооборот': 1, 'выполнимый': 1, 'нао': 1, 'порт': 1, 'индига': 1, 'самоцель': 1, 'улучить': 1, 'среднероссийский': 1, 'существенно': 1, 'худой': 1, 'детальный': 1, 'доступность': 1, 'решать': 1, 'законодательный': 1, 'депутатскосенаторский': 1, 'сверять': 1, 'очередной': 1, 'транзит': 1, 'системный': 1, 'подшефный': 1, 'школаинтернат': 1, 'сирота': 1, 'попечение': 1, 'вязание': 1, 'вышивка': 1, 'ткачество': 1, 'воробей': 1, 'регин': 1, 'аппель': 1, 'пивеня': 1, 'язвенко': 1, 'ксения': 1, 'огея': 1, 'кашап': 1, 'виталий': 1, 'вокальный': 1, 'инструментальный': 1, 'гордиенко': 1, 'оригинальный': 1, 'балапать': 1, 'клоунада': 1, 'ирх': 1, 'дгд': 1, 'разъяснительный': 1, 'лилиан': 1, 'морить': 1, 'паские': 1, 'милль': 1, 'меджлис': 1, 'азербайджанский': 1, 'октаять': 1, 'асадовый': 1, 'киргизский': 1, 'джумабеков': 1, 'кегка': 1, 'выходной': 1, 'коневодство': 1, 'верховой': 1, 'езда': 1, 'словения': 1, 'колыбель': 1, 'липицанер': 1, 'лошадь': 1, 'звать': 1, 'азамат': 1, 'дисциплина': 1, 'прочий': 1, 'автомойка': 1, 'нынешном': 1, 'тендер': 1, 'поставка': 1, 'нефтепереработка': 1, 'ископаемое': 1, 'значительный': 1, 'стажировка': 1, 'проникнуться': 1, 'кухня': 1, 'научиться': 1, 'влиять': 1, 'приемущество': 1, 'напролом': 1, 'дисциплинировать': 1, 'пробуждение': 1, 'пробежка': 1, 'энергичность': 1, 'максимальный': 1, 'производительность': 1, 'публично': 1, 'пропагандировать': 1, 'пройда': 1, 'справить': 1, 'новоселье': 1, 'многоэтажный': 1, 'стороной': 1, 'байтерек': 1, 'аскакаловый': 1, 'североказахстанец': 1, 'қызылжар': 1, 'информ': 1, 'вконтакте': 1, 'сельхозпродукция': 1, 'подводить': 1, 'валовый': 1, 'сакипкереев': 1, 'увеличение': 1, 'маркетинг': 1, 'перелив': 1, 'реинвест': 1, 'частый': 1, 'небольшой': 1, 'пожизненный': 1, 'пассивный': 1, 'многократно': 1, 'новичок': 1, 'владеть': 1, 'расс': 1, 'продвигать': 1, 'акционер': 1, 'биржевой': 1, 'тетерин': 1, 'вебинар': 1, 'брифинг': 1, 'заменить': 1, 'гаджет': 1, 'вышестоящий': 1, 'промоушить': 1, 'колоссальный': 1, 'всевозможный': 1, 'карьер': 1, 'нераздумывать': 1, 'поторопиться': 1, 'достойно': 1, 'налог': 1, 'субсидирование': 1, 'аккаунт': 1, 'казселезащита': 1, 'казгидро': 1, 'констракшн': 1, 'вступительный': 1, 'кнр': 1, 'закладывание': 1, 'положить': 1, 'селевый': 1, 'паводковый': 1, 'опасность': 1, 'близлежащий': 1, 'селезащита': 1, 'таможня': 1, 'коргаснуть': 1, 'руслоформирующий': 1, 'баскунчить': 1, 'застава': 1, 'берегоукрепительный': 1, 'подъездный': 1, 'патрульнотракторный': 1, 'стабилизировать': 1, 'боков': 1, 'приток': 1, 'ратифицировать': 1, 'азаттык': 1, 'придавать': 1, 'взаимопонимание': 1, 'таков': 1, 'обучаться': 1, 'индивидуальноразвивать': 1, 'адаптация': 1, 'психофизический': 1, 'отставание': 1, 'нарушение': 1, 'инвалидность': 1, 'методический': 1, 'тифлопедагог': 1, 'сурдопедагог': 1, 'олигофренопедагог': 1, 'вмешательство': 1, 'физкультура': 1, 'врачневропатолог': 1, 'сестра': 1, 'массажист': 1, 'снануть': 1, 'беспричинно': 1, 'обиженный': 1, 'боль': 1, 'страстный': 1, 'пожалеть': 1, 'нелегко': 1, 'талдыкорганский': 1, 'стаж': 1, 'продлить': 1, 'учитель': 1, 'воспитательный': 1, 'образованиядать': 1, 'переквалификация': 1, 'преобразование': 1, 'забросить': 1, 'рыбкомплекс': 1, 'эстетически': 1, 'учебновоспитательный': 1, 'дорогостоящий': 1, 'хватать': 1, 'студентка': 1, 'многопрофильный': 1, 'абдрахманов': 1, 'порадовать': 1, 'чудом': 1, 'дцп': 1, 'танцевать': 1, 'пытаться': 1, 'достать': 1, 'лучезарный': 1, 'глядеть': 1, 'плакать': 1, 'камкоржурек': 1, 'салыковый': 1, 'вызывать': 1, 'поклонение': 1, 'приковать': 1, 'инвалидный': 1, 'коляска': 1, 'жаловаться': 1, 'стонать': 1, 'перекрёсток': 1, 'протянуть': 1, 'полноценный': 1, 'трудиться': 1, 'методист': 1, 'нурмагамбетов': 1, 'райхан': 1, 'кудагельдин': 1, 'авдеев': 1, 'мадьяровануржамалахметкалий': 1, 'нугмановый': 1, 'бакыткан': 1, 'мадина': 1, 'кадирбеков': 1, 'ажаркуль': 1, 'сейтнур': 1, 'рудковский': 1, 'исмухамбетов': 1, 'жамиля': 1, 'кукольный': 1, 'спектакль': 1, 'воочию': 1, 'развлекаться': 1, 'матереть': 1, 'блестеть': 1, 'нелёгкий': 1, 'благородный': 1, 'трудно': 1, 'идеальный': 1, 'темирзян': 1, 'фардеев': 1, 'завуч': 1, 'бакибаев': 1, 'сагир': 1, 'жангали': 1, 'цдт': 1, 'ограда': 1, 'нарисовать': 1, 'согревать': 1, 'милый': 1, 'ребятишки': 1, 'крупица': 1, 'явиться': 1, 'стоитопытный': 1, 'педагогдефектолог': 1, 'действенный': 1, 'нцпк': 1, 'объявляться': 1, 'битва': 1, 'авто': 1, 'комментарий': 1, 'набраться': 1, 'достаточный': 1, 'исключение': 1, 'заводский': 1, 'личка': 1, 'разобраться': 1, 'битвабольшихкроссовер': 1, 'газпромнефть': 1, 'наживаться': 1, 'бенз': 1, 'доливать': 1, 'покрышка': 1, 'перепродать': 1, 'проехать': 1, 'пособирать': 1, 'значок': 1, 'пометить': 1, 'чисто': 1, 'светотехнический': 1, 'осетия': 1, 'пионер': 1, 'роскамасталь': 1, 'нижнекамскнефтехим': 1, 'импортозамещающий': 1, 'имплантат': 1, 'перелом': 1, 'ивановский': 1, 'акустический': 1, 'композит': 1, 'тольятти': 1, 'комбинат': 1, 'хабаровский': 1, 'пермь': 1, 'разобщение': 1, 'пласт': 1, 'бурение': 1, 'полимерный': 1, 'заготовка': 1, 'пищевой': 1, 'упаковка': 1, 'есиповый': 1, 'мдф': 1, 'томск': 1, 'насосный': 1, 'символический': 1, 'богучанский': 1, 'тульский': 1, 'аэрозольный': 1, 'баллон': 1, 'полётсервис': 1, 'сборка': 1, 'крупногабаритный': 1, 'точный': 1, 'автомобильный': 1, 'челябинск': 1, 'нетканый': 1, 'вологодский': 1, 'пелгод': 1, 'абинский': 1, 'электрометаллургический': 1, 'сталепроволочный': 1, 'газобетонный': 1, 'гипсовый': 1, 'гипс': 1, 'биомикрогель': 1, 'реагент': 1, 'новгородский': 1, 'аконтракт': 1, 'подмосковный': 1, 'ступино': 1, 'квадрат': 1, 'алмаз': 1, 'тула': 1, 'пп': 1, 'мехмаш': 1, 'коксохиммонтаж': 1, 'череповец': 1, 'лазерный': 1, 'кабина': 1, 'ванна': 1, 'пиломатериал': 1, 'сухой': 1, 'смесь': 1, 'протонпм': 1, 'термообработка': 1, 'автобензин': 1, 'нефтеперерабатывающий': 1, 'танёкий': 1, 'радиатор': 1, 'газовый': 1, 'стеклянный': 1, 'парфюмерный': 1, 'удмуртия': 1, 'свердловский': 1, 'деревоперерабатывающий': 1, 'комплектовать': 1, 'запорный': 1, 'арматура': 1, 'донской': 1, 'фармацевтический': 1, 'оболенский': 1, 'балашиха': 1, 'пьезокерамический': 1, 'старлайна': 1, 'цикл': 1, 'кабеленесущий': 1, 'липецк': 1, 'электротехнический': 1, 'орский': 1, 'пусконаладочный': 1, 'грануляция': 1, 'сера': 1, 'пкф': 1, 'луидор': 1, 'слепой': 1, 'кабардинобалкария': 1, 'сельскохозяйственный': 1, 'мало': 1, 'пересечение': 1, 'оживлённый': 1, 'развить': 1, 'привлекать': 1, 'шопинга': 1, 'еда': 1, 'малайзия': 1, 'приключение': 1, 'ханойхалонглуанг': 1, 'пномпеньчау': 1, 'доккан': 1, 'тхохошимин': 1, 'подтверждение': 1, 'величественный': 1, 'кхмер': 1, 'заезд': 1, 'москваханый': 1, 'прилёт': 1, 'формальность': 1, 'паспортный': 1, 'контроль': 1, 'ханойхалонг': 1, 'скальный': 1, 'мангровый': 1, 'миф': 1, 'переводиться': 1, 'гласить': 1, 'однажды': 1, 'угодье': 1, 'зацепить': 1, 'пробить': 1, 'лощина': 1, 'впадина': 1, 'заполниться': 1, 'поверхность': 1, 'бэй': 1, 'причал': 1, 'напиток': 1, 'производить': 1, 'жемчуг': 1, 'каякинг': 1, 'предпочтение': 1, 'герман': 1, 'пляж': 1, 'купание': 1, 'погода': 1, 'гладкий': 1, 'откуда': 1, 'наслаждение': 1, 'кулинария': 1, 'шеф': 1, 'весенний': 1, 'ролл': 1, 'морепродукт': 1, 'вечерний': 1, 'отдохнуть': 1, 'ловля': 1, 'кальмар': 1, 'стоящий': 1, 'якорь': 1, 'закрытый': 1, 'каюта': 1, 'мягкий': 1, 'кровать': 1, 'горячий': 1, 'кондиционер': 1, 'халонгханый': 1, 'утром': 1, 'гимнастика': 1, 'тайчить': 1, 'шведский': 1, 'сталактит': 1, 'сталагмит': 1, 'наслаждаться': 1, 'обратно': 1, 'ханойлуанг': 1, 'пробанг': 1, 'шоппинг': 1, 'шёлковый': 1, 'ночной': 1, 'конфуций': 1, 'огородить': 1, 'дворик': 1, 'зелень': 1, 'восемьдесят': 1, 'насечь': 1, 'доктор': 1, 'существование': 1, 'возвратить': 1, 'меч': 1, 'hoàn': 1, 'kiếm': 1, 'трехъярусный': 1, 'посреди': 1, 'восходящий': 1, 'нефритовый': 1, 'панорама': 1, 'хоанкие': 1, 'chùa': 1, 'một': 1, 'cột': 1, 'император': 1, 'тхань': 1, 'тонга': 1, 'каменный': 1, 'изображать': 1, 'подниматься': 1, 'пруд': 1, 'покрыть': 1, 'бадиня': 1, 'đình': 1, 'провозгласить': 1, 'демократический': 1, 'мавзолей': 1, 'lăng': 1, 'chủ': 1, 'tịch': 1, 'chí': 1, 'таоицкий': 1, 'барельеф': 1, 'богатырь': 1, 'фигура': 1, 'военачальник': 1, 'алтарь': 1, 'отлить': 1, 'бронза': 1, 'курорт': 1, 'гулять': 1, 'отдыхать': 1, 'миниавтобус': 1, 'купеческий': 1, 'гильдия': 1, 'носить': 1, 'производиться': 1, 'верность': 1, 'цеховой': 1, 'торговать': 1, 'одежда': 1, 'игрушка': 1, 'окружение': 1, 'городмузей': 1, 'культовый': 1, 'дойти': 1, 'сохраниться': 1, 'обратный': 1, 'фаном': 1, 'протекторат': 1, 'чувствоваться': 1, 'гармоничный': 1, 'портрет': 1, 'расписать': 1, 'секретариат': 1, 'залом': 1, 'трон': 1, 'декорированный': 1, 'покой': 1, 'спальня': 1, 'столовый': 1, 'сиенг': 1, 'тхон': 1, 'монастырь': 1, 'религиозный': 1, 'первоначальный': 1, 'облик': 1, 'классический': 1, 'скат': 1, 'постепенно': 1, 'изгибаться': 1, 'спускаться': 1, 'фон': 1, 'выложить': 1, 'птица': 1, 'настенный': 1, 'нанести': 1, 'святилище': 1, 'двухчасовой': 1, 'вверх': 1, 'насладиться': 1, 'провинциальный': 1, 'сангхая': 1, 'сиенглек': 1, 'продавать': 1, 'текстиль': 1, 'водка': 1, 'плантация': 1, 'тысячелетний': 1, 'тхома': 1, 'ворота': 1, 'байон': 1, 'бапуон': 1, 'слон': 1, 'символизировать': 1, 'мифический': 1, 'повторять': 1, 'очертание': 1, 'скал': 1, 'окружающие': 1, 'вселенная': 1, 'неудивительно': 1, 'флаг': 1, 'очищаться': 1, 'джунгли': 1, 'представать': 1, 'буквально': 1, 'разрывать': 1, 'ствол': 1, 'изваяние': 1, 'обвить': 1, 'лиана': 1, 'продавить': 1, 'тяжесть': 1, 'легендарный': 1, 'жест': 1, 'невероятный': 1, 'пластика': 1, 'поток': 1, 'древность': 1, 'исполнять': 1, 'возводиться': 1, 'богиня': 1, 'почитаться': 1, 'лингамов': 1, 'божество': 1, 'горе': 1, 'высечь': 1, 'силуэт': 1, 'водопад': 1, 'искупаться': 1, 'рекомендовать': 1, 'полотенце': 1, 'купальный': 1, 'индуистский': 1, 'розовый': 1, 'песчаник': 1, 'шив': 1, 'башенпрасат': 1, 'рельеф': 1, 'цитадель': 1, 'риппномпень': 1, 'астролог': 1, 'чей': 1, 'властвовать': 1, 'покровительство': 1, 'коронация': 1, 'делегат': 1, 'служащий': 1, 'поражать': 1, 'роскошь': 1, 'храниться': 1, 'драгоценный': 1, 'металл': 1, 'хрусталь': 1, 'изумрудный': 1, 'датировать': 1, 'столетие': 1, 'матрейя': 1, 'грядунуть': 1, 'инкрустировать': 1, 'бриллиант': 1, 'ступа': 1, 'мрамор': 1, 'сисовата': 1, 'ангкорский': 1, 'лингам': 1, 'артефакт': 1, 'пномпенькруиз': 1, 'пристань': 1, 'тиена': 1, 'зянг': 1, 'кай': 1, 'прилавок': 1, 'лодка': 1, 'митхо': 1, 'дегустация': 1, 'тропический': 1, 'лепёшка': 1, 'хошиминмосква': 1, 'рейс': 1, 'оплачиваться': 1, 'проход': 1, 'заполнение': 1, 'путешествовать': 1, 'минстрой': 1, 'подпрограммуна': 1, 'федоровца': 1, 'уфаарен': 1, 'русый': 1, 'тат': 1, 'баш': 1, 'совместить': 1, 'вензелюшка': 1, 'листать': 1, 'акварельный': 1, 'кисть': 1, 'рублефф': 1, 'колонка': 1, 'маязапись': 1, 'скорее': 1, 'караганда': 1, 'вторник': 1, 'законный': 1, 'координация': 1, 'общеобразовательный': 1, 'салтанат': 1, 'детьмиинвалид': 1, 'подросток': 1, 'анкетный': 1, 'опрос': 1, 'переговорить': 1, 'жолдасов': 1, 'репрессия': 1, 'долинка': 1, 'шахтинск': 1, 'мечтать': 1, 'романтика': 1, 'утро': 1, 'вдвоём': 1, 'помолвка': 1, 'свадьба': 1, 'удить': 1, 'враньё': 1, 'ссора': 1, 'недостаток': 1, 'простить': 1, 'перечисленный': 1, 'понастоящий': 1, 'страшно': 1, 'ыбирайт': 1, 'ди': 1, 'растоптать': 1, 'самолюбие': 1, 'пойти': 1, 'гонг': 1, 'ц': 1, 'чжан': 1, 'подлипниккастильо': 1, 'барнаул': 1, 'чита': 1, 'зенит': 1, 'хоккайдо': 1, 'файтерс': 1, 'орикс': 1, 'баффалосый': 1, 'шварцман': 1, 'соз': 1, 'континный': 1, 'пирс': 1, 'хансин': 1, 'тайгерс': 1, 'якулт': 1, 'суэллоус': 1, 'монтекарло': 1, 'циципас': 1, 'чеккинато': 1, 'фукуока': 1, 'хоукс': 1, 'тиба': 1, 'мэринс': 1, 'киа': 1, 'тайгёрзнуть': 1, 'лотта': 1, 'джайнтс': 1, 'отт': 1, 'моронить': 1, 'нексен': 1, 'хироза': 1, 'самсунг': 1, 'балаж': 1, 'соуза': 1, 'тунис': 1, 'виверна': 1, 'дусан': 1, 'беарс': 1, 'ханва': 1, 'иглзти': 1, 'кт': 1, 'лг': 1, 'твинс': 1, 'нс': 1, 'динос': 1, 'гайо': 1, 'афл': 1, 'австралийский': 1, 'брисбейн': 1, 'коллингвуд': 1, 'алига': 1, 'сидней': 1, 'перт': 1, 'глори': 1, 'нрл': 1, 'регбилига': 1, 'шаркс': 1, 'пантёрзнуть': 1, 'велоспорт': 1, 'wkлига': 1, 'поын': 1, 'санм': 1, 'гуметь': 1, 'спортстоть': 1, 'халкбанк': 1, 'чанаккале': 1, 'агф': 1, 'сённерйюск': 1, 'норри': 1, 'соний': 1, 'джокович': 1, 'фриц': 1, 'бсф': 1, 'кольдинга': 1, 'демолинер': 1, 'кабаля': 1, 'фара': 1, 'жерман': 1, 'эгар': 1, 'иртыш': 1, 'тайтистед': 1, 'куэвас': 1, 'троицк': 1, 'кориа': 1, 'домингеш': 1, 'беллучча': 1, 'гольф': 1, 'херититж': 1, 'фортуна': 1, 'хьерринг': 1, 'альянс': 1, 'кба': 1, 'синьцзян': 1, 'ляонина': 1, 'динозаурс': 1, 'хорсенс': 1, 'вейль': 1, 'андижан': 1, 'насаф': 1, 'айдын': 1, 'анкара': 1, 'фучович': 1, 'албот': 1, 'басилашвили': 1, 'димитров': 1, 'надаль': 1, 'лайо': 1, 'истун': 1, 'лонг': 1, 'лионс': 1, 'сингапур': 1, 'слингерс': 1, 'анжимол': 1, 'ахматмол': 1, 'бркич': 1, 'драганья': 1, 'мартинес': 1, 'сквош': 1, 'сумгаит': 1, 'сабаил': 1, 'горнякспорт': 1, 'колос': 1, 'ковалёвка': 1, 'леопольд': 1, 'полесье': 1, 'минай': 1, 'давтаев': 1, 'отас': 1, 'доха': 1, 'мастерс': 1, 'джустиный': 1, 'татлот': 1, 'й': 1, 'пахтакор': 1, 'самарканд': 1, 'мельцер': 1, 'кубот': 1, 'мести': 1, 'фоньиня': 1, 'эрбер': 1, 'чорич': 1, 'пюц': 1, 'эйссерик': 1, 'шанчича': 1, 'лааксонный': 1, 'хирон': 1, 'дотан': 1, 'лада': 1, 'марокко': 1, 'ботол': 1, 'хассания': 1, 'агадир': 1, 'вак': 1, 'касабланка': 1, 'кремень': 1, 'кристал': 1, 'херсон': 1, 'рубин': 1, 'лоренци': 1, 'агробизнес': 1, 'волочиск': 1, 'балканы': 1, 'заря': 1, 'эсбьерг': 1, 'бухара': 1, 'локомотив': 1, 'динамосинар': 1, 'кубань': 1, 'зимоньй': 1, 'вавассорить': 1, 'вега': 1, 'эрнандес': 1, 'сайп': 1, 'сепахан': 1, 'реал': 1, 'фарма': 1, 'кривая': 1, 'рог': 1, 'комарно': 1, 'крикет': 1, 'дели': 1, 'дэрдэвилза': 1, 'мумбай': 1, 'индианс': 1, 'нафт': 1, 'мис': 1, 'эстелал': 1, 'хузестан': 1, 'буревестник': 1, 'фаворит': 1, 'олимп': 1, 'прага': 1, 'крюгер': 1, 'рид': 1, 'ариас': 1, 'бангур': 1, 'кладный': 1, 'острава': 1, 'тршинец': 1, 'черно': 1, 'берой': 1, 'рилски': 1, 'спортистый': 1, 'спартак': 1, 'плевен': 1, 'сарасота': 1, 'куполродник': 1, 'мба': 1, 'ставрополье': 1, 'ростовдон': 1, 'карабах': 1, 'кешлый': 1, 'египет': 1, 'исмаиль': 1, 'замалёк': 1, 'амстердам': 1, 'мензишилла': 1, 'колларинить': 1, 'фратанджело': 1, 'вейккауслига': 1, 'сйк': 1, 'хик': 1, 'полански': 1, 'бруксби': 1, 'вхл': 1, 'мордовия': 1, 'ростов': 1, 'дуран': 1, 'бонзи': 1, 'али': 1, 'академик': 1, 'бултекс': 1, 'ямбол': 1, 'контрстрайк': 1, 'шверин': 1, 'потсдам': 1, 'местис': 1, 'кеупа': 1, 'кеттерь': 1, 'копенгаген': 1, 'мидтъюлланна': 1, 'втб': 1, 'уникс': 1, 'парма': 1, 'левица': 1, 'мбк': 1, 'хандлов': 1, 'пезинка': 1, 'нов': 1, 'ваг': 1, 'астраханочка': 1, 'нептунас': 1, 'дзукия': 1, 'оломоуца': 1, 'простеёвый': 1, 'раквере': 1, 'тяк': 1, 'легион': 1, 'левадиакос': 1, 'таммёк': 1, 'тарту': 1, 'сити': 1, 'гомель': 1, 'ястреб': 1, 'бобруйск': 1, 'хк': 1, 'брест': 1, 'химикска': 1, 'баран': 1, 'аризона': 1, 'атлант': 1, 'шяуляй': 1, 'лиеткабелиса': 1, 'галан': 1, 'ривероса': 1, 'салам': 1, 'дабровск': 1, 'скайлайнерс': 1, 'бамберг': 1, 'фюхс': 1, 'тхв': 1, 'киль': 1, 'альба': 1, 'фехт': 1, 'фленсбургханда': 1, 'гуммерсб': 1, 'штутгарт': 1, 'ахен': 1, 'ганновербургд': 1, 'рейннеккар': 1, 'ловосица': 1, 'копршивница': 1, 'клезара': 1, 'сандгрена': 1, 'дельный': 1, 'карац': 1, 'фнл': 1, 'балтика': 1, 'фризенхайм': 1, 'кеппинген': 1, 'евролига': 1, 'цска': 1, 'басконие': 1, 'баскетлиган': 1, 'норрчёпинг': 1, 'буроса': 1, 'санфранциско': 1, 'вашингтон': 1, 'торонто': 1, 'миннесота': 1, 'чикаго': 1, 'уайт': 1, 'сокс': 1, 'детройт': 1, 'австрия': 1, 'вена': 1, 'клагенфурт': 1, 'брайтенрайна': 1, 'стадо': 1, 'ньонна': 1, 'бавуа': 1, 'хам': 1, 'кошица': 1, 'схл': 1, 'ферьестадо': 1, 'юргорден': 1, 'канада': 1, 'мангейм': 1, 'мюнхен': 1, 'сша': 1, 'кампонг': 1, 'кельн': 1, 'фридекмистечь': 1, 'сокол': 1, 'снимка': 1, 'использование': 1, 'оптика': 1, 'керамический': 1, 'кирпич': 1, 'стройиндустрия': 1, 'поддержание': 1, 'изъявить': 1, 'якуб': 1, 'коласа': 1, 'отправиться': 1, 'эколёнок': 1, 'блюдечко': 1, 'бумажный': 1, 'потихоньку': 1, 'раскрываться': 1, 'бросать': 1, 'кубик': 1, 'убеждаться': 1, 'тонуть': 1, 'смешивать': 1, 'сода': 1, 'масло': 1, 'следить': 1, 'растворимость': 1, 'правило': 1, 'сбережение': 1, 'накатить': 1, 'делиться': 1, 'крутиться': 1, 'подстраиваться': 1, 'вопервое': 1, 'растить': 1, 'ругать': 1, 'вовторое': 1, 'суть': 1, 'обычный': 1, 'чемуть': 1, 'фольклорный': 1, 'смешной': 1, 'малыш': 1, 'репетиция': 1, 'прочесть': 1, 'скучать': 1, 'гос': 1, 'воля': 1, 'набрать': 1, 'гранпереть': 1, 'певчий': 1, 'плавно': 1, 'перетечь': 1, 'отдавать': 1, 'угадать': 1, 'похвалиться': 1, 'тобольск': 1, 'кыштым': 1, 'простор': 1, 'триумф': 1, 'прыгать': 1, 'сайкаг': 1, 'немного': 1, 'привить': 1, 'светлов': 1, 'мыть': 1, 'сольно': 1, 'трястись': 1, 'коленка': 1, 'дрожать': 1, 'запеть': 1, 'замолчать': 1, 'внемаленький': 1, 'сольный': 1, 'ох': 1, 'весело': 1, 'староста': 1, 'документально': 1, 'подтвердить': 1, 'перфекционист': 1, 'ру': 1, 'callцентр': 1, 'понедельник': 1, 'телефонный': 1, 'заочно': 1, 'умудриться': 1, 'выиграть': 1, 'разрешить': 1, 'представиться': 1, 'мисс': 1, 'эртелек': 1, 'готовить': 1, 'заходить': 1, 'к': 1, 'инстаграм': 1, 'легкоподъёмность': 1, 'куданибудь': 1, 'поучаствовать': 1, 'страдать': 1, 'похвастаться': 1, 'перечесть': 1, 'предыдущий': 1, 'вчетвером': 1, 'никита': 1, 'сашенек': 1, 'надюша': 1, 'съесть': 1, 'пицца': 1, 'расскаяние': 1, 'спорый': 1, 'недовольство': 1, 'оооочень': 1, 'огород': 1, 'сашенький': 1, 'әкімшілік': 1, 'құқық': 1, 'бұзушылық': 1, 'упрощённый': 1, 'афганистан': 1, 'дмитрий': 1, 'верхотуров': 1, 'экспресспункт': 1, 'декрет': 1, 'дистрибьютер': 1, 'обслуживаться': 1, 'выполнять': 1, 'смартчасы': 1, 'директ': 1, 'фаберлик': 1, 'орифлейм': 1, 'захватмлма': 1, 'риммашевченко': 1, 'президентомназарбай': 1, 'вернуть': 1, 'вера': 1, 'аист': 1, 'навестить': 1, 'любимуюинвалида': 1, 'трогательный': 1, 'аистовый': 1, 'растопить': 1, 'вдохновить': 1, 'предать': 1, 'аистсамец': 1, 'клепетан': 1, 'пролететь': 1, 'летать': 1, 'назад': 1, 'одинокий': 1, 'мужчина': 1, 'степан': 1, 'обнаружить': 1, 'самкуаист': 1, 'сильно': 1, 'ранить': 1, 'браконьер': 1, 'шанс': 1, 'приютить': 1, 'обречь': 1, 'инстинкт': 1, 'тысячекилометровый': 1, 'расстояние': 1, 'клепетон': 1, 'африка': 1, 'весна': 1, 'подписчик': 1, 'ежедневно': 1, 'милосердие': 1, 'постоянно': 1, 'ктоть': 1, 'самостоятельно': 1, 'загораться': 1, 'исключительно': 1, 'добровольный': 1, 'доброедеть': 1, 'стихиодобра': 1, 'выставить': 1, 'очистить': 1, 'убрать': 1, 'нецензурный': 1, 'начитаться': 1, 'рухнама': 1, 'люкс': 1, 'модный': 1, 'выпускаться': 1, 'бразилия': 1, 'бриф': 1, 'такимитый': 1, 'свойство': 1, 'текстура': 1, 'дерматология': 1, 'химия': 1, 'пигмент': 1, 'воплощать': 1, 'мощность': 1, 'ценник': 1, 'премиум': 1, 'брендова': 1, 'дорого': 1, 'отпасть': 1, 'побороться': 1, 'двое': 1, 'оо': 1, 'репродуктивный': 1, 'житикаринский': 1, 'минобороны': 1, 'командноштабный': 1, 'учение': 1, 'айбалта': 1, 'стартаппроект': 1, 'менің': 1, 'арманым': 1, 'пресс': 1, 'коммерциализация': 1, 'жечь': 1, 'дигай': 1, 'бизнесинициатив': 1, 'свидетельство': 1, 'определённый': 1, 'финансирование': 1, 'новатор': 1, 'учить': 1, 'представление': 1, 'поиск': 1, 'трёхдневный': 1, 'прокачка': 1, 'претендент': 1, 'публичный': 1, 'сьёмка': 1, 'орбитальный': 1, 'облёт': 1, 'околоземный': 1, 'знаменательный': 1, 'золин': 1, 'государственность': 1, 'характер': 1, 'лихачевский': 1, 'проходная': 1, 'мкк': 1, 'мкр': 1, 'водник': 1, 'мерянка': 1, 'сквер': 1, 'вылётный': 1, 'магистраль': 1, 'лукойл': 1, 'вдолгопрудный': 1, 'грязинет': 1, 'субботниквдолгопрудный': 1, 'субботниквполмосковья': 1, 'экологиять': 1, 'общеобластной': 1, 'коттедж': 1, 'сильный': 1, 'кирпичный': 1, 'рт': 1, 'пгт': 1, 'урусс': 1, 'уруссинский': 1, 'въезд': 1, 'ориентир': 1, 'татнефть': 1, 'завершаться': 1, 'эра': 1, 'настраивать': 1, 'телеприёмник': 1, 'подверженный': 1, 'помеха': 1, 'масса': 1, 'канун': 1, 'первопроходец': 1, 'тв': 1, 'султангазин': 1, 'слесарить': 1, 'материальнотехнический': 1, 'оснащение': 1, 'робототехника': 1, 'самопознание': 1, 'периодический': 1, 'ануарбек': 1, 'жалел': 1, 'изыскание': 1, 'лозунг': 1, 'формация': 1, 'посыл': 1, 'торжество': 1, 'нулевой': 1, 'терпимость': 1, 'соприкасаться': 1, 'требование': 1, 'эффективный': 1, 'оценка': 1, 'требоваться': 1, 'жёсткий': 1, 'компетентный': 1, 'акцент': 1, 'устойчивый': 1, 'антикоррупционный': 1, 'иммунитет': 1, 'противодействие': 1, 'искоренение': 1, 'нечестность': 1, 'масштабировать': 1, 'успешно': 1, 'искоренить': 1, 'амзеев': 1, 'колосковый': 1, 'офицерский': 1, 'оперативнослужебный': 1, 'нравственнопатриотический': 1, 'соотечественник': 1, 'халық': 1, 'қаһарман': 1, 'қазын': 1, 'духовность': 1, 'уважительный': 1, 'хранительница': 1, 'очаг': 1, 'продолжательница': 1, 'человеческий': 1, 'родственный': 1, 'интеллектуальный': 1, 'оценивать': 1, 'судейский': 1, 'бактыл': 1, 'мукатаев': 1, 'шнары': 1, 'ермагамбетов': 1, 'айман': 1, 'кадырханов': 1, 'единогласно': 1, 'бахуткуль': 1, 'алыпкашев': 1, 'каракат': 1, 'курметбек': 1, 'багжан': 1, 'аяжан': 1, 'нурмухамбет': 1, 'каламкас': 1, 'присвоить': 1, 'саутбаев': 1, 'диана': 1, 'секеева': 1, 'зауреш': 1, 'раушан': 1, 'мухамедаль': 1, 'музаравшин': 1, 'нуртазин': 1, 'алмагуль': 1, 'талисман': 1, 'роут': 1, 'мейрамбек': 1, 'кенжебаев': 1, 'каирбек': 1, 'ергалиев': 1, 'ознакомительный': 1, 'йога': 1, 'спина': 1, 'промокод': 1, 'инст': 1, 'фотоотчёт': 1, 'хулиган': 1, 'арка': 1, 'изборский': 1, 'былостать': 1, 'энциклопедия': 1, 'охватывать': 1, 'география': 1, 'dобъект': 1, 'инфографик': 1, 'интерактивный': 1, 'незаменимый': 1, 'помощник': 1, 'вебверсия': 1, 'гумилев': 1, 'настольный': 1, 'физикотехнический': 1, 'акнить': 1, 'нуржаубаев': 1, 'торайгыров': 1, 'предназначить': 1, 'администрирование': 1, 'школаколледжуниверситет': 1, 'денежный': 1, 'шахмаран': 1, 'сеилов': 1, 'болата': 1, 'бакау': 1, 'владимирский': 1, 'айбек': 1, 'незначительно': 1, 'снизиться': 1, 'измениться': 1, 'предельный': 1, 'настрой': 1, 'обьяснить': 1, 'тупой': 1, 'общественник': 1, 'инициативный': 1, 'традиционно': 1, 'доронин': 1, 'саратов': 1, 'кумыска': 1, 'полянин': 1, 'берёзка': 1, 'приближаться': 1, 'повод': 1, 'предверие': 1, 'продуктовый': 1, 'активист': 1, 'мустафина': 1, 'утюн': 1, 'мукано': 1, 'байкешева': 1, 'рзагул': 1, 'калинин': 1, 'тютюн': 1, 'фёдор': 1, 'мултыкбай': 1, 'айтбек': 1, 'исмайл': 1, 'двойченко': 1, 'нонна': 1, 'кусаин': 1, 'мукатать': 1, 'бакишев': 1, 'тукпат': 1, 'абрам': 1, 'бабичев': 1, 'иванов': 1, 'егор': 1, 'қожахметұл': 1, 'қажымұрат': 1, 'писарев': 1, 'стефан': 1, 'сафар': 1, 'абдурахман': 1, 'сивоконь': 1, 'турусбек': 1, 'усин': 1, 'сеилбек': 1, 'акимбек': 1, 'деркачева': 1, 'антонин': 1, 'драгун': 1, 'нина': 1, 'карим': 1, 'жунусбек': 1, 'максименко': 1, 'раис': 1, 'самуил': 1, 'мамыров': 1, 'сихымбай': 1, 'палюха': 1, 'прокопий': 1, 'савицкий': 1, 'ширвановый': 1, 'рауза': 1, 'ахмет': 1, 'потрясать': 1, 'молния': 1, 'кунак': 1, 'поселковый': 1, 'лечь': 1, 'обязанность': 1, 'обработать': 1, 'райцентр': 1, 'дахир': 1, 'мутиша': 1, 'альэнази': 1, 'дипломатический': 1, 'казахстанскосаудовский': 1, 'мейрам': 1, 'состязаться': 1, 'дождливый': 1, 'осадка': 1, 'ничуть': 1, 'омрачить': 1, 'зрелищный': 1, 'криминальный': 1, 'поровну': 1, 'поделить': 1, 'следователь': 1, 'дознаватель': 1, 'угощение': 1, 'популяризация': 1, 'дархан': 1, 'мусан': 1, 'баытта': 1, 'тты': 1, 'мекен': 1, 'халы': 1, 'кмёк': 1, 'мәнгілік': 1, 'ханство': 1, 'алаш': 1, 'устремление': 1, 'наказ': 1, 'добиваться': 1, 'свобода': 1, 'азат': 1, 'перуашева': 1, 'повторно': 1, 'аргументировать': 1, 'сапархан': 1, 'чрезвычайный': 1, 'дирк': 1, 'ян': 1, 'коп': 1, 'мсх': 1, 'апк': 1, 'иа': 1, 'казахзерно': 1, 'межкомнатный': 1, 'минирынок': 1, 'қазақтелек': 1, 'казахтелек': 1, 'рдт': 1, 'клиенториентированность': 1, 'драйвер': 1, 'аббревиатура': 1, 'понятие': 1, 'предпринимательский': 1, 'измеряться': 1, 'удовлетворённость': 1, 'потерять': 1, 'предвосхищать': 1, 'коммерческий': 1, 'жаримбет': 1, 'подход': 1, 'удовлетворение': 1, 'уральск': 1, 'дирекция': 1, 'маржан': 1, 'омбаев': 1}\n"
          ],
          "name": "stdout"
        }
      ]
    },
    {
      "cell_type": "code",
      "metadata": {
        "id": "ocvMho4qJ4-I",
        "outputId": "e5cca26f-17c6-4b64-ac72-902f2cd5abec"
      },
      "source": [
        "dict_1 =  built_lem_dict(df[df['label']==1].text[:250])\n",
        "print('частотный словарь лемм по текстам внутри 1 класса', dict_1)"
      ],
      "execution_count": null,
      "outputs": [
        {
          "output_type": "stream",
          "text": [
            "частотный словарь лемм по текстам внутри 1 класса {'хотеть': 244, 'это': 241, 'год': 230, 'жить': 219, 'мочь': 189, 'жизнь': 175, 'очень': 175, 'знать': 137, 'весь': 132, 'мой': 132, 'свой': 121, 'просто': 120, 'человек': 119, 'который': 116, 'мама': 108, 'друг': 105, 'думать': 105, 'один': 94, 'родитель': 92, 'работа': 89, 'ребёнок': 86, 'проблема': 84, 'умереть': 84, 'день': 83, 'время': 83, 'никто': 82, 'стать': 79, 'делать': 77, 'суицид': 72, 'говорить': 71, 'каждый': 69, 'мысль': 65, 'сказать': 64, 'такой': 61, 'изз': 61, 'бояться': 60, 'ещё': 60, 'понимать': 59, 'школа': 58, 'работать': 58, 'любить': 57, 'сделать': 56, 'устать': 55, 'начать': 55, 'видеть': 55, 'деньга': 55, 'постоянно': 53, 'чувствовать': 53, 'помочь': 52, 'здравствовать': 52, 'дом': 51, 'плохо': 50, 'отец': 50, 'другой': 47, 'муж': 46, 'учиться': 46, 'самый': 46, 'семья': 45, 'отношение': 44, 'уйти': 43, 'хотя': 42, 'последний': 42, 'далёкий': 42, 'общаться': 42, 'хотеться': 41, 'месяц': 41, 'смочь': 39, 'сила': 39, 'нужный': 39, 'класс': 39, 'смысл': 38, 'ходить': 38, 'идти': 38, 'кто': 37, 'пытаться': 37, 'себя': 37, 'долг': 37, 'тот': 36, 'парень': 36, 'быть': 35, 'найти': 34, 'начаться': 34, 'я': 34, 'часто': 33, 'сам': 33, 'вообще': 32, 'смерть': 31, 'папа': 31, 'девушка': 30, 'детство': 30, 'сильно': 30, 'помогать': 29, 'учёба': 29, 'назад': 29, 'кажется': 29, 'тяжело': 28, 'том': 28, 'покончить': 27, 'депрессия': 27, 'остаться': 27, 'надоесть': 27, 'ненавидеть': 27, 'пить': 27, 'чтоть': 27, 'город': 27, 'мода': 27, 'дело': 26, 'бабушка': 26, 'подруга': 26, 'поступить': 26, 'взять': 26, 'любовь': 26, 'ред': 26, 'потерять': 25, 'её': 25, 'просить': 25, 'рука': 25, 'писать': 25, 'больно': 25, 'слово': 25, 'добрый': 24, 'худой': 24, 'боль': 24, 'плохой': 24, 'бросить': 24, 'нормальный': 24, 'верить': 23, 'оказаться': 23, 'желание': 23, 'постоянный': 23, 'мать': 23, 'равно': 23, 'сидеть': 23, 'звать': 23, 'решить': 23, 'ситуация': 22, 'почему': 22, 'нужно': 22, 'пара': 22, 'понять': 21, 'попытка': 21, 'начало': 21, 'иметь': 21, 'чувство': 21, 'никакой': 21, 'способ': 21, 'итог': 20, 'место': 20, 'сын': 20, 'кредит': 20, 'лишь': 20, 'получаться': 20, 'хороший': 19, 'выход': 19, 'помощь': 19, 'нравиться': 19, 'мир': 18, 'пора': 18, 'родственник': 18, 'бог': 18, 'должный': 18, 'тяжёлый': 18, 'неделя': 18, 'жена': 18, 'брат': 18, 'уехать': 18, 'наш': 18, 'единственный': 18, 'этот': 17, 'врач': 17, 'стараться': 17, 'брать': 17, 'состояние': 17, 'говорят': 17, 'квартира': 17, 'мужчина': 17, 'дать': 17, 'плакать': 17, 'самоубийство': 17, 'стыдно': 17, 'либо': 17, 'любой': 16, 'слишком': 16, 'пока': 16, 'душа': 16, 'момент': 16, 'давать': 16, 'полный': 16, 'сторона': 16, 'пойти': 16, 'ранний': 16, 'вроде': 16, 'возможно': 16, 'рак': 16, 'выйти': 16, 'любимый': 15, 'новый': 15, 'два': 15, 'считать': 15, 'нету': 15, 'наверное': 15, 'давно': 15, 'становиться': 14, 'получить': 14, 'нога': 14, 'недавно': 14, 'бывать': 14, 'ошибка': 14, 'сердце': 14, 'купить': 14, 'история': 14, 'страшно': 14, 'далее': 14, 'абсолютно': 14, 'появиться': 13, 'внешность': 13, 'кома': 13, 'выходить': 13, 'познакомиться': 13, 'спать': 13, 'родной': 13, 'виноватый': 13, 'снова': 13, 'хватать': 13, 'смотреть': 13, 'будущее': 13, 'большой': 13, 'дочь': 13, 'кроме': 13, 'голов': 13, 'общение': 13, 'сильный': 13, 'вместе': 13, 'она': 13, 'одинокий': 13, 'бить': 13, 'узнать': 13, 'улица': 13, 'поддержка': 13, 'встречаться': 13, 'рассказать': 13, 'ждать': 13, 'счастливый': 13, 'звонить': 13, 'причина': 13, 'заниматься': 12, 'просыпаться': 12, 'какой': 12, 'близкие': 12, 'происходить': 12, 'сей': 12, 'долго': 12, 'родные': 12, 'находиться': 12, 'перестать': 12, 'прошлое': 12, 'колледж': 12, 'платить': 12, 'пережить': 12, 'убить': 12, 'дочка': 12, 'характер': 12, 'поговорить': 12, 'к': 12, 'они': 12, 'возраст': 12, 'проснуться': 11, 'психолог': 11, 'получать': 11, 'страх': 11, 'больница': 11, 'матерь': 11, 'поэтому': 11, 'прийтись': 11, 'скоро': 11, 'полюбить': 11, 'плач': 11, 'расстаться': 11, 'слышать': 11, 'уходить': 11, 'получиться': 11, 'искать': 11, 'начинать': 11, 'жалко': 10, 'пустота': 10, 'многий': 10, 'одиночество': 10, 'здоровье': 10, 'половина': 10, 'огромный': 10, 'кричать': 10, 'болеть': 10, 'терпеть': 10, 'совершенно': 10, 'лицо': 10, 'сегодня': 10, 'сестра': 10, 'правда': 10, 'сдать': 10, 'измениться': 10, 'читать': 10, 'закончить': 10, 'уметь': 10, 'полностью': 10, 'зарплата': 10, 'глаз': 10, 'раз': 10, 'болезнь': 10, 'образование': 10, 'он': 10, 'сутки': 10, 'приходить': 10, 'домой': 10, 'родить': 10, 'курс': 10, 'ради': 10, 'столько': 10, 'пожалуйста': 10, 'надеяться': 10, 'написать': 10, 'справиться': 10, 'жильё': 9, 'поддерживать': 9, 'разный': 9, 'ужасный': 9, 'именно': 9, 'никак': 9, 'старший': 9, 'есть': 9, 'ссора': 9, 'страдать': 9, 'ночь': 9, 'надежда': 9, 'случай': 9, 'тело': 9, 'врать': 9, 'знакомый': 9, 'вести': 9, 'особенно': 9, 'о': 9, 'вещий': 9, 'прийти': 9, 'прошлый': 9, 'поделиться': 9, 'простить': 9, 'играть': 9, 'близкий': 9, 'родиться': 9, 'разговаривать': 9, 'влюбиться': 9, 'слеза': 9, 'счастие': 9, 'смеяться': 9, 'несколько': 9, 'унижать': 9, 'стоить': 9, 'радость': 9, 'вид': 9, 'исчезнуть': 9, 'поставить': 9, 'бороться': 9, 'жаловаться': 9, 'семь': 9, 'профессия': 9, 'попросить': 8, 'бывший': 8, 'также': 8, 'внутри': 8, 'мыть': 8, 'страшный': 8, 'практически': 8, 'подумать': 8, 'иначе': 8, 'возможность': 8, 'некого': 8, 'девочка': 8, 'честно': 8, 'план': 8, 'общий': 8, 'вокруг': 8, 'право': 8, 'вопрос': 8, 'останавливать': 8, 'образ': 8, 'переживать': 8, 'институт': 8, 'немного': 8, 'какойтый': 8, 'случиться': 8, 'устроиться': 8, 'опыт': 8, 'поздно': 8, 'цель': 8, 'бежать': 8, 'самооценка': 8, 'экзамен': 8, 'развод': 8, 'привет': 8, 'куча': 8, 'мало': 8, 'основное': 8, 'вернуться': 8, 'приехать': 8, 'забрать': 8, 'личный': 8, 'скорее': 8, 'утро': 8, 'скандал': 8, 'приступ': 8, 'попытаться': 8, 'ибо': 8, 'брак': 8, 'дружить': 8, 'довольно': 8, 'трудно': 8, 'лёгкий': 8, 'плевать': 8, 'прекрасный': 8, 'невыносимый': 8, 'переехать': 8, 'нервный': 8, 'изменить': 7, 'собственный': 7, 'всякий': 7, 'новое': 7, 'посещать': 7, 'существование': 7, 'сложно': 7, 'ада': 7, 'горе': 7, 'обычный': 7, 'важный': 7, 'попасть': 7, 'оставить': 7, 'пройти': 7, 'молиться': 7, 'истерика': 7, 'засыпать': 7, 'конец': 7, 'шаг': 7, 'часть': 7, 'подойти': 7, 'туда': 7, 'винить': 7, 'немой': 7, 'сходить': 7, 'глупый': 7, 'гдеть': 7, 'вернуть': 7, 'молодая': 7, 'замуж': 7, 'маленькая': 7, 'особо': 7, 'повод': 7, 'обзывать': 7, 'чаща': 7, 'комната': 7, 'встретить': 7, 'специальность': 7, 'тупик': 7, 'лишний': 7, 'общежитие': 7, 'предмет': 7, 'учитель': 7, 'эмоция': 7, 'готовый': 7, 'сколько': 7, 'поверить': 7, 'ответ': 7, 'развестись': 7, 'сдавать': 7, 'вуз': 7, 'поздний': 7, 'три': 7, 'морально': 7, 'женщина': 7, 'незнать': 7, 'однако': 6, 'простой': 6, 'окружающий': 6, 'операция': 6, 'оставаться': 6, 'летом': 6, 'тётя': 6, 'инвалид': 6, 'способный': 6, 'нерв': 6, 'существовать': 6, 'данный': 6, 'число': 6, 'сюда': 6, 'затем': 6, 'алкоголь': 6, 'чёрный': 6, 'называть': 6, 'интерес': 6, 'отсутствие': 6, 'процент': 6, 'ряд': 6, 'интернет': 6, 'связь': 6, 'вечно': 6, 'порядок': 6, 'безысходность': 6, 'главный': 6, 'увлечение': 6, 'сначала': 6, 'счёт': 6, 'никуда': 6, 'украина': 6, 'мешать': 6, 'подарить': 6, 'универ': 6, 'разговор': 6, 'ум': 6, 'против': 6, 'решать': 6, 'таблетка': 6, 'прям': 6, 'еда': 6, 'давить': 6, 'закончиться': 6, 'унижение': 6, 'психика': 6, 'поддержать': 6, 'помнить': 6, 'пропасть': 6, 'больший': 6, 'достойный': 6, 'окончить': 6, 'точнее': 6, 'поехать': 6, 'тянуть': 6, 'сустав': 6, 'ничтожество': 6, 'приносить': 6, 'кемтый': 6, 'диплом': 6, 'предать': 6, 'мы': 6, 'встреча': 6, 'красивый': 6, 'душевный': 5, 'апатия': 5, 'сразу': 5, 'легко': 5, 'както': 5, 'прекратить': 5, 'ничто': 5, 'осознавать': 5, 'занять': 5, 'пробовать': 5, 'неплохо': 5, 'гипс': 5, 'показывать': 5, 'страдание': 5, 'орать': 5, 'час': 5, 'гулять': 5, 'сад': 5, 'уволиться': 5, 'взрослый': 5, 'хобби': 5, 'обычно': 5, 'спасибо': 5, 'негатив': 5, 'выглядеть': 5, 'молчать': 5, 'голос': 5, 'твой': 5, 'оказываться': 5, 'праздник': 5, 'приходиться': 5, 'стесняться': 5, 'резко': 5, 'расставание': 5, 'пришлый': 5, 'вина': 5, 'умный': 5, 'выдержать': 5, 'вообщий': 5, 'совершить': 5, 'забыть': 5, 'серьёзный': 5, 'мучить': 5, 'навсегда': 5, 'настроение': 5, 'раздражать': 5, 'мат': 5, 'обида': 5, 'ктоть': 5, 'алкоголик': 5, 'совет': 5, 'результат': 5, 'внимание': 5, 'пошлый': 5, 'спорт': 5, 'рухнуть': 5, 'одноклассник': 5, 'ночью': 5, 'дед': 5, 'бегать': 5, 'ты': 5, 'толь': 5, 'двое': 5, 'следующий': 5, 'достать': 5, 'группа': 5, 'выбраться': 5, 'ужасно': 5, 'грань': 5, 'злиться': 5, 'сломать': 5, 'мозг': 5, 'прожить': 5, 'ругаться': 5, 'голова': 5, 'крайний': 5, 'психический': 5, 'скорый': 5, 'настоящий': 5, 'ответить': 5, 'поведение': 5, 'проходить': 5, 'осознать': 5, 'быстро': 5, 'маленький': 5, 'мелочь': 5, 'вечер': 5, 'университет': 5, 'представлять': 5, 'примерно': 5, 'спросить': 5, 'еле': 5, 'стих': 5, 'интересный': 5, 'поиск': 5, 'бессонница': 5, 'задумываться': 5, 'панический': 5, 'заработать': 5, 'никчёмный': 5, 'ям': 5, 'рыдать': 5, 'наверно': 5, 'уверенный': 5, 'отвернуться': 5, 'замкнутый': 5, 'копейка': 5, 'трое': 5, 'ощущать': 5, 'заикаться': 5, 'оля': 5, 'материал': 5, 'крик': 5, 'рождение': 5, 'отдавать': 4, 'браться': 4, 'показать': 4, 'вовсе': 4, 'повезти': 4, 'заплатить': 4, 'глубокий': 4, 'заканчиваться': 4, 'умирать': 4, 'перенести': 4, 'планировать': 4, 'уснуть': 4, 'урок': 4, 'костя': 4, 'отправить': 4, 'лечиться': 4, 'носить': 4, 'почемуть': 4, 'диагноз': 4, 'рассказывать': 4, 'волноваться': 4, 'валиться': 4, 'кошмар': 4, 'утром': 4, 'платный': 4, 'лечение': 4, 'чужой': 4, 'свет': 4, 'придумать': 4, 'отлично': 4, 'собираться': 4, 'посидеть': 4, 'сомневаться': 4, 'жутко': 4, 'трудный': 4, 'заставить': 4, 'принести': 4, 'положить': 4, 'небольшой': 4, 'повышение': 4, 'лечить': 4, 'ставить': 4, 'тип': 4, 'около': 4, 'превратиться': 4, 'сложиться': 4, 'напиться': 4, 'груз': 4, 'жалеть': 4, 'книжка': 4, 'знакомиться': 4, 'магазин': 4, 'ежедневный': 4, 'жуткий': 4, 'достаточно': 4, 'аду': 4, 'удовольствие': 4, 'игровой': 4, 'закрыть': 4, 'миллион': 4, 'тысяча': 4, 'наркоман': 4, 'вечный': 4, 'позволять': 4, 'назвать': 4, 'спокойно': 4, 'сложный': 4, 'трудность': 4, 'неуверенность': 4, 'довольный': 4, 'робот': 4, 'подходить': 4, 'оскорблять': 4, 'среди': 4, 'показаться': 4, 'ладный': 4, 'суецида': 4, 'непонимание': 4, 'нервничать': 4, 'тд': 4, 'воспитывать': 4, 'преследовать': 4, 'младший': 4, 'переписка': 4, 'замечать': 4, 'похожий': 4, 'ревность': 4, 'ударить': 4, 'дико': 4, 'появляться': 4, 'противный': 4, 'заём': 4, 'коллектор': 4, 'оценка': 4, 'мальчик': 4, 'серьёзно': 4, 'подать': 4, 'обижать': 4, 'подобный': 4, 'взяться': 4, 'упрёк': 4, 'математика': 4, 'знакомство': 4, 'из': 4, 'шея': 4, 'обращаться': 4, 'протяжение': 4, 'событие': 4, 'факультет': 4, 'мучение': 4, 'казалось': 4, 'правило': 4, 'невозможно': 4, 'увидеть': 4, 'отвечать': 4, 'полый': 4, 'влюбить': 4, 'бесполезный': 4, 'видимо': 4, 'сон': 4, 'меняться': 4, 'противоположный': 4, 'разом': 4, 'произойти': 4, 'отвратительный': 4, 'вчера': 4, 'лежать': 4, 'возвращаться': 4, 'продолжить': 4, 'терять': 4, 'добиться': 4, 'сессия': 4, 'собеседование': 4, 'гнобить': 4, 'плюс': 4, 'принимать': 4, 'проиграть': 4, 'проводить': 4, 'ездить': 4, 'английский': 4, 'поступать': 4, 'ненужный': 4, 'признаться': 4, 'мотивация': 4, 'комплекс': 4, 'интересовать': 4, 'привыкнуть': 4, 'зря': 4, 'контролировать': 4, 'мечтать': 4, 'плата': 4, 'шанс': 4, 'начинаться': 4, 'толком': 4, 'посмотреть': 4, 'вместо': 4, 'что': 4, 'редко': 4, 'вспоминать': 4, 'вес': 4, 'женатый': 4, 'нигде': 4, 'очный': 4, 'атака': 4, 'порча': 4, 'список': 4, 'наркотик': 4, 'дух': 4, 'решение': 4, 'делиться': 4, 'опухоль': 4, 'подарок': 4, 'дарить': 4, 'радовать': 4, 'съедать': 4, 'испортить': 4, 'справляться': 4, 'влезть': 4, 'видеться': 4, 'вариант': 4, 'машина': 4, 'убивать': 4, 'неудача': 4, 'ужас': 4, 'отчислить': 4, 'слушать': 4, 'спокойный': 4, 'спасти': 4, 'хватить': 4, 'остановиться': 4, 'форма': 4, 'шок': 4, 'срыв': 4, 'трудовой': 4, 'твердить': 4, 'карьер': 4, 'вставать': 4, 'решиться': 4, 'москва': 4, 'антон': 4, 'няня': 4, 'язык': 4, 'какиеть': 3, 'попросту': 3, 'тепло': 3, 'жениться': 3, 'обманывать': 3, 'спасать': 3, 'завидовать': 3, 'сказываться': 3, 'складываться': 3, 'закрытый': 3, 'использовать': 3, 'бросать': 3, 'здраствовать': 3, 'двигаться': 3, 'оно': 3, 'отвлечься': 3, 'дальнейший': 3, 'занимать': 3, 'сплошной': 3, 'провести': 3, 'апрель': 3, 'гноиться': 3, 'кривая': 3, 'продолжать': 3, 'шрам': 3, 'черта': 3, 'ломать': 3, 'высокий': 3, 'занятие': 3, 'секс': 3, 'специалист': 3, 'приготовить': 3, 'орало': 3, 'успеть': 3, 'сдерживать': 3, 'разослать': 3, 'фото': 3, 'интересно': 3, 'мучаться': 3, 'пересдача': 3, 'резать': 3, 'рот': 3, 'забить': 3, 'книга': 3, 'сахара': 3, 'кровь': 3, 'понимание': 3, 'лекарство': 3, 'ранимый': 3, 'измена': 3, 'пользоваться': 3, 'стыд': 3, 'ненависть': 3, 'позволить': 3, 'подозревать': 3, 'уверить': 3, 'чистый': 3, 'везти': 3, 'доставлять': 3, 'труд': 3, 'автомат': 3, 'тётка': 3, 'отреагировать': 3, 'короче': 3, 'начальник': 3, 'усталость': 3, 'стеснительный': 3, 'завести': 3, 'отказаться': 3, 'знаете': 3, 'принять': 3, 'обеспечивать': 3, 'симпатичный': 3, 'садик': 3, 'школьный': 3, 'уважение': 3, 'воспринимать': 3, 'внешне': 3, 'предлагать': 3, 'граница': 3, 'заработок': 3, 'возненавидеть': 3, 'особый': 3, 'заболеть': 3, 'взаимный': 3, 'расстроить': 3, 'угнетать': 3, 'лезть': 3, 'скучать': 3, 'комуть': 3, 'некуда': 3, 'активный': 3, 'действие': 3, 'медицинский': 3, 'судить': 3, 'очередь': 3, 'должность': 3, 'карьера': 3, 'начальство': 3, 'звонок': 3, 'настя': 3, 'дедушка': 3, 'пила': 3, 'собраться': 3, 'библиотека': 3, 'одежда': 3, 'кинуть': 3, 'первое': 3, 'физически': 3, 'грустно': 3, 'свободно': 3, 'исправить': 3, 'дважды': 3, 'перейти': 3, 'рано': 3, 'поступление': 3, 'дура': 3, 'избивать': 3, 'окончательно': 3, 'лист': 3, 'крыша': 3, 'материть': 3, 'реветь': 3, 'зайти': 3, 'прощение': 3, 'неправильно': 3, 'заявить': 3, 'сотрудник': 3, 'отдаляться': 3, 'удерживать': 3, 'порезать': 3, 'внутренний': 3, 'аппетит': 3, 'душить': 3, 'забота': 3, 'поменять': 3, 'упасть': 3, 'новость': 3, 'ком': 3, 'рутина': 3, 'предложить': 3, 'трогать': 3, 'заканчивать': 3, 'загоняться': 3, 'продолжаться': 3, 'прямо': 3, 'буквально': 3, 'понравиться': 3, 'психологически': 3, 'род': 3, 'улыбаться': 3, 'щас': 3, 'впереди': 3, 'судорога': 3, 'плечо': 3, 'домашний': 3, 'закинуть': 3, 'обратиться': 3, 'система': 3, 'авто': 3, 'горло': 3, 'самостоятельный': 3, 'повторяться': 3, 'гитара': 3, 'выучить': 3, 'бюджет': 3, 'средство': 3, 'знание': 3, 'армрестлинг': 3, 'уважать': 3, 'просидеть': 3, 'дошлый': 3, 'заснуть': 3, 'тема': 3, 'чтонибыть': 3, 'случайно': 3, 'практика': 3, 'дрожать': 3, 'одноклассница': 3, 'выпускной': 3, 'природа': 3, 'фотка': 3, 'относиться': 3, 'буква': 3, 'учительница': 3, 'егэ': 3, 'объяснить': 3, 'неплохой': 3, 'обстановка': 3, 'мол': 3, 'сообщение': 3, 'комфортно': 3, 'изгой': 3, 'спустя': 3, 'устраивать': 3, 'период': 3, 'нормалный': 3, 'обстоятельство': 3, 'америка': 3, 'нью': 3, 'ощущение': 3, 'магистратура': 3, 'накопить': 3, 'держать': 3, 'ожидание': 3, 'повзрослеть': 3, 'рослый': 3, 'некоторый': 3, 'обидный': 3, 'устроить': 3, 'грудь': 3, 'изменять': 3, 'странный': 3, 'жестокий': 3, 'удаться': 3, 'полгода': 3, 'бабуля': 3, 'продать': 3, 'суд': 3, 'алименты': 3, 'кредитный': 3, 'вложить': 3, 'банальный': 3, 'разлюбить': 3, 'толстой': 3, 'порой': 3, 'одиноко': 3, 'бесконечный': 3, 'выходной': 3, 'занятый': 3, 'свободный': 3, 'нуждаться': 3, 'авария': 3, 'многие': 3, 'окружение': 3, 'издеваться': 3, 'коллега': 3, 'рабочий': 3, 'остальной': 3, 'самоповреждение': 3, 'февраль': 3, 'оформить': 3, 'сожаление': 3, 'аренда': 3, 'грузчик': 3, 'физический': 3, 'создать': 3, 'перевести': 3, 'е': 3, 'слух': 3, 'осуждать': 3, 'заслужить': 3, 'спрашивать': 3, 'четыре': 3, 'вызвать': 3, 'круг': 3, 'погулять': 3, 'позвонить': 3, 'целый': 3, 'заставлять': 3, 'завтра': 3, 'пугать': 3, 'учить': 3, 'перевестись': 3, 'толк': 3, 'зарабатывать': 3, 'тк': 3, 'моральный': 3, 'компания': 3, 'идеальный': 3, 'мечта': 3, 'мелкий': 3, 'определённый': 3, 'срок': 3, 'держаться': 3, 'часы': 3, 'слабость': 3, 'коготь': 3, 'неудачный': 3, 'устраиваться': 3, 'послать': 3, 'выгнать': 3, 'привести': 3, 'являться': 3, 'точно': 3, 'путь': 3, 'потомучто': 3, 'следить': 3, 'продукт': 3, 'диван': 3, 'частное': 3, 'организм': 3, 'клиника': 3, 'ка': 3, 'литься': 3, 'уборщица': 3, 'итп': 3, 'церковь': 3, 'клясться': 2, 'бесперспективный': 2, 'шизофрения': 2, 'итак': 2, 'безразличный': 2, 'страна': 2, 'оплачивать': 2, 'неудачник': 2, 'урод': 2, 'даваться': 2, 'удивлять': 2, 'документ': 2, 'прервать': 2, 'пустой': 2, 'тотальный': 2, 'барахтаться': 2, 'точка': 2, 'почва': 2, 'переживание': 2, 'причинить': 2, 'тупить': 2, 'грабли': 2, 'крутой': 2, 'четвёрка': 2, 'март': 2, 'дтп': 2, 'открытый': 2, 'правый': 2, 'подровнять': 2, 'пластина': 2, 'зимой': 2, 'убрать': 2, 'весной': 2, 'хронический': 2, 'сентябрь': 2, 'заметить': 2, 'волновать': 2, 'зановый': 2, 'многое': 2, 'подумывать': 2, 'часами': 2, 'выполнять': 2, 'целое': 2, 'днями': 2, 'отдыхать': 2, 'редкий': 2, 'масло': 2, 'платье': 2, 'поход': 2, 'советовать': 2, 'чаять': 2, 'бардак': 2, 'сосед': 2, 'слегка': 2, 'посторонний': 2, 'хорошеть': 2, 'иностранец': 2, 'шантаж': 2, 'шантажировать': 2, 'отчим': 2, 'радоваться': 2, 'переспать': 2, 'защищать': 2, 'математик': 2, 'съёмный': 2, 'открыть': 2, 'посуда': 2, 'помыть': 2, 'острый': 2, 'резкий': 2, 'диета': 2, 'испытывать': 2, 'причём': 2, 'нарушение': 2, 'ссориться': 2, 'возникать': 2, 'несчастный': 2, 'наоборот': 2, 'выпивать': 2, 'незаметно': 2, 'злой': 2, 'доставаться': 2, 'вырасти': 2, 'гадость': 2, 'доверять': 2, 'полоса': 2, 'заняться': 2, 'экономический': 2, 'препод': 2, 'коекак': 2, 'кругом': 2, 'какаять': 2, 'кудато': 2, 'неопрятный': 2, 'успокаивать': 2, 'приятель': 2, 'отчасти': 2, 'игра': 2, 'пять': 2, 'онлайн': 2, 'казино': 2, 'залезть': 2, 'набрать': 2, 'предел': 2, 'давление': 2, 'скучный': 2, 'обещать': 2, 'отпустить': 2, 'лёгкое': 2, 'электрик': 2, 'стройный': 2, 'сравнение': 2, 'двадцать': 2, 'израиль': 2, 'беременный': 2, 'разбираться': 2, 'ю': 2, 'внутренне': 2, 'признаваться': 2, 'сто': 2, 'колено': 2, 'конфликтовать': 2, 'колотиться': 2, 'пялиться': 2, 'конфликт': 2, 'красавица': 2, 'уродина': 2, 'всячески': 2, 'выгонять': 2, 'сводиться': 2, 'бред': 2, 'угодный': 2, 'обращать': 2, 'угрожать': 2, 'впервые': 2, 'детский': 2, 'ревновать': 2, 'рада': 2, 'поцелуй': 2, 'август': 2, 'интим': 2, 'сцена': 2, 'навести': 2, 'толкать': 2, 'возможный': 2, 'зрение': 2, 'деваться': 2, 'переходить': 2, 'обуза': 2, 'беда': 2, 'ослепнуть': 2, 'мучиться': 2, 'ад': 2, 'враньё': 2, 'кратко': 2, 'проигрывать': 2, 'виновный': 2, 'присвоить': 2, 'рубль': 2, 'сумма': 2, 'ноль': 2, 'телефон': 2, 'натворить': 2, 'представить': 2, 'русский': 2, 'дима': 2, 'доставать': 2, 'шуточка': 2, 'марик': 2, 'ехать': 2, 'гость': 2, 'зато': 2, 'планшет': 2, 'дорогой': 2, 'средний': 2, 'кухня': 2, 'пачка': 2, 'постоять': 2, 'вешить': 2, 'похудеть': 2, 'выбрать': 2, 'менять': 2, 'тихо': 2, 'громкий': 2, 'общительный': 2, 'закрыться': 2, 'заплакать': 2, 'выговориться': 2, 'совместный': 2, 'изначально': 2, 'наорать': 2, 'вмешиваться': 2, 'клетка': 2, 'снести': 2, 'кидать': 2, 'завалить': 2, 'отталкивать': 2, 'исповедаться': 2, 'срочно': 2, 'отпускать': 2, 'нос': 2, 'неоткуда': 2, 'ценить': 2, 'стен': 2, 'покой': 2, 'мысленно': 2, 'ложь': 2, 'супруга': 2, 'попробовать': 2, 'мужской': 2, 'фраза': 2, 'неловкий': 2, 'свадьба': 2, 'тайно': 2, 'трус': 2, 'например': 2, 'стандартный': 2, 'лиза': 2, 'кружка': 2, 'большинство': 2, 'максимум': 2, 'физика': 2, 'химия': 2, 'идиот': 2, 'социофоб': 2, 'жаль': 2, 'парта': 2, 'паника': 2, 'злость': 2, 'ярость': 2, 'цена': 2, 'безвыходный': 2, 'прогуливать': 2, 'побыть': 2, 'категорически': 2, 'пищевой': 2, 'расстройство': 2, 'вера': 2, 'зуб': 2, 'дорого': 2, 'переписываться': 2, 'май': 2, 'коллектив': 2, 'поесть': 2, 'ложиться': 2, 'един': 2, 'кирилл': 2, 'ориентация': 2, 'насилие': 2, 'пошло': 2, 'годами': 2, 'оскорбление': 2, 'гордость': 2, 'подавать': 2, 'метод': 2, 'негативный': 2, 'минус': 2, 'приводить': 2, 'весело': 2, 'ровесник': 2, 'начальный': 2, 'деревня': 2, 'ребята': 2, 'драться': 2, 'искренне': 2, 'убегать': 2, 'однажды': 2, 'бедность': 2, 'конечный': 2, 'второе': 2, 'вызов': 2, 'люба': 2, 'глупость': 2, 'наугад': 2, 'свалить': 2, 'особа': 2, 'разница': 2, 'топ': 2, 'выбор': 2, 'долгий': 2, 'секция': 2, 'мастер': 2, 'преподаватель': 2, 'провалить': 2, 'упадок': 2, 'принцип': 2, 'зачемтый': 2, 'пропустить': 2, 'молодость': 2, 'взаимность': 2, 'нечего': 2, 'свести': 2, 'шутить': 2, 'гораздо': 2, 'петь': 2, 'стучать': 2, 'аттестат': 2, 'семейный': 2, 'слышный': 2, 'тройка': 2, 'насчёт': 2, 'отличаться': 2, 'километр': 2, 'лето': 2, 'окей': 2, 'выкладывать': 2, 'заселить': 2, 'подружиться': 2, 'письмо': 2, 'напрямую': 2, 'мимо': 2, 'чудо': 2, 'женский': 2, 'шлюха': 2, 'дерьмо': 2, 'избить': 2, 'психушка': 2, 'творить': 2, 'вывод': 2, 'бюджетный': 2, 'зависеть': 2, 'вакуум': 2, 'стабильный': 2, 'низкий': 2, 'явно': 2, 'согласный': 2, 'метаюсь': 2, 'йорк': 2, 'флорида': 2, 'тревожность': 2, 'уволнять': 2, 'расход': 2, 'наладиться': 2, 'пьющий': 2, 'напиваться': 2, 'портить': 2, 'свидание': 2, 'воля': 2, 'жёсткий': 2, 'уволить': 2, 'решаться': 2, 'ругань': 2, 'шарахаться': 2, 'добивать': 2, 'спрятаться': 2, 'отдать': 2, 'очередной': 2, 'отчаяние': 2, 'хотяб': 2, 'почувствовать': 2, 'вс': 2, 'го': 2, 'поп': 2, 'дедуля': 2, 'мамин': 2, 'выписать': 2, 'навязать': 2, 'богатый': 2, 'золотой': 2, 'престижный': 2, 'успех': 2, 'замкнутость': 2, 'худеть': 2, 'некомфортно': 2, 'стена': 2, 'наполнить': 2, 'трата': 2, 'достигнуть': 2, 'придел': 2, 'финансовый': 2, 'когданибудь': 2, 'сократить': 2, 'доп': 2, 'гора': 2, 'количество': 2, 'ваш': 2, 'знак': 2, 'поругаться': 2, 'обвинять': 2, 'накопиться': 2, 'волос': 2, 'пожалеть': 2, 'длинный': 2, 'совершать': 2, 'рельс': 2, 'последствие': 2, 'стукнуть': 2, 'выгореть': 2, 'эмоционально': 2, 'короткий': 2, 'побороть': 2, 'голодать': 2, 'задание': 2, 'стремление': 2, 'стимул': 2, 'чеготь': 2, 'пофига': 2, 'разбить': 2, 'подработка': 2, 'неудачница': 2, 'банка': 2, 'пустить': 2, 'кожа': 2, 'бухать': 2, 'потеря': 2, 'саша': 2, 'ненормальный': 2, 'песнь': 2, 'придумывать': 2, 'естественно': 2, 'восстановиться': 2, 'доучиться': 2, 'сверстник': 2, 'максимально': 2, 'множество': 2, 'рад': 2, 'осуждение': 2, 'спина': 2, 'дерзить': 2, 'довести': 2, 'устный': 2, 'социум': 2, 'самовнушение': 2, 'сегодняшний': 2, 'поднимать': 2, 'разойтись': 2, 'болезненно': 2, 'завязать': 2, 'поступок': 2, 'выбирать': 2, 'провозить': 2, 'сидение': 2, 'клиент': 2, 'бестолковый': 2, 'какимтый': 2, 'мужик': 2, 'просвет': 2, 'пострадать': 2, 'психотерапевт': 2, 'атмосфера': 2, 'узбекистан': 2, 'соседка': 2, 'ухаживать': 2, 'верный': 2, 'воскресение': 2, 'парк': 2, 'замечательный': 2, 'неужели': 2, 'минута': 2, 'грустный': 2, 'дружный': 2, 'сбежать': 2, 'здоровый': 2, 'кемнибыть': 2, 'менее': 2, 'занизить': 2, 'сдержать': 2, 'отучиться': 2, 'затянуться': 2, 'идеально': 2, 'асоциальный': 2, 'убитый': 2, 'закапывать': 2, 'некрасивый': 2, 'приличный': 2, 'позор': 2, 'определиться': 2, 'будущий': 2, 'талант': 2, 'пожить': 2, 'снять': 2, 'жизненный': 2, 'ресурс': 2, 'навязчивый': 2, 'состоять': 2, 'полтора': 2, 'зеркало': 2, 'обучение': 2, 'тратить': 2, 'прогрессировать': 2, 'разрушить': 2, 'суть': 2, 'нытик': 2, 'близко': 2, 'разочаровать': 2, 'ктонибыть': 2, 'относительно': 2, 'встречать': 2, 'развести': 2, 'наложить': 2, 'смириться': 2, 'тупо': 2, 'записка': 2, 'хужий': 2, 'обратно': 2, 'сдача': 2, 'курить': 2, 'депресия': 2, 'строить': 2, 'финансы': 2, 'старое': 2, 'спин': 2, 'действительно': 2, 'инвалидность': 2, 'заболевание': 2, 'значение': 2, 'безумно': 2, 'эгоистичный': 2, 'мразь': 2, 'съесть': 2, 'эгоист': 2, 'запить': 2, 'переезжать': 2, 'стажировка': 2, 'дорогостыть': 2, 'выяснить': 2, 'враг': 2, 'шесть': 2, 'чужое': 2, 'сбивчивый': 2, 'поправиться': 2, 'расти': 2, 'футбол': 2, 'армия': 2, 'укол': 2, 'быстрый': 2, 'благодарный': 2, 'вылезти': 2, 'отчаяться': 2, 'отказать': 2, 'выносить': 2, 'кот': 2, 'остыть': 2, 'скромный': 2, 'неинтересный': 2, 'ущербный': 2, 'медсестра': 2, 'анализ': 2, 'гистология': 2, 'смена': 2, 'прекрасно': 2, 'лимоузел': 2, 'отговаривать': 2, 'настолько': 2, 'развиваться': 2, 'месть': 2, 'топовый': 2, 'предотвратить': 2, 'юля': 2, 'неожиданный': 2, 'доводить': 2, 'каторга': 2, 'якобы': 2, 'вода': 2, 'практический': 2, 'некогда': 2, 'стаж': 2, 'минимальный': 2, 'содержимый': 2, 'официально': 2, 'слабый': 2, 'задыхаться': 2, 'увезти': 2, 'исповедь': 2, 'пьянка': 2, 'переходный': 2, 'борьба': 2, 'периодама': 2, 'разнести': 2, 'этажный': 2, 'прислать': 2, 'конфета': 2, 'физрук': 2, 'наговарить': 2, 'позвонок': 2, 'артроз': 2, 'рота': 2, 'краска': 2, 'когдато': 1, 'романтик': 1, 'стремиться': 1, 'человечность': 1, 'фальший': 1, 'суррогатный': 1, 'дружба': 1, 'непонятный': 1, 'достаточный': 1, 'достаток': 1, 'кусочек': 1, 'усилие': 1, 'возить': 1, 'недоплачивать': 1, 'тщетно': 1, 'бессмысленно': 1, 'прочувствовать': 1, 'каков': 1, 'дизнь': 1, 'безсмысленный': 1, 'безпросветный': 1, 'пытвться': 1, 'мёртвый': 1, 'всез': 1, 'пошатнуться': 1, 'медленно': 1, 'безсмысленно': 1, 'чей': 1, 'забывать': 1, 'испрвиться': 1, 'попадать': 1, 'чувтвовал': 1, 'отпраситься': 1, 'разрешить': 1, 'перелом': 1, 'голень': 1, 'зашить': 1, 'рана': 1, 'ровно': 1, 'выставить': 1, 'осень': 1, 'искревиться': 1, 'ноо': 1, 'печать': 1, 'остемелита': 1, 'трость': 1, 'обезянка': 1, 'зоопарк': 1, 'сторониться': 1, 'уделять': 1, 'выпремлять': 1, 'натереть': 1, 'мазоль': 1, 'вспомнить': 1, 'еслиб': 1, 'суедцида': 1, 'нагрешить': 1, 'зпрра': 1, 'аутичный': 1, 'гиперактивность': 1, 'крушить': 1, 'др': 1, 'штаны': 1, 'пол': 1, 'размазывать': 1, 'раба': 1, 'торт': 1, 'печь': 1, 'температура': 1, 'внук': 1, 'обращение': 1, 'парикмахерский': 1, 'прогулка': 1, 'аромаванна': 1, 'кафе': 1, 'вышивание': 1, 'тоннель': 1, 'подводить': 1, 'вопить': 1, 'обслужить': 1, 'налить': 1, 'вкусно': 1, 'убраться': 1, 'свекровь': 1, 'вопль': 1, 'пальчик': 1, 'ткнуть': 1, 'отходить': 1, 'даба': 1, 'травмировать': 1, 'задолжать': 1, 'наверняка': 1, 'общиться': 1, 'китаец': 1, 'прифотошопить': 1, 'взамен': 1, 'камера': 1, 'скрин': 1, 'оттуда': 1, 'грозиться': 1, 'верхний': 1, 'туловище': 1, 'однокласснка': 1, 'голый': 1, 'возвращиться': 1, 'игнора': 1, 'бра': 1, 'отмениться': 1, 'косметолог': 1, 'описывать': 1, 'поражение': 1, 'жечь': 1, 'отечь': 1, 'провисание': 1, 'ткань': 1, 'студентка': 1, 'насыщенный': 1, 'сдвинуться': 1, 'ри': 1, 'дышать': 1, 'запутаться': 1, 'новогодний': 1, 'выявить': 1, 'язва': 1, 'зажить': 1, 'прописать': 1, 'входить': 1, 'подреберье': 1, 'ребро': 1, 'плечё': 1, 'гэрба': 1, 'панкреатит': 1, 'подтвердиться': 1, 'целиакий': 1, 'переносимость': 1, 'глютен': 1, 'диабет': 1, 'странно': 1, 'тощак': 1, 'соблюдать': 1, 'питаться': 1, 'обезболивать': 1, 'доверчивый': 1, 'наивный': 1, 'оберегать': 1, 'чрезмерно': 1, 'опекать': 1, 'строгий': 1, 'побои': 1, 'сохранить': 1, 'подчиняться': 1, 'поначалу': 1, 'мила': 1, 'спаивать': 1, 'распространять': 1, 'соображать': 1, 'изнасиловать': 1, 'глодетый': 1, 'блудный': 1, 'ночевать': 1, 'картина': 1, 'выплакаться': 1, 'девственно': 1, 'ппоблема': 1, 'суицидальный': 1, 'грязь': 1, 'хронически': 1, 'двор': 1, 'насмехаться': 1, 'обзываться': 1, 'игнорить': 1, 'травить': 1, 'слабак': 1, 'кл': 1, 'рукопашка': 1, 'покрепче': 1, 'запустить': 1, 'ботан': 1, 'подшучивать': 1, 'замкнуться': 1, 'фильм': 1, 'маленько': 1, 'дворник': 1, 'лагер': 1, 'вожатый': 1, 'невезение': 1, 'шиш': 1, 'книжный': 1, 'сработаться': 1, 'начальница': 1, 'торопиться': 1, 'суетиться': 1, 'вписываться': 1, 'неуклюжий': 1, 'медлительный': 1, 'пинать': 1, 'завал': 1, 'стресс': 1, 'изнеможение': 1, 'скучно': 1, 'людный': 1, 'неряшливый': 1, 'отсутсвовать': 1, 'половый': 1, 'влечение': 1, 'издавать': 1, 'печально': 1, 'зависимый': 1, 'ласа': 1, 'вегас': 1, 'игоала': 1, 'зарекалиться': 1, 'микрозаём': 1, 'капать': 1, 'прирывно': 1, 'втянуть': 1, 'кабала': 1, 'успокоительный': 1, 'скачить': 1, 'окружать': 1, 'аутсайдер': 1, 'отдушина': 1, 'малодушие': 1, 'покидать': 1, 'однокласнник': 1, 'веселиться': 1, 'запасный': 1, 'довериться': 1, 'отдаться': 1, 'воспоминание': 1, 'спрявлиться': 1, 'задача': 1, 'скандалить': 1, 'мамка': 1, 'малое': 1, 'флегматик': 1, 'холерик': 1, 'готовить': 1, 'выпекать': 1, 'питер': 1, 'ян': 1, 'краснодар': 1, 'переболеть': 1, 'перепад': 1, 'капля': 1, 'привычка': 1, 'караулить': 1, 'непонимающий': 1, 'дёргаться': 1, 'нагрубить': 1, 'завязаться': 1, 'татуировка': 1, 'кормить': 1, 'приёмный': 1, 'условие': 1, 'равнодушный': 1, 'удариться': 1, 'религия': 1, 'фанатичка': 1, 'потратить': 1, 'воспитание': 1, 'зблизиться': 1, 'з': 1, 'конный': 1, 'вылечиться': 1, 'духовный': 1, 'целоваться': 1, 'затолкать': 1, 'фонтан': 1, 'сближаться': 1, 'презерватив': 1, 'склонять': 1, 'завязывать': 1, 'заботиться': 1, 'ленивый': 1, 'хаос': 1, 'стоять': 1, 'мытый': 1, 'везде': 1, 'срач': 1, 'разобраться': 1, 'ной': 1, 'классный': 1, 'разложить': 1, 'реально': 1, 'навевать': 1, 'уход': 1, 'слепота': 1, 'ухудшаться': 1, 'разводить': 1, 'цепляться': 1, 'навредить': 1, 'рекомендовать': 1, 'показатель': 1, 'родня': 1, 'правительство': 1, 'расчитывать': 1, 'слепой': 1, 'приспособиться': 1, 'распутие': 1, 'призадуматься': 1, 'неверующий': 1, 'ерунда': 1, 'рай': 1, 'захерей': 1, 'смертный': 1, 'приговор': 1, 'одночасье': 1, 'полуторогодовой': 1, 'далеко': 1, 'выдавать': 1, 'тяжкий': 1, 'статья': 1, 'разбой': 1, 'тюрьма': 1, 'игроман': 1, 'врун': 1, 'наврать': 1, 'вор': 1, 'украсть': 1, 'руководящий': 1, 'перспектива': 1, 'перекос': 1, 'вполне': 1, 'пополнять': 1, 'отыгрываться': 1, 'закрывать': 1, 'воровать': 1, 'снимать': 1, 'крупный': 1, 'разрывать': 1, 'неладный': 1, 'золото': 1, 'ломбард': 1, 'вскрыться': 1, 'подставить': 1, 'вынести': 1, 'бесцельный': 1, 'извинить': 1, 'помагать': 1, 'помагай': 1, 'спасть': 1, 'соня': 1, 'подружка': 1, 'собака': 1, 'пикинес': 1, 'сыночек': 1, 'борщ': 1, 'мясо': 1, 'побегушки': 1, 'мена': 1, 'парный': 1, 'бесить': 1, 'задержаться': 1, 'сказло': 1, 'лазить': 1, 'черещ': 1, 'поламаленький': 1, 'согнуть': 1, 'покупать': 1, 'игрушка': 1, 'двоюродный': 1, 'двой': 1, 'валить': 1, 'интернат': 1, 'втроём': 1, 'иидти': 1, 'сожмаканый': 1, 'сигарета': 1, 'высказаться': 1, 'молодец': 1, 'дверь': 1, 'пройда': 1, 'килограмм': 1, 'сфера': 1, 'зажать': 1, 'стеснение': 1, 'рушиться': 1, 'застрять': 1, 'детсва': 1, 'задеть': 1, 'осанка': 1, 'выпячивать': 1, 'вперёд': 1, 'исправлять': 1, 'превратить': 1, 'громко': 1, 'университетский': 1, 'стыдиться': 1, 'стоматологический': 1, 'левый': 1, 'воспаление': 1, 'выкорабкаться': 1, 'лечебный': 1, 'запугивать': 1, 'кран': 1, 'перекрыть': 1, 'х': 1, 'поселить': 1, 'однокомнатный': 1, 'названивать': 1, 'башня': 1, 'прилипать': 1, 'банный': 1, 'вызывающий': 1, 'падать': 1, 'сорвать': 1, 'отселить': 1, 'закрываться': 1, 'крючок': 1, 'попить': 1, 'схватить': 1, 'отцепиться': 1, 'надавить': 1, 'хрустнуть': 1, 'перегородка': 1, 'сотрясение': 1, 'дрянь': 1, 'военный': 1, 'оперо': 1, 'справедливый': 1, 'упереться': 1, 'биться': 1, 'глодать': 1, 'бесцельно': 1, 'вероятно': 1, 'навык': 1, 'ангел': 1, 'сотворить': 1, 'нехороший': 1, 'очевидно': 1, 'нечто': 1, 'сжалиться': 1, 'даровать': 1, 'никчёмность': 1, 'днём': 1, 'обмен': 1, 'молчание': 1, 'побить': 1, 'пёс': 1, 'опустить': 1, 'рвать': 1, 'метать': 1, 'клок': 1, 'затупка': 1, 'прыжок': 1, 'парашют': 1, 'обыденный': 1, 'одногруппник': 1, 'конкретно': 1, 'информатика': 1, 'программист': 1, 'говно': 1, 'чтотчеловек': 1, 'оценивать': 1, 'сбиваться': 1, 'сентиментальный': 1, 'сдохнуть': 1, 'приять': 1, 'прикасаться': 1, 'актриса': 1, 'надевать': 1, 'маска': 1, 'жалость': 1, 'ощутить': 1, 'перетекть': 1, 'гнев': 1, 'опьянение': 1, 'теннис': 1, 'рыбный': 1, 'спрос': 1, 'мфо': 1, 'снежный': 1, 'каждодневный': 1, 'недин': 1, 'наглотаться': 1, 'подготовиться': 1, 'идея': 1, 'ящик': 1, 'включаться': 1, 'инстинкт': 1, 'самосохранение': 1, 'будуть': 1, 'подливать': 1, 'огонь': 1, 'вырывать': 1, 'слабительное': 1, 'буд': 1, 'выдумывать': 1, 'толчок': 1, 'наругать': 1, 'сформулировать': 1, 'очаг': 1, 'мимолётный': 1, 'вылечить': 1, 'идеал': 1, 'собрать': 1, 'жалкий': 1, 'ненужность': 1, 'сломить': 1, 'избегать': 1, 'впасть': 1, 'задержка': 1, 'зп': 1, 'просыпать': 1, 'накручивать': 1, 'выплачивать': 1, 'двигать': 1, 'антидепрессант': 1, 'гей': 1, 'нетрадиционный': 1, 'гомофоб': 1, 'отдалиться': 1, 'заполнить': 1, 'амоубийство': 1, 'неблагодарный': 1, 'выспаться': 1, 'оглядываться': 1, 'туннель': 1, 'уменьшаться': 1, 'вымышленный': 1, 'свидетельство': 1, 'вахтовый': 1, 'настроить': 1, 'настраивать': 1, 'влияние': 1, 'детка': 1, 'обожать': 1, 'ясный': 1, 'расцеловый': 1, 'носиться': 1, 'нежность': 1, 'обнимать': 1, 'утрата': 1, 'ставка': 1, 'кошелёк': 1, 'карта': 1, 'микрон': 1, 'погасить': 1, 'уточнить': 1, 'переводить': 1, 'мес': 1, 'легенда': 1, 'отдалённый': 1, 'утроба': 1, 'обмотать': 1, 'пуповина': 1, 'трижды': 1, 'рассекать': 1, 'скальп': 1, 'неосознанно': 1, 'отказываться': 1, 'музыкальный': 1, 'здание': 1, 'обед': 1, 'муза': 1, 'рисковать': 1, 'лишиться': 1, 'льдина': 1, 'бизнес': 1, 'босяк': 1, 'обнаружиться': 1, 'олимпиада': 1, 'пробиться': 1, 'уровень': 1, 'выше': 1, 'областной': 1, 'переломный': 1, 'сельский': 1, 'семестр': 1, 'прогул': 1, 'точный': 1, 'наука': 1, 'физик': 1, 'пту': 1, 'заявление': 1, 'харьков': 1, 'хпи': 1, 'параллельный': 1, 'раздумье': 1, 'мотивировать': 1, 'фигня': 1, 'бороть': 1, 'изучать': 1, 'поздороваться': 1, 'чемулибо': 1, 'удивиться': 1, 'исследовательский': 1, 'мизерный': 1, 'забыться': 1, 'патент': 1, 'фирмаработодатель': 1, 'приставать': 1, 'нервотрёпка': 1, 'чу': 1, 'наибольший': 1, 'руководствоваться': 1, 'ранее': 1, 'защититься': 1, 'арма': 1, 'норма': 1, 'выступать': 1, 'юниор': 1, 'ключевой': 1, 'эдакий': 1, 'степной': 1, 'волк': 1, 'безденежье': 1, 'довольствоваться': 1, 'замотивировать': 1, 'счёты': 1, 'пик': 1, 'взаимно': 1, 'выключить': 1, 'раскованный': 1, 'оскорбить': 1, 'дерзко': 1, 'неуверенно': 1, 'автошкола': 1, 'гибдд': 1, 'прямой': 1, 'какомнибудь': 1, 'намекнуть': 1, 'какбудтый': 1, 'похоже': 1, 'мероприятие': 1, 'ресторан': 1, 'приглашать': 1, 'помощник': 1, 'тренер': 1, 'возлюбить': 1, 'шевелюра': 1, 'губа': 1, 'стол': 1, 'вывозить': 1, 'кстати': 1, 'литература': 1, 'стихнуть': 1, 'сравнить': 1, 'есенин': 1, 'маяковский': 1, 'стихотворный': 1, 'сочинение': 1, 'впечатлить': 1, 'готовиться': 1, 'ближний': 1, 'попасться': 1, 'технический': 1, 'профиль': 1, 'привязаться': 1, 'виртуальный': 1, 'параллельно': 1, 'настать': 1, 'заселение': 1, 'собрание': 1, 'неловко': 1, 'первокурсник': 1, 'необоснованный': 1, 'продумать': 1, 'деталь': 1, 'почта': 1, 'сработать': 1, 'метафора': 1, 'затаиться': 1, 'укромный': 1, 'тихий': 1, 'прилив': 1, 'шутник': 1, 'болезненный': 1, 'картинка': 1, 'вызывать': 1, 'чёмтый': 1, 'шутливо': 1, 'болтать': 1, 'охота': 1, 'подругий': 1, 'обретать': 1, 'одновременно': 1, 'интернетподруга': 1, 'аха': 1, 'мм': 1, 'ясно': 1, 'сталкиваться': 1, 'кусок': 1, 'заступаться': 1, 'публично': 1, 'симпатия': 1, 'находить': 1, 'нежели': 1, 'недоверие': 1, 'дада': 1, 'иной': 1, 'предвзятый': 1, 'порыв': 1, 'издевательство': 1, 'открыто': 1, 'уродливый': 1, 'подвести': 1, 'юра': 1, 'такси': 1, 'семной': 1, 'застраховать': 1, 'саий': 1, 'пмс': 1, 'месячний': 1, 'гормон': 1, 'скакать': 1, 'декабрь': 1, 'незаконченный': 1, 'одолевать': 1, 'винил': 1, 'фактор': 1, 'бракованый': 1, 'проблемный': 1, 'штат': 1, 'осесть': 1, 'йока': 1, 'стрессовый': 1, 'остепениться': 1, 'логопед': 1, 'бакалавр': 1, 'мера': 1, 'силный': 1, 'чут': 1, 'болш': 1, 'разнить': 1, 'опаздывать': 1, 'вообш': 1, 'копеечний': 1, 'серьозный': 1, 'обеспеченний': 1, 'персональный': 1, 'аномальный': 1, 'паталогический': 1, 'возле': 1, 'удобство': 1, 'нормаьный': 1, 'понизиться': 1, 'которкий': 1, 'расстройсвый': 1, 'людмить': 1, 'детстким': 1, 'увольнять': 1, 'испортиться': 1, 'старость': 1, 'запойный': 1, 'пянки': 1, 'повлиять': 1, 'випивать': 1, 'вечеринка': 1, 'силно': 1, 'постепенно': 1, 'короткосрочный': 1, 'пьянство': 1, 'подпортить': 1, 'генетика': 1, 'полность': 1, 'работить': 1, 'выматывать': 1, 'сайт': 1, 'нестабильный': 1, 'полукочевой': 1, 'конфликть': 1, 'обшалася': 1, 'месяцами': 1, 'имета': 1, 'храбрость': 1, 'наступать': 1, 'непринуждённо': 1, 'сглаз': 1, 'вылизать': 1, 'кровать': 1, 'отчудить': 1, 'ладан': 1, 'слащавый': 1, 'разнос': 1, 'оправдывать': 1, 'короб': 1, 'общаетс': 1, 'игнорита': 1, 'холодный': 1, 'еинуть': 1, 'разгребать': 1, 'созваниваться': 1, 'безумный': 1, 'вырвать': 1, 'вытирать': 1, 'программа': 1, 'адский': 1, 'вышка': 1, 'хозяин': 1, 'предшествовать': 1, 'неприятный': 1, 'изматывать': 1, 'стойка': 1, 'бессоница': 1, 'расшататься': 1, 'степень': 1, 'апатичный': 1, 'ухудшиться': 1, 'умница': 1, 'старушка': 1, 'надломить': 1, 'неуметь': 1, 'существо': 1, 'чувствоваться': 1, 'прива': 1, 'бол': 1, 'р': 1, 'артрит': 1, 'замучали': 1, 'восстанавливаться': 1, 'сли': 1, 'словно': 1, 'западна': 1, 'выздоровть': 1, 'ния': 1, 'рю': 1, 'нич': 1, 'й': 1, 'мож': 1, 'ловко': 1, 'движ': 1, 'травмироваться': 1, 'расстягиваться': 1, 'пр': 1, 'вратиться': 1, 'мн': 1, 'нии': 1, 'нь': 1, 'хват': 1, 'амин': 1, 'воспитать': 1, 'линия': 1, 'кормилец': 1, 'опора': 1, 'бабуличка': 1, 'диагностировать': 1, 'инвалидный': 1, 'кресло': 1, 'адвидеть': 1, 'мучаетсяэтый': 1, 'делёжка': 1, 'выселять': 1, 'сопротивляться': 1, 'откреститься': 1, 'отписать': 1, 'миллионер': 1, 'недвижимость': 1, 'вмосква': 1, 'прага': 1, 'молодёжь': 1, 'мытарство': 1, 'теплота': 1, 'речь': 1, 'губернаторский': 1, 'стипендиат': 1, 'победа': 1, 'служба': 1, 'рассчитаться': 1, 'засосать': 1, 'дорожить': 1, 'выкинуть': 1, 'проявлять': 1, 'остановка': 1, 'брюки': 1, 'юбка': 1, 'кофта': 1, 'коситься': 1, 'мозги': 1, 'сжиматься': 1, 'видти': 1, 'трепетно': 1, 'любовьк': 1, 'развиться': 1, 'осложнение': 1, 'ет': 1, 'замужний': 1, 'деть': 1, 'разрешать': 1, 'смериться': 1, 'славянка': 1, 'национальность': 1, 'связать': 1, 'толстеть': 1, 'сриваться': 1, 'зомби': 1, 'любовница': 1, 'позорить': 1, 'избавить': 1, 'гнобиль': 1, 'вне': 1, 'отговорка': 1, 'безуспешно': 1, 'влад': 1, 'бессмысленный': 1, 'тридцать': 1, 'какоготь': 1, 'повеситься': 1, 'повторять': 1, 'поностоящий': 1, 'обрушиться': 1, 'несчастие': 1, 'подсказать': 1, 'будить': 1, 'клинический': 1, 'предыстория': 1, 'ограничиться': 1, 'онкология': 1, 'влесть': 1, 'доход': 1, 'премия': 1, 'бонус': 1, 'диана': 1, 'вы': 1, 'мужественный': 1, 'осмысленно': 1, 'форум': 1, 'дочька': 1, 'брата': 1, 'подраться': 1, 'гемотом': 1, 'папасть': 1, 'поболеть': 1, 'папинный': 1, 'завута': 1, 'вылесть': 1, 'вголов': 1, 'лезита': 1, 'стоко': 1, 'игорь': 1, 'партнёр': 1, 'хранить': 1, 'связаный': 1, 'ругать': 1, 'линейка': 1, 'рост': 1, 'пышный': 1, 'кудрявый': 1, 'карий': 1, 'тетрада': 1, 'фало': 1, 'гребанный': 1, 'проффесия': 1, 'мерзкий': 1, 'обидчивый': 1, 'обижаться': 1, 'задрот': 1, 'передозом': 1, 'душ': 1, 'растоптать': 1, 'воевать': 1, 'потерянный': 1, 'отразиться': 1, 'подставлять': 1, 'руководитель': 1, 'стоялый': 1, 'клеиться': 1, 'банально': 1, 'подсознательный': 1, 'рефлекс': 1, 'команда': 1, 'сбросить': 1, 'скорость': 1, 'нажать': 1, 'педаль': 1, 'тормоз': 1, 'прочитать': 1, 'гордиться': 1, 'красный': 1, 'отшить': 1, 'доучиваться': 1, 'даун': 1, 'учёный': 1, 'оплата': 1, 'предыдущий': 1, 'напрячь': 1, 'окупиться': 1, 'одиночка': 1, 'привыкать': 1, 'затягивать': 1, 'потребность': 1, 'исходить': 1, 'везение': 1, 'базовый': 1, 'параметр': 1, 'поиграть': 1, 'смертельный': 1, 'превозмочь': 1, 'прогореть': 1, 'вдобавок': 1, 'заказчик': 1, 'срезать': 1, 'погрузка': 1, 'переноска': 1, 'просрочка': 1, 'подорвать': 1, 'провоцировать': 1, 'супруг': 1, 'задуматься': 1, 'заложить': 1, 'коекакий': 1, 'страховка': 1, 'храм': 1, 'местный': 1, 'батюшкефарися': 1, 'сознание': 1, 'временами': 1, 'убеждаться': 1, 'обязательство': 1, 'подросток': 1, 'заинька': 1, 'велик': 1, 'ноут': 1, 'пицца': 1, 'вафля': 1, 'хлеб': 1, 'суп': 1, 'барин': 1, 'вынуть': 1, 'постирать': 1, 'блюдечко': 1, 'прислуга': 1, 'бедный': 1, 'офис': 1, 'необъятный': 1, 'лентяйка': 1, 'сочувствовать': 1, 'упрекнуть': 1, 'шмотки': 1, 'шить': 1, 'переделать': 1, 'таскать': 1, 'студия': 1, 'живопись': 1, 'ограбить': 1, 'тяжба': 1, 'отёк': 1, 'эпилепсия': 1, 'унизительно': 1, 'мерзко': 1, 'припадок': 1, 'презрительно': 1, 'кривиться': 1, 'наркоманка': 1, 'денис': 1, 'выслушать': 1, 'кредитор': 1, 'сравнимый': 1, 'подавленность': 1, 'награн': 1, 'поминать': 1, 'сопутствовать': 1, 'ося': 1, 'предпринемалый': 1, 'закон': 1, 'учёт': 1, 'втыкать': 1, 'ухо': 1, 'наушник': 1, 'сбить': 1, 'поезд': 1, 'музыкант': 1, 'исполнитель': 1, 'отмахиваться': 1, 'ментальный': 1, 'некий': 1, 'псих': 1, 'убеждать': 1, 'психиатр': 1, 'записываться': 1, 'отпираться': 1, 'блат': 1, 'заочный': 1, 'объективно': 1, 'заочко': 1, 'косой': 1, 'взгляд': 1, 'отправиться': 1, 'переезд': 1, 'сменить': 1, 'сеять': 1, 'изнутри': 1, 'тосё': 1, 'ничерта': 1, 'ожидаться': 1, 'списывать': 1, 'решебник': 1, 'основной': 1, 'выдавить': 1, 'понятие': 1, 'взахлёб': 1, 'шкаф': 1, 'давка': 1, 'травля': 1, 'пояснить': 1, 'неконтролируемый': 1, 'крайне': 1, 'раздражительный': 1, 'перепробовать': 1, 'психотренинг': 1, 'юлить': 1, 'приспособить': 1, 'недельный': 1, 'запой': 1, 'деспотичный': 1, 'гражданский': 1, 'втайне': 1, 'разочароваться': 1, 'езжать': 1, 'неряха': 1, 'боязнь': 1, 'чтолибо': 1, 'загнать': 1, 'проходная': 1, 'балл': 1, 'тащиться': 1, 'садиться': 1, 'быт': 1, 'продержаться': 1, 'бездумно': 1, 'экран': 1, 'монитор': 1, 'кров': 1, 'питание': 1, 'развлечение': 1, 'удовлетворённость': 1, 'зажраться': 1, 'совесть': 1, 'энтузиазм': 1, 'бездумный': 1, 'компьютер': 1, 'увлекаться': 1, 'лингвистика': 1, 'неинтересно': 1, 'метаться': 1, 'сурок': 1, 'юридический': 1, 'круговой': 1, 'порука': 1, 'раздробление': 1, 'стройка': 1, 'коляска': 1, 'замена': 1, 'стакан': 1, 'одурь': 1, 'петлить': 1, 'впечатление': 1, 'приковать': 1, 'заговор': 1, 'алиментщик': 1, 'долбиться': 1, 'гранитный': 1, 'скал': 1, 'иждивенец': 1, 'поплакать': 1, 'получаеться': 1, 'увереный': 1, 'закомплексованный': 1, 'батюшка': 1, 'разбитый': 1, 'нигативный': 1, 'призирать': 1, 'основание': 1, 'россия': 1, 'нищета': 1, 'гражданство': 1, 'перезвонить': 1, 'востанавливаться': 1, 'небыть': 1, 'красиво': 1, 'букет': 1, 'цветок': 1, 'предложение': 1, 'однолюб': 1, 'суббота': 1, 'пригласить': 1, 'настоять': 1, 'цвета': 1, 'занервничать': 1, 'отойти': 1, 'велосипед': 1, 'кататься': 1, 'переминил': 1, 'удар': 1, 'пустовать': 1, 'экспасивный': 1, 'спиться': 1, 'напряжение': 1, 'отдохнуть': 1, 'весна': 1, 'истерек': 1, 'опасный': 1, 'нерный': 1, 'сдерживаться': 1, 'срывать': 1, 'зло': 1, 'посыл': 1, 'направление': 1, 'порадовать': 1, 'телевизор': 1, 'благой': 1, 'глядеть': 1, 'сорваться': 1, 'отличный': 1, 'чудесный': 1, 'деться': 1, 'ситуции': 1, 'избавиться': 1, 'всвязь': 1, 'случается': 1, 'какаянибудь': 1, 'силой': 1, 'поджидать': 1, 'сконцентрироваться': 1, 'внебюджет': 1, 'осилить': 1, 'унывать': 1, 'сдружиться': 1, 'схожий': 1, 'организоваться': 1, 'группка': 1, 'придерживаться': 1, 'стадо': 1, 'унижаться': 1, 'туго': 1, 'огэ': 1, 'поугорать': 1, 'контрольный': 1, 'убедиться': 1, 'валенок': 1, 'сесть': 1, 'прелесть': 1, 'договорить': 1, 'виднеться': 1, 'среднее': 1, 'отплатить': 1, 'прыщ': 1, 'неполноценность': 1, 'стыдяться': 1, 'зажатость': 1, 'школьник': 1, 'влезать': 1, 'буйный': 1, 'познакомить': 1, 'набраться': 1, 'студенческий': 1, 'алкашка': 1, 'твориться': 1, 'головеэтый': 1, 'невротикперфекционистидеалист': 1, 'выложиться': 1, 'погружаться': 1, 'глупалкоголь': 1, 'периодлишиться': 1, 'измотать': 1, 'нехватка': 1, 'братьевсестереть': 1, 'элементоммна': 1, 'зарыться': 1, 'глубоко': 1, 'периодически': 1, 'ниоткуда': 1, 'лошадь': 1, 'невротик': 1, 'пороховой': 1, 'бочка': 1, 'добить': 1, 'пузырь': 1, 'терпение': 1, 'лопнуть': 1, 'унизить': 1, 'встречный': 1, 'полюбома': 1, 'выходитьот': 1, 'встретиться': 1, 'наблюдать': 1, 'дикийпозор': 1, 'манер': 1, 'пацанок': 1, 'алкоголизм': 1, 'приключение': 1, 'многолетний': 1, 'синь': 1, 'лавочка': 1, 'поломать': 1, 'питие': 1, 'переводчик': 1, 'повесить': 1, 'наша': 1, 'выростить': 1, 'совмещать': 1, 'развлечь': 1, 'успевать': 1, 'затягиваться': 1, 'таков': 1, 'обеспечить': 1, 'бездарность': 1, 'правильно': 1, 'мыслить': 1, 'внезапно': 1, 'худощавый': 1, 'телосложение': 1, 'насмешка': 1, 'недолюбливать': 1, 'физкультура': 1, 'увы': 1, 'решаютмень': 1, 'прикалывиться': 1, 'убежище': 1, 'реж': 1, 'контакт': 1, 'чс': 1, 'знакомить': 1, 'подрабатывать': 1, 'государственный': 1, 'обвинение': 1, 'драка': 1, 'ворваться': 1, 'юношеский': 1, 'подселить': 1, 'разрыв': 1, 'поанглийски': 1, 'попращаться': 1, 'педик': 1, 'зно': 1, 'париться': 1, 'россиянин': 1, 'кино': 1, 'пивко': 1, 'кумар': 1, 'оживлённый': 1, 'беседа': 1, 'отдельно': 1, 'соскучиться': 1, 'задница': 1, 'территория': 1, 'съезжать': 1, 'тыл': 1, 'прикрыть': 1, 'податься': 1, 'общага': 1, 'офисный': 1, 'тр': 1, 'оправиться': 1, 'мышление': 1, 'позитивный': 1, 'праведный': 1, 'фриланс': 1, 'требовать': 1, 'таракан': 1, 'позыв': 1, 'останавливаться': 1, 'метр': 1, 'дядька': 1, 'миг': 1, 'зомбичеловек': 1, 'трястись': 1, 'бешено': 1, 'болячка': 1, 'неизвестность': 1, 'успешный': 1, 'предприниматель': 1, 'высокомерие': 1, 'наёмный': 1, 'работник': 1, 'оборот': 1, 'десятка': 1, 'удачливый': 1, 'карман': 1, 'вспоминвить': 1, 'смешно': 1, 'выполнение': 1, 'лицей': 1, 'опустошить': 1, 'вымотать': 1, 'обилие': 1, 'шум': 1, 'наносить': 1, 'чёмной': 1, 'кадиться': 1, 'весёлый': 1, 'мнение': 1, 'хочерться': 1, 'волочить': 1, 'проспосабливаться': 1, 'ухучшение': 1, 'работный': 1, 'нескать': 1, 'просветление': 1, 'сбыться': 1, 'андрей': 1, 'нелюбимый': 1, 'замёрзнуть': 1, 'беременность': 1, 'изложить': 1, 'воспитываться': 1, 'разрешаться': 1, 'отпор': 1, 'слабачка': 1, 'ныть': 1, 'вели': 1, 'оправдать': 1, 'одобрение': 1, 'смертельно': 1, 'боец': 1, 'наедине': 1, 'сумбурно': 1, 'факт': 1, 'приглушить': 1, 'нелепый': 1, 'переложить': 1, 'ответственность': 1, 'пинок': 1, 'зад': 1, 'разозлиться': 1, 'близиться': 1, 'катастрофа': 1, 'уверенность': 1, 'трудолюбие': 1, 'записаться': 1, 'способность': 1, 'неудобно': 1, 'излишество': 1, 'мор': 1, 'основный': 1, 'тёплый': 1, 'доверительный': 1, 'позиция': 1, 'жертва': 1, 'потенциально': 1, 'интимный': 1, 'поразвлечься': 1, 'раствориться': 1, 'выучиться': 1, 'выстроить': 1, 'загс': 1, 'крошка': 1, 'болото': 1, 'ладиться': 1, 'техникум': 1, 'слабослышащий': 1, 'аппарат': 1, 'дойти': 1, 'значит': 1, 'автомеханик': 1, 'расслабиться': 1, 'исправиться': 1, 'чувсвтуй': 1, 'отчисление': 1, 'перевернуть': 1, 'акцент': 1, 'татарин': 1, 'учебный': 1, 'заведение': 1, 'смышлёный': 1, 'сергей': 1, 'богдан': 1, 'захотеть': 1, 'поплатиться': 1, 'скитаться': 1, 'непонятно': 1, 'удивительно': 1, 'употреблять': 1, 'усилиться': 1, 'одинаково': 1, 'безчуственый': 1, 'ублюдок': 1, 'специально': 1, 'шутка': 1, 'смешной': 1, 'конченый': 1, 'самокопание': 1, 'недостаток': 1, 'побиться': 1, 'построить': 1, 'менеджер': 1, 'продавец': 1, 'хать': 1, 'кушать': 1, 'худать': 1, 'мина': 1, 'угробить': 1, 'раздражительность': 1, 'усугублять': 1, 'натерпеться': 1, 'настрадаться': 1, 'нежелание': 1, 'олна': 1, 'материально': 1, 'погрязнуть': 1, 'мальчишка': 1, 'игнорировать': 1, 'зал': 1, 'бестолк': 1, 'чтение': 1, 'казаться': 1, 'лечь': 1, 'когонибудь': 1, 'паспорт': 1, 'напряжённость': 1, 'отношень': 1, 'дожить': 1, 'исполниться': 1, 'постараться': 1, 'впадать': 1, 'крайность': 1, 'итеперь': 1, 'нагнетать': 1, 'укор': 1, 'суицидный': 1, 'глупец': 1, 'бомж': 1, 'типо': 1, 'дурно': 1, 'горошо': 1, 'живой': 1, 'дурка': 1, 'толкнуть': 1, 'сдержаться': 1, 'уезжать': 1, 'отчётливо': 1, 'отъезд': 1, 'голод': 1, 'запах': 1, 'перегар': 1, 'беспокойство': 1, 'непутёвый': 1, 'фармацевт': 1, 'аптека': 1, 'заставляють': 1, 'раскручивать': 1, 'препарат': 1, 'вымыгать': 1, 'мо': 1, 'обучить': 1, 'основа': 1, 'трудиться': 1, 'абуза': 1, 'отвратный': 1, 'грош': 1, 'естество': 1, 'превозмогание': 1, 'намеренный': 1, 'гнилой': 1, 'тяготить': 1, 'этап': 1, 'разочарование': 1, 'добавить': 1, 'натолкнуть': 1, 'прокручивать': 1, 'навстречу': 1, 'следствие': 1, 'излишний': 1, 'назойливый': 1, 'сообщать': 1, 'педагог': 1, 'индивидуальный': 1, 'мастеркласса': 1, 'аранжировать': 1, 'исподнять': 1, 'сольно': 1, 'прилюдно': 1, 'затишье': 1, 'написание': 1, 'прозаический': 1, 'миниатюра': 1, 'удовлетворение': 1, 'активно': 1, 'опускаться': 1, 'фотография': 1, 'рисунок': 1, 'моделирование': 1, 'музыка': 1, 'проза': 1, 'соответствующий': 1, 'загонять': 1, 'ласка': 1, 'грузить': 1, 'каменный': 1, 'тревожить': 1, 'текст': 1, 'освободить': 1, 'поддержание': 1, 'продуктивный': 1, 'оптимистичный': 1, 'наградить': 1, 'безработный': 1, 'шустрый': 1, 'увольняться': 1, 'шустро': 1, 'тяжесть': 1, 'мыло': 1, 'чувствала': 1, 'неудачницать': 1, 'рождаться': 1, 'передаться': 1, 'доставить': 1, 'финансова': 1, 'заветный': 1, 'смелость': 1, 'тобиш': 1, 'родственик': 1, 'калорийность': 1, 'анорексия': 1, 'больной': 1, 'калория': 1, 'чёртов': 1, 'какимнибудь': 1, 'просьба': 1, 'лежалый': 1, 'прилетать': 1, 'окончание': 1, 'судимость': 1, 'условный': 1, 'незадоэлго': 1, 'летие': 1, 'реализовать': 1, 'отовсюду': 1, 'истинный': 1, 'полицитемия': 1, 'вряд': 1, 'стабильно': 1, 'помысел': 1, 'исполнение': 1, 'перепоступить': 1, 'коледж': 1, 'платно': 1, 'поухо': 1, 'критиковать': 1, 'ребёночек': 1, 'бесплодный': 1, 'удовлетворить': 1, 'напоминать': 1, 'присмерть': 1, 'молитва': 1, 'растить': 1, 'мягко': 1, 'чрезмерный': 1, 'лентяй': 1, 'склоняться': 1, 'социафобия': 1, 'общество': 1, 'оплатить': 1, 'эвтаназия': 1, 'цюрих': 1, 'рвёться': 1, 'заслуживать': 1, 'недостойный': 1, 'санктпетербург': 1, 'задолго': 1, 'слезть': 1, 'наркозависимость': 1, 'удалить': 1, 'вспылить': 1, 'глотка': 1, 'поднять': 1, 'обратный': 1, 'реабилитация': 1, 'приезд': 1, 'отбить': 1, 'единствение': 1, 'предатель': 1, 'грусть': 1, 'успокоить': 1, 'однокласник': 1, 'издивалиться': 1, 'пожалуста': 1, 'сознательный': 1, 'переговорить': 1, 'эко': 1, 'пункция': 1, 'яйцеклетка': 1, 'стабилизироваться': 1, 'прилететь': 1, 'мягкий': 1, 'использование': 1, 'абстрагировпться': 1, 'отобрать': 1, 'процедура': 1, 'донор': 1, 'генетический': 1, 'опустошение': 1, 'изменение': 1, 'переменить': 1, 'дикий': 1, 'остановить': 1, 'нулевой': 1, 'чтожий': 1, 'отделаться': 1, 'любиларазлюбить': 1, 'остылагореть': 1, 'ип': 1, 'заказ': 1, 'мебель': 1, 'доставка': 1, 'начего': 1, 'мошенница': 1, 'привязать': 1, 'застенчивый': 1, 'тягость': 1, 'улыбка': 1, 'привлекательный': 1, 'накрасить': 1, 'счесть': 1, 'кудалибо': 1, 'часок': 1, 'гинеколог': 1, 'осматривать': 1, 'слушаться': 1, 'охоть': 1, 'повар': 1, 'орь': 1, 'срываться': 1, 'талантливый': 1, 'наглый': 1, 'напугать': 1, 'забитый': 1, 'человекбабушка': 1, 'макс': 1, 'токсемия': 1, 'отравление': 1, 'наличие': 1, 'токсин': 1, 'извне': 1, 'образоваться': 1, 'уничтожать': 1, 'вино': 1, 'ревнивый': 1, 'отброс': 1, 'посылать': 1, 'палец': 1, 'треть': 1, 'наталья': 1, 'помагаета': 1, 'эмоциогальный': 1, 'дкабра': 1, 'нескончаемый': 1, 'проверка': 1, 'показыывать': 1, 'увеличиваться': 1, 'впрвыя': 1, 'еслиэтый': 1, 'стадия': 1, 'пресмотр': 1, 'стек': 1, 'главное': 1, 'лимфоузел': 1, 'отпрвили': 1, 'коммсия': 1, 'ух': 1, 'онкоцентр': 1, 'ст': 1, 'метамтаз': 1, 'веселеть': 1, 'ошибиться': 1, 'пересморёв': 1, 'сткнуть': 1, 'киста': 1, 'лечитьсять': 1, 'въа': 1, 'самха': 1, 'пошатгуться': 1, 'стабилный': 1, 'стаала': 1, 'желудок': 1, 'глотать': 1, 'горсть': 1, 'ккак': 1, 'сомнение': 1, 'кистать': 1, 'проъъавда': 1, 'мтастаз': 1, 'илина': 1, 'ято': 1, 'реешиться': 1, 'вестно': 1, 'поэтоим': 1, 'умреть': 1, 'отчаинья': 1, 'организмвыйти': 1, 'строй': 1, 'помагит': 1, 'заранее': 1, 'софия': 1, 'приобрести': 1, 'сопровождать': 1, 'несовершеннолетний': 1, 'отвести': 1, 'разгар': 1, 'синий': 1, 'кит': 1, 'вскоре': 1, 'течение': 1, 'жизниничего': 1, 'расстроиться': 1, 'успокоиться': 1, 'отговорить': 1, 'вверх': 1, 'дно': 1, 'пожениться': 1, 'пелёнка': 1, 'частый': 1, 'ночное': 1, 'гуляние': 1, 'неизвестно': 1, 'пиво': 1, 'доко': 1, 'шишка': 1, 'выскочить': 1, 'щитовидный': 1, 'отнестись': 1, 'безразличие': 1, 'грызло': 1, 'чнловеко': 1, 'обмануть': 1, 'живить': 1, 'пронестись': 1, 'отменить': 1, 'декрет': 1, 'собеседник': 1, 'остроумие': 1, 'логика': 1, 'тормозить': 1, 'ровный': 1, 'натяжка': 1, 'хозяйственный': 1, 'откровенно': 1, 'бытовой': 1, 'неуютный': 1, 'незнакомый': 1, 'сродни': 1, 'пытка': 1, 'тянуться': 1, 'одетый': 1, 'одеваться': 1, 'комплимент': 1, 'поделать': 1, 'долгов': 1, 'микрокредит': 1, 'бесталковый': 1, 'исключительно': 1, 'подавить': 1, 'передумать': 1, 'самостоятельно': 1, 'запрограммировать': 1, 'сообщество': 1, 'реальный': 1, 'повторить': 1, 'отстричь': 1, 'достаться': 1, 'истерик': 1, 'распространяться': 1, 'скорбеть': 1, 'надолго': 1, 'удержать': 1, 'читатель': 1, 'сушествование': 1, 'нянька': 1, 'повариха': 1, 'детиэтый': 1, 'гармония': 1, 'вырастить': 1, 'намного': 1, 'модно': 1, 'вниз': 1, 'отравиться': 1, 'ребячество': 1, 'преувеличивать': 1, 'подростковый': 1, 'оправдание': 1, 'обрадоваться': 1, 'появление': 1, 'дружеский': 1, 'тестирование': 1, 'заглушить': 1, 'жжение': 1, 'случаться': 1, 'агрессия': 1, 'посмеяться': 1, 'вынудить': 1, 'имущество': 1, 'прежде': 1, 'поблагодарить': 1, 'приезжать': 1, 'тошный': 1, 'докторантура': 1, 'аттестация': 1, 'распереживать': 1, 'адрес': 1, 'унизительный': 1, 'отчисляться': 1, 'таки': 1, 'лень': 1, 'мясли': 1, 'вынуждать': 1, 'корень': 1, 'горесть': 1, 'облегчение': 1, 'обязательно': 1, 'искренний': 1, 'благодаря': 1, 'мединститут': 1, 'настоящее': 1, 'выздоравливаться': 1, 'вред': 1, 'жеработа': 1, 'удивляютсякак': 1, 'профильный': 1, 'организация': 1, 'обучать': 1, 'работодатель': 1, 'неофициально': 1, 'куданибудь': 1, 'пойтиопять': 1, 'репетиторство': 1, 'переподготовка': 1, 'опятьбояться': 1, 'педагогоморганизатор': 1, 'должностьэтый': 1, 'отказывать': 1, 'коммунальный': 1, 'платёж': 1, 'официальный': 1, 'запись': 1, 'неофициальнотак': 1, 'строго': 1, 'удачный': 1, 'изоляция': 1, 'туговато': 1, 'прокормиться': 1, 'тяжко': 1, 'временной': 1, 'касаться': 1, 'взаимодействие': 1, 'исключить': 1, 'улучшение': 1, 'прекратиться': 1, 'посоветовать': 1, 'пронизывать': 1, 'необъяснимый': 1, 'братик': 1, 'красить': 1, 'бровь': 1, 'злобный': 1, 'откуда': 1, 'злоба': 1, 'тета': 1, 'дяд': 1, 'захлёб': 1, 'ужаснуться': 1, 'лишить': 1, 'материнство': 1, 'ростить': 1, 'причастие': 1, 'пристав': 1, 'высчитывать': 1, 'пенсия': 1, 'пенсионер': 1, 'матереть': 1, 'сволочь': 1, 'кукушка': 1, 'променять': 1, 'лингвистпреподаватель': 1, 'московский': 1, 'алиментщица': 1, 'клеймо': 1, 'дорога': 1, 'зелёный': 1, 'змий': 1, 'почтальон': 1, 'настороженность': 1, 'подозрение': 1, 'унитаз': 1, 'чистить': 1, 'домик': 1, 'негде': 1, 'мыться': 1, 'стирать': 1, 'колонка': 1, 'вонять': 1, 'посадить': 1, 'хоронить': 1, 'отнимать': 1, 'впередитюрьма': 1, 'помойка': 1, 'земля': 1, 'какуюнибудь': 1, 'медаль': 1, 'бродить': 1, 'заграницу': 1, 'добиваться': 1, 'внешний': 1, 'сущность': 1, 'подстраивать': 1, 'девственница': 1, 'привлекать': 1, 'помешаться': 1, 'осознание': 1, 'наводить': 1, 'вступительный': 1, 'рассказ': 1, 'выживание': 1, 'судьба': 1, 'срива': 1, 'настигать': 1, 'нискать': 1, 'недопонимание': 1, 'б': 1, 'мост': 1, 'прыгать': 1, 'волна': 1, 'радостно': 1, 'повсюду': 1, 'ломаться': 1, 'вийти': 1, 'заводить': 1, 'убираться': 1, 'напор': 1, 'прочий': 1, 'нежный': 1, 'заходить': 1, 'соц': 1, 'сеть': 1, 'различный': 1, 'высказываться': 1, 'ученик': 1, 'сплетня': 1, 'шептаться': 1, 'подвергнуться': 1, 'поссориться': 1, 'приходм': 1, 'захотеться': 1, 'обжиматься': 1, 'якомок': 1, 'царить': 1, 'трагедия': 1, 'встать': 1, 'прехать': 1, 'сломаться': 1, 'зашнл': 1, 'сьеть': 1, 'материться': 1, 'желать': 1, 'ржать': 1, 'кросс': 1, 'бежвть': 1, 'сзади': 1, 'дыхание': 1, 'словесный': 1, 'обидеться': 1, 'выслушивать': 1, 'сжато': 1, 'дискомфорт': 1, 'помириться': 1, 'зделать': 1, 'копить': 1, 'извиниться': 1, 'сомной': 1, 'заступиться': 1, 'управлять': 1, 'потакать': 1, 'приход': 1, 'спорить': 1, 'очевидный': 1, 'век': 1, 'выводить': 1, 'милый': 1, 'коммент': 1, 'смска': 1, 'нуль': 1, 'соцсеть': 1, 'путёвка': 1, 'отдых': 1, 'нереально': 1, 'защемлять': 1, 'поясница': 1, 'поворачивать': 1, 'корпус': 1, 'влево': 1, 'вправо': 1, 'явный': 1, 'перерасти': 1, 'тазобедренный': 1, 'коленный': 1, 'стопа': 1, 'щёлкать': 1, 'костоправ': 1, 'мануальщик': 1, 'мрт': 1, 'пипец': 1, 'молодой': 1, 'край': 1, 'профессиональный': 1, 'бассейн': 1, 'родсвенник': 1, 'половинка': 1, 'чуять': 1, 'могила': 1, 'обделять': 1, 'выясниться': 1, 'злокачественный': 1, 'пах': 1, 'собирать': 1, 'раздать': 1, 'маркетолог': 1, 'студент': 1, 'ненадёжный': 1, 'официант': 1, 'всетаки': 1, 'прокармливать': 1, 'матьпенсионерка': 1, 'всерьёз': 1, 'разрушать': 1, 'присутствие': 1, 'неправильный': 1, 'прикус': 1, 'дикция': 1, 'проговаривать': 1, 'жертвовать': 1, 'рассеянный': 1, 'светить': 1, 'красавец': 1, 'открывать': 1, 'нерасторопность': 1, 'сводить': 1, 'исполсовать': 1, 'бесхребетный': 1, 'похоронить': 1, 'реальность': 1, 'свихнуться': 1, 'выделить': 1, 'светлый': 1, 'радостный': 1, 'отсутствовать': 1, 'пространство': 1, 'человеккаменный': 1, 'единый': 1, 'итоговый': 1, 'проронить': 1, 'заправлять': 1, 'традиция': 1, 'странность': 1, 'дружелюбный': 1, 'поэтапный': 1, 'передать': 1, 'родом': 1, 'европа': 1, 'материальный': 1, 'несостоятельность': 1, 'оказывать': 1, 'увлечься': 1, 'испариться': 1, 'оправдываться': 1, 'противно': 1, 'мудрый': 1, 'придирка': 1, 'билет': 1, 'кристина': 1, 'подробный': 1, 'полноценный': 1, 'заживо': 1, 'сгореть': 1, 'опуститься': 1, 'забиваться': 1, 'утратить': 1, 'коротко': 1, 'вероника': 1, 'замужем': 1, 'облизывать': 1, 'круглый': 1, 'упрекать': 1, 'сугубо': 1, 'деловой': 1, 'подпускать': 1, 'сирота': 1, 'нужда': 1, 'шагнуть': 1, 'умолять': 1, 'откликнуться': 1, 'сдаваться': 1, 'уменьшиться': 1, 'вартир': 1, 'покушать': 1, 'отложить': 1, 'еше': 1, 'выпить': 1, 'манить': 1, 'надеиться': 1, 'угомониться': 1, 'февральский': 1, 'июль': 1, 'попрощаться': 1, 'подушка': 1, 'хочеться': 1, 'всеравно': 1, 'придставить': 1}\n"
          ],
          "name": "stdout"
        }
      ]
    },
    {
      "cell_type": "code",
      "metadata": {
        "id": "bminelHTJ4-I",
        "outputId": "606cef78-0b5b-4517-93da-29ae4fe7bbed"
      },
      "source": [
        "print('топ-15 лемм для текстов 0 класса', list(dict_0.keys())[:14])\n",
        "print('топ-15 лемм для текстов 1 класса', list(dict_1.keys())[:14])\n",
        "\n",
        "cross = list(set(list(dict_0.keys())[:14]) & set(list(dict_1.keys())[:14]))\n",
        "print('Пересечение лем между списками', cross)\n",
        "print('Пересекается %s лем' % len(cross))\n"
      ],
      "execution_count": null,
      "outputs": [
        {
          "output_type": "stream",
          "text": [
            "топ-15 лемм для текстов 0 класса ['год', 'который', 'область', 'казахстан', 'наш', 'это', 'работа', 'город', 'район', 'россия', 'свой', 'человек', 'проект', 'также']\n",
            "топ-15 лемм для текстов 1 класса ['хотеть', 'это', 'год', 'жить', 'мочь', 'жизнь', 'очень', 'знать', 'весь', 'мой', 'свой', 'просто', 'человек', 'который']\n",
            "Пересечение лем между списками ['год', 'который', 'человек', 'это', 'свой']\n",
            "Пересекается 5 лем\n"
          ],
          "name": "stdout"
        }
      ]
    }
  ]
}