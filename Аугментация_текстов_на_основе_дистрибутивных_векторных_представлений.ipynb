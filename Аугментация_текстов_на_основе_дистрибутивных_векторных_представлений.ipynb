{
  "nbformat": 4,
  "nbformat_minor": 0,
  "metadata": {
    "colab": {
      "name": "Аугментация текстов на основе дистрибутивных векторных представлений.ipynb",
      "provenance": [],
      "include_colab_link": true
    },
    "kernelspec": {
      "name": "python3",
      "display_name": "Python 3"
    },
    "widgets": {
      "application/vnd.jupyter.widget-state+json": {
        "81a0be2b8723436cb1b4db7f6a22d255": {
          "model_module": "@jupyter-widgets/controls",
          "model_name": "HBoxModel",
          "state": {
            "_view_name": "HBoxView",
            "_dom_classes": [],
            "_model_name": "HBoxModel",
            "_view_module": "@jupyter-widgets/controls",
            "_model_module_version": "1.5.0",
            "_view_count": null,
            "_view_module_version": "1.5.0",
            "box_style": "",
            "layout": "IPY_MODEL_4788809f6fbc4f419811f9a0e8905b1e",
            "_model_module": "@jupyter-widgets/controls",
            "children": [
              "IPY_MODEL_711e8ec6aab543b98d8f0bce7bd6075f",
              "IPY_MODEL_d4d383c6754749e5adb8cfbeff3d6343"
            ]
          }
        },
        "4788809f6fbc4f419811f9a0e8905b1e": {
          "model_module": "@jupyter-widgets/base",
          "model_name": "LayoutModel",
          "state": {
            "_view_name": "LayoutView",
            "grid_template_rows": null,
            "right": null,
            "justify_content": null,
            "_view_module": "@jupyter-widgets/base",
            "overflow": null,
            "_model_module_version": "1.2.0",
            "_view_count": null,
            "flex_flow": null,
            "width": null,
            "min_width": null,
            "border": null,
            "align_items": null,
            "bottom": null,
            "_model_module": "@jupyter-widgets/base",
            "top": null,
            "grid_column": null,
            "overflow_y": null,
            "overflow_x": null,
            "grid_auto_flow": null,
            "grid_area": null,
            "grid_template_columns": null,
            "flex": null,
            "_model_name": "LayoutModel",
            "justify_items": null,
            "grid_row": null,
            "max_height": null,
            "align_content": null,
            "visibility": null,
            "align_self": null,
            "height": null,
            "min_height": null,
            "padding": null,
            "grid_auto_rows": null,
            "grid_gap": null,
            "max_width": null,
            "order": null,
            "_view_module_version": "1.2.0",
            "grid_template_areas": null,
            "object_position": null,
            "object_fit": null,
            "grid_auto_columns": null,
            "margin": null,
            "display": null,
            "left": null
          }
        },
        "711e8ec6aab543b98d8f0bce7bd6075f": {
          "model_module": "@jupyter-widgets/controls",
          "model_name": "FloatProgressModel",
          "state": {
            "_view_name": "ProgressView",
            "style": "IPY_MODEL_77e50ce5b2784f6cafb126d0da11aaa0",
            "_dom_classes": [],
            "description": "100%",
            "_model_name": "FloatProgressModel",
            "bar_style": "success",
            "max": 261356,
            "_view_module": "@jupyter-widgets/controls",
            "_model_module_version": "1.5.0",
            "value": 261356,
            "_view_count": null,
            "_view_module_version": "1.5.0",
            "orientation": "horizontal",
            "min": 0,
            "description_tooltip": null,
            "_model_module": "@jupyter-widgets/controls",
            "layout": "IPY_MODEL_30fc2c1d25c443cfb594557856504e41"
          }
        },
        "d4d383c6754749e5adb8cfbeff3d6343": {
          "model_module": "@jupyter-widgets/controls",
          "model_name": "HTMLModel",
          "state": {
            "_view_name": "HTMLView",
            "style": "IPY_MODEL_0c5dfc9ef9d3443fa12cf240def6865b",
            "_dom_classes": [],
            "description": "",
            "_model_name": "HTMLModel",
            "placeholder": "​",
            "_view_module": "@jupyter-widgets/controls",
            "_model_module_version": "1.5.0",
            "value": " 261356/261356 [05:39&lt;00:00, 769.03it/s]",
            "_view_count": null,
            "_view_module_version": "1.5.0",
            "description_tooltip": null,
            "_model_module": "@jupyter-widgets/controls",
            "layout": "IPY_MODEL_2b110256c940488b834d3f7e5f4441f9"
          }
        },
        "77e50ce5b2784f6cafb126d0da11aaa0": {
          "model_module": "@jupyter-widgets/controls",
          "model_name": "ProgressStyleModel",
          "state": {
            "_view_name": "StyleView",
            "_model_name": "ProgressStyleModel",
            "description_width": "initial",
            "_view_module": "@jupyter-widgets/base",
            "_model_module_version": "1.5.0",
            "_view_count": null,
            "_view_module_version": "1.2.0",
            "bar_color": null,
            "_model_module": "@jupyter-widgets/controls"
          }
        },
        "30fc2c1d25c443cfb594557856504e41": {
          "model_module": "@jupyter-widgets/base",
          "model_name": "LayoutModel",
          "state": {
            "_view_name": "LayoutView",
            "grid_template_rows": null,
            "right": null,
            "justify_content": null,
            "_view_module": "@jupyter-widgets/base",
            "overflow": null,
            "_model_module_version": "1.2.0",
            "_view_count": null,
            "flex_flow": null,
            "width": null,
            "min_width": null,
            "border": null,
            "align_items": null,
            "bottom": null,
            "_model_module": "@jupyter-widgets/base",
            "top": null,
            "grid_column": null,
            "overflow_y": null,
            "overflow_x": null,
            "grid_auto_flow": null,
            "grid_area": null,
            "grid_template_columns": null,
            "flex": null,
            "_model_name": "LayoutModel",
            "justify_items": null,
            "grid_row": null,
            "max_height": null,
            "align_content": null,
            "visibility": null,
            "align_self": null,
            "height": null,
            "min_height": null,
            "padding": null,
            "grid_auto_rows": null,
            "grid_gap": null,
            "max_width": null,
            "order": null,
            "_view_module_version": "1.2.0",
            "grid_template_areas": null,
            "object_position": null,
            "object_fit": null,
            "grid_auto_columns": null,
            "margin": null,
            "display": null,
            "left": null
          }
        },
        "0c5dfc9ef9d3443fa12cf240def6865b": {
          "model_module": "@jupyter-widgets/controls",
          "model_name": "DescriptionStyleModel",
          "state": {
            "_view_name": "StyleView",
            "_model_name": "DescriptionStyleModel",
            "description_width": "",
            "_view_module": "@jupyter-widgets/base",
            "_model_module_version": "1.5.0",
            "_view_count": null,
            "_view_module_version": "1.2.0",
            "_model_module": "@jupyter-widgets/controls"
          }
        },
        "2b110256c940488b834d3f7e5f4441f9": {
          "model_module": "@jupyter-widgets/base",
          "model_name": "LayoutModel",
          "state": {
            "_view_name": "LayoutView",
            "grid_template_rows": null,
            "right": null,
            "justify_content": null,
            "_view_module": "@jupyter-widgets/base",
            "overflow": null,
            "_model_module_version": "1.2.0",
            "_view_count": null,
            "flex_flow": null,
            "width": null,
            "min_width": null,
            "border": null,
            "align_items": null,
            "bottom": null,
            "_model_module": "@jupyter-widgets/base",
            "top": null,
            "grid_column": null,
            "overflow_y": null,
            "overflow_x": null,
            "grid_auto_flow": null,
            "grid_area": null,
            "grid_template_columns": null,
            "flex": null,
            "_model_name": "LayoutModel",
            "justify_items": null,
            "grid_row": null,
            "max_height": null,
            "align_content": null,
            "visibility": null,
            "align_self": null,
            "height": null,
            "min_height": null,
            "padding": null,
            "grid_auto_rows": null,
            "grid_gap": null,
            "max_width": null,
            "order": null,
            "_view_module_version": "1.2.0",
            "grid_template_areas": null,
            "object_position": null,
            "object_fit": null,
            "grid_auto_columns": null,
            "margin": null,
            "display": null,
            "left": null
          }
        },
        "910e1d878f3745e68ece91980703dc36": {
          "model_module": "@jupyter-widgets/controls",
          "model_name": "HBoxModel",
          "state": {
            "_view_name": "HBoxView",
            "_dom_classes": [],
            "_model_name": "HBoxModel",
            "_view_module": "@jupyter-widgets/controls",
            "_model_module_version": "1.5.0",
            "_view_count": null,
            "_view_module_version": "1.5.0",
            "box_style": "",
            "layout": "IPY_MODEL_af5ff6ed6843431ba63ea07e1f0a4e36",
            "_model_module": "@jupyter-widgets/controls",
            "children": [
              "IPY_MODEL_5020bbecf72544c2a5c8e45e1a527c6f",
              "IPY_MODEL_ff000108ac9141f6bbd170ee0ccc06bd"
            ]
          }
        },
        "af5ff6ed6843431ba63ea07e1f0a4e36": {
          "model_module": "@jupyter-widgets/base",
          "model_name": "LayoutModel",
          "state": {
            "_view_name": "LayoutView",
            "grid_template_rows": null,
            "right": null,
            "justify_content": null,
            "_view_module": "@jupyter-widgets/base",
            "overflow": null,
            "_model_module_version": "1.2.0",
            "_view_count": null,
            "flex_flow": null,
            "width": null,
            "min_width": null,
            "border": null,
            "align_items": null,
            "bottom": null,
            "_model_module": "@jupyter-widgets/base",
            "top": null,
            "grid_column": null,
            "overflow_y": null,
            "overflow_x": null,
            "grid_auto_flow": null,
            "grid_area": null,
            "grid_template_columns": null,
            "flex": null,
            "_model_name": "LayoutModel",
            "justify_items": null,
            "grid_row": null,
            "max_height": null,
            "align_content": null,
            "visibility": null,
            "align_self": null,
            "height": null,
            "min_height": null,
            "padding": null,
            "grid_auto_rows": null,
            "grid_gap": null,
            "max_width": null,
            "order": null,
            "_view_module_version": "1.2.0",
            "grid_template_areas": null,
            "object_position": null,
            "object_fit": null,
            "grid_auto_columns": null,
            "margin": null,
            "display": null,
            "left": null
          }
        },
        "5020bbecf72544c2a5c8e45e1a527c6f": {
          "model_module": "@jupyter-widgets/controls",
          "model_name": "FloatProgressModel",
          "state": {
            "_view_name": "ProgressView",
            "style": "IPY_MODEL_23078176782f465a85624b44d0871a86",
            "_dom_classes": [],
            "description": "100%",
            "_model_name": "FloatProgressModel",
            "bar_style": "success",
            "max": 1000,
            "_view_module": "@jupyter-widgets/controls",
            "_model_module_version": "1.5.0",
            "value": 1000,
            "_view_count": null,
            "_view_module_version": "1.5.0",
            "orientation": "horizontal",
            "min": 0,
            "description_tooltip": null,
            "_model_module": "@jupyter-widgets/controls",
            "layout": "IPY_MODEL_085a85f8cc8f4b349ba4218afbaffb1c"
          }
        },
        "ff000108ac9141f6bbd170ee0ccc06bd": {
          "model_module": "@jupyter-widgets/controls",
          "model_name": "HTMLModel",
          "state": {
            "_view_name": "HTMLView",
            "style": "IPY_MODEL_411e397c8bc6495db2d9c8315166a8d3",
            "_dom_classes": [],
            "description": "",
            "_model_name": "HTMLModel",
            "placeholder": "​",
            "_view_module": "@jupyter-widgets/controls",
            "_model_module_version": "1.5.0",
            "value": " 1000/1000 [00:01&lt;00:00, 840.32it/s]",
            "_view_count": null,
            "_view_module_version": "1.5.0",
            "description_tooltip": null,
            "_model_module": "@jupyter-widgets/controls",
            "layout": "IPY_MODEL_a5143bfa57674fb599ca0fa357df4bc0"
          }
        },
        "23078176782f465a85624b44d0871a86": {
          "model_module": "@jupyter-widgets/controls",
          "model_name": "ProgressStyleModel",
          "state": {
            "_view_name": "StyleView",
            "_model_name": "ProgressStyleModel",
            "description_width": "initial",
            "_view_module": "@jupyter-widgets/base",
            "_model_module_version": "1.5.0",
            "_view_count": null,
            "_view_module_version": "1.2.0",
            "bar_color": null,
            "_model_module": "@jupyter-widgets/controls"
          }
        },
        "085a85f8cc8f4b349ba4218afbaffb1c": {
          "model_module": "@jupyter-widgets/base",
          "model_name": "LayoutModel",
          "state": {
            "_view_name": "LayoutView",
            "grid_template_rows": null,
            "right": null,
            "justify_content": null,
            "_view_module": "@jupyter-widgets/base",
            "overflow": null,
            "_model_module_version": "1.2.0",
            "_view_count": null,
            "flex_flow": null,
            "width": null,
            "min_width": null,
            "border": null,
            "align_items": null,
            "bottom": null,
            "_model_module": "@jupyter-widgets/base",
            "top": null,
            "grid_column": null,
            "overflow_y": null,
            "overflow_x": null,
            "grid_auto_flow": null,
            "grid_area": null,
            "grid_template_columns": null,
            "flex": null,
            "_model_name": "LayoutModel",
            "justify_items": null,
            "grid_row": null,
            "max_height": null,
            "align_content": null,
            "visibility": null,
            "align_self": null,
            "height": null,
            "min_height": null,
            "padding": null,
            "grid_auto_rows": null,
            "grid_gap": null,
            "max_width": null,
            "order": null,
            "_view_module_version": "1.2.0",
            "grid_template_areas": null,
            "object_position": null,
            "object_fit": null,
            "grid_auto_columns": null,
            "margin": null,
            "display": null,
            "left": null
          }
        },
        "411e397c8bc6495db2d9c8315166a8d3": {
          "model_module": "@jupyter-widgets/controls",
          "model_name": "DescriptionStyleModel",
          "state": {
            "_view_name": "StyleView",
            "_model_name": "DescriptionStyleModel",
            "description_width": "",
            "_view_module": "@jupyter-widgets/base",
            "_model_module_version": "1.5.0",
            "_view_count": null,
            "_view_module_version": "1.2.0",
            "_model_module": "@jupyter-widgets/controls"
          }
        },
        "a5143bfa57674fb599ca0fa357df4bc0": {
          "model_module": "@jupyter-widgets/base",
          "model_name": "LayoutModel",
          "state": {
            "_view_name": "LayoutView",
            "grid_template_rows": null,
            "right": null,
            "justify_content": null,
            "_view_module": "@jupyter-widgets/base",
            "overflow": null,
            "_model_module_version": "1.2.0",
            "_view_count": null,
            "flex_flow": null,
            "width": null,
            "min_width": null,
            "border": null,
            "align_items": null,
            "bottom": null,
            "_model_module": "@jupyter-widgets/base",
            "top": null,
            "grid_column": null,
            "overflow_y": null,
            "overflow_x": null,
            "grid_auto_flow": null,
            "grid_area": null,
            "grid_template_columns": null,
            "flex": null,
            "_model_name": "LayoutModel",
            "justify_items": null,
            "grid_row": null,
            "max_height": null,
            "align_content": null,
            "visibility": null,
            "align_self": null,
            "height": null,
            "min_height": null,
            "padding": null,
            "grid_auto_rows": null,
            "grid_gap": null,
            "max_width": null,
            "order": null,
            "_view_module_version": "1.2.0",
            "grid_template_areas": null,
            "object_position": null,
            "object_fit": null,
            "grid_auto_columns": null,
            "margin": null,
            "display": null,
            "left": null
          }
        },
        "4fb827c2c8654d27801e578878d4f57f": {
          "model_module": "@jupyter-widgets/controls",
          "model_name": "HBoxModel",
          "state": {
            "_view_name": "HBoxView",
            "_dom_classes": [],
            "_model_name": "HBoxModel",
            "_view_module": "@jupyter-widgets/controls",
            "_model_module_version": "1.5.0",
            "_view_count": null,
            "_view_module_version": "1.5.0",
            "box_style": "",
            "layout": "IPY_MODEL_d340c85bbb8b4bb7abc39c7830156eb1",
            "_model_module": "@jupyter-widgets/controls",
            "children": [
              "IPY_MODEL_4d2d172db03f43a7af158169a30cc5ab",
              "IPY_MODEL_9a4057eb608d4cc495a89e60254b58bc"
            ]
          }
        },
        "d340c85bbb8b4bb7abc39c7830156eb1": {
          "model_module": "@jupyter-widgets/base",
          "model_name": "LayoutModel",
          "state": {
            "_view_name": "LayoutView",
            "grid_template_rows": null,
            "right": null,
            "justify_content": null,
            "_view_module": "@jupyter-widgets/base",
            "overflow": null,
            "_model_module_version": "1.2.0",
            "_view_count": null,
            "flex_flow": null,
            "width": null,
            "min_width": null,
            "border": null,
            "align_items": null,
            "bottom": null,
            "_model_module": "@jupyter-widgets/base",
            "top": null,
            "grid_column": null,
            "overflow_y": null,
            "overflow_x": null,
            "grid_auto_flow": null,
            "grid_area": null,
            "grid_template_columns": null,
            "flex": null,
            "_model_name": "LayoutModel",
            "justify_items": null,
            "grid_row": null,
            "max_height": null,
            "align_content": null,
            "visibility": null,
            "align_self": null,
            "height": null,
            "min_height": null,
            "padding": null,
            "grid_auto_rows": null,
            "grid_gap": null,
            "max_width": null,
            "order": null,
            "_view_module_version": "1.2.0",
            "grid_template_areas": null,
            "object_position": null,
            "object_fit": null,
            "grid_auto_columns": null,
            "margin": null,
            "display": null,
            "left": null
          }
        },
        "4d2d172db03f43a7af158169a30cc5ab": {
          "model_module": "@jupyter-widgets/controls",
          "model_name": "FloatProgressModel",
          "state": {
            "_view_name": "ProgressView",
            "style": "IPY_MODEL_73a9900af8bf4e75a8133d4a9f7741e6",
            "_dom_classes": [],
            "description": "100%",
            "_model_name": "FloatProgressModel",
            "bar_style": "success",
            "max": 261356,
            "_view_module": "@jupyter-widgets/controls",
            "_model_module_version": "1.5.0",
            "value": 261356,
            "_view_count": null,
            "_view_module_version": "1.5.0",
            "orientation": "horizontal",
            "min": 0,
            "description_tooltip": null,
            "_model_module": "@jupyter-widgets/controls",
            "layout": "IPY_MODEL_d270d280c8864c239186a27bdbff6c2d"
          }
        },
        "9a4057eb608d4cc495a89e60254b58bc": {
          "model_module": "@jupyter-widgets/controls",
          "model_name": "HTMLModel",
          "state": {
            "_view_name": "HTMLView",
            "style": "IPY_MODEL_6b688d2d903f42e8a72c8274e63463ef",
            "_dom_classes": [],
            "description": "",
            "_model_name": "HTMLModel",
            "placeholder": "​",
            "_view_module": "@jupyter-widgets/controls",
            "_model_module_version": "1.5.0",
            "value": " 261356/261356 [04:07&lt;00:00, 1057.16it/s]",
            "_view_count": null,
            "_view_module_version": "1.5.0",
            "description_tooltip": null,
            "_model_module": "@jupyter-widgets/controls",
            "layout": "IPY_MODEL_1c914a8cc6194edeaddf3ea6a0f1169f"
          }
        },
        "73a9900af8bf4e75a8133d4a9f7741e6": {
          "model_module": "@jupyter-widgets/controls",
          "model_name": "ProgressStyleModel",
          "state": {
            "_view_name": "StyleView",
            "_model_name": "ProgressStyleModel",
            "description_width": "initial",
            "_view_module": "@jupyter-widgets/base",
            "_model_module_version": "1.5.0",
            "_view_count": null,
            "_view_module_version": "1.2.0",
            "bar_color": null,
            "_model_module": "@jupyter-widgets/controls"
          }
        },
        "d270d280c8864c239186a27bdbff6c2d": {
          "model_module": "@jupyter-widgets/base",
          "model_name": "LayoutModel",
          "state": {
            "_view_name": "LayoutView",
            "grid_template_rows": null,
            "right": null,
            "justify_content": null,
            "_view_module": "@jupyter-widgets/base",
            "overflow": null,
            "_model_module_version": "1.2.0",
            "_view_count": null,
            "flex_flow": null,
            "width": null,
            "min_width": null,
            "border": null,
            "align_items": null,
            "bottom": null,
            "_model_module": "@jupyter-widgets/base",
            "top": null,
            "grid_column": null,
            "overflow_y": null,
            "overflow_x": null,
            "grid_auto_flow": null,
            "grid_area": null,
            "grid_template_columns": null,
            "flex": null,
            "_model_name": "LayoutModel",
            "justify_items": null,
            "grid_row": null,
            "max_height": null,
            "align_content": null,
            "visibility": null,
            "align_self": null,
            "height": null,
            "min_height": null,
            "padding": null,
            "grid_auto_rows": null,
            "grid_gap": null,
            "max_width": null,
            "order": null,
            "_view_module_version": "1.2.0",
            "grid_template_areas": null,
            "object_position": null,
            "object_fit": null,
            "grid_auto_columns": null,
            "margin": null,
            "display": null,
            "left": null
          }
        },
        "6b688d2d903f42e8a72c8274e63463ef": {
          "model_module": "@jupyter-widgets/controls",
          "model_name": "DescriptionStyleModel",
          "state": {
            "_view_name": "StyleView",
            "_model_name": "DescriptionStyleModel",
            "description_width": "",
            "_view_module": "@jupyter-widgets/base",
            "_model_module_version": "1.5.0",
            "_view_count": null,
            "_view_module_version": "1.2.0",
            "_model_module": "@jupyter-widgets/controls"
          }
        },
        "1c914a8cc6194edeaddf3ea6a0f1169f": {
          "model_module": "@jupyter-widgets/base",
          "model_name": "LayoutModel",
          "state": {
            "_view_name": "LayoutView",
            "grid_template_rows": null,
            "right": null,
            "justify_content": null,
            "_view_module": "@jupyter-widgets/base",
            "overflow": null,
            "_model_module_version": "1.2.0",
            "_view_count": null,
            "flex_flow": null,
            "width": null,
            "min_width": null,
            "border": null,
            "align_items": null,
            "bottom": null,
            "_model_module": "@jupyter-widgets/base",
            "top": null,
            "grid_column": null,
            "overflow_y": null,
            "overflow_x": null,
            "grid_auto_flow": null,
            "grid_area": null,
            "grid_template_columns": null,
            "flex": null,
            "_model_name": "LayoutModel",
            "justify_items": null,
            "grid_row": null,
            "max_height": null,
            "align_content": null,
            "visibility": null,
            "align_self": null,
            "height": null,
            "min_height": null,
            "padding": null,
            "grid_auto_rows": null,
            "grid_gap": null,
            "max_width": null,
            "order": null,
            "_view_module_version": "1.2.0",
            "grid_template_areas": null,
            "object_position": null,
            "object_fit": null,
            "grid_auto_columns": null,
            "margin": null,
            "display": null,
            "left": null
          }
        }
      }
    }
  },
  "cells": [
    {
      "cell_type": "markdown",
      "metadata": {
        "id": "view-in-github",
        "colab_type": "text"
      },
      "source": [
        "<a href=\"https://colab.research.google.com/github/Gratisfo/project_ml/blob/main/%D0%90%D1%83%D0%B3%D0%BC%D0%B5%D0%BD%D1%82%D0%B0%D1%86%D0%B8%D1%8F_%D1%82%D0%B5%D0%BA%D1%81%D1%82%D0%BE%D0%B2_%D0%BD%D0%B0_%D0%BE%D1%81%D0%BD%D0%BE%D0%B2%D0%B5_%D0%B4%D0%B8%D1%81%D1%82%D1%80%D0%B8%D0%B1%D1%83%D1%82%D0%B8%D0%B2%D0%BD%D1%8B%D1%85_%D0%B2%D0%B5%D0%BA%D1%82%D0%BE%D1%80%D0%BD%D1%8B%D1%85_%D0%BF%D1%80%D0%B5%D0%B4%D1%81%D1%82%D0%B0%D0%B2%D0%BB%D0%B5%D0%BD%D0%B8%D0%B9.ipynb\" target=\"_parent\"><img src=\"https://colab.research.google.com/assets/colab-badge.svg\" alt=\"Open In Colab\"/></a>"
      ]
    },
    {
      "cell_type": "markdown",
      "metadata": {
        "id": "RzMCzZwsr1un"
      },
      "source": [
        "\n",
        "### **Блок 1: Аугментация с заменой слов на основе word2vec **\n",
        "\n"
      ]
    },
    {
      "cell_type": "code",
      "metadata": {
        "id": "8RsPAVJOsJUP"
      },
      "source": [
        "!wget -c http://vectors.nlpl.eu/repository/20/180.zip\n",
        "!unzip 180.zip"
      ],
      "execution_count": null,
      "outputs": []
    },
    {
      "cell_type": "code",
      "metadata": {
        "id": "h4NdtVPtsMUB"
      },
      "source": [
        "import gensim\n",
        "\n",
        "model = gensim.models.KeyedVectors.load_word2vec_format(\"model.bin\", binary=True)\n",
        "model.init_sims(replace=True)"
      ],
      "execution_count": null,
      "outputs": []
    },
    {
      "cell_type": "code",
      "metadata": {
        "id": "Yuyym1m4sPf5"
      },
      "source": [
        "import re\n",
        "import pymorphy2\n",
        "morph = pymorphy2.MorphAnalyzer()\n",
        "\n",
        "def augment_word2vec(sentence, model=model):\n",
        "  new_sent = []\n",
        "  for word in sentence.split():\n",
        "    m = morph.parse(word)[0]\n",
        "    word = m.normal_form\n",
        "    pos = m.tag.POS\n",
        "    word_pos = word + '_' + pos\n",
        "    new_word = model.most_similar(positive=[word_pos])[1][0]\n",
        "    new_sent.append(re.sub(r'_.*?$', '', new_word))\n",
        "  return ' '.join(new_sent)"
      ],
      "execution_count": null,
      "outputs": []
    },
    {
      "cell_type": "code",
      "metadata": {
        "id": "1avw_WqesT5j",
        "colab": {
          "base_uri": "https://localhost:8080/",
          "height": 35
        },
        "outputId": "b4e9dcbc-036f-4396-a458-3d7f74e60028"
      },
      "source": [
        "import warnings\n",
        "warnings.simplefilter(action='ignore', category=FutureWarning)\n",
        "\n",
        "sent = \"мама помыла окно\"\n",
        "\n",
        "# пример работы наивной функции\n",
        "augment_word2vec(sent)"
      ],
      "execution_count": null,
      "outputs": [
        {
          "output_type": "execute_result",
          "data": {
            "application/vnd.google.colaboratory.intrinsic+json": {
              "type": "string"
            },
            "text/plain": [
              "'бабушка мыть оконце'"
            ]
          },
          "metadata": {
            "tags": []
          },
          "execution_count": 164
        }
      ]
    },
    {
      "cell_type": "code",
      "metadata": {
        "id": "7dN4DhORsVsa",
        "colab": {
          "base_uri": "https://localhost:8080/",
          "height": 35
        },
        "outputId": "0a36d943-0a5c-441b-9831-fc8c0f5f5b65"
      },
      "source": [
        "def get_gram(w):\n",
        "  m = str(morph.parse(w)[0].tag).split(',')\n",
        "  poses = set()\n",
        "  for pos in m:\n",
        "    for p in pos.split(' '):\n",
        "      poses.add(p)\n",
        "  return poses\n",
        "\n",
        "def augment_word2vec_pos(sentence, poses, model=model):\n",
        "    new_sent = []\n",
        "    n = 1\n",
        "    for w in sentence.split():\n",
        "      m = morph.parse(w)[0]\n",
        "      word = m.normal_form\n",
        "      pos = m.tag.POS\n",
        "      if pos in poses:\n",
        "        # присваиваем слову тег\n",
        "        if pos == 'ADVB':\n",
        "          pos = 'ADV'\n",
        "        elif pos =='ADJS' or pos == 'ADJF':\n",
        "          pos = 'ADJ'\n",
        "        word_pos = word + '_' + pos\n",
        "        try: \n",
        "          new_word = model.most_similar(positive=[word_pos])[1][0]\n",
        "          new_word = re.sub(r'_.*?$', '', new_word)\n",
        "        except:\n",
        "          new_word = word\n",
        "\n",
        "        gram = get_gram(w)\n",
        "        for p in gram:\n",
        "          try:\n",
        "            new_w = morph.parse(new_word)[0].inflect({p}).word\n",
        "          except:\n",
        "            new_w = morph.parse(new_word)[0].word\n",
        "        new_sent.append(new_w)\n",
        "      else:\n",
        "        new_sent.append(w)\n",
        "      \n",
        "    return ' '.join(new_sent)        \n",
        "\n",
        "augment_word2vec_pos(\"мама быстро красила окно\", ['NOUN', 'ADVB', 'ADJF', 'ADJS'])"
      ],
      "execution_count": null,
      "outputs": [
        {
          "output_type": "execute_result",
          "data": {
            "application/vnd.google.colaboratory.intrinsic+json": {
              "type": "string"
            },
            "text/plain": [
              "'бабушка медленно красила оконце'"
            ]
          },
          "metadata": {
            "tags": []
          },
          "execution_count": 166
        }
      ]
    },
    {
      "cell_type": "markdown",
      "metadata": {
        "id": "2uSyUcB4sCOR"
      },
      "source": [
        "### **Блок 2: Регрессия; Medium Stories **"
      ]
    },
    {
      "cell_type": "code",
      "metadata": {
        "id": "-EVUD2yLKrTJ"
      },
      "source": [
        "!unzip medium_stories.zip"
      ],
      "execution_count": null,
      "outputs": []
    },
    {
      "cell_type": "code",
      "metadata": {
        "id": "Ja99ifnRpdal"
      },
      "source": [
        "!pip install pymorphy2['fast']"
      ],
      "execution_count": null,
      "outputs": []
    },
    {
      "cell_type": "code",
      "metadata": {
        "id": "ysIPVE27yKx2",
        "colab": {
          "base_uri": "https://localhost:8080/"
        },
        "outputId": "8fcdb1bd-8bc8-4942-c808-a2755815b5b6"
      },
      "source": [
        "import numpy as np\n",
        "import pandas as pd\n",
        "import seaborn as sns\n",
        "import matplotlib.pyplot as plt; plt.rcdefaults()\n",
        "%matplotlib inline\n",
        "\n",
        "import nltk\n",
        "import string\n",
        "from nltk.corpus import stopwords\n",
        "from razdel import tokenize\n",
        "nltk.download('stopwords')\n",
        "\n",
        "from sklearn.decomposition import TruncatedSVD\n",
        "from sklearn import preprocessing, model_selection, metrics\n",
        "import lightgbm as lgb"
      ],
      "execution_count": null,
      "outputs": [
        {
          "output_type": "stream",
          "text": [
            "[nltk_data] Downloading package stopwords to /root/nltk_data...\n",
            "[nltk_data]   Unzipping corpora/stopwords.zip.\n"
          ],
          "name": "stdout"
        }
      ]
    },
    {
      "cell_type": "code",
      "metadata": {
        "id": "DZqBljLEx5tZ"
      },
      "source": [
        "# можно не использовать колонки с тегами\n",
        "usecols = [\"Title\", \"Subtitle\", \"Image\", \"Author\", \"Publication\", \"Year\",\n",
        "           \"Month\", \"Day\", \"Reading_Time\", \"Claps\"]\n",
        "\n",
        "data = pd.read_csv(\"Medium_Clean.csv\", sep=\",\", usecols=usecols)\n",
        "data[\"Claps\"] = data[\"Claps\"].astype(int)\n",
        "data.head()"
      ],
      "execution_count": null,
      "outputs": []
    },
    {
      "cell_type": "markdown",
      "metadata": {
        "id": "rfshzMAnyOOq"
      },
      "source": [
        "**1. Эксплоративный анализ данных**"
      ]
    },
    {
      "cell_type": "code",
      "metadata": {
        "id": "Rpmu8UBgyM0Y",
        "colab": {
          "base_uri": "https://localhost:8080/"
        },
        "outputId": "815e3e3c-bc5d-4e78-cbc9-601f0e10c33f"
      },
      "source": [
        "# Посмотрим общую статистку статей, авторов и их публикаций\n",
        "print(\"Число статей: \", data.shape[0])\n",
        "print(\"Число авторов: \", data.Author.value_counts().shape[0])\n",
        "print(\"Число публицаций: \", data.Publication.value_counts().shape[0])"
      ],
      "execution_count": null,
      "outputs": [
        {
          "output_type": "stream",
          "text": [
            "Число статей:  1391033\n",
            "Число авторов:  351584\n",
            "Число публицаций:  43045\n"
          ],
          "name": "stdout"
        }
      ]
    },
    {
      "cell_type": "code",
      "metadata": {
        "id": "zS5T_2XDyUX1",
        "colab": {
          "base_uri": "https://localhost:8080/"
        },
        "outputId": "2439b4d9-24c4-437f-f6c1-16964a3d021d"
      },
      "source": [
        "# Смотрим, есть ли NaN значения, и удаляем их\n",
        "\n",
        "for col_name in data.columns:\n",
        "    num_nan_values = len(data[data[col_name].isna()])\n",
        "    print(\"Number of NaN values in %s column is %d\" % (col_name, num_nan_values))\n",
        "    if num_nan_values > 0:\n",
        "        data = data.dropna(subset=[col_name])\n",
        "\n",
        "print()\n",
        "print(\"Total number of rows is %d\" % data.shape[0])"
      ],
      "execution_count": null,
      "outputs": [
        {
          "output_type": "stream",
          "text": [
            "Number of NaN values in Title column is 48813\n",
            "Number of NaN values in Subtitle column is 417365\n",
            "Number of NaN values in Image column is 0\n",
            "Number of NaN values in Author column is 0\n",
            "Number of NaN values in Publication column is 653844\n",
            "Number of NaN values in Year column is 0\n",
            "Number of NaN values in Month column is 0\n",
            "Number of NaN values in Day column is 0\n",
            "Number of NaN values in Reading_Time column is 0\n",
            "Number of NaN values in Claps column is 0\n",
            "\n",
            "Total number of rows is 271011\n"
          ],
          "name": "stdout"
        }
      ]
    },
    {
      "cell_type": "code",
      "metadata": {
        "id": "iX5CL4VJ1-oQ",
        "colab": {
          "base_uri": "https://localhost:8080/"
        },
        "outputId": "4bfe5593-e8cf-42ed-d97c-2d736af31b44"
      },
      "source": [
        "for col_name in data.columns:\n",
        "    num_nan_values = len(data[data[col_name].isna()])\n",
        "    print(\"Number of NaN values in %s column is %d\" % (col_name, num_nan_values))"
      ],
      "execution_count": null,
      "outputs": [
        {
          "output_type": "stream",
          "text": [
            "Number of NaN values in Title column is 0\n",
            "Number of NaN values in Subtitle column is 0\n",
            "Number of NaN values in Image column is 0\n",
            "Number of NaN values in Author column is 0\n",
            "Number of NaN values in Publication column is 0\n",
            "Number of NaN values in Year column is 0\n",
            "Number of NaN values in Month column is 0\n",
            "Number of NaN values in Day column is 0\n",
            "Number of NaN values in Reading_Time column is 0\n",
            "Number of NaN values in Claps column is 0\n"
          ],
          "name": "stdout"
        }
      ]
    },
    {
      "cell_type": "code",
      "metadata": {
        "id": "VBZ2D55yzh5O"
      },
      "source": [
        "# Поправим индексы\n",
        "\n",
        "data = data.reset_index(drop=True)"
      ],
      "execution_count": null,
      "outputs": []
    },
    {
      "cell_type": "code",
      "metadata": {
        "id": "BLYEbKR5yWsI",
        "colab": {
          "base_uri": "https://localhost:8080/"
        },
        "outputId": "4c173970-4a44-4540-ca77-1925554adc14"
      },
      "source": [
        "# Посмотрим распределение годов\n",
        "\n",
        "data.Year.value_counts(normalize=True)"
      ],
      "execution_count": null,
      "outputs": [
        {
          "output_type": "execute_result",
          "data": {
            "text/plain": [
              "2018    0.590197\n",
              "2017    0.409803\n",
              "Name: Year, dtype: float64"
            ]
          },
          "metadata": {
            "tags": []
          },
          "execution_count": 8
        }
      ]
    },
    {
      "cell_type": "code",
      "metadata": {
        "id": "vS7HJqvJyY96",
        "colab": {
          "base_uri": "https://localhost:8080/"
        },
        "outputId": "601f9d75-e52e-47b7-9df7-8e11b9dd8865"
      },
      "source": [
        "# Пропорция уникальных текстов\n",
        "\n",
        "len(data.Title.unique()) / data.shape[0]"
      ],
      "execution_count": null,
      "outputs": [
        {
          "output_type": "execute_result",
          "data": {
            "text/plain": [
              "0.9643741397950637"
            ]
          },
          "metadata": {
            "tags": []
          },
          "execution_count": 9
        }
      ]
    },
    {
      "cell_type": "code",
      "metadata": {
        "id": "f0Hz8o9mybiJ",
        "colab": {
          "base_uri": "https://localhost:8080/"
        },
        "outputId": "d1d9457a-b53c-4967-9f2a-ff7801704770"
      },
      "source": [
        "# Удаление дубликатов\n",
        "\n",
        "data = data.drop_duplicates(subset=[\"Title\"])\n",
        "len(data[\"Title\"].unique()) / data.shape[0]"
      ],
      "execution_count": null,
      "outputs": [
        {
          "output_type": "execute_result",
          "data": {
            "text/plain": [
              "1.0"
            ]
          },
          "metadata": {
            "tags": []
          },
          "execution_count": 10
        }
      ]
    },
    {
      "cell_type": "code",
      "metadata": {
        "id": "RQMdjo1Bydht",
        "colab": {
          "base_uri": "https://localhost:8080/"
        },
        "outputId": "7338c778-09a7-4f88-b76f-49aff64670b2"
      },
      "source": [
        "# Посмотрим максимальное и минимальное кол-во Clasp \n",
        "\n",
        "print(\"Minimum CLaps: \", int(data.Claps.min()), )\n",
        "print(\"Maximum Claps: \", int(data.Claps.max()))"
      ],
      "execution_count": null,
      "outputs": [
        {
          "output_type": "stream",
          "text": [
            "Minimum CLaps:  0\n",
            "Maximum Claps:  291000\n"
          ],
          "name": "stdout"
        }
      ]
    },
    {
      "cell_type": "code",
      "metadata": {
        "id": "l8Hlz22nyf6v",
        "colab": {
          "base_uri": "https://localhost:8080/",
          "height": 261
        },
        "outputId": "96a69d74-9b46-4079-9d25-e68661f32037"
      },
      "source": [
        "# Посмотрим распредление статей по времени\n",
        "\n",
        "years = [2017,2018]\n",
        "months = [1,2,3,4,5,6,7,8,9,10,11,12]\n",
        "ym_counts = []\n",
        "date = []\n",
        "for year in years:\n",
        "    for month in months:\n",
        "        ym_counts.append(data[(data.Year==year)&(data.Month==month)].Claps.sum())\n",
        "        date.append(str(month)+\" / \"+str(year))\n",
        "\n",
        "# удаляем месяцы в которых не было статей\n",
        "ym_counts = ym_counts[7:-4]     \n",
        "date = date[7:-4]\n",
        "\n",
        "\n",
        "plt.figure(figsize=(10,3))\n",
        "plt.bar(date, ym_counts, color = \"#9370DB\")\n",
        "plt.title(\"Распределение Claps за месяц \\ год\", fontsize=12)\n",
        "plt.ylabel(\"Claps\")\n",
        "plt.xticks(rotation=70, fontsize=9)\n",
        "plt.show()\n",
        "\n",
        "# дата публикации статьи как-то не очень влияет на Claps"
      ],
      "execution_count": null,
      "outputs": [
        {
          "output_type": "display_data",
          "data": {
            "image/png": "[encoded data removed]",
            "text/plain": [
              "<Figure size 720x216 with 1 Axes>"
            ]
          },
          "metadata": {
            "tags": [],
            "needs_background": "light"
          }
        }
      ]
    },
    {
      "cell_type": "code",
      "metadata": {
        "id": "e6QKwXQHyih7",
        "colab": {
          "base_uri": "https://localhost:8080/",
          "height": 323
        },
        "outputId": "37bc4a3b-9520-4b32-b155-57816e3caab9"
      },
      "source": [
        "avs=[]\n",
        "medians=[]\n",
        "total_cs = []\n",
        "readts=[]\n",
        "entries = []\n",
        "for x in range(15):\n",
        "    medians.append(data[data.Reading_Time==x].Claps.quantile(q=0.5))\n",
        "    readts.append(x)\n",
        "    entries.append(data[data.Reading_Time==x].shape[0])\n",
        "    total_cs.append(data[data.Reading_Time==x].Claps.sum())\n",
        "\n",
        "plt.figure(figsize=(12,5))\n",
        "plt.bar(readts,entries, color=\"blue\")\n",
        "plt.vlines(data.Reading_Time.median(),0,50000,\n",
        "           color=\"black\",\n",
        "           linestyle=\"dashed\",\n",
        "           label=\"Медиана времени чтения\")\n",
        "plt.title(\"Время на прочтение статьи\", fontsize=14)\n",
        "plt.ylabel(\"Статьи\")\n",
        "plt.xlabel(\"Время чтения в минутах\", fontsize=13)\n",
        "plt.legend()"
      ],
      "execution_count": null,
      "outputs": [
        {
          "output_type": "execute_result",
          "data": {
            "text/plain": [
              "<matplotlib.legend.Legend at 0x7f97e318f748>"
            ]
          },
          "metadata": {
            "tags": []
          },
          "execution_count": 13
        },
        {
          "output_type": "display_data",
          "data": {
            "image/png": "[encoded data removed]",
            "text/plain": [
              "<Figure size 864x360 with 1 Axes>"
            ]
          },
          "metadata": {
            "tags": [],
            "needs_background": "light"
          }
        }
      ]
    },
    {
      "cell_type": "code",
      "metadata": {
        "id": "3epTzzPYylJb",
        "colab": {
          "base_uri": "https://localhost:8080/",
          "height": 279
        },
        "outputId": "cced5bcd-db9e-40af-d34d-d92c3bae0647"
      },
      "source": [
        "def lineplot(x_data, y_data, x_label=\"\", y_label=\"\", title=\"\"):\n",
        "    _, ax = plt.subplots()\n",
        "\n",
        "    ax.plot(x_data, y_data, lw = 2, color = 'blue', alpha = 1)\n",
        "\n",
        "    ax.set_title(title)\n",
        "    ax.set_xlabel(x_label)\n",
        "    ax.set_ylabel(y_label)\n",
        "\n",
        "lineplot(data.Claps, data.Reading_Time, \"Claps\", \"Время чтения\")\n",
        "# можно сказать, что, чем меньше время чтения, тем больше Claps"
      ],
      "execution_count": null,
      "outputs": [
        {
          "output_type": "display_data",
          "data": {
            "image/png": "[encoded data removed]",
            "text/plain": [
              "<Figure size 432x288 with 1 Axes>"
            ]
          },
          "metadata": {
            "tags": [],
            "needs_background": "light"
          }
        }
      ]
    },
    {
      "cell_type": "code",
      "metadata": {
        "id": "HTC6qMNpynEV",
        "colab": {
          "base_uri": "https://localhost:8080/",
          "height": 281
        },
        "outputId": "6a769360-b46a-416a-8739-8e4ec15ca5d2"
      },
      "source": [
        "objects = ('Без картинки' , 'С картинкой')\n",
        "y_pos = np.arange(len(objects))\n",
        "performance = [data[data.Image==0].Claps.sum(), data[data.Image==1].Claps.sum()]\n",
        "plt.bar(y_pos, performance, align='center')\n",
        "plt.xticks(y_pos, objects)\n",
        "plt.ylabel('Количество Claps')\n",
        "plt.title('Зависимость Claps от наличия картинки')\n",
        "\n",
        "plt.show()"
      ],
      "execution_count": null,
      "outputs": [
        {
          "output_type": "display_data",
          "data": {
            "image/png": "[encoded data removed]",
            "text/plain": [
              "<Figure size 432x288 with 1 Axes>"
            ]
          },
          "metadata": {
            "tags": [],
            "needs_background": "light"
          }
        }
      ]
    },
    {
      "cell_type": "markdown",
      "metadata": {
        "id": "J-u7-Uq3RfYz"
      },
      "source": [
        "**2. Конструирование текстовых признаков **\n"
      ]
    },
    {
      "cell_type": "code",
      "metadata": {
        "id": "VwmzByj_uPzZ"
      },
      "source": [
        "# посчитаем кол-во токенов в тайтле\n",
        "data['len_tokens'] = data['Title'].apply(lambda x: len(x.split()))"
      ],
      "execution_count": null,
      "outputs": []
    },
    {
      "cell_type": "code",
      "metadata": {
        "id": "UpQWR6Jqv2ge",
        "colab": {
          "base_uri": "https://localhost:8080/"
        },
        "outputId": "592575a4-a68e-4c4e-f6c8-94bbd42bfec1"
      },
      "source": [
        "! pip install razdel"
      ],
      "execution_count": null,
      "outputs": [
        {
          "output_type": "stream",
          "text": [
            "Requirement already satisfied: razdel in /usr/local/lib/python3.6/dist-packages (0.5.0)\n"
          ],
          "name": "stdout"
        }
      ]
    },
    {
      "cell_type": "code",
      "metadata": {
        "id": "OBn0bayAwlqL"
      },
      "source": [
        "def preproc_text(text):\n",
        "    # токенизируем\n",
        "    tokens = [_.text for _ in list(tokenize(text))]\n",
        "    \n",
        "    # приводим к нижнему регистру\n",
        "    tokens = [w.lower() for w in tokens]\n",
        "    \n",
        "    # убираем пунктуацию\n",
        "    table = str.maketrans('', '', string.punctuation)\n",
        "    stripped = [w.translate(table) for w in tokens]\n",
        "    \n",
        "    # убираем числа и оставлем только кирилицу\n",
        "    words = [word for word in stripped if word.isalpha()]\n",
        "    \n",
        "    # удаляем стоп-слова\n",
        "    stop_words = set(stopwords.words('english'))\n",
        "    words = [w for w in words if not w in stop_words]\n",
        "    text = ' '.join(words)\n",
        "    \n",
        "    return text"
      ],
      "execution_count": null,
      "outputs": []
    },
    {
      "cell_type": "code",
      "metadata": {
        "id": "Iiu98iOoy6y0"
      },
      "source": [
        "# добавим пробелы в конец тайтлова чтобы соединить их с сабтайтлами\n",
        "titles = []\n",
        "for title in data['Title']:\n",
        "  title = title + ' '\n",
        "  titles.append(title)\n",
        "\n",
        "# обновим тайтлы\n",
        "data['Title'] = titles\n",
        "\n",
        "# соедним \n",
        "data['text'] = data['Title'] + data['Subtitle']\n"
      ],
      "execution_count": null,
      "outputs": []
    },
    {
      "cell_type": "code",
      "metadata": {
        "id": "TrnX-UwK0DS7",
        "colab": {
          "base_uri": "https://localhost:8080/",
          "height": 67,
          "referenced_widgets": [
            "81a0be2b8723436cb1b4db7f6a22d255",
            "4788809f6fbc4f419811f9a0e8905b1e",
            "711e8ec6aab543b98d8f0bce7bd6075f",
            "d4d383c6754749e5adb8cfbeff3d6343",
            "77e50ce5b2784f6cafb126d0da11aaa0",
            "30fc2c1d25c443cfb594557856504e41",
            "0c5dfc9ef9d3443fa12cf240def6865b",
            "2b110256c940488b834d3f7e5f4441f9"
          ]
        },
        "outputId": "f50409b9-f623-42d1-b198-b258d6f9c34d"
      },
      "source": [
        "# препроцессинг для тайтлов и сабтайтлов\n",
        "from tqdm.auto import tqdm\n",
        "clean_texts = [] \n",
        "for t in tqdm(data['text']):\n",
        "  clean_texts.append(preproc_text(t))\n",
        "\n",
        "data['clean_text'] = clean_texts"
      ],
      "execution_count": null,
      "outputs": [
        {
          "output_type": "display_data",
          "data": {
            "application/vnd.jupyter.widget-view+json": {
              "model_id": "81a0be2b8723436cb1b4db7f6a22d255",
              "version_minor": 0,
              "version_major": 2
            },
            "text/plain": [
              "HBox(children=(FloatProgress(value=0.0, max=261356.0), HTML(value='')))"
            ]
          },
          "metadata": {
            "tags": []
          }
        },
        {
          "output_type": "stream",
          "text": [
            "\n"
          ],
          "name": "stdout"
        }
      ]
    },
    {
      "cell_type": "code",
      "metadata": {
        "id": "mtmEUADhC5Jf",
        "colab": {
          "base_uri": "https://localhost:8080/"
        },
        "outputId": "ab370f38-351e-4b6e-fc0a-b20f4648ac32"
      },
      "source": [
        "# посмотрим на распределение Clpas\n",
        "data.sort_values('Claps', ascending = False).Claps[:1000].describe()"
      ],
      "execution_count": null,
      "outputs": [
        {
          "output_type": "execute_result",
          "data": {
            "text/plain": [
              "count      1000.000000\n",
              "mean      15232.810000\n",
              "std       18032.365042\n",
              "min        6200.000000\n",
              "25%        7800.000000\n",
              "50%       10100.000000\n",
              "75%       15600.000000\n",
              "max      291000.000000\n",
              "Name: Claps, dtype: float64"
            ]
          },
          "metadata": {
            "tags": []
          },
          "execution_count": 23
        }
      ]
    },
    {
      "cell_type": "code",
      "metadata": {
        "id": "J1jcGw__ys9D",
        "colab": {
          "base_uri": "https://localhost:8080/",
          "height": 67,
          "referenced_widgets": [
            "910e1d878f3745e68ece91980703dc36",
            "af5ff6ed6843431ba63ea07e1f0a4e36",
            "5020bbecf72544c2a5c8e45e1a527c6f",
            "ff000108ac9141f6bbd170ee0ccc06bd",
            "23078176782f465a85624b44d0871a86",
            "085a85f8cc8f4b349ba4218afbaffb1c",
            "411e397c8bc6495db2d9c8315166a8d3",
            "a5143bfa57674fb599ca0fa357df4bc0"
          ]
        },
        "outputId": "4b23911c-3e87-4172-a144-7986c61942e2"
      },
      "source": [
        "# соберем слова из тайтлов, где больше всего Claps\n",
        "hypewords = []\n",
        "for text in tqdm(data.sort_values('Claps', ascending = False).Title[:1000]):\n",
        "  for t in text.split():\n",
        "    hypewords.append(preproc_text(t))\n",
        "\n",
        "# возьмем 100 самый употребляемых слов из предыдущего списка\n",
        "from collections import Counter\n",
        "words = []\n",
        "for i in Counter(hypewords).most_common(100):\n",
        "  words.append(i[0])"
      ],
      "execution_count": null,
      "outputs": [
        {
          "output_type": "display_data",
          "data": {
            "application/vnd.jupyter.widget-view+json": {
              "model_id": "910e1d878f3745e68ece91980703dc36",
              "version_minor": 0,
              "version_major": 2
            },
            "text/plain": [
              "HBox(children=(FloatProgress(value=0.0, max=1000.0), HTML(value='')))"
            ]
          },
          "metadata": {
            "tags": []
          }
        },
        {
          "output_type": "stream",
          "text": [
            "\n"
          ],
          "name": "stdout"
        }
      ]
    },
    {
      "cell_type": "code",
      "metadata": {
        "id": "jj295ZC3BRAF",
        "colab": {
          "base_uri": "https://localhost:8080/",
          "height": 67,
          "referenced_widgets": [
            "4fb827c2c8654d27801e578878d4f57f",
            "d340c85bbb8b4bb7abc39c7830156eb1",
            "4d2d172db03f43a7af158169a30cc5ab",
            "9a4057eb608d4cc495a89e60254b58bc",
            "73a9900af8bf4e75a8133d4a9f7741e6",
            "d270d280c8864c239186a27bdbff6c2d",
            "6b688d2d903f42e8a72c8274e63463ef",
            "1c914a8cc6194edeaddf3ea6a0f1169f"
          ]
        },
        "outputId": "0e78cf63-5d87-4c45-b2d5-e8396495cff5"
      },
      "source": [
        "# посчитаем для каждой стати хайповые слова в тайтле \n",
        "hype_words_number = []\n",
        "for title in tqdm(data.Title):\n",
        "  n = 0\n",
        "  for w in title.split():\n",
        "    if preproc_text(w) in words:\n",
        "      n+=1\n",
        "  hype_words_number.append(n)\n",
        "\n",
        "data['hype_words_number'] = hype_words_number"
      ],
      "execution_count": null,
      "outputs": [
        {
          "output_type": "display_data",
          "data": {
            "application/vnd.jupyter.widget-view+json": {
              "model_id": "4fb827c2c8654d27801e578878d4f57f",
              "version_minor": 0,
              "version_major": 2
            },
            "text/plain": [
              "HBox(children=(FloatProgress(value=0.0, max=261356.0), HTML(value='')))"
            ]
          },
          "metadata": {
            "tags": []
          }
        },
        {
          "output_type": "stream",
          "text": [
            "\n"
          ],
          "name": "stdout"
        }
      ]
    },
    {
      "cell_type": "code",
      "metadata": {
        "id": "RDJ5dSYS2VK9",
        "colab": {
          "base_uri": "https://localhost:8080/",
          "height": 416
        },
        "outputId": "f488a183-6efc-4c55-b69c-900883a55fb8"
      },
      "source": [
        "fig, ax = plt.subplots(figsize=(10, 5))\n",
        "\n",
        "sns.heatmap(\n",
        "    data=data.corr(), \n",
        "    annot=True,\n",
        "    ax=ax\n",
        ")\n",
        "\n",
        "plt.title(\"Корреляция между признаками дф\")\n",
        "plt.show()"
      ],
      "execution_count": null,
      "outputs": [
        {
          "output_type": "display_data",
          "data": {
            "image/png": "[encoded data removed]",
            "text/plain": [
              "<Figure size 720x360 with 2 Axes>"
            ]
          },
          "metadata": {
            "tags": [],
            "needs_background": "light"
          }
        }
      ]
    },
    {
      "cell_type": "markdown",
      "metadata": {
        "id": "9j8nPLdkiHqM"
      },
      "source": [
        "Из матрицы видим,что больше всего корреляция между временем чтении, наличием хайповых слов, с наличием картинки и совсем неменого с кол-вом токенов"
      ]
    },
    {
      "cell_type": "code",
      "metadata": {
        "id": "6s2z0x3GpT7_"
      },
      "source": [
        "# разделим выборку на тест и трейн\n",
        "from sklearn.model_selection import train_test_split\n",
        "test, train = train_test_split(data, test_size = 0.8, random_state = 42)"
      ],
      "execution_count": null,
      "outputs": []
    },
    {
      "cell_type": "code",
      "metadata": {
        "id": "WsTyr3oYXBlB"
      },
      "source": [
        "# создадим матрицу векторов\n",
        "# используем для корпуса текстов тайтлы и сабтайтлы статей \n",
        "from sklearn.feature_extraction.text import TfidfVectorizer\n",
        "tfidf_vec = TfidfVectorizer(lowercase=False)\n",
        "full_tfidf = tfidf_vec.fit_transform(train['clean_text'].values.tolist() + test['clean_text'].values.tolist())\n",
        "train_tfidf = tfidf_vec.transform(train['clean_text'].values.tolist())\n",
        "test_tfidf = tfidf_vec.transform(test['clean_text'].values.tolist())"
      ],
      "execution_count": null,
      "outputs": []
    },
    {
      "cell_type": "code",
      "metadata": {
        "id": "2tHGmjAYYhIN"
      },
      "source": [
        "# получим SVD компоненты для наших тфидф матриц\n",
        "\n",
        "from sklearn.decomposition import TruncatedSVD\n",
        "n_comp = 3\n",
        "svd_obj = TruncatedSVD(n_components=n_comp, algorithm='arpack')\n",
        "svd_obj.fit(full_tfidf)\n",
        "train_svd = pd.DataFrame(svd_obj.transform(train_tfidf))\n",
        "test_svd = pd.DataFrame(svd_obj.transform(test_tfidf))\n",
        "train_svd.columns = ['svd_title_'+str(i+1) for i in range(n_comp)]\n",
        "test_svd.columns = ['svd_title_'+str(i+1) for i in range(n_comp)]\n",
        "train_df = pd.concat([train, train_svd], axis=1)\n",
        "test_df = pd.concat([test, test_svd], axis=1)\n",
        "del full_tfidf, train_tfidf, test_tfidf, train_svd, test_svd"
      ],
      "execution_count": null,
      "outputs": []
    },
    {
      "cell_type": "code",
      "metadata": {
        "id": "c2GH0Hs3yUf0"
      },
      "source": [
        "# удалим пустые значения (я не знаю почему они появляются из трейна и тестa)\n",
        "for col_name in test_df.columns:\n",
        "    num_nan_values = len(test_df[test_df[col_name].isna()])\n",
        "    if num_nan_values > 0:\n",
        "        test_df = test_df.dropna(subset=[col_name])\n",
        "\n",
        "for col_name in train_df.columns:\n",
        "    num_nan_values = len(train_df[train_df[col_name].isna()])\n",
        "    if num_nan_values > 0:\n",
        "        train_df = train_df.dropna(subset=[col_name])"
      ],
      "execution_count": null,
      "outputs": []
    },
    {
      "cell_type": "markdown",
      "metadata": {
        "id": "tRjjXd6GRmcV"
      },
      "source": [
        "**3. Отбор важных признаков, поиск гиперпараметров, минимизация переобучения **"
      ]
    },
    {
      "cell_type": "code",
      "metadata": {
        "id": "iS1yE2g3n0D6"
      },
      "source": [
        "# целевая переменная\n",
        "train_y = train_df[\"Claps\"].values\n",
        "\n",
        "from sklearn import preprocessing, model_selection, metrics\n",
        "\n",
        "# переведем категориальные пременные в лейблы \n",
        "cat_vars = [\"Author\", \"Publication\"]\n",
        "for col in cat_vars:\n",
        "    lbl = preprocessing.LabelEncoder()\n",
        "    lbl.fit(list(train_df[col].values.astype('str')) + list(test_df[col].values.astype('str')))\n",
        "    train_df[col] = lbl.transform(list(train_df[col].values.astype('str')))\n",
        "    test_df[col] = lbl.transform(list(test_df[col].values.astype('str')))\n",
        "\n",
        "# удаляем ненужные колонки\n",
        "cols_to_drop = [\"Title\", \"Subtitle\", \"clean_text\", \"text\"]\n",
        "train_X = train_df.drop(cols_to_drop + [\"Claps\"], axis=1)\n",
        "test_X = test_df.drop(cols_to_drop, axis=1)"
      ],
      "execution_count": null,
      "outputs": []
    },
    {
      "cell_type": "code",
      "metadata": {
        "id": "BddJPLKFpvBo"
      },
      "source": [
        "# создадим функцию для построения модели LightGBM.\n",
        "def run_lgb(train_X, train_y, val_X, val_y, test_X):\n",
        "    params = {\n",
        "        \"objective\" : \"regression\",\n",
        "        \"metric\" : \"rmse\",\n",
        "        \"num_leaves\" : 30,\n",
        "        \"learning_rate\" : 0.1,\n",
        "        \"bagging_fraction\" : 0.7,\n",
        "        \"feature_fraction\" : 0.7,\n",
        "        \"bagging_frequency\" : 5,\n",
        "        \"bagging_seed\" : 2018,\n",
        "        \"verbosity\" : -1\n",
        "    }\n",
        "    \n",
        "    lgtrain = lgb.Dataset(train_X, label=train_y)\n",
        "    lgval = lgb.Dataset(val_X, label=val_y)\n",
        "    evals_result = {}\n",
        "    model = lgb.train(params, lgtrain, 100, valid_sets=[lgval], early_stopping_rounds=100, verbose_eval=20, evals_result=evals_result)\n",
        "    \n",
        "    pred_test_y = model.predict(test_X, num_iteration=model.best_iteration)\n",
        "    return pred_test_y, model, evals_result"
      ],
      "execution_count": null,
      "outputs": []
    },
    {
      "cell_type": "code",
      "metadata": {
        "id": "xtr7TAAOp6x_",
        "colab": {
          "base_uri": "https://localhost:8080/"
        },
        "outputId": "5cbe6f73-8d79-4d76-f90c-aa39e323bbb7"
      },
      "source": [
        "# Разделим данные для тренировки модели\n",
        "dev_X = train_X.iloc[:-5000,:]\n",
        "val_X = train_X.iloc[-5000:,:]\n",
        "dev_y = train_y[:-5000]\n",
        "val_y = train_y[-5000:]\n",
        "print(dev_X.shape, val_X.shape, test_X.shape)\n",
        "\n",
        "# Тренируем модель\n",
        "\n",
        "pred_test, model, evals_result = run_lgb(dev_X, dev_y, val_X, val_y, test_X)\n",
        "\n",
        "# Сохраним результаты в отдельную таблицу\n",
        "pred_test[pred_test>1] = 1\n",
        "pred_test[pred_test<0] = 0\n",
        "rmse_df = pd.DataFrame()\n",
        "rmse_df[\"Claps\"] = pred_test"
      ],
      "execution_count": null,
      "outputs": [
        {
          "output_type": "stream",
          "text": [
            "(156665, 12) (5000, 12) (10270, 13)\n",
            "Training until validation scores don't improve for 100 rounds.\n",
            "[20]\tvalid_0's rmse: 1063.82\n",
            "[40]\tvalid_0's rmse: 1066.43\n",
            "[60]\tvalid_0's rmse: 1068.79\n",
            "[80]\tvalid_0's rmse: 1069.03\n",
            "[100]\tvalid_0's rmse: 1070.35\n",
            "Did not meet early stopping. Best iteration is:\n",
            "[8]\tvalid_0's rmse: 1063.64\n"
          ],
          "name": "stdout"
        }
      ]
    },
    {
      "cell_type": "code",
      "metadata": {
        "id": "WAc1Qt3MrHSo",
        "colab": {
          "base_uri": "https://localhost:8080/",
          "height": 827
        },
        "outputId": "7e16a079-dde5-490b-d5a3-a4fbe981f9d2"
      },
      "source": [
        "# Посмотрим на важность признаков \n",
        "fig, ax = plt.subplots(figsize=(12,18))\n",
        "lgb.plot_importance(model, max_num_features=50, height=0.8, ax=ax)\n",
        "ax.grid(False)\n",
        "plt.title(\"LightGBM - Feature Importance\", fontsize=15)\n",
        "plt.show()"
      ],
      "execution_count": null,
      "outputs": [
        {
          "output_type": "display_data",
          "data": {
            "image/png": "[encoded data removed]",
            "text/plain": [
              "<Figure size 864x1296 with 1 Axes>"
            ]
          },
          "metadata": {
            "tags": [],
            "needs_background": "light"
          }
        }
      ]
    },
    {
      "cell_type": "markdown",
      "metadata": {
        "id": "naMi_sDQxqkK"
      },
      "source": [
        "Вот так мы определили важные признаки: название статьи,  время чтения, публикацию, хайповые слова и наличие картинки"
      ]
    },
    {
      "cell_type": "code",
      "metadata": {
        "id": "YWeLnjMu7qFC"
      },
      "source": [
        "X_train = train_df[['svd_title_3', 'hype_words_number', 'Publication', 'Image', 'Reading_Time' ]]\n",
        "y_train = train_df['Claps']\n",
        "X_test = test_df[['svd_title_3', 'hype_words_number', 'Publication', 'Image', 'Reading_Time' ]]\n",
        "y_test = test_df['Claps']"
      ],
      "execution_count": null,
      "outputs": []
    },
    {
      "cell_type": "markdown",
      "metadata": {
        "id": "omFzy2MLR20U"
      },
      "source": [
        "**4. Адаптация аугментации данных с заменой слов **\n"
      ]
    },
    {
      "cell_type": "code",
      "metadata": {
        "id": "PtNpVHe0rQLt"
      },
      "source": [
        "!wget -c http://vectors.nlpl.eu/repository/20/5.zip\n",
        "!unzip 5.zip"
      ],
      "execution_count": null,
      "outputs": []
    },
    {
      "cell_type": "code",
      "metadata": {
        "id": "KaNKkJqyFHDU"
      },
      "source": [
        "import gensim\n",
        "\n",
        "\n",
        "model_eng = gensim.models.KeyedVectors.load_word2vec_format(\"model_en.bin\", binary=True)\n",
        "model_eng.init_sims(replace=True)"
      ],
      "execution_count": null,
      "outputs": []
    },
    {
      "cell_type": "code",
      "metadata": {
        "id": "0acd8tbaKYh6",
        "colab": {
          "base_uri": "https://localhost:8080/"
        },
        "outputId": "17a6d600-867d-4058-837e-2882713d83f2"
      },
      "source": [
        "nltk.download('wordnet')\n",
        "from nltk.stem import WordNetLemmatizer \n",
        "import nltk\n",
        "nltk.download('punkt')\n",
        "lemmatizer = WordNetLemmatizer()"
      ],
      "execution_count": null,
      "outputs": [
        {
          "output_type": "stream",
          "text": [
            "[nltk_data] Downloading package wordnet to /root/nltk_data...\n",
            "[nltk_data]   Unzipping corpora/wordnet.zip.\n"
          ],
          "name": "stdout"
        }
      ]
    },
    {
      "cell_type": "code",
      "metadata": {
        "id": "nZ471Z9VKnsw",
        "colab": {
          "base_uri": "https://localhost:8080/",
          "height": 35
        },
        "outputId": "5f2b78e4-c6d0-4119-c0c9-f83ff8ba2ebe"
      },
      "source": [
        "def augment_word2vec_eng(sentence, model=model_eng):\n",
        "\n",
        "    # tokens = list(tokenize(str(sentence)))\n",
        "    words = nltk.word_tokenize(sentence)\n",
        "    new_sent = []\n",
        "    for word in words:\n",
        "        lemma = lemmatizer.lemmatize(str(word))\n",
        "        if lemma in model:\n",
        "            w = model.most_similar(lemma)[0]\n",
        "            new_sent.append(str(w[0]))\n",
        "        else:\n",
        "           new_sent.append(word)\n",
        "    return ' '.join(new_sent)\n",
        "\n",
        "augment_word2vec_eng('mother on the test set')"
      ],
      "execution_count": null,
      "outputs": [
        {
          "output_type": "execute_result",
          "data": {
            "application/vnd.google.colaboratory.intrinsic+json": {
              "type": "string"
            },
            "text/plain": [
              "'grandmother with of testing CITATION'"
            ]
          },
          "metadata": {
            "tags": []
          },
          "execution_count": 326
        }
      ]
    },
    {
      "cell_type": "code",
      "metadata": {
        "id": "DVX9OLHLIEYv"
      },
      "source": [
        "# датасет очень большой, так что просто покажу как в теории можно делать\n",
        "# аугументацию данных на игрушечном примере\n",
        "\n",
        "aug_title = []\n",
        "for t in data.Title[:50]:\n",
        "  new_title = augment_word2vec_eng(t)\n",
        "  aug_title.append(new_title)"
      ],
      "execution_count": null,
      "outputs": []
    },
    {
      "cell_type": "code",
      "metadata": {
        "id": "qBSaXoqtMfk5",
        "colab": {
          "base_uri": "https://localhost:8080/"
        },
        "outputId": "6f33d538-063d-466d-9e04-5d73d075a702"
      },
      "source": [
        "for i in aug_title[:10]:\n",
        "  print(i)"
      ],
      "execution_count": null,
      "outputs": [
        {
          "output_type": "stream",
          "text": [
            "The Product Generated through ai LED mindfulness\n",
            "Paralamas Melhores Golf la JulhoCmeras vintage , Gmail Stained , Trek Trek hotel\n",
            "The Tense and ai : Redefining How We Imagine\n",
            "Serverless Prefabricated PaaS Accelerates Entrepreneurship Dynamic\n",
            "Chatbot2022630\n",
            "nx-01 chat Daily roundup # 2\n",
            "The Sub/Tweet : ai hectare arrived\n",
            "XiaomiAmazon Bunnymen $ 44\n",
            "iTranslate Hollister\n",
            "API.AI a Lines messaging api ( build-operate-transfer ) # # 2\n"
          ],
          "name": "stdout"
        }
      ]
    },
    {
      "cell_type": "markdown",
      "metadata": {
        "id": "X4LUisFjR9C8"
      },
      "source": [
        "**5. Сравнение качества моделей, выбор наилучшей **"
      ]
    },
    {
      "cell_type": "code",
      "metadata": {
        "id": "jw_wW5Lq98GB"
      },
      "source": [
        "# Масштабируем признаки для модели\n",
        "from sklearn.preprocessing import MinMaxScaler\n",
        "scaler = MinMaxScaler(feature_range=(0, 1))\n",
        "# фиттим\n",
        "scaler.fit(X_train)\n",
        "# трасформируем данные\n",
        "X_train = scaler.transform(X_train)\n",
        "X_test = scaler.transform(X_test)"
      ],
      "execution_count": null,
      "outputs": []
    },
    {
      "cell_type": "code",
      "metadata": {
        "id": "oemuIoaK_VJe",
        "colab": {
          "base_uri": "https://localhost:8080/"
        },
        "outputId": "a8499130-3cd8-47ea-b7d7-3edd09588996"
      },
      "source": [
        "from sklearn.neighbors import KNeighborsClassifier\n",
        "from sklearn.metrics import *\n",
        "\n",
        "clf = KNeighborsClassifier().fit(X_train, y_train)\n",
        "predicted = clf.predict(X_test)\n",
        "\n",
        "# оцениваем модель\n",
        "mae = np.mean(abs(predicted - y_test))\n",
        "\n",
        "print('KNeighborsClassifier Performance on the test set: MAE = %0.4f' % mae)"
      ],
      "execution_count": null,
      "outputs": [
        {
          "output_type": "stream",
          "text": [
            "KNeighborsClassifier Performance on the test set: MAE = 159.4960\n"
          ],
          "name": "stdout"
        }
      ]
    },
    {
      "cell_type": "code",
      "metadata": {
        "id": "LkF9zEZnA4iy",
        "colab": {
          "base_uri": "https://localhost:8080/"
        },
        "outputId": "828495c9-9708-43c2-eb69-a33b6ceddd66"
      },
      "source": [
        "from sklearn.naive_bayes import MultinomialNB\n",
        "clf = MultinomialNB().fit(X_train, y_train)\n",
        "predicted = clf.predict(X_test)\n",
        "\n",
        "# оцениваем модель\n",
        "mae = np.mean(abs(predicted - y_test))\n",
        "\n",
        "print('MultinomialNB Performance on the test set: MAE = %0.4f' % mae)"
      ],
      "execution_count": null,
      "outputs": [
        {
          "output_type": "stream",
          "text": [
            "MultinomialNB Performance on the test set: MAE = 159.9733\n"
          ],
          "name": "stdout"
        }
      ]
    },
    {
      "cell_type": "code",
      "metadata": {
        "id": "s2s2iey5UjWp",
        "colab": {
          "base_uri": "https://localhost:8080/"
        },
        "outputId": "5521c6ab-bef3-4753-a042-a5229dbcc1a7"
      },
      "source": [
        "from sklearn.linear_model import LinearRegression, Ridge, Lasso, ElasticNet\n",
        "reg = Ridge(alpha=1)\n",
        "reg.fit(X_train, y_train)\n",
        "predicted = reg.predict(X_test)\n",
        "# оцениваем модель\n",
        "mae = np.mean(abs(predicted - y_test))\n",
        "\n",
        "print('Ridge Performance on the test set: MAE = %0.4f' % mae)"
      ],
      "execution_count": null,
      "outputs": [
        {
          "output_type": "stream",
          "text": [
            "Ridge Performance on the test set: MAE = 226.1592\n"
          ],
          "name": "stdout"
        }
      ]
    },
    {
      "cell_type": "code",
      "metadata": {
        "id": "iIWLl-Xx_8Iq",
        "colab": {
          "base_uri": "https://localhost:8080/"
        },
        "outputId": "0812b7d4-91a3-4cb9-8f19-30da35d84a4a"
      },
      "source": [
        "from sklearn.tree import DecisionTreeClassifier\n",
        "clf = DecisionTreeClassifier().fit(X_train, y_train)\n",
        "predictions = clf.predict(X_test)\n",
        "mae = np.mean(abs(predictions - y_test))\n",
        "\n",
        "print('DecisionTreeClassifier Performance on the test set: MAE = %0.4f' % mae)"
      ],
      "execution_count": null,
      "outputs": [
        {
          "output_type": "stream",
          "text": [
            "DecisionTreeClassifier Performance on the test set: MAE = 241.1375\n"
          ],
          "name": "stdout"
        }
      ]
    },
    {
      "cell_type": "code",
      "metadata": {
        "id": "7RRpUtEZVKIE",
        "colab": {
          "base_uri": "https://localhost:8080/"
        },
        "outputId": "b246ef63-ccd2-41f8-8bf0-5c6f2d118695"
      },
      "source": [
        "from sklearn.ensemble import GradientBoostingRegressor\n",
        "clf = GradientBoostingRegressor().fit(X_train, y_train)\n",
        "predicted = clf.predict(X_test)\n",
        "# оцениваем модель\n",
        "mae = np.mean(abs(predicted - y_test))\n",
        "print('Gradient Boosted Performance on the test set: MAE = %0.4f' % mae)"
      ],
      "execution_count": null,
      "outputs": [
        {
          "output_type": "stream",
          "text": [
            "Gradient Boosted Performance on the test set: MAE = 216.8038\n"
          ],
          "name": "stdout"
        }
      ]
    },
    {
      "cell_type": "code",
      "metadata": {
        "id": "jirrj5RoRJ8v",
        "colab": {
          "base_uri": "https://localhost:8080/"
        },
        "outputId": "94d52e91-75e5-416a-c3b8-944a3601052b"
      },
      "source": [
        "from sklearn.model_selection import RandomizedSearchCV\n",
        "\n",
        "# количество соседей\n",
        "n_neighbors = [2, 3, 4, 5]\n",
        "\n",
        "# веса\n",
        "weights = ['uniform', 'distance']\n",
        "\n",
        "# метрика расстояния\n",
        "metric = ['euclidean', 'manhattan']\n",
        "\n",
        "# определяем гиперпараметры\n",
        "hyperparameter_grid = {'n_neighbors': n_neighbors,\n",
        "                       'weights': weights,\n",
        "                       'metric': metric}\n",
        "\n",
        "\n",
        "grid = GridSearchCV(KNeighborsClassifier(), \n",
        "                    hyperparameter_grid, \n",
        "                    verbose = 1, \n",
        "                    cv=3,\n",
        "                    n_jobs = -1)\n",
        "\n",
        "grid_result = grid.fit(X_train, y_train) \n",
        "\n",
        "grid_result.best_estimator_\n",
        "grid_result.best_score_\n",
        "grid_result.best_params_"
      ],
      "execution_count": null,
      "outputs": [
        {
          "output_type": "stream",
          "text": [
            "Fitting 3 folds for each of 16 candidates, totalling 48 fits\n"
          ],
          "name": "stdout"
        },
        {
          "output_type": "stream",
          "text": [
            "/usr/local/lib/python3.6/dist-packages/sklearn/model_selection/_split.py:667: UserWarning: The least populated class in y has only 1 members, which is less than n_splits=3.\n",
            "  % (min_groups, self.n_splits)), UserWarning)\n",
            "[Parallel(n_jobs=-1)]: Using backend LokyBackend with 2 concurrent workers.\n",
            "[Parallel(n_jobs=-1)]: Done  48 out of  48 | elapsed:  4.0min finished\n"
          ],
          "name": "stderr"
        },
        {
          "output_type": "execute_result",
          "data": {
            "text/plain": [
              "{'metric': 'manhattan', 'n_neighbors': 5, 'weights': 'uniform'}"
            ]
          },
          "metadata": {
            "tags": []
          },
          "execution_count": 336
        }
      ]
    },
    {
      "cell_type": "code",
      "metadata": {
        "id": "YqnszOf4bHnx",
        "colab": {
          "base_uri": "https://localhost:8080/"
        },
        "outputId": "4aa19896-d06c-4476-cf36-942027d7098c"
      },
      "source": [
        "from sklearn.neighbors import KNeighborsClassifier\n",
        "from sklearn.metrics import *\n",
        "\n",
        "clf = KNeighborsClassifier().fit(X_train, y_train)\n",
        "predicted = clf.predict(X_test)\n",
        "\n",
        "# оцениваем модель\n",
        "mae = np.mean(abs(predicted - y_test))\n",
        "\n",
        "print('KNeighborsClassifier Performance on the test set: MAE = %0.4f' % mae)\n",
        "\n",
        "\n",
        "default_model = KNeighborsClassifier().fit(X_train, y_train)\n",
        "default_pred = default_model.predict(X_test)\n",
        "\n",
        "final_model = KNeighborsClassifier(n_neighbors=19, \n",
        "                                   weights='uniform', \n",
        "                                   metric='manhattan')\n",
        "final_model.fit(X_train, y_train)\n",
        "final_pred = final_model.predict(X_test)\n",
        "\n",
        "\n",
        "mae_d = np.mean(abs(default_pred - y_test))\n",
        "mae_f = np.mean(abs(final_pred - y_test))\n",
        "print('Default model performance on the test set: MAE = %0.4f' % mae_d)\n",
        "print('Final model performance on the test set: MAE = %0.4f' % mae_f)"
      ],
      "execution_count": null,
      "outputs": [
        {
          "output_type": "stream",
          "text": [
            "KNeighborsClassifier Performance on the test set: MAE = 159.4960\n",
            "Default model performance on the test set: MAE = 159.4960\n",
            "Final model performance on the test set: MAE = 159.6410\n"
          ],
          "name": "stdout"
        }
      ]
    },
    {
      "cell_type": "markdown",
      "metadata": {
        "id": "PJ_ensW6N7JN"
      },
      "source": [
        "\n",
        "### **Блок 3: Paraphrase Detection ** "
      ]
    },
    {
      "cell_type": "markdown",
      "metadata": {
        "id": "TapdWv5aTciJ"
      },
      "source": [
        "длину текста, среднее количество стоп-слов в тексте, среднюю длину предложения, количество смайликов... все, что, на ваш взгляд, как-то может помочь решить вашу задачу, то есть признаки, которые, на ваш взгляд, кодируют какую-то ценную информацию"
      ]
    },
    {
      "cell_type": "code",
      "metadata": {
        "id": "EiD5PfFhOhgX",
        "colab": {
          "base_uri": "https://localhost:8080/",
          "height": 289
        },
        "outputId": "bafc02ce-d67d-456b-baef-193be1798f49"
      },
      "source": [
        "import pandas as pd\n",
        "para = pd.read_csv(\"paraphrases.tsv\", sep=\"\\t\")\n",
        "para.head()"
      ],
      "execution_count": null,
      "outputs": [
        {
          "output_type": "execute_result",
          "data": {
            "text/html": [
              "<div>\n",
              "<style scoped>\n",
              "    .dataframe tbody tr th:only-of-type {\n",
              "        vertical-align: middle;\n",
              "    }\n",
              "\n",
              "    .dataframe tbody tr th {\n",
              "        vertical-align: top;\n",
              "    }\n",
              "\n",
              "    .dataframe thead th {\n",
              "        text-align: right;\n",
              "    }\n",
              "</style>\n",
              "<table border=\"1\" class=\"dataframe\">\n",
              "  <thead>\n",
              "    <tr style=\"text-align: right;\">\n",
              "      <th></th>\n",
              "      <th>text_1</th>\n",
              "      <th>text_2</th>\n",
              "      <th>class</th>\n",
              "    </tr>\n",
              "  </thead>\n",
              "  <tbody>\n",
              "    <tr>\n",
              "      <th>0</th>\n",
              "      <td>Совет юстиции Бразилии легализовал однополые б...</td>\n",
              "      <td>Совет юстиции Бразилии разрешил однополые браки.</td>\n",
              "      <td>1</td>\n",
              "    </tr>\n",
              "    <tr>\n",
              "      <th>1</th>\n",
              "      <td>\"Магнит\" поручится перед \"Абсолют Банком\" за к...</td>\n",
              "      <td>Выпуск сигарет в России упал из-за антитабачно...</td>\n",
              "      <td>-1</td>\n",
              "    </tr>\n",
              "    <tr>\n",
              "      <th>2</th>\n",
              "      <td>ЕС призвал США не бомбить Сирию до публикации ...</td>\n",
              "      <td>Евросоюз призвал США дождаться доклада ООН по ...</td>\n",
              "      <td>-1</td>\n",
              "    </tr>\n",
              "    <tr>\n",
              "      <th>3</th>\n",
              "      <td>Депо Московского метрополитена впервые перейде...</td>\n",
              "      <td>Частной компании впервые отдадут депо в москов...</td>\n",
              "      <td>1</td>\n",
              "    </tr>\n",
              "    <tr>\n",
              "      <th>4</th>\n",
              "      <td>Два человека погибли в столкновениях между кур...</td>\n",
              "      <td>Один человек погиб при столкновении судов у бе...</td>\n",
              "      <td>-1</td>\n",
              "    </tr>\n",
              "  </tbody>\n",
              "</table>\n",
              "</div>"
            ],
            "text/plain": [
              "                                              text_1  ... class\n",
              "0  Совет юстиции Бразилии легализовал однополые б...  ...     1\n",
              "1  \"Магнит\" поручится перед \"Абсолют Банком\" за к...  ...    -1\n",
              "2  ЕС призвал США не бомбить Сирию до публикации ...  ...    -1\n",
              "3  Депо Московского метрополитена впервые перейде...  ...     1\n",
              "4  Два человека погибли в столкновениях между кур...  ...    -1\n",
              "\n",
              "[5 rows x 3 columns]"
            ]
          },
          "metadata": {
            "tags": []
          },
          "execution_count": 1
        }
      ]
    },
    {
      "cell_type": "markdown",
      "metadata": {
        "id": "0GlKMY4qOWdt"
      },
      "source": [
        "**1. Эксплоративный анализ данных (1 балл) и Конструирование текстовых признаков (2 балла)**"
      ]
    },
    {
      "cell_type": "code",
      "metadata": {
        "id": "Z1W5uPEuaXdm",
        "colab": {
          "base_uri": "https://localhost:8080/"
        },
        "outputId": "e4bf21de-7a65-48d6-8403-4a0ecbbf7d99"
      },
      "source": [
        "# Смотрим, есть ли NaN значения, и удаляем их\n",
        "\n",
        "for col_name in para.columns:\n",
        "    num_nan_values = len(para[para[col_name].isna()])\n",
        "    print(\"Number of NaN values in %s column is %d\" % (col_name, num_nan_values))\n",
        "    if num_nan_values > 0:\n",
        "        para = para.dropna(subset=[col_name])\n",
        "\n",
        "print()\n",
        "print(\"Total number of rows is %d\" % para.shape[0])\n",
        "\n",
        "# Поправим индексы\n",
        "para = para.reset_index(drop=True)"
      ],
      "execution_count": null,
      "outputs": [
        {
          "output_type": "stream",
          "text": [
            "Number of NaN values in text_1 column is 0\n",
            "Number of NaN values in text_2 column is 0\n",
            "Number of NaN values in class column is 0\n",
            "\n",
            "Total number of rows is 8540\n"
          ],
          "name": "stdout"
        }
      ]
    },
    {
      "cell_type": "code",
      "metadata": {
        "id": "Q2jlh9fncoje",
        "colab": {
          "base_uri": "https://localhost:8080/"
        },
        "outputId": "15f2f8c0-db1d-4d81-a27d-42d93fdcd27b"
      },
      "source": [
        "# Пропорция уникальных текстов\n",
        "for col in ['text_1', 'text_2']:\n",
        "  print(len(para[col].unique()) / para.shape[0])\n",
        "  # Удаление дубликатов\n",
        "  para = para.drop_duplicates(subset=[col])\n",
        "  print(len(para[col].unique()) / para.shape[0])\n",
        "\n",
        "# после этого еще раз запустим ячеку с удалением Nan"
      ],
      "execution_count": null,
      "outputs": [
        {
          "output_type": "stream",
          "text": [
            "0.4436768149882904\n",
            "1.0\n",
            "0.8722618105040908\n",
            "1.0\n"
          ],
          "name": "stdout"
        }
      ]
    },
    {
      "cell_type": "code",
      "metadata": {
        "id": "FXRFlxnC4uVu",
        "colab": {
          "base_uri": "https://localhost:8080/"
        },
        "outputId": "09dbbc0d-315a-4033-c2f7-a9600b3d7732"
      },
      "source": [
        "# посмотрим распределение классов\n",
        "para['class'].value_counts()"
      ],
      "execution_count": null,
      "outputs": [
        {
          "output_type": "execute_result",
          "data": {
            "text/plain": [
              "-1    1787\n",
              " 1    1518\n",
              "Name: class, dtype: int64"
            ]
          },
          "metadata": {
            "tags": []
          },
          "execution_count": 76
        }
      ]
    },
    {
      "cell_type": "code",
      "metadata": {
        "id": "wvrR-Nz9dQe4"
      },
      "source": [
        "# добавим параметр длины текстов\n",
        "para['len_text_1'] = para['text_1'].apply(len)\n",
        "para['len_text_2'] = para['text_2'].apply(len)\n",
        "para['len_text']= para[['len_text_1', 'len_text_2']].values.tolist()\n",
        "\n",
        "\n",
        "# и длины токенов\n",
        "para['text_len_tokens_1'] = para['text_1'].apply(lambda x: len(x.split()))\n",
        "para['text_len_tokens_2'] = para['text_2'].apply(lambda x: len(x.split()))\n",
        "para['text_len_tokens']= para[['text_len_tokens_1', 'text_len_tokens_2']].values.tolist()"
      ],
      "execution_count": null,
      "outputs": []
    },
    {
      "cell_type": "code",
      "metadata": {
        "id": "LyUE-o70nmU-",
        "colab": {
          "base_uri": "https://localhost:8080/",
          "height": 415
        },
        "outputId": "c9bd8f84-f2f7-4b94-8589-4e3f2ddda92b"
      },
      "source": [
        "fig, ax = plt.subplots(figsize=(10, 5))\n",
        "\n",
        "sns.heatmap(\n",
        "    data=para.corr(), \n",
        "    annot=True,\n",
        "    ax=ax\n",
        ")\n",
        "\n",
        "plt.title(\"Корреляция между признаками дф\")\n",
        "plt.show()"
      ],
      "execution_count": null,
      "outputs": [
        {
          "output_type": "display_data",
          "data": {
            "image/png": "[encoded data removed]",
            "text/plain": [
              "<Figure size 720x360 with 2 Axes>"
            ]
          },
          "metadata": {
            "tags": [],
            "needs_background": "light"
          }
        }
      ]
    },
    {
      "cell_type": "markdown",
      "metadata": {
        "id": "BIERtoZQnrx-"
      },
      "source": [
        "The features include the following groups: string-based features, informationretrieval features, part-of speech features, and thesaurus-based features.\n",
        "String-based features include features for two and three symbol N-grams, and\n",
        "for word one, two and three N-grams. For each type of N-grams, the string feature\n",
        "group comprises the following three features:"
      ]
    },
    {
      "cell_type": "code",
      "metadata": {
        "id": "dsVvizejeMbg"
      },
      "source": [
        "# посчиаем кол-во стоп-слов в тексте\n",
        "\n",
        "def cout_stopwords(text):\n",
        "  # разделяем текст на токены и приводим к нижнему регистру\n",
        "  tokens = [_.text for _ in list(tokenize(text))]\n",
        "  tokens = [w.lower() for w in tokens]\n",
        "\n",
        "  # считаем стоп-слова\n",
        "  stop_words = set(stopwords.words('russian'))\n",
        "  num_stop = 0\n",
        "  for w in tokens:\n",
        "    if w  in stop_words:\n",
        "      num_stop += 1\n",
        "  return num_stop\n",
        "\n",
        "# посчитаем сто слова для первого и второго текста \n",
        "def stop_w(col, new_col):\n",
        "  num_stop_words = []\n",
        "  for text in para[col]:\n",
        "    num_stop_words.append(cout_stopwords(text))\n",
        "  para[new_col] = num_stop_words\n",
        "\n",
        "stop_w('text_1', 'len_stop_words_1')\n",
        "stop_w('text_2', 'len_stop_words_2')\n",
        "\n",
        "# соединим фичи в список\n",
        "para['len_stop_words']= para[['len_stop_words_1', 'len_stop_words_2']].values.tolist()\n"
      ],
      "execution_count": null,
      "outputs": []
    },
    {
      "cell_type": "code",
      "metadata": {
        "id": "lA4phTgQtSC3",
        "colab": {
          "base_uri": "https://localhost:8080/"
        },
        "outputId": "948fcd09-c59c-4324-8616-b8e4c0e8c67b"
      },
      "source": [
        "!pip install rank_bm25"
      ],
      "execution_count": null,
      "outputs": [
        {
          "output_type": "stream",
          "text": [
            "Collecting rank_bm25\n",
            "  Downloading https://files.pythonhosted.org/packages/16/5a/23ed3132063a0684ea66fb410260c71c4ffda3b99f8f1c021d1e245401b5/rank_bm25-0.2.1-py3-none-any.whl\n",
            "Requirement already satisfied: numpy in /usr/local/lib/python3.6/dist-packages (from rank_bm25) (1.18.5)\n",
            "Installing collected packages: rank-bm25\n",
            "Successfully installed rank-bm25-0.2.1\n"
          ],
          "name": "stdout"
        }
      ]
    },
    {
      "cell_type": "code",
      "metadata": {
        "id": "1pjf3_ZptHp4"
      },
      "source": [
        "# посчитаем близость между текстами bm25\n",
        "from rank_bm25 import BM25Okapi\n",
        "\n",
        "bm_25_score = []\n",
        "for i, y in zip(para.text_1, para.text_2):\n",
        "  corpus = [i, y]\n",
        "  tokenized_corpus = [doc.split(\" \") for doc in corpus]\n",
        "  bm25 = BM25Okapi(tokenized_corpus)\n",
        "  query = corpus[1]\n",
        "  tokenized_query = query.split(\" \")\n",
        "  doc_scores = bm25.get_scores(tokenized_query)\n",
        "  bm_25_score.append(doc_scores[0])\n",
        "\n",
        "para['bm25'] = bm_25_score"
      ],
      "execution_count": null,
      "outputs": []
    },
    {
      "cell_type": "code",
      "metadata": {
        "id": "ZDku29i2-Nad",
        "colab": {
          "base_uri": "https://localhost:8080/"
        },
        "outputId": "b8212d4e-70cd-4ce0-b7d0-1040a40705f1"
      },
      "source": [
        "!pip install python-Levenshtein"
      ],
      "execution_count": null,
      "outputs": [
        {
          "output_type": "stream",
          "text": [
            "Collecting python-Levenshtein\n",
            "\u001b[?25l  Downloading https://files.pythonhosted.org/packages/42/a9/d1785c85ebf9b7dfacd08938dd028209c34a0ea3b1bcdb895208bd40a67d/python-Levenshtein-0.12.0.tar.gz (48kB)\n",
            "\r\u001b[K     |██████▊                         | 10kB 15.6MB/s eta 0:00:01\r\u001b[K     |█████████████▌                  | 20kB 1.7MB/s eta 0:00:01\r\u001b[K     |████████████████████▏           | 30kB 2.2MB/s eta 0:00:01\r\u001b[K     |███████████████████████████     | 40kB 2.5MB/s eta 0:00:01\r\u001b[K     |████████████████████████████████| 51kB 1.6MB/s \n",
            "\u001b[?25hRequirement already satisfied: setuptools in /usr/local/lib/python3.6/dist-packages (from python-Levenshtein) (50.3.2)\n",
            "Building wheels for collected packages: python-Levenshtein\n",
            "  Building wheel for python-Levenshtein (setup.py) ... \u001b[?25l\u001b[?25hdone\n",
            "  Created wheel for python-Levenshtein: filename=python_Levenshtein-0.12.0-cp36-cp36m-linux_x86_64.whl size=144794 sha256=3f5c5b197d822f036dded62de3fed2646e20d6a0f9fdcc1f2c26355f041a590f\n",
            "  Stored in directory: /root/.cache/pip/wheels/de/c2/93/660fd5f7559049268ad2dc6d81c4e39e9e36518766eaf7e342\n",
            "Successfully built python-Levenshtein\n",
            "Installing collected packages: python-Levenshtein\n",
            "Successfully installed python-Levenshtein-0.12.0\n"
          ],
          "name": "stdout"
        }
      ]
    },
    {
      "cell_type": "code",
      "metadata": {
        "id": "Ysny2Tc9xdrk"
      },
      "source": [
        "import Levenshtein\n",
        "lev_dist = []\n",
        "for i, y in zip(para.text_1, para.text_2):\n",
        "  lev_dist.append(Levenshtein.distance(i, y))\n",
        "  \n",
        "para['lev_sict'] = lev_dist"
      ],
      "execution_count": null,
      "outputs": []
    },
    {
      "cell_type": "code",
      "metadata": {
        "id": "6_v2mzDzOUQ3"
      },
      "source": [
        "import string\n",
        "from sklearn.metrics.pairwise import cosine_similarity\n",
        "from sklearn.feature_extraction.text import CountVectorizer\n",
        "\n",
        "def clean_text(text):\n",
        "  text = ''.join([word for word in text if word not in string.punctuation])\n",
        "  text = text.lower()\n",
        "  stop_words = set(stopwords.words('russian'))\n",
        "  words = [w for w in text.split() if not w in stop_words]\n",
        "  return ' '.join(words)\n",
        "\n",
        "cos_sim = []\n",
        "for t1, t2 in zip(para.text_1, para.text_2):\n",
        "  cleaned = list(map(clean_text, [t1, t2]))\n",
        "  vectorizer = CountVectorizer().fit_transform(cleaned)\n",
        "  vectors = vectorizer.toarray()\n",
        "  csim = cosine_similarity(vectors)\n",
        "  cos_sim.append(csim[0][1])\n",
        "\n",
        "para['cos_sim'] = cos_sim"
      ],
      "execution_count": null,
      "outputs": []
    },
    {
      "cell_type": "markdown",
      "metadata": {
        "id": "jMOUVLm-OcpE"
      },
      "source": [
        "**3. Аугментация данных (1 балл)**"
      ]
    },
    {
      "cell_type": "code",
      "metadata": {
        "id": "eGgVGUcdcSG_"
      },
      "source": [
        "import tqdm"
      ],
      "execution_count": null,
      "outputs": []
    },
    {
      "cell_type": "code",
      "metadata": {
        "id": "jFsBK88-Y9q3"
      },
      "source": [
        "aug = para[:1000]\n",
        "aug_text_1 = []\n",
        "for t in aug.text_1:\n",
        "  new = augment_word2vec_pos(t, ['NOUN', 'ADVB', 'ADJF', 'ADJS'])\n",
        "  aug_text_1.append(new)\n",
        "\n",
        "aug['text_1'] = aug_text_1"
      ],
      "execution_count": null,
      "outputs": []
    },
    {
      "cell_type": "code",
      "metadata": {
        "id": "tAemZ7TBc6Vi"
      },
      "source": [
        "aug_text_2 = []\n",
        "for t in aug.text_2:\n",
        "  new = augment_word2vec_pos(t, ['NOUN', 'ADVB', 'ADJF', 'ADJS'])\n",
        "  aug_text_2.append(new)\n",
        "\n",
        "aug['text_2'] = aug_text_2"
      ],
      "execution_count": null,
      "outputs": []
    },
    {
      "cell_type": "code",
      "metadata": {
        "id": "V7mnI2u1eI7u"
      },
      "source": [
        "aug_cos_sim = []\n",
        "for t1, t2 in zip(aug.text_1, aug.text_2):\n",
        "  cleaned = list(map(clean_text, [t1, t2]))\n",
        "  vectorizer = CountVectorizer().fit_transform(cleaned)\n",
        "  vectors = vectorizer.toarray()\n",
        "  csim = cosine_similarity(vectors)\n",
        "  aug_cos_sim.append(csim[0][1])\n",
        "\n",
        "aug['cos_sim'] = aug_cos_sim"
      ],
      "execution_count": null,
      "outputs": []
    },
    {
      "cell_type": "code",
      "metadata": {
        "id": "XO6excSGd-FS"
      },
      "source": [
        "aug_lev_dist = []\n",
        "for t1, t2 in zip(aug.text_1, aug.text_2):\n",
        "  aug_lev_dist.append(Levenshtein.distance(t1, t2))\n",
        "  \n",
        "aug['lev_sict'] = aug_lev_dist"
      ],
      "execution_count": null,
      "outputs": []
    },
    {
      "cell_type": "code",
      "metadata": {
        "id": "EA-n48GXenK3"
      },
      "source": [
        "aug_bm_25_score = []\n",
        "for i, y in zip(aug.text_1, aug.text_2):\n",
        "  corpus = [i, y]\n",
        "  tokenized_corpus = [doc.split(\" \") for doc in corpus]\n",
        "  bm25 = BM25Okapi(tokenized_corpus)\n",
        "  query = corpus[1]\n",
        "  tokenized_query = query.split(\" \")\n",
        "  doc_scores = bm25.get_scores(tokenized_query)\n",
        "  aug_bm_25_score.append(doc_scores[0])\n",
        "\n",
        "aug['bm25'] = aug_bm_25_score"
      ],
      "execution_count": null,
      "outputs": []
    },
    {
      "cell_type": "code",
      "metadata": {
        "id": "b3xZpi6MgmIg"
      },
      "source": [
        "aug_para = pd.concat([para, aug], ignore_index=True)"
      ],
      "execution_count": null,
      "outputs": []
    },
    {
      "cell_type": "markdown",
      "metadata": {
        "id": "7DEC4Kb_OlSd"
      },
      "source": [
        "**4. Сравнение качества моделей, выбор наилучшей (1 балл)**"
      ]
    },
    {
      "cell_type": "code",
      "metadata": {
        "id": "wDk2XC-YKfqe"
      },
      "source": [
        "# соединим наши данные с аугуменированными\n",
        "X = aug_para[['bm25', 'lev_sict', 'cos_sim']] \n",
        "y = aug_para['class'] "
      ],
      "execution_count": null,
      "outputs": []
    },
    {
      "cell_type": "code",
      "metadata": {
        "id": "-1wQau5MFvxh"
      },
      "source": [
        "from sklearn import preprocessing\n",
        "# standardize the data attributes\n",
        "standardized_X = preprocessing.scale(X)"
      ],
      "execution_count": null,
      "outputs": []
    },
    {
      "cell_type": "code",
      "metadata": {
        "id": "E7shq2fyF1bC",
        "colab": {
          "base_uri": "https://localhost:8080/"
        },
        "outputId": "f77e0249-c794-4d05-f5c2-1385e2ac0158"
      },
      "source": [
        "from sklearn import metrics\n",
        "from sklearn.ensemble import ExtraTreesClassifier\n",
        "model = ExtraTreesClassifier()\n",
        "model.fit(X, y)\n",
        "# посмотрим относительную важность каждого нашего атрибута\n",
        "print(model.feature_importances_)\n",
        "# они примерно одинаковые"
      ],
      "execution_count": null,
      "outputs": [
        {
          "output_type": "stream",
          "text": [
            "[0.33683783 0.30012391 0.36303827]\n"
          ],
          "name": "stdout"
        }
      ]
    },
    {
      "cell_type": "code",
      "metadata": {
        "id": "lYn99RLzF6ud",
        "colab": {
          "base_uri": "https://localhost:8080/"
        },
        "outputId": "22e89a43-9216-4ccf-ebd4-f57a15af93da"
      },
      "source": [
        "from sklearn.feature_selection import RFE\n",
        "from sklearn.linear_model import LogisticRegression\n",
        "model = LogisticRegression()\n",
        "# создадим RFE model и выберем 3 attributes\n",
        "rfe = RFE(model, 3)\n",
        "rfe = rfe.fit(X, y)\n",
        "# суммируем выбор атрибутов\n",
        "print(rfe.support_)\n",
        "print(rfe.ranking_)"
      ],
      "execution_count": null,
      "outputs": [
        {
          "output_type": "stream",
          "text": [
            "[ True  True  True]\n",
            "[1 1 1]\n"
          ],
          "name": "stdout"
        }
      ]
    },
    {
      "cell_type": "code",
      "metadata": {
        "id": "GwKaPVWNGJdh",
        "colab": {
          "base_uri": "https://localhost:8080/"
        },
        "outputId": "bb250904-df83-492c-a405-fa99f75f1dcc"
      },
      "source": [
        "from sklearn import metrics\n",
        "from sklearn.naive_bayes import GaussianNB\n",
        "model = GaussianNB()\n",
        "model.fit(X, y)\n",
        "print(model)\n",
        "# сделаем предсказание\n",
        "expected = y\n",
        "predicted = model.predict(X)\n",
        "# суммируем фит модели\n",
        "print(metrics.classification_report(expected, predicted))\n",
        "print(metrics.confusion_matrix(expected, predicted))"
      ],
      "execution_count": null,
      "outputs": [
        {
          "output_type": "stream",
          "text": [
            "GaussianNB(priors=None, var_smoothing=1e-09)\n",
            "              precision    recall  f1-score   support\n",
            "\n",
            "          -1       0.80      0.87      0.83      2374\n",
            "           1       0.82      0.73      0.77      1931\n",
            "\n",
            "    accuracy                           0.81      4305\n",
            "   macro avg       0.81      0.80      0.80      4305\n",
            "weighted avg       0.81      0.81      0.81      4305\n",
            "\n",
            "[[2056  318]\n",
            " [ 515 1416]]\n"
          ],
          "name": "stdout"
        }
      ]
    },
    {
      "cell_type": "code",
      "metadata": {
        "id": "zk-FUeROGL9z",
        "colab": {
          "base_uri": "https://localhost:8080/"
        },
        "outputId": "659c1e7f-b5ee-401d-a7f7-116dc57ef606"
      },
      "source": [
        "from sklearn import metrics\n",
        "from sklearn.neighbors import KNeighborsClassifier\n",
        "# попробуем другую модель\n",
        "model = KNeighborsClassifier()\n",
        "model.fit(X, y)\n",
        "print(model)\n",
        "# сделаем предсказание\n",
        "expected = y\n",
        "predicted = model.predict(X)\n",
        "# суммируем фит модели\n",
        "print(metrics.classification_report(expected, predicted))\n",
        "print(metrics.confusion_matrix(expected, predicted))"
      ],
      "execution_count": null,
      "outputs": [
        {
          "output_type": "stream",
          "text": [
            "KNeighborsClassifier(algorithm='auto', leaf_size=30, metric='minkowski',\n",
            "                     metric_params=None, n_jobs=None, n_neighbors=5, p=2,\n",
            "                     weights='uniform')\n",
            "              precision    recall  f1-score   support\n",
            "\n",
            "          -1       0.86      0.89      0.88      2374\n",
            "           1       0.86      0.82      0.84      1931\n",
            "\n",
            "    accuracy                           0.86      4305\n",
            "   macro avg       0.86      0.86      0.86      4305\n",
            "weighted avg       0.86      0.86      0.86      4305\n",
            "\n",
            "[[2123  251]\n",
            " [ 342 1589]]\n"
          ],
          "name": "stdout"
        }
      ]
    },
    {
      "cell_type": "code",
      "metadata": {
        "id": "C79tfDc_ijB4"
      },
      "source": [
        "# Потестим еще несколько моделей"
      ],
      "execution_count": null,
      "outputs": []
    },
    {
      "cell_type": "code",
      "metadata": {
        "id": "Q8AVCEEzGOem",
        "colab": {
          "base_uri": "https://localhost:8080/"
        },
        "outputId": "3a8a2c35-52a3-4315-da09-4bb76355d498"
      },
      "source": [
        "from sklearn import metrics\n",
        "from sklearn.tree import DecisionTreeClassifier\n",
        "\n",
        "model = DecisionTreeClassifier()\n",
        "model.fit(X, y)\n",
        "print(model)\n",
        "expected = y\n",
        "predicted = model.predict(X)\n",
        "print(metrics.classification_report(expected, predicted))\n",
        "print(metrics.confusion_matrix(expected, predicted))\n",
        "# кажется что модель переобучилась"
      ],
      "execution_count": null,
      "outputs": [
        {
          "output_type": "stream",
          "text": [
            "DecisionTreeClassifier(ccp_alpha=0.0, class_weight=None, criterion='gini',\n",
            "                       max_depth=None, max_features=None, max_leaf_nodes=None,\n",
            "                       min_impurity_decrease=0.0, min_impurity_split=None,\n",
            "                       min_samples_leaf=1, min_samples_split=2,\n",
            "                       min_weight_fraction_leaf=0.0, presort='deprecated',\n",
            "                       random_state=None, splitter='best')\n",
            "              precision    recall  f1-score   support\n",
            "\n",
            "          -1       0.99      1.00      0.99      2374\n",
            "           1       1.00      0.98      0.99      1931\n",
            "\n",
            "    accuracy                           0.99      4305\n",
            "   macro avg       0.99      0.99      0.99      4305\n",
            "weighted avg       0.99      0.99      0.99      4305\n",
            "\n",
            "[[2372    2]\n",
            " [  34 1897]]\n"
          ],
          "name": "stdout"
        }
      ]
    },
    {
      "cell_type": "code",
      "metadata": {
        "id": "A4DUB4-VGR5q",
        "colab": {
          "base_uri": "https://localhost:8080/"
        },
        "outputId": "3a5663de-59a9-440e-91c2-09bdfb7cff5f"
      },
      "source": [
        "from sklearn import metrics\n",
        "from sklearn.svm import SVC\n",
        "model = SVC()\n",
        "model.fit(X, y)\n",
        "print(model)\n",
        "expected = y\n",
        "predicted = model.predict(X)\n",
        "print(metrics.classification_report(expected, predicted))\n",
        "print(metrics.confusion_matrix(expected, predicted))"
      ],
      "execution_count": null,
      "outputs": [
        {
          "output_type": "stream",
          "text": [
            "SVC(C=1.0, break_ties=False, cache_size=200, class_weight=None, coef0=0.0,\n",
            "    decision_function_shape='ovr', degree=3, gamma='scale', kernel='rbf',\n",
            "    max_iter=-1, probability=False, random_state=None, shrinking=True,\n",
            "    tol=0.001, verbose=False)\n",
            "              precision    recall  f1-score   support\n",
            "\n",
            "          -1       0.77      0.84      0.80      2374\n",
            "           1       0.78      0.69      0.73      1931\n",
            "\n",
            "    accuracy                           0.77      4305\n",
            "   macro avg       0.77      0.76      0.77      4305\n",
            "weighted avg       0.77      0.77      0.77      4305\n",
            "\n",
            "[[1997  377]\n",
            " [ 607 1324]]\n"
          ],
          "name": "stdout"
        }
      ]
    },
    {
      "cell_type": "markdown",
      "metadata": {
        "id": "kar_W3MsOZQf"
      },
      "source": [
        "**2. Поиск гиперпараметров, минимизация переобучения (2 балла)**"
      ]
    },
    {
      "cell_type": "code",
      "metadata": {
        "id": "Ysly6LRZGaOR",
        "colab": {
          "base_uri": "https://localhost:8080/"
        },
        "outputId": "43948183-df7a-4ce8-ca3e-6f8b3e3f1ba7"
      },
      "source": [
        "import numpy as np\n",
        "from sklearn.linear_model import Ridge\n",
        "from sklearn.model_selection import GridSearchCV\n",
        "# подготовим список значений альфа для тестирования лучшего \n",
        "alphas = np.array([1,0.1,0.01,0.001,0.0001,0])\n",
        "# зафитим модель Ridge\n",
        "model = Ridge()\n",
        "grid = GridSearchCV(estimator=model, param_grid=dict(alpha=alphas))\n",
        "grid.fit(X, y)\n",
        "print(grid)\n",
        "# посмотрим на результаты grid search\n",
        "print(grid.best_score_)\n",
        "print(grid.best_estimator_.alpha)"
      ],
      "execution_count": null,
      "outputs": [
        {
          "output_type": "stream",
          "text": [
            "GridSearchCV(cv=None, error_score=nan,\n",
            "             estimator=Ridge(alpha=1.0, copy_X=True, fit_intercept=True,\n",
            "                             max_iter=None, normalize=False, random_state=None,\n",
            "                             solver='auto', tol=0.001),\n",
            "             iid='deprecated', n_jobs=None,\n",
            "             param_grid={'alpha': array([1.e+00, 1.e-01, 1.e-02, 1.e-03, 1.e-04, 0.e+00])},\n",
            "             pre_dispatch='2*n_jobs', refit=True, return_train_score=False,\n",
            "             scoring=None, verbose=0)\n",
            "0.4490381160813565\n",
            "1.0\n"
          ],
          "name": "stdout"
        }
      ]
    },
    {
      "cell_type": "code",
      "metadata": {
        "id": "G7MjqSlcMy5A"
      },
      "source": [
        "from sklearn.model_selection import train_test_split\n",
        "X_train, X_test, y_train, y_test = train_test_split(X, y, test_size = 0.2, random_state = 42)"
      ],
      "execution_count": null,
      "outputs": []
    },
    {
      "cell_type": "code",
      "metadata": {
        "id": "pYWXO4GRMx9-",
        "colab": {
          "base_uri": "https://localhost:8080/"
        },
        "outputId": "8357dc94-ad3c-42a7-a19d-620f3cb338e9"
      },
      "source": [
        "# наши предсказания будем делать на этой модели с параметрами которые мы подобрали в грид серч\n",
        "reg = Ridge(alpha=1)\n",
        "reg.fit(X_train, y_train)\n",
        "predicted = reg.predict(X_test)\n",
        "# оцениваем модель (тут аккураси нельзя, потому что другие предсказания)\n",
        "mae = np.mean(abs(predicted - y_test))\n",
        "mean_squared_error(y_test, predicted)\n",
        "print('Ridge Performance on the test set: MAE = %0.4f' % mean_squared_error)"
      ],
      "execution_count": null,
      "outputs": [
        {
          "output_type": "execute_result",
          "data": {
            "text/plain": [
              "0.5833757004999965"
            ]
          },
          "metadata": {
            "tags": []
          },
          "execution_count": 233
        }
      ]
    },
    {
      "cell_type": "code",
      "metadata": {
        "id": "K1sKNX4JkzK1",
        "colab": {
          "base_uri": "https://localhost:8080/"
        },
        "outputId": "fbb3b2dc-9bda-4409-9b86-1cedbd575958"
      },
      "source": [
        "# подготовим список значений альфа для тестирования лучшего \n",
        "# количество соседей\n",
        "n_neighbors = [2, 3, 4, 5, 7, 8]\n",
        "\n",
        "# веса\n",
        "weights = ['uniform', 'distance']\n",
        "\n",
        "# метрика расстояния\n",
        "metric = ['euclidean', 'manhattan']\n",
        "\n",
        "# определяем гиперпараметры\n",
        "hyperparameter_grid = {'n_neighbors': n_neighbors,\n",
        "                       'weights': weights,\n",
        "                       'metric': metric}\n",
        "\n",
        "\n",
        "grid = GridSearchCV(KNeighborsClassifier(), \n",
        "                    hyperparameter_grid, \n",
        "                    verbose = 1, \n",
        "                    cv=3,\n",
        "                    n_jobs = -1)\n",
        "\n",
        "grid.fit(X, y)\n",
        "print(grid)\n",
        "# посмотрим на результаты grid search\n",
        "print(grid.best_score_)"
      ],
      "execution_count": null,
      "outputs": [
        {
          "output_type": "stream",
          "text": [
            "Fitting 3 folds for each of 24 candidates, totalling 72 fits\n"
          ],
          "name": "stdout"
        },
        {
          "output_type": "stream",
          "text": [
            "[Parallel(n_jobs=-1)]: Using backend LokyBackend with 2 concurrent workers.\n"
          ],
          "name": "stderr"
        },
        {
          "output_type": "stream",
          "text": [
            "GridSearchCV(cv=3, error_score=nan,\n",
            "             estimator=KNeighborsClassifier(algorithm='auto', leaf_size=30,\n",
            "                                            metric='minkowski',\n",
            "                                            metric_params=None, n_jobs=None,\n",
            "                                            n_neighbors=5, p=2,\n",
            "                                            weights='uniform'),\n",
            "             iid='deprecated', n_jobs=-1,\n",
            "             param_grid={'metric': ['euclidean', 'manhattan'],\n",
            "                         'n_neighbors': [2, 3, 4, 5, 7, 8],\n",
            "                         'weights': ['uniform', 'distance']},\n",
            "             pre_dispatch='2*n_jobs', refit=True, return_train_score=False,\n",
            "             scoring=None, verbose=1)\n",
            "0.8666666666666667\n"
          ],
          "name": "stdout"
        },
        {
          "output_type": "stream",
          "text": [
            "[Parallel(n_jobs=-1)]: Done  72 out of  72 | elapsed:    1.9s finished\n"
          ],
          "name": "stderr"
        }
      ]
    },
    {
      "cell_type": "code",
      "metadata": {
        "id": "MfK3gCTsoPbE",
        "colab": {
          "base_uri": "https://localhost:8080/"
        },
        "outputId": "13ad2207-ff0f-4a02-8ecd-cec42b543f4b"
      },
      "source": [
        "# грид кажеся выбрал такие же параметры, которые мы использовали раньше\n",
        "# продублирую код\n",
        "model = KNeighborsClassifier(algorithm='auto', leaf_size=30,\n",
        "                                            metric='minkowski',\n",
        "                                            metric_params=None, n_jobs=None,\n",
        "                                            n_neighbors=5, p=2,\n",
        "                                            weights='uniform')\n",
        "model.fit(X, y)\n",
        "print(model)\n",
        "# сделаем предсказание\n",
        "expected = y\n",
        "predicted = model.predict(X)\n",
        "# суммируем фит модели\n",
        "print(metrics.classification_report(expected, predicted))"
      ],
      "execution_count": null,
      "outputs": [
        {
          "output_type": "stream",
          "text": [
            "KNeighborsClassifier(algorithm='auto', leaf_size=30, metric='minkowski',\n",
            "                     metric_params=None, n_jobs=None, n_neighbors=5, p=2,\n",
            "                     weights='uniform')\n",
            "              precision    recall  f1-score   support\n",
            "\n",
            "          -1       0.86      0.89      0.88      2374\n",
            "           1       0.86      0.82      0.84      1931\n",
            "\n",
            "    accuracy                           0.86      4305\n",
            "   macro avg       0.86      0.86      0.86      4305\n",
            "weighted avg       0.86      0.86      0.86      4305\n",
            "\n",
            "[[2123  251]\n",
            " [ 342 1589]]\n"
          ],
          "name": "stdout"
        }
      ]
    },
    {
      "cell_type": "markdown",
      "metadata": {
        "id": "r6FWf4ACOu8C"
      },
      "source": [
        "**6. Анализ ошибок (1 балл)**"
      ]
    },
    {
      "cell_type": "markdown",
      "metadata": {
        "id": "TWX80dhZpBDU"
      },
      "source": [
        "1. Наверное можно было лучше поподбирать параметры моделей, попробовать еще другие штуки и прогнать все через грид серч. \n",
        "2. Может стоило остановится на каком-то одном параметре близости текстов чтобы не перегружать модель\n",
        "3. Веротяно стоило добавить еще тектовых признаков типо Н-грамм и\\или может каких-то штук связанными с пос тегами\n"
      ]
    }
  ]
}