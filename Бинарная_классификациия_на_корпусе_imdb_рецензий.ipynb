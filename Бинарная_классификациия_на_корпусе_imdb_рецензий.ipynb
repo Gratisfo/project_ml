{
  "nbformat": 4,
  "nbformat_minor": 0,
  "metadata": {
    "colab": {
      "name": "Бинарная классификациия на корпусе imdb рецензий.ipynb",
      "provenance": [],
      "include_colab_link": true
    },
    "kernelspec": {
      "name": "python3",
      "display_name": "Python 3"
    }
  },
  "cells": [
    {
      "cell_type": "markdown",
      "metadata": {
        "id": "view-in-github",
        "colab_type": "text"
      },
      "source": [
        "<a href=\"https://colab.research.google.com/github/Gratisfo/project_ml/blob/main/%D0%91%D0%B8%D0%BD%D0%B0%D1%80%D0%BD%D0%B0%D1%8F_%D0%BA%D0%BB%D0%B0%D1%81%D1%81%D0%B8%D1%84%D0%B8%D0%BA%D0%B0%D1%86%D0%B8%D0%B8%D1%8F_%D0%BD%D0%B0_%D0%BA%D0%BE%D1%80%D0%BF%D1%83%D1%81%D0%B5_imdb_%D1%80%D0%B5%D1%86%D0%B5%D0%BD%D0%B7%D0%B8%D0%B9.ipynb\" target=\"_parent\"><img src=\"https://colab.research.google.com/assets/colab-badge.svg\" alt=\"Open In Colab\"/></a>"
      ]
    },
    {
      "cell_type": "markdown",
      "metadata": {
        "id": "lf_RlmE3OOLs"
      },
      "source": [
        "Задача: бинарная классификация на большом корпусе imdb рецензий на фильмы. \n",
        "Корпус можно скачать по ссылке http://ai.stanford.edu/~amaas/data/sentiment/\n",
        "\n",
        "- построить и обучить классификатор\n",
        "- посчитать метрики качества\n",
        "- построить ROC кривую и посчитайте величину ROC AUC.  \n",
        "- найти 15 самых негативных и самых позитивных рецензий по мнению модели.  \n",
        "\n",
        "Написать свои функции, которые бы считали tp, fp, tn, fn, и возвращали точность, полноту и ф-меру и применить их к результатам, полученным вашими классификаторами (если все сделано правильно, то результаты должны совпадать с полученными  sklearn метриками). "
      ]
    },
    {
      "cell_type": "code",
      "metadata": {
        "id": "7cibyk0TOL9K"
      },
      "source": [
        "!wget -c http://ai.stanford.edu/~amaas/data/sentiment/aclImdb_v1.tar.gz"
      ],
      "execution_count": null,
      "outputs": []
    },
    {
      "cell_type": "code",
      "metadata": {
        "id": "Tm3Jbvk3r44P"
      },
      "source": [
        "!tar --gunzip --extract --verbose --file=aclImdb_v1.tar.gz"
      ],
      "execution_count": null,
      "outputs": []
    },
    {
      "cell_type": "code",
      "metadata": {
        "id": "e3-vah-whSsK"
      },
      "source": [
        "import os\n",
        "import pandas as pd\n",
        "import numpy as np\n",
        "from sklearn.metrics import roc_auc_score, roc_curve\n",
        "from matplotlib import pyplot\n",
        "from sklearn.feature_extraction.text import TfidfVectorizer\n",
        "from sklearn.naive_bayes import MultinomialNB\n",
        "from sklearn.metrics import *\n",
        "from sklearn.metrics import roc_auc_score, roc_curve\n",
        "import operator"
      ],
      "execution_count": null,
      "outputs": []
    },
    {
      "cell_type": "code",
      "metadata": {
        "id": "cuDtL7q-hbOw",
        "colab": {
          "base_uri": "https://localhost:8080/",
          "height": 88
        },
        "outputId": "5fa8274e-b85e-4986-993a-0f12fbd96c01"
      },
      "source": [
        "# создаем датасет\n",
        "df_train = pd.DataFrame(columns = ['text', 'tag'])\n",
        "df_test = pd.DataFrame(columns = ['text', 'tag'])\n",
        "\n",
        "def get_df(path, df, tag):\n",
        "  for t in os.listdir(str(path)):\n",
        "    with open (t, encoding='utf-8') as f:\n",
        "      text = f.read()\n",
        "    df.loc[len(df)] = [text, tag]\n",
        "    \n",
        "%cd /content/aclImdb/train/neg\n",
        "get_df('/content/aclImdb/train/neg', df_train, 0)\n",
        "%cd /content/aclImdb/train/pos\n",
        "get_df('/content/aclImdb/train/pos', df_train, 1)\n",
        "%cd /content/aclImdb/test/neg\n",
        "get_df('/content/aclImdb/test/neg', df_test, 0)\n",
        "%cd /content/aclImdb/test/pos\n",
        "get_df('/content/aclImdb/test/pos', df_test, 1)"
      ],
      "execution_count": null,
      "outputs": [
        {
          "output_type": "stream",
          "text": [
            "/content/aclImdb/train/neg\n",
            "/content/aclImdb/train/pos\n",
            "/content/aclImdb/test/neg\n",
            "/content/aclImdb/test/pos\n"
          ],
          "name": "stdout"
        }
      ]
    },
    {
      "cell_type": "code",
      "metadata": {
        "id": "7KyDEEtL2haP"
      },
      "source": [
        "df_test.tag = df_test.tag.astype('int')\n",
        "df_train.tag = df_train.tag.astype('int')"
      ],
      "execution_count": null,
      "outputs": []
    },
    {
      "cell_type": "code",
      "metadata": {
        "id": "pJjaS-HPqC4M",
        "colab": {
          "base_uri": "https://localhost:8080/",
          "height": 35
        },
        "outputId": "3713aa1c-750d-498a-ebe5-da585bcc9e6d"
      },
      "source": [
        "vectorizer = TfidfVectorizer()\n",
        "X_train_counts = vectorizer.fit_transform(df_train.text) \n",
        "X_train_counts.shape"
      ],
      "execution_count": null,
      "outputs": [
        {
          "output_type": "execute_result",
          "data": {
            "text/plain": [
              "(25000, 74849)"
            ]
          },
          "metadata": {
            "tags": []
          },
          "execution_count": 75
        }
      ]
    },
    {
      "cell_type": "code",
      "metadata": {
        "id": "VHmAZeUf2EIR"
      },
      "source": [
        "# строим и обучим классификатор\n",
        "clf = MultinomialNB().fit(X_train_counts, df_train.tag)\n",
        "predicted = clf.predict(X_test)"
      ],
      "execution_count": null,
      "outputs": []
    },
    {
      "cell_type": "code",
      "metadata": {
        "id": "IVFhcq_2sar5",
        "colab": {
          "base_uri": "https://localhost:8080/",
          "height": 35
        },
        "outputId": "31cc7b7e-bc04-4020-a8f9-89f202280273"
      },
      "source": [
        "X_test = vectorizer.transform(df_test.text)  \n",
        "print(X_test.shape)\n",
        "predicted = clf.predict(X_test)"
      ],
      "execution_count": null,
      "outputs": [
        {
          "output_type": "stream",
          "text": [
            "(25000, 74849)\n"
          ],
          "name": "stdout"
        }
      ]
    },
    {
      "cell_type": "code",
      "metadata": {
        "id": "KXrSIOoQuJp1",
        "colab": {
          "base_uri": "https://localhost:8080/",
          "height": 52
        },
        "outputId": "4c493441-d2be-4181-d753-c06ae1a150bc"
      },
      "source": [
        "# считаем метрики качества\n",
        "acc = accuracy_score(df_test.tag, predicted)\n",
        "f1 = f1_score(df_test.tag, predicted)\n",
        "p = precision_score(df_test.tag, predicted)\n",
        "r = recall_score(df_test.tag, predicted)\n",
        "print('accuracy={0:1.4f}'.format(acc))\n",
        "print('F1={0:1.4f}, Precision={1:1.4f}, Recall={2:1.4f}'.format(f1, p, r))"
      ],
      "execution_count": null,
      "outputs": [
        {
          "output_type": "stream",
          "text": [
            "accuracy=0.8296\n",
            "F1=0.8188, Precision=0.8741, Recall=0.7700\n"
          ],
          "name": "stdout"
        }
      ]
    },
    {
      "cell_type": "code",
      "metadata": {
        "id": "N61nSj7Puw-w",
        "colab": {
          "base_uri": "https://localhost:8080/",
          "height": 279
        },
        "outputId": "364f5816-330c-46bc-a841-3d6d3a0b4262"
      },
      "source": [
        "# строим ROC кривую \n",
        "y_true = df_train.tag.astype('int')\n",
        "y_predicted = predicted\n",
        "fpr, tpr, thrhld = roc_curve(y_true, y_predicted)\n",
        "pyplot.plot(fpr, tpr, marker='.', label='Test')\n",
        "# axis labels\n",
        "pyplot.xlabel('False Positive Rate')\n",
        "pyplot.ylabel('True Positive Rate')\n",
        "# show the legend\n",
        "pyplot.legend()\n",
        "# show the plot\n",
        "pyplot.show()"
      ],
      "execution_count": null,
      "outputs": [
        {
          "output_type": "display_data",
          "data": {
            "image/png": "[encoded data removed]",
            "text/plain": [
              "<Figure size 432x288 with 1 Axes>"
            ]
          },
          "metadata": {
            "tags": [],
            "needs_background": "light"
          }
        }
      ]
    },
    {
      "cell_type": "code",
      "metadata": {
        "id": "gyxNMATv09Mq",
        "colab": {
          "base_uri": "https://localhost:8080/",
          "height": 35
        },
        "outputId": "4148f457-5925-4108-fa9d-acc049f57b6d"
      },
      "source": [
        "# считаем величину ROC AUC\n",
        "print(roc_auc_score(y_true, y_predicted))"
      ],
      "execution_count": null,
      "outputs": [
        {
          "output_type": "stream",
          "text": [
            "0.82956\n"
          ],
          "name": "stdout"
        }
      ]
    },
    {
      "cell_type": "code",
      "metadata": {
        "id": "hJI3Dyun9iha"
      },
      "source": [
        "proba = {}\n",
        "for i, elem in enumerate(clf.predict_proba(X_test)):\n",
        "  proba[i] = elem[0]\n",
        "  \n",
        "sorted_proba = sorted(proba.items(), key=operator.itemgetter(1), reverse=True)"
      ],
      "execution_count": null,
      "outputs": []
    },
    {
      "cell_type": "code",
      "metadata": {
        "id": "ZIvZEulPBbU-",
        "colab": {
          "base_uri": "https://localhost:8080/",
          "height": 535
        },
        "outputId": "3bd49106-e0af-42e1-92c1-5e746f644c53"
      },
      "source": [
        "# самые позитивные рецензии\n",
        "for i in sorted_proba[-14:]:\n",
        "  print(df_test.text[i[0]], '\\n')"
      ],
      "execution_count": null,
      "outputs": [
        {
          "output_type": "stream",
          "text": [
            "From director Billy Wilder (Double Indemnity, The Seven Year Itch, Some Like It Hot), I can see that this is a bit of an under-shown and underrated film, one to be seen. This is the biographical story of Charles Augustus 'Slim' Lindbergh (James Stewart), who in 1927 wanted to be the first man to cross travel solo flight from New York, crossing the Atlantic ocean, to reach Paris, in a small cockpit. The first half hour or whatever is seeing Lindbergh getting permission to do it, and the construction of the plane, named \"The Spirit of St. Louis\", and making all necessary preparations. Then of course the rest sees his perilous journey crossing the journey, overcoming tiredness, near fuel loss, and moments of losing sense of direction, but he was successful. Also starring Murray Hamilton as Bud Gurney, Patricia Smith as Mirror Girl, Bartlett Robinson as Benjamin Frank Mahoney, Robert Cornthwaite as Harry Knight, Sheila Bond as Model/Dancer, Marc Connelly as Father Hussman, Arthur Space as Donald Hall, Harlan Warde as Boedecker and Dabbs Greer as Goldsborough. Apparently Lindbergh was a bit younger, so Stewart was a shade too old to play him, but then again, you can't think of anyone else that could do better. It is a witty and emotional drama, with Stewart (as always) being fantastic, great music score by Frank Waxman, and good direction from Wilder, a good little known gem. It was nominated the Oscar for Best Special Effects (the only award it was ever nominated). James Stewart was number 12 on The 100 Greatest Movie Stars, he was number 3 on 100 Years, 100 Stars - Men, and he was number 13 on The World's Greatest Actor. Very good! \n",
            "\n",
            "\"Out to Sea\" is a fun movie starring that wonderful duo of Jack Lemmon and Walter Matthau. This film is not quite as funny as their \"Grumpy Old Men\" comedies (which it strongly resembles), but there are many laughs throughout. Lemmon and Matthau play a couple of in-laws who take a cruise together. Once they get on the boat, the thing Lemmon doesn't know is that Matthau has signed them on as dance hosts so they don't have to pay for the cruise. This infuriates Lemmon who's in no mood to dance. What's worse, Matthau doesn't even know how to dance. Nevertheless, they go along with it and it the process they meet some of their fellow passengers and crew members. Here are the crew members: there's the cruise director Gil Godwyn, played to the hilt by \"Star Trek: The Next Generation\" veteran Brent Spiner, who acts like an evil dictator. There's two fellow dance hosts, played by \"Barney Miller\" star Hal Linden and veteran movie musical star Donald O'Connor. There's the ship's owner Mrs. Carruthers, played by \"Golden Girl\" Rue McClanahan. As for the passengers: there's Vivian, a widow played by Gloria De Haven, who falls in love with Lemmon. There's Liz, played by one of my all-time favorite actresses, Dyan Cannon, who falls in love with Matthau. There's Mavis, Liz's mother, played by veteran stage actress Elaine Stritch. And they meet others as well. All these actors are a pleasure to watch as Lemmon and Matthau play off of them. It's great to see Cannon here, see's beautiful as ever; Stritch is a hoot; Spiner is a funny comic villain who's plays it deadly straight; De Haven is wonderful; Linden, O'Connor, and McClanahan have a good moment or two; and finally, the two main stars, Lemmon and Matthau, are fine as usual. A nice little gem of a comedy.<br /><br />*** (out of four) \n",
            "\n",
            "Kar Wai Wong's incredibly impressive romance that is to me, perfect. Set in 1960's Hong Kong. As we are shown, this is set in a turbulent time. Tony Leung and Maggie Cheung play Chow Mo-wan and Su Li-zhen Chan. A man and a woman who meet each other in a Hong Kong apartment, in which they both move in. Chow Mo-wan works for a newspaper company. Su Li-zhen Chan is a secretary. Two very different people. Chow Mo-wan and Su Li-zhen Chan create a special bond after they both find out their spouses, constantly away are committing extra-marital trysts. With each other.<br /><br />The characters of Chow Mo-wan and Su Li-zhen Chan are nothing short of amazing. Both Leung and Cheung manage to strike such amazing chemistry with one another, it's better than any Hollywood romance that is put out today. Combined. The film is all about the focus of the two leads and their feelings after the infidelities of their partners. Kar Wai Wong manages to create such strong character development between these two characters, you really start to feel for them. Leung and Cheung are both wildly amazing, are better than any Hollywood pairing shown on the screen today. Combined.<br /><br />There's nothing much else to describe Fa yeung nin wa other than beautiful, energetic romance that also features a moody, atmospheric piece with gorgeous cinematography. So much elements of this movie help create it to be flawless. As well as Kar Wai Wong and the acting, the cinematography from both Christopher Doyle and Pin Bing Lee is haunting. Beautifully understated. The shots from Kar Wai Wong help makes your mind create a world of it's own. A world that creates these characters. Original, melancholic and nostalgic. This film is incredibly unforgettable.<br /><br />The costumes created by Kar Wai Wong regular William Chang are absolutely beautiful. Cheung, who wears an elegant, ankle-deep, beautifully patterned dress in every scene. She's a scene-stealer. Her costumes say a lot about her character and an emotion is fitted in all of her dresses colours which are vividly and smartly used. Highly original. Chang, also the production designer creates a brilliant setting for the movies moody piece. Especially with the help of the marvellous music used in scenes and masterful film editing, again by Chang. William Chang seems to be incredibly versatile and is an unsung hero for this movie.<br /><br />Overall, this movie is one of the best from this millennium. Incredibly compelling and filled with nostalgia. The shots are mesmerising and haunting. Kar Wai Wong somewhat proves to be a master at the top of his game. The acting; music; cinematography; editing; production; costume and direction all help create ONE small, little perfect film. A masterpiece in romance film-making. Visually spectacular. Overall, a masterpiece to film-making. A film that reminds me of old classic Hollywood, was the one that never was. Never forget Fa yeung nin wa. I know I won't. \n",
            "\n",
            "It's rare for a film to sweep you away within its world and leave you wanting more once the credits roll. Hayao Miyazaki's Ponyo is such a film.<br /><br />The film is the story of a young goldfish named Ponyo who wishes to become human. She swims to shore and is found by a young boy named Sasuke who promises to take care of her. Course Ponyo's father, an ecologically obsessed sorcerer named Fujimoto, tries to keep Ponyo from becoming human in order to maintain the balance of nature, which is eventually upturned when Ponyo finally transforms into a little girl, causing a massive typhoon.<br /><br />Ponyo is a very rich film. It is full of wondrous fantasy, lovable characters, and genuine heart. What director Hayao Miyazaki has done here is tell a simple little story, and while so doing creating authentic movie magic.<br /><br />Ponyo is an enchanting experience. The love between Sasuke and Ponyo is very pure and true. As well the environmentalist within Miyazaki is still as evident within this film as in all his previous works. Miyazaki shows the filth and grime that fall into the ocean in an almost startling light, not to mention Ponyo's father is on an obsessive mission to clean the world's oceans. While the story is simple, Miyazaki manages to add this extra layer to provoke thought with expert proficiency.<br /><br />The film is a beautiful work of art, each hand drawn cell looks like a wondrous pastel painting. The film looks very different than many other Studio Ghibli productions, but the artistry is still just as spectacular as ever before. The scenes underwater are simply beautiful to watch, Fujimoto's fortress under the sea is highly inventive, and the sequence where Ponyo runs across the jumping fish within the typhoon to reach Sosuke is iconic.<br /><br />Course it is thanks to its wonderfully executed characters that makes this film such a memorable experience. Sosuke is a young boy who acts older than he actually is, and the energetic Ponyo is a laugh a minute. Every character is just so enjoyable and highly memorable.<br /><br />Overall Ponyo is a wondrous experience, enchanting in every single way. While the film may be sold as a children's fairy tale, I believe many adults will be swept away within its fantastic world along with their children. While the film may lack the density of some of Miyazaki's previous works, here he keeps it pure and simple, being true to himself, delivering a film that is funny, heartwarming, and entertaining all in one. This is a magnificent film.<br /><br />I give Ponyo a perfect 10 out of 10! \n",
            "\n",
            "Barbara Stanwyck is a sheer delight in this wartime comedy, about a sailor invited to spend Christmas with a popular magazine writer's family, at her farm in Connecticut. The problem is she has no husband, baby, or farm, as she writes about in her column, and she can't even cook; her wonderful recipes being provided for her by her good friend \" Uncle\" Felix, owner of a Hungarian restaurant in New York City.<br /><br />Things get even more complicated when her strict publisher boss invites himself along for Christmas. A scheme is hastily planned, with her stuffy fiancé providing an actual Connecticut farm, neighbors providing a borrowed baby, and a quick wedding planned when the publisher isn't looking. But when the handsome young sailor arrives on Christmas Eve, romantic complications ensue, as the supposedly married author falls like a ton of bricks for the nice guy Navy man and vice versa.<br /><br />This is a charming, warm film that deftly balances humor with sentiment and is a wonderful showcase for Barbara Stanwyck to display her considerable comedic talent, aided by such marvelous character actors as Sydney Greenstreet, Una O'Connor, S.Z.Sakall, and many others. A Christmas night dance at the town hall is a toe tapping delight to see, and the unexpectedly sweet and feminine side of Stanwyck is a wonderful surprise, for viewers who have seen her mainly as tough, bitchy women in femme fatale roles. Truly a wonderful film that has stood the test of time. \n",
            "\n",
            "I viewed this movie for the first time last night and I enjoyed every aspect of it the dancing, the acting, the dialogue, the plot, the script and the whole atmosphere that this movie created. I would highly recommend it.<br /><br />Jennifer Grey gives an absolutely wonderful and first class performance in her role as Frances (Baby) Houseman. She has a natural ability and flair for dancing and she is beautiful and enchanting on the dance floor. But what is wonderful about Baby is that she has such a wonderful depth and dimension to her character. This is not simply a movie about dancing but the scriptwriters have also given us a chance to see Baby deal with the various emotions and feelings that she is experiencing throughout the movie and to allow us an insight into how her interaction with others at the camp changes her life. Grey portrays her character with such realism and poignancy that you end up feeling deeply for Baby as she experiences all she does in this movie.<br /><br />Patrick Swayze is magnificent in his role as Johnny and truly succeeds in making his character come alive. He gives his character a comprehensive personality, strong appeal and great depth. The chemistry between Swayze and Grey is enchanting and powerful and contributes significantly to the great success of this movie <br /><br />Cynthia Rhodes is great in her role of Penny and her portrayal of the ordeal that she experiences is truly powerful and contributes a frightening dimension to the film. The other members of the supporting cast Jerry Orbach and the late Mark Cantor deserve a special mention here-also give wonderful and imaginative performances that gives this movie an additional dimension of high quality acting and believability that is wonderful to experience. The dancing is magnificent and first class on the part of all involved. <br /><br />The script and interaction between all the major characters is intriguing and engages the viewer in a powerful fashion. The plot, although exceedingly predictable, is given more than enough life and vitality to make this movie successful. <br /><br />Furthermore the wonderful selection of music contained in this movie creates a truly magical atmosphere and very nostalgic environment that enhances the quality and success of all the various scenes.<br /><br />`Dirty Dancing' is a truly powerful, magnificent and very appealing movie that leaves you deeply touched and with a wonderful feeling in your heart and soul and an inspiration to dance. I highly recommend it \n",
            "\n",
            "This is absolutely one of our favourites of 2007.<br /><br />The tale of two boys who come from different worlds but are as close as brothers is brilliantly told.<br /><br />Beautifully shot, and scripted - from childhood to the adulthood it never falters.<br /><br />A brilliant insight into a lost culture, and a very good way to understand Farsi cultures and traditions this is also an exceptional tale in its own right. It is both compassionate and thrilling, uplifting and filled with immense sorrow, joyful and depressing.<br /><br />With excellent performances from the cast and great technical skills behind the camera this really is film at its best.<br /><br />Highest recommendation: a real slice of life that uplifts and informs. \n",
            "\n",
            "In Dublin, the crippled rebel Rory O'Shea (James McAvoy) moves to the Carrigmore Residential Home for the Disabled, affecting the lives of the residents. Roy is able to understand the unintelligible speech of Michael Connolly (Steven Robertson), who was left in the shelter by his prominent father many years ago due to his cerebral palsy, and they become close friends. Rory convinces Michael to move from Carrigmore to an apartment in Dublin, and they hire the gorgeous Siobhan (Romola Garai) to assist them. Living together with Rory, Michael faces a new world, finding friendship, love and freedom and learning to survive by his own. <br /><br />\"Inside I'm Dancing\" is a wonderful tale of friendship and freedom in a very beautiful story. The acting of Steven Robertson and James McAvoy are awesome and I do not understand how they have not been nominated to the Oscar with such magnificent performances. Romola Garai has also a top-notch performance and is extremely beautiful and sexy. The screenplay is touching, never corny and without redemption and the precise direction of Damien O'Donnell is very sensitive. Unfortunately the Brazilian title of the DVD is shamefully ridiculous, giving a wrong idea of this excellent movie. My vote is eight.<br /><br />Title (Brazil): \"Os Melhores Dias de Nossas Vidas\" (\"The Best Years of Our Lives\") \n",
            "\n",
            "After working on 7 movies with director Mickael Curtiz (The Adventures of Robin Hood are their best achievement), Errol Flynn got tired of his dictatorial direction and decided to work with the great Raoul Walsh. This reunion is a happy thing for cinematography. THE DIED WITH THEIR BOOTS ON is their first and best film together. Raoul Walsh portrays the General George Armstrong Custer (Errol Flynn) from his debuts at West Point, to the Civil War and finally at the battle of Little Big Horn. It's true the film shows a too heroic portrait of Custer, but that's not important. What is important, is the fact that we are transported with the passion and glory carried by the characters. Who can forget California Joe, the great \"Queen's Own Buttler\" with his song \"Garryowen\", the touching Mrs Custer (Olivia de Havilland), the diabolic Sharp well played by Arthur Kennedy ?<br /><br />An eternal blow remains on this epic and tragic freso. \n",
            "\n",
            "Moving beyond words is this heart breaking story of a divorce which results in a tragic custody battle over a seven year old boy.<br /><br />One of \"Kramer v. Kramer's\" great strengths is its screenwriter director Robert Benton, who has marvellously adapted Avery Corman's novel to the big screen. He keeps things beautifully simple and most realistic, while delivering all the drama straight from the heart. His talent for telling emotional tales like this was to prove itself again with \"Places in the Heart\", where he showed, as in \"Kramer v. Kramer\", that he has a natural ability for working with children.<br /><br />The picture's other strong point is the splendid acting which deservedly received four of the film's nine Academy Award nominations, two of them walking away winners. One of those was Dustin Hoffman (Best Actor), who is superb as frustrated business man Ted Kramer, a man who has forgotten that his wife is a person. As said wife Joanne, Meryl Streep claimed the supporting actress Oscar for a strong, sensitive portrayal of a woman who had lost herself in eight years of marriage. Also nominated was Jane Alexander for her fantastic turn as the Kramer's good friend Margaret. Final word in the acting stakes must go to young Justin Henry, whose incredibly moving performance will find you choking back tears again and again, and a thoroughly deserved Oscar nomination came his way.<br /><br />Brilliant also is Nestor Almendros' cinematography and Jerry Greenberg's timely editing, while musically Henry Purcell's classical piece is used to effect.<br /><br />Truly this is a touching story of how a father and son come to depend on each other when their wife and mother leaves. They grow together, come to know each other and form an entirely new and wonderful relationship. Ted finds himself with new responsibilities and a new outlook on life, and slowly comes to realise why Joanne had to go.<br /><br />Certainly if nothing else, \"Kramer v. Kramer\" demonstrates that nobody wins when it comes to a custody battle over a young child, especially not the child himself.<br /><br />Saturday, June 10, 1995 - T.V.<br /><br />Strong drama from Avery Corman's novel about the heartache of a custody battle between estranged parents who both feel they have the child's best interests at heart. Aside from a superb screenplay and amazingly controlled direction, both from Robert Benton, it's the superlative cast that make this picture such a winner.<br /><br />Hoffman is brilliant as Ted Kramer, the man torn between his toppling career and the son whom he desperately wants to keep. Excellent too is Streep as the woman lost in eight years of marriage who had to get out before she faded to nothing as a person. In support of these two is a very strong Jane Alexander as mutual friend Margaret, an outstanding Justin Henry as the boy caught in the middle, and a top cast of extras.<br /><br />This highly emotional, heart rending drama more than deserved it's 1979 Academy Awards for best film, best actor (Hoffman) and best supporting actress (Streep).<br /><br />Wednesday, February 28, 1996 - T.V. \n",
            "\n",
            "Easily one of my favourite dramatic TV films, in many ways beautiful yet sad, heart-warming and thought-provoking, this is a superb dramatisation of a few years in the life of C.S. Lewis and his relationship with Joy Davidman. I found it to be incredibly absorbing with excellent and 'realistic' dialogue and situations. It all seemed very 'real', yet there were also 'magical' moments that almost leave you breathless with delight. Ackland and Bloom as the central characters were excellent, as were the supporting cast. It's one of those dramas that I find hard to criticise, simply because, for me, there is NOTHING to be criticised, it just works so well on so many levels.<br /><br />Very highly recommended. \n",
            "\n",
            "Although I'm not crazy about musicals, COVER GIRL is a delight for classic movie buffs and especially for fans of Rita Hayworth and Gene Kelly. The film may be dated by today's standards and the story and songs may be nothing special, but the musical numbers are magnificently staged and there's a terrific cast to go with the film. Plus, the film is a worthy introduction for fans of Rita Hayworth...she's simply breathtaking in glorious Technicolor.<br /><br />Despite Jerome Kern's collaboration with the film, his music here is nowhere near as special or memorable as his songs in SWING TIME (1936), yet the songs serve the film well. The dancing is nothing short of excellent, especially coming from Gene Kelly's solo number and my favorite musical number, \"Alter-Ego Dance.\" The amusing Phil Silvers nearly steals the film as Kelly's partner. Otto Kruger, Eve Arden, and Edward Brophy give good performances in their dramatic supporting roles. And Rita plays a sweet, charming girl here; a role that's a far cry from her femme fatale babes in films like BLOOD AND SAND (1941).<br /><br />All in all, this is a delightful film that's worth watching even if you're not big on musicals. Yet the film's music could have been more memorable if only my favorite period songwriters, Irving Berlin or Cole Porter, wrote the songs for this film. However, it's the glorious Technicolor cinematography and the imaginative dancing that are the real treats of the film's production.<br /><br />While I was watching Rita Hayworth do her stuff, I don't think I've ever seen a more beautiful or graceful redhead dance on the screen since I saw Moira Shearer in Michael Powell's masterpiece, THE RED SHOES (1948). Just watch Rita in COVER GIRL and fall in love with her. \n",
            "\n",
            "We all want to fall in love... The experience makes us feel completely alive, where every sense is heightened, every emotion is magnified... It may only last a moment, an hour, an afternoon, but that doesn't reduce its value, because we are left with memories that we treasure for the rest of our lives...<br /><br />I love watching people fall in love... It must have something to do with the excellent chemistry between the main characters...<br /><br />Mark Elliott, a charming sensitive American war correspondent, arrives in Hong Kong at the dawn of the Korean war... He finds in Han Suyin an awesome beauty of true grace...<br /><br />Han Suyin, a lovely Eurasian doctor is captivated by Mark's tenderness and insight...<br /><br />It was instant attraction when they first met... The two commence a passionate affair, leading them to fall deeply in love...<br /><br />Their love is so strong, so wonderfully expressed that highlights Elliot's married status, and the difficulties of the troubled time of the Korean War, communism and race relations... <br /><br />Holden is an inspired choice for the role... Not only does he have an imposing screen presence, but he brings the perfect mix of enlightenment, compassion and emotion to the part...<br /><br />Opposite him Oscar Winner Jennifer Jones, perfect in her oriental look, radiantly beautiful in that traditional and modern Asian-inspired Cheongsam... Jones floods her role with personal emotion giving her character a charismatic life of its own... She delivers a heartfelt performance turning her character into a woman who undergoes a spiritual and emotional awakening...<br /><br />Her scene in that verdant hill where she takes refuge is exquisitely touching specially when we heard Mark's voice whispering: \"We have not missed you and I... that many-splendored thing.\"<br /><br />Henry King - who has established himself as a masterful director of romances - spreads the theme tune (by Alfred Newman) in the air above the cosmopolitan harbor... His film is colorful, elegant, with excellent cinematography and set design...<br /><br />Nominated for eight Academy Awards, this beautiful and sensitive motion picture won three: Best Costume Design; Best Music and Best Score... \n",
            "\n",
            "We have moved far beyond this tentative foray into a forbidden area-drug addiction-for the 1950s. As such, the film may seem dated. The Man with the Golden Arm served its function is peeling back a layer of the underside of society, an eye-opener to a Southern country boy in 1955 when I first viewed this film in the theater. After some serious consideration about being too young, I was allowed to go. It was powerful and affecting then and still maintains some sharp, painful moments of the soul stripped naked. As a movie depicting the loneliness at the core of being, it succeeds.<br /><br />Filled with angst, Frank Sinatra, in his best role, creates a vulnerability that makes him sympathetic to the viewer. He conveys his helplessness and ineffectualness in a beautifully restrained performance. As a voice of common sense in the dead-end urban jungle, Kim Novak as Molly is quite good. She is compassionate and yet stands on solid ground. The interaction between Sinatra and Novak is really good. Darren McGavin plays a slimy character and does it very well. Eleanor Parker is superbly irritating and painfully insecure in her role of the pathetic Zosch, the crippled wife of Sinatra. Arnold Stang is another unlikely survivor of the street. Regarded as pitiful and despicable, his character Sparrow provides tart comedic moments. <br /><br />The music is almost the star of this film-brooding, frenetic, moody, poignant. Elmer Bernstein's score perfectly accentuates the tensions of Frankie Machine's spiritual weakness and physical need for heroin. Molly's theme is bittersweet and captures aurally what the film depicts visually. I know of no other soundtrack that effectively complements the tension and defeat within a man as effectively as does this one. \n",
            "\n"
          ],
          "name": "stdout"
        }
      ]
    },
    {
      "cell_type": "code",
      "metadata": {
        "id": "R4FwcL6_CITd",
        "colab": {
          "base_uri": "https://localhost:8080/",
          "height": 535
        },
        "outputId": "2a1522bb-770f-4ab9-98b0-312ac4f1fc94"
      },
      "source": [
        "# самые негативные рецензии\n",
        "for i in sorted_proba[:14]:\n",
        "  print(df_test.text[i[0]], '\\n')"
      ],
      "execution_count": null,
      "outputs": [
        {
          "output_type": "stream",
          "text": [
            "This is just the same old crap that is spewed from amateur idiots who have no clue how to make a movie--gee maybe that's why it is a straight-to-video wanna-be movie!<br /><br />I guess it is my fault for actually spending money to see it (one of the worst decisions I have ever made). What a waste. I usually like B movies, some of them are actually quite good--but this is just too ridiculous and stupid to even be funny.<br /><br />The losers that made this junk deserve to be put out of business for wasting everyone's time and money making a movie that obviously doesn't even deserve to be on film! These so-called movie makers have absolutely NO talent!<br /><br />Stupid plot, horrible acting (especially the drag queens--what sicko would actually find that sexy?!), lame writing (if there even was a script--seems like the kinda bull**** someone just made up on the spot)<br /><br />What is stunning about this movie is its utter lack of anything well-done at all.<br /><br />How much attention to detail would it take to insure that every frame of a film would be so far below any reasonable standards? I don't think it would be possible to make such a bad movie intentionally, and it is inconceivable that sheer bad luck could produce such consistently awful results.<br /><br />Anyway, avoid this stink bomb at all costs!!!!!!!!!!!!!!!! \n",
            "\n",
            "For years I hesitated watching this movie. Now, I know why. Not only is it a comedy that fails at being even remotely funny, but there's also just nothing to laugh *at* about the movie. It was even worse than I'd expected. I rented this sucker and still felt cheated out of time more than money. I have never seen a film that annoyed me that much. It is a movie about stupid people that are doing stupid and terrible things. I don't really know either how someone with common sense could actually act in this kind of movie. I have used IMDb for some time but felt obligated to register just to help prevent poor unsuspecting folks from renting or, worse, buying this stinker!! Really a waste of time and money. I must say that the plot line is awful. \n",
            "\n",
            "My original comment on this particular title was deleted, by a IMDb user or the staff, only because I just happen to dislike this film to the point I had to sincerely write what I felt after seeing this poor excuse for a film. where's my freedom of word?<br /><br />Obviously this movie was made by students, 'cos so lame and amateurish it felt. Of course even they have to start from somewhere? The script was incoherent mess and so was the acting. With low budget and b- class actors, what can you expect? There's some CGI in places, so poor, it looks like done with an old PC. Some may say, this is sort of an \"Alien\" clone, only this time it's Dracula (in a vintage costume) who's sucking the other cast dry, one by one. The sets are unconvincing, cheap and small (boiler rooms), although the story takes place in a large space craft. <br /><br />It would be fun to know what the stars (Erika Eleniak, Casper Van Dien, Coolio and Udo Kier) thought about the film after it was released... Coolio must be the worst rapper turned actor ever!<br /><br />It was a total waste of my time and money, don't know why I even bothered to rent this flick. Honestly, I just hate this film. With Uwe Boll's House Of The Dead, Dracula 3000 shares the questionable honor of being the worst movie ever. (Well, I've seen even worse than these two)<br /><br />Avoid! Any other film will do better. \n",
            "\n",
            "Granted, HOTD 2 is better than the Uwe Boll crapfest that was the first one, but thats like saying drowning is better than being chopped alive. OK OK, I'm being a little bit harsh with this one, its just that Video Game adaptations of Zombie movies always leave a bad taste in my mouth. Resident Evil was alright, but its sequels are pure rubbish. The first HOTD was entertaining crap more than anything else; Uwe Boll saw to that. And HOTD 2 was...better? The entertainment value was there, the hot chicks were there, the gore was there, but... this is it? The script, even though subpar, was better than the first one. But in the script dwells horribly written characters, stupid action sequences, clichés, and an ending that drags on and on reaching a level of ridiculousness which would make the Bollmeister very, very proud. But, it could've been worse right?<br /><br />HOTD 2 stars Sig Haig (Yes, Sid Haig) as an insane doctor looking for a cure to death. As you may guess, it all goes to sh*t. A nearby College Campus seems to be the center for the Zombie (or Hypersapien?) epidemic, and as you may expect, a group of Commandos and two Zombie scientists try to save the world by going there and neutralizing the problem. Their main goal? No, it ain't blowing sh*t up. Instead, they have to get a sample of zombie blood, so they can create a cure to the deadly virus. Between this and that lays bland character interactions, an insufferable amount of clichés (but hey, at least the black guy isn't the first one to get killed), and decent looking Zombies. <br /><br />The acting is passable. Who would've thought that Sticky Fingaz was a passable actor? Not me. Emmanuelle Vaugier and Ed Quinn shine somewhat as the leads. And the supporting cast was passable too. It was all passable. <br /><br />The make up effects on the Zombies were alright, it could've been worse like in the first HOTD: just guys running around in dusty mummy suits. The gore was alright too. Cheap scares and even cheaper tension are almost non-existent in this movie, which is a good thing. The action sequences were stupid as f*ck, but at least there wasn't any sword fighting zombies or that ridiculous slow motion bullet effect. <br /><br />Overall, this movie will appeal only to Zombie enthusiasts, fans of the arcade games and for someone who wants to rent a cheap Horror movie for the weekend. Apparently there's going to be a third one as hinted by the ending, but I wouldn't count on it. Unless Uwe decides to do it. A 4. \n",
            "\n",
            "One night on an independent channel famous for showing off-the-wall films was aired this monstrosity. Though tempted to turn it off, we watched it to the bitter end, hoping to see some semblance of redeeming value. Alas, there was none. Absolutely nothing. The film quality was cheap; the soundtrack was muddy; the editing was ridiculous. Then again, there was precious little to salvage. After a few minutes of Cameron Mitchell's doctor character narrating about some patient of his, the viewer is tortured by no plot, pathetic writing, abysmally terrible acting, and an utter lack of cohesion and continuity. The rotting cherry on top of this fetid mess was the most horrendous \"special effects\" and \"makeup\" to ever disgrace the screen, even for television. The main character stumbles through his role in a dimestore rubber mask and a pair of dishwashing gloves which appear to have been dipped in glue and rolled in beads. Perhaps the poor lighting and gag-worthy film quality were attempting to cover up how bad-to-the-tenth-power the makeup was. One can only hope that at least one deliberate decision was made in the course of this hopelessly amateurish video. Seriously, a handful of three-year-old kids could've produced a better project. At the end, poor Mr. Mitchell returns (how desperate he must've been for money!) and drones out some nonsense that's supposed to connect this pile of crap with the AIDS epidemic. Please spare you and your loved ones the inhuman cruelty of sitting through this. It was so bad, even Mystery Science Theater 3000 couldn't have salvaged it. \n",
            "\n",
            "As you can tell from the other comments, this movie is just about the WORST film ever made. Let me see how many different words I can use to describe it: Boring, Unbearable, Laughable, Lousy, Stupid, Horrible.....<br /><br />I could go on with such descriptions but you probably get the point.<br /><br />I would have given this a 0, if possible--bad acting, bad directing, bad production, bad plot.<br /><br />This was made in 2001 and it looks more like 1965. Very low budget, boring plot, horrible acting, really bad special effects, etc...<br /><br />I rarely ever see a Sci-Fi film I absolutely think is this bad. I mean this is pure garbage. It has nothing going for it either. As far as a \"B-movie\" this is the very bottom of the lot.<br /><br />I think I would be more entertained by staring at a blank piece of paper for 90 minutes. Junk like this gives good low-budget \"B\" movies a bad name. This makes Ed Wood movies look good.<br /><br />The thing about watching direct-to-video movies is, just when you think you've seen the worst, you see something even worse!<br /><br />DJ Perry is a horrible actor and has no individual characteristics that make him stand out.<br /><br />Avoid this waste at all costs! Oh the humanity! \n",
            "\n",
            "Predator Island starts as six friends, Eric (Tom Dahl), Chris (Dan Gordon) along with Heather (Iris McQuillan-Grace), Kim (Iana Baker) & Denise (Melissa Roby) get invited to spend sometime on Kevin's (Michael Wrann) father's boat partying in the open sea. What could go wrong with such a super sounding idea? Well for starters a big green meteorite could crash into the sea near your boat & an alien life-force could emerge from it & try to kill all of you, then again that's just a ridiculously stupid idea, isn't it?<br /><br />Co-edited, written & directed by Steven Castle I thought Predator Island was crap & it's a simple & straight forward as that really. The script is of the worst kind, you know the sort of abomination that's full of highly annoying teenage character's who do & say the most stupid things, it's full of clichés & is utterly predictable, it makes next-to-no sense, things just suddenly happen without any build up or explanation, it's boring even at only 70 odd minutes & it has virtually no entertainment value whatsoever, not even unintentional laugh value. The film doesn't really have much of what I would call a plot, there's no explanation given as to why or how this alien creature can take over people's minds or why it can be selective in the sense that one moment the person will be 'normal' the next, when the story calls for it & with no apparent cause, they suddenly get green glowing eyes & a sudden urge to turn cannibal. There's not enough horror in it, the so-called action scenes are pitiful & I really don't want to waste another second thinking about Predator Island let alone wasting my precious energy typing these words...<br /><br />Director Castle doesn't do anything to make this thing watchable & the 'special effects' are absolutely terrible, this alien creature dude wouldn't even get into a 50's sci-fi film. The filmmakers even play some blooper footage over the end credits but this has to be the least funny collection of mistakes ever, I mean they can't even get it wrong right if you know what I mean! Forget about any decent gore as there isn't any, there's a bit of cannibalism & some intestines placed on the unfortunate actors stomach so another unfortunate actor can pick them up & pretend to eat them.<br /><br />With a supposed budget of about $150,000 I have to concede that the filmmakers were working on a seriously low budget, that's still no excuse for making such a poor film. The whole thing looks very cheap & the acting is pretty bad.<br /><br />Predator Island is crap, I'm sorry but that's the way it is & I just fail to see what anyone would get out of it. In my humble opinion this probably one to avoid. \n",
            "\n",
            "A movie theater with a bad history of past gruesome murders reopens. Of course, the bloody killings start anew. Written, directed, shot, scored and edited with an appalling lack of flair and finesse by the singularly talentless Rick Sloane (who later disgraced celluloid some more with the absolutely atrocious \"Hobgoblins\"), this horrendously ham-fisted attempt at a slasher spoof strikes out something rotten in every conceivable way: the excruciatingly lethargic pacing, the painfully static, grainy cinematography (there's a stinky surplus of drab master shots featured throughout), an annoyingly droning and redundant hum'n'shiver synthesizer score, the flat (non)direction, a tediously talky and uneventful script, the groan-inducing sophomoric sense of lowbrow humor, the bloodless murder set pieces, a pitifully unscary killer (he's just some wrinkled-up old guy in pasty make-up), the uniformly obnoxious and unappealing characters, a dissatisfyingly abrupt ending, and lifeless performances from a noticeably uninspired cast all ensure that watching this schlocky swill is about as fun and rewarding as eating rancid raw eels drenched with sour vinegar. This crud totally lacks the necessary crude charm and sleazy vigor required to be enjoyable junk. Instead it's just a bland, plodding and meandering stiff that never catches fire or becomes even remotely amusing in a so-shoddy-it's-smoking sort of way. Only a smidgen of nudity and the delightful presence of the always dependable Mary Woronov as a snarky, sardonic secretary provide a little relief from the overall crumminess of this lousy loser. \n",
            "\n",
            "Now I've seen it all. Just when I thought it couldn't get any more pathetic and cheesy than \"Woodchipper Massacre,\" just when I thought dialogue and acting couldn't get worse than \"Nail Gun Massacre,\" just when I thought \"Don't Go In The Woods\" would retain its title as Lousiest Slasher Film Ever, along comes \"THE LAST SLUMBER PARTY!\" Somehow, this cheap, wretched manure manages to avoid lewdness, but it remains terrible! I couldn't believe my eyes--for once I can't complain about excessive (or in this case, any) nudity in a slasher film, but it still managed to make me crimson with embarrassment for renting it. Never before have I seen such horrible acting, dialect, direction, writing,....I could go on forever with this list! Here's a quick run-down:<br /><br />A mental patient somehow escapes from the loony bin, dresses up like a surgeon, somehow finds out where his doctor lives, and breaks in while the doctor's daughter is having friends over for the night. Then begins the most stupid killing spree (ripped off from other movies such as \"Slumber Party Massacre\" and Halloween\") this side of the universe. The characters have negative IQs, which suggests they are not human. Then again, I guess they are not, since they have the tendency to bleed Kool-Aid when they get cut, as the slasher likes to show use when he holds up his scapel to the camera in WAY too many scenes. It is only 80 minutes...how many times must we look at that scapel like that before it consumes the whole movie?...which I suppose wouldn't be all that bad of an idea in this case! There is one moment where I thought maybe, just maybe, the director would make it interesting (a second killer was added), but alas! It was not to be! And then to insult even further, there is a stupid super cop-out sub-ending and an even stupider final conclusion. That probably doesn't make a whole lot of sense, but I would hate to give away the dumbest few scenes in movie history to those two or three fools (like me) dumb enough to rent this sewage.<br /><br />I sure hope that, by writing this, I have saved 80 minutes of someone's life. I get on my hands and knees to beg anyone still thinking about renting this: PLEASE, PLEASE, PLEASE DON'T! This is a fan of the slasher genre talking; I know what is good for you! The only real victims in this rattlebrained, asinine nonsense are the poor morons that have sat through the whole toilet tank! Zanatos's score...since there is no negative point scale, I have to give it a 1, but a below-average 1 at that. Avoid it at all costs....please!!!! \n",
            "\n",
            "Oh, where the hell should I begin? Give a brief summary of the story? No. either you've already heard it, or don't want to. Either way, it sucks. Much like the movie. I happen to be a semi-large horror movie aficionado, and I must say this is one of the dumbest and most clumsily-executed movies I've ever had the displeasure of viewing. <br /><br />The script is horrendously stupid. The story starts too fast with absolutely no suspense or build-up in the slightest. All of those torture scenes would have been A LOT more effective if we gave even the tiniest bit of crap for the characters. Since the first scene in the film is when the teenage girls meet Capt. Howdy, how the hell are we supposed to sympathize with them? First off, they seem stupid for going to a party with a guy they don't even know, and second, we don't even know their damn names! Why the hell should I care if they live or die? Not to mention the fact that they actually have the guts to try and make us feel sympathetic towards Capt. Howdy after he's been \"reformed\"? PLEASE! I was cheering when he got his just deserts! He deserved them! Hell, he deserved worse! Also, we're forced to sit through a pointless misdirect sequence lifted directly from \"The Silence of the Lambs\" (and here it's done HORRIBLY! Of course he's gonna give them a false address! And even if he had given them the real one, don't you think he'd be waiting and not piercing some guy's Johnson upstairs? RETARDED!)<br /><br />Then there's the dialogue. Everything Captain Howdy says is either laughable or just plain stupid. \"The dead are so dreadfully dead, when they're dead\"?? What the hell kind of crap is that?! Dee Snider at one point says \"knowledge is power\". Well, if that's true, this film has absolutely no power whatsoever. <br /><br />Then, there's the plot holes. Yes, I know this is a horror film (well, wannabe horror film), but damn! You could drive a semi truck into these holes! First off, these have got to be the DUMBEST cops I have EVER SEEN! EVER!! I mean, DEAR GOD, these guys are morons! Call for backup, idiots! Second, how the hell did that humungous septum ring fall out of Captain Howdy's nose?! Evidentially this piercing expert guy says \"that's the biggest one I've ever seen\", but if it's so damn big, how the hell could it have fallen out so easily? Did Capt. Howdy just LEAVE it at the crime scene because he WANTED to get caught? They sure didn't make it seem like he did. Also, they would NEVER release Capt. Howdy, and I know that for a damn fact. He would be in jail for the rest of his life, and there's no getting around this. Much less let him return to his old house where he killed/tortured everybody. IMPOSSIBLE AND IMPLAUSIBLE. <br /><br />And now the acting. Dear God did these people suck. Linda Cardellini is the only thing good in this film. She's poised and amazing. Too bad she hardly gets a good chance to act in this piece of crap. Amy Smart shows up for about 10 minutes and then drops out of existence. Even the usually entertaining Robert Englund is underused and ineffective here. Dee Snider plays the crazy guy with no talent whatsoever. I never felt threatened, scared or intimidated. I'd rather have seen Dee Snider in Alexis Arquette's role in \"Bride of Chucky\". It would have been so much more fun to see this talent-less hack get it by that lovable psycho doll. <br /><br />Dee Snider just plain sucks. He can't act (one of the least scary villains I have ever seen), he can't write (did he write this damn movie in his sleep?), and he's obviously dumber than freaking Jessica Simpson! This film is just a way for Dee Snider to show off all the weird crap he knows about self-mutilation and modern primitives and blah-blah-blah. Either it's been done before or it just didn't need to be done. I was bored throughout the whole damn thing. <br /><br />The acting sucks, the music sucks, the script sucks, the pacing sucks, the special FX suck, the directing sucks... basically, this movie sucks. This film tries to be a serious and sophisticated thriller/horror flick and it fails miserably. It doesn't manage to scare, shock, or disturb in any shape, way or form. This is probably one of the least effective and utterly unoriginal films I have ever seen in my entire life. A piece of cinematic garbage captured on celluloid. <br /><br />\"Strangeland\" gets a 0 out of 10. Avoid at any and all costs. Not enjoyable in the slightest. \n",
            "\n",
            "I went into this movie hoping for an imaginative twist on the Second Coming. Boy, was I ever wrong. BBC are dullards at pacing a movie, total idiots at creating suspense, fools at building intensity. And this movie is no exception to the rule of how much BBC sucks.<br /><br />Ugh, the pacing and time-wasting laborious dialogue was just painful to sit through. The first 30 minutes felt like 2 hours. I kept looking down at my watch wondering when the pointless, monotonous drivel would end. They wasted a perfectly good actor in the lead role, because the material is so lazy, and sloppily, written. Everything that happens is just to kill time.<br /><br />Out of 155 minutes, only 15 minutes are interesting (the controversial ending). What a shame. Reading the plot summary is more interesting than watching the movie. The preaching, the \"am I God\" endless blah blah blah-ing, the dumb as doornails boring miracles... UGH.<br /><br />DO NOT WATCH THIS CRAP. \n",
            "\n",
            "I gotta go with my boy Allen (who also reviewed this film)...ZOMBIE GANGBANGERS (as my copy is entitled - guess they left out the \"NINJA\" part after realizing there isn't a single \"ninja\" nor reference to ninjas anywhere in the whole f!cking film...) is a total wasted of time. Honestly one of the most boring, retarded \"films\" I've ever had the displeasure of viewing.<br /><br />A hooker is repeatedly (un-graphically) raped by two zombies, and then by a cop (again, un-graphically) when the cop doesn't believe her story. She meets a guy who was beaten up by said zombies and the two try to find a way to seek vengeance on the undead culprits...<br /><br />First off - there is NO \"gangbanging\" (or really other \"banging\" at all) to be had in ZOMBIE NINJA GANGBANGERS. I was hoping to at least get some sort of horror/porn hybrid a la PORN OF THE DEAD, or RE-PENETRATOR, or perhaps PERVERTED STORIES - but no - there was absolutely NO sex in this film. At least a bit o' the ol' in-out might have redeemed this boring garbage to some degree, but without it, we get a bunch of poorly shot scenes of complete boredom with zero payoff. I'm all for \"trash\" films and most other schlock, gore, porn, and exploit material, but this one honestly sucks in every conceivable way. Save your time, pass this one up...1/10 (and the one is only for a few brief shots of some sub-par titties...) \n",
            "\n",
            "Truly appalling waste of space. Me and my friend tried to watch this film to its conclusion but had to switch it off about 30 minutes from the end. And i can count the films I have switched off before the end on one hand.<br /><br />The script and direction are leaden and deeply uninspiring. I wouldn't be surprised if they found the script in a pile of cast off scripts from 1983. For example the irritating scroat threatening the real estate guy from his house phone. I mean seriously. The police would be beating his door down in minutes. The scenes and events just wash by you like turds in a river. It is difficult to understand the actual thrust of the film. The narrative flicks between characters in a seemingly random manner breaking up the pathetic attempts at building the characters. Oh and what \"characters\" they are. The protagonist played by Rourke is dreadful. He could have just sent a cardboard cut out of himself and stayed in bed. After 60 or so minutes of the film I had built absolutely zero attachment to this character. He is neither sympathetic nor hateful. Just a disfigured dummy from a shop window blundering through every single scene. His motivation is impossible to discern from his generally mumbled and emotionless delivery. Is he happy? Is he sad? Angry? No idea. Just those same dead eyes staring out at you from a disfigured chunk of flesh. And the native American theme is just awful and pointless.<br /><br />The good guys are at best unlikeable. A dull white collar stereotype and a simpering neurotic ex-wife stereotype. Cue archetypal wife with shotgun face off with bad guy, \"you aren't going to shoot me\" that is both tiresomely unoriginal and annoying.<br /><br />The richie nix character seems interesting at first but soon descends into an irritating one sided psycho character. Which seems at odds with the seeming intention of making the bad guys in some way sympathetic or at least realistically motivated.<br /><br />Roasario Dawsons character starts with some promise but soon descends into a sickening and childlike parody of the gangsters chick scenes from Jackie Brown. You really want me to believe her character was SO attracted to Rourke's? Or worse she is just a floozy who sleeps with anything that moves? Realistic female characters FTW! <br /><br />In summary a complete mess of a film. Hopeless characterisations and performances. A leaden and hackneyed script along with uninspired direction. And ultimately extremely dull. Its not even comedy bad either. Laughing at Rourkes haggard face gets pretty old after sitting through the first 15 turgid minutes of the film. \n",
            "\n",
            "Jesus Christ, what the hell happened here?. This is one of the most boring movies I have ever seen, how is it possible that they screwed up such a nice idea for a movie. To tell you the truth I was so hyped for this, I though it was like Blair Witch but with actual alien creatures chasing the camera guy. Goddamn it, I have been reduced to fast forwarding this pile of sh*t, and I never do that while seeing movies. The high rating here on IMDb makes me believe that actual aliens are giving 10's for this piece of crap.<br /><br />Invasion is about well, an invasion. The movie starts by saying that everything you're about to see is real, blahblahblah. Then they go and tell me about a special camera system used in cars, as if I need to believe their bullsh*t to enjoy this movie. Next thing you know I'm seeing the most boring car driving ever filmed, in a forest at night mind you. Is this a movie, or a Disney theme park ride? The first 20 minutes is all boring dialog between cops while seeing grass and one straight road with a flashlight. Where the hell were the aliens?! They were sleeping of course! Then we learn that bad acting is not only reduced to high school plays, as the cop behind the camera goes out of his car to look for a missing man who was 'nightfishing' and had stumbled upon a mysterious meteorite. I wonder what happens to him? Out of nowhere, we see the 'nightfishing' guy walking like a zombie. The cop is apparently too dumb to notice that something is wrong with this man. Apparently he was indeed dumb, as the zombie/alien guy injects in the cop's ear some sort of alien parasite, thus changing him into an alien. Then the cop/alien goes back into his car, looks for a young couple that were having sex a while back in the forest, gets to them, changes the guy into an alien, and then the girl runs to the cop's car and escapes. If this quick plot introduction didn't get it in your head that this movie was bad, then the following 40 minutes will. Watching this movie is as painful as stabbing yourself repeatedly with a plastic fork. The script, while it may sound interesting on the back of the DVD box, is badly directed and sadly, we are left with another boring straight to DVD atrocity.<br /><br />The only thing that kept me awake were the constant flashing and loud sound effects (lamentably). If seeing the same forest trail for 63 minutes is not enough, we must endure crappy flashing techniques to \"scare\" the viewer and constant wailing of a bad actress that gets old and annoying pretty quick.<br /><br />If you feel you must rent this, I say to you, why? There are better SciFi/Horror films out there. Even the dreaded remake of the Invasion of the Body Snatchers is more entertaining than this. For the love of all things good, don't bother with his crap. My eyes bled, and for the first time, I wanted suicide. A 1/10, avoid this like a disease. \n",
            "\n"
          ],
          "name": "stdout"
        }
      ]
    },
    {
      "cell_type": "code",
      "metadata": {
        "id": "1YDmiN0l5Zcy"
      },
      "source": [
        "results = pd.DataFrame(columns=['y_true', 'y_pred'])\n",
        "results.y_true = df_test.tag\n",
        "results.y_pred = predicted"
      ],
      "execution_count": null,
      "outputs": []
    },
    {
      "cell_type": "code",
      "metadata": {
        "id": "raiYUuRG4y8y"
      },
      "source": [
        "TP = results[(results.y_true==1)&(results.y_pred==1)].shape[0]\n",
        "TN = results[(results.y_true==0)&(results.y_pred==0)].shape[0]\n",
        "FP = results[(results.y_true==0)&(results.y_pred==1)].shape[0]\n",
        "FN = results[(results.y_true==1)&(results.y_pred==0)].shape[0]"
      ],
      "execution_count": null,
      "outputs": []
    },
    {
      "cell_type": "code",
      "metadata": {
        "id": "cTVDT-1e6W1I",
        "colab": {
          "base_uri": "https://localhost:8080/",
          "height": 159
        },
        "outputId": "ccde901c-dfba-4e1c-b68a-956f1c64765d"
      },
      "source": [
        "# считаем и сравниваем результаты\n",
        "\n",
        "def accuracy():\n",
        "  acc = (TP + TN) / (TP + TN + FP + FN) \n",
        "  return acc\n",
        "\n",
        "acc_h = accuracy()\n",
        "print('accuracy={0:1.4f}'.format(acc_h), '\\n', acc == acc_h)\n",
        "\n",
        "def precision():\n",
        "  prec = TP/(TP + FP)\n",
        "  return prec\n",
        "\n",
        "p_h = precision()\n",
        "print('precision={0:1.4f}'.format(p_h), '\\n', p == p_h)\n",
        "\n",
        "def recall():\n",
        "  rec =  TP/(TP + FN)\n",
        "  return rec\n",
        "\n",
        "r_h = recall()\n",
        "print('recall={0:1.4f}'.format(p_h), '\\n', r == r_h)\n",
        "\n",
        "def f_score():\n",
        "  f = 2 *  precision() * recall() / (precision() + recall())\n",
        "  return f\n",
        "  \n",
        "f1_h = f_score()\n",
        "print('F1={0:1.4f}'.format(f1_h), '\\n', f1 == f1_h)"
      ],
      "execution_count": null,
      "outputs": [
        {
          "output_type": "stream",
          "text": [
            "accuracy=0.8296 \n",
            " True\n",
            "precision=0.8741 \n",
            " True\n",
            "recall=0.8741 \n",
            " True\n",
            "F1=0.8188 \n",
            " True\n"
          ],
          "name": "stdout"
        }
      ]
    }
  ]
}