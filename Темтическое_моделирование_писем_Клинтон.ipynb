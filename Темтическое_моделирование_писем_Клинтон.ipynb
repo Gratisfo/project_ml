{
  "nbformat": 4,
  "nbformat_minor": 0,
  "metadata": {
    "colab": {
      "name": "Темтическое моделирование писем Клинтон.ipynb",
      "provenance": [],
      "include_colab_link": true
    },
    "kernelspec": {
      "name": "python3",
      "display_name": "Python 3"
    }
  },
  "cells": [
    {
      "cell_type": "markdown",
      "metadata": {
        "id": "view-in-github",
        "colab_type": "text"
      },
      "source": [
        "<a href=\"https://colab.research.google.com/github/Gratisfo/project_ml/blob/main/%D0%A2%D0%B5%D0%BC%D1%82%D0%B8%D1%87%D0%B5%D1%81%D0%BA%D0%BE%D0%B5_%D0%BC%D0%BE%D0%B4%D0%B5%D0%BB%D0%B8%D1%80%D0%BE%D0%B2%D0%B0%D0%BD%D0%B8%D0%B5_%D0%BF%D0%B8%D1%81%D0%B5%D0%BC_%D0%9A%D0%BB%D0%B8%D0%BD%D1%82%D0%BE%D0%BD.ipynb\" target=\"_parent\"><img src=\"https://colab.research.google.com/assets/colab-badge.svg\" alt=\"Open In Colab\"/></a>"
      ]
    },
    {
      "cell_type": "markdown",
      "metadata": {
        "id": "JkUHcjAyPSRu"
      },
      "source": [
        "## Задача о тематическом моделировании\n"
      ]
    },
    {
      "cell_type": "markdown",
      "metadata": {
        "id": "4Y-LH57dPOrF"
      },
      "source": [
        "\n",
        "\n",
        "### Постановка задачи\n",
        "Загрузите [коллекцию писем Х. Клинтон](https://www.kaggle.com/kaggle/hillary-clinton-emails/) с kaggle. Для скачивания может потребоваться регистрация.\n",
        "\n",
        "Методом LDA выделите несколько тем в переписке Х. Клинтон, дайте им словесное описание. Используйте библиотеку LdaModel из gensim.\n"
      ]
    },
    {
      "cell_type": "code",
      "metadata": {
        "id": "5ip2QiasrF9m",
        "colab": {
          "base_uri": "https://localhost:8080/"
        },
        "outputId": "c1a5e7c5-5180-49f0-b0f8-3d917c77267e"
      },
      "source": [
        "! pip install pyLDAvis"
      ],
      "execution_count": null,
      "outputs": [
        {
          "output_type": "stream",
          "text": [
            "Requirement already satisfied: pyLDAvis in /usr/local/lib/python3.6/dist-packages (2.1.2)\n",
            "Requirement already satisfied: funcy in /usr/local/lib/python3.6/dist-packages (from pyLDAvis) (1.15)\n",
            "Requirement already satisfied: pytest in /usr/local/lib/python3.6/dist-packages (from pyLDAvis) (3.6.4)\n",
            "Requirement already satisfied: numexpr in /usr/local/lib/python3.6/dist-packages (from pyLDAvis) (2.7.1)\n",
            "Requirement already satisfied: wheel>=0.23.0 in /usr/local/lib/python3.6/dist-packages (from pyLDAvis) (0.35.1)\n",
            "Requirement already satisfied: scipy>=0.18.0 in /usr/local/lib/python3.6/dist-packages (from pyLDAvis) (1.4.1)\n",
            "Requirement already satisfied: numpy>=1.9.2 in /usr/local/lib/python3.6/dist-packages (from pyLDAvis) (1.18.5)\n",
            "Requirement already satisfied: joblib>=0.8.4 in /usr/local/lib/python3.6/dist-packages (from pyLDAvis) (0.16.0)\n",
            "Requirement already satisfied: pandas>=0.17.0 in /usr/local/lib/python3.6/dist-packages (from pyLDAvis) (1.1.2)\n",
            "Requirement already satisfied: jinja2>=2.7.2 in /usr/local/lib/python3.6/dist-packages (from pyLDAvis) (2.11.2)\n",
            "Requirement already satisfied: future in /usr/local/lib/python3.6/dist-packages (from pyLDAvis) (0.16.0)\n",
            "Requirement already satisfied: six>=1.10.0 in /usr/local/lib/python3.6/dist-packages (from pytest->pyLDAvis) (1.15.0)\n",
            "Requirement already satisfied: setuptools in /usr/local/lib/python3.6/dist-packages (from pytest->pyLDAvis) (50.3.0)\n",
            "Requirement already satisfied: attrs>=17.4.0 in /usr/local/lib/python3.6/dist-packages (from pytest->pyLDAvis) (20.2.0)\n",
            "Requirement already satisfied: atomicwrites>=1.0 in /usr/local/lib/python3.6/dist-packages (from pytest->pyLDAvis) (1.4.0)\n",
            "Requirement already satisfied: pluggy<0.8,>=0.5 in /usr/local/lib/python3.6/dist-packages (from pytest->pyLDAvis) (0.7.1)\n",
            "Requirement already satisfied: py>=1.5.0 in /usr/local/lib/python3.6/dist-packages (from pytest->pyLDAvis) (1.9.0)\n",
            "Requirement already satisfied: more-itertools>=4.0.0 in /usr/local/lib/python3.6/dist-packages (from pytest->pyLDAvis) (8.5.0)\n",
            "Requirement already satisfied: pytz>=2017.2 in /usr/local/lib/python3.6/dist-packages (from pandas>=0.17.0->pyLDAvis) (2018.9)\n",
            "Requirement already satisfied: python-dateutil>=2.7.3 in /usr/local/lib/python3.6/dist-packages (from pandas>=0.17.0->pyLDAvis) (2.8.1)\n",
            "Requirement already satisfied: MarkupSafe>=0.23 in /usr/local/lib/python3.6/dist-packages (from jinja2>=2.7.2->pyLDAvis) (1.1.1)\n"
          ],
          "name": "stdout"
        }
      ]
    },
    {
      "cell_type": "code",
      "metadata": {
        "id": "ZAvu1YKPrC8J"
      },
      "source": [
        "import re\n",
        "import numpy as np\n",
        "import pandas as pd\n",
        "from pprint import pprint\n",
        "\n",
        "# Gensim\n",
        "import gensim\n",
        "import gensim.corpora as corpora\n",
        "from gensim.utils import simple_preprocess\n",
        "from gensim.models import CoherenceModel\n",
        "from scipy.sparse import csc\n",
        "from gensim import matutils\n",
        "\n",
        "from sklearn.feature_extraction.text import CountVectorizer\n",
        "from sklearn.feature_extraction.text import TfidfVectorizer\n",
        "\n",
        "# spacy для лемматизции\n",
        "import spacy\n",
        "# Plotting tools\n",
        "import pyLDAvis\n",
        "import pyLDAvis.gensim  \n",
        "import matplotlib.pyplot as plt\n",
        "%matplotlib inline\n",
        "# Enable logging for gensim - optional\n",
        "import logging\n",
        "logging.basicConfig(format='%(asctime)s : %(levelname)s : %(message)s', level=logging.ERROR)\n",
        "import warnings"
      ],
      "execution_count": null,
      "outputs": []
    },
    {
      "cell_type": "code",
      "metadata": {
        "id": "7WO4U492edXv"
      },
      "source": [
        "import pandas as pd\n",
        "df = pd.read_csv('Emails.csv')"
      ],
      "execution_count": null,
      "outputs": []
    },
    {
      "cell_type": "code",
      "metadata": {
        "id": "nclzwxyEkP9j",
        "colab": {
          "base_uri": "https://localhost:8080/",
          "height": 424
        },
        "outputId": "2889e012-72c9-407b-99c0-2c0a14b8db13"
      },
      "source": [
        "df.head()"
      ],
      "execution_count": null,
      "outputs": [
        {
          "output_type": "execute_result",
          "data": {
            "text/html": [
              "<div>\n",
              "<style scoped>\n",
              "    .dataframe tbody tr th:only-of-type {\n",
              "        vertical-align: middle;\n",
              "    }\n",
              "\n",
              "    .dataframe tbody tr th {\n",
              "        vertical-align: top;\n",
              "    }\n",
              "\n",
              "    .dataframe thead th {\n",
              "        text-align: right;\n",
              "    }\n",
              "</style>\n",
              "<table border=\"1\" class=\"dataframe\">\n",
              "  <thead>\n",
              "    <tr style=\"text-align: right;\">\n",
              "      <th></th>\n",
              "      <th>Id</th>\n",
              "      <th>DocNumber</th>\n",
              "      <th>MetadataSubject</th>\n",
              "      <th>MetadataTo</th>\n",
              "      <th>MetadataFrom</th>\n",
              "      <th>SenderPersonId</th>\n",
              "      <th>MetadataDateSent</th>\n",
              "      <th>MetadataDateReleased</th>\n",
              "      <th>MetadataPdfLink</th>\n",
              "      <th>MetadataCaseNumber</th>\n",
              "      <th>MetadataDocumentClass</th>\n",
              "      <th>ExtractedSubject</th>\n",
              "      <th>ExtractedTo</th>\n",
              "      <th>ExtractedFrom</th>\n",
              "      <th>ExtractedCc</th>\n",
              "      <th>ExtractedDateSent</th>\n",
              "      <th>ExtractedCaseNumber</th>\n",
              "      <th>ExtractedDocNumber</th>\n",
              "      <th>ExtractedDateReleased</th>\n",
              "      <th>ExtractedReleaseInPartOrFull</th>\n",
              "      <th>ExtractedBodyText</th>\n",
              "      <th>RawText</th>\n",
              "    </tr>\n",
              "  </thead>\n",
              "  <tbody>\n",
              "    <tr>\n",
              "      <th>0</th>\n",
              "      <td>1</td>\n",
              "      <td>C05739545</td>\n",
              "      <td>WOW</td>\n",
              "      <td>H</td>\n",
              "      <td>Sullivan, Jacob J</td>\n",
              "      <td>87.0</td>\n",
              "      <td>2012-09-12T04:00:00+00:00</td>\n",
              "      <td>2015-05-22T04:00:00+00:00</td>\n",
              "      <td>DOCUMENTS/HRC_Email_1_296/HRCH2/DOC_0C05739545...</td>\n",
              "      <td>F-2015-04841</td>\n",
              "      <td>HRC_Email_296</td>\n",
              "      <td>FW: Wow</td>\n",
              "      <td>NaN</td>\n",
              "      <td>Sullivan, Jacob J &lt;Sullivan11@state.gov&gt;</td>\n",
              "      <td>NaN</td>\n",
              "      <td>Wednesday, September 12, 2012 10:16 AM</td>\n",
              "      <td>F-2015-04841</td>\n",
              "      <td>C05739545</td>\n",
              "      <td>05/13/2015</td>\n",
              "      <td>RELEASE IN FULL</td>\n",
              "      <td>NaN</td>\n",
              "      <td>UNCLASSIFIED\\nU.S. Department of State\\nCase N...</td>\n",
              "    </tr>\n",
              "    <tr>\n",
              "      <th>1</th>\n",
              "      <td>2</td>\n",
              "      <td>C05739546</td>\n",
              "      <td>H: LATEST: HOW SYRIA IS AIDING QADDAFI AND MOR...</td>\n",
              "      <td>H</td>\n",
              "      <td>NaN</td>\n",
              "      <td>NaN</td>\n",
              "      <td>2011-03-03T05:00:00+00:00</td>\n",
              "      <td>2015-05-22T04:00:00+00:00</td>\n",
              "      <td>DOCUMENTS/HRC_Email_1_296/HRCH1/DOC_0C05739546...</td>\n",
              "      <td>F-2015-04841</td>\n",
              "      <td>HRC_Email_296</td>\n",
              "      <td>NaN</td>\n",
              "      <td>NaN</td>\n",
              "      <td>NaN</td>\n",
              "      <td>NaN</td>\n",
              "      <td>NaN</td>\n",
              "      <td>F-2015-04841</td>\n",
              "      <td>C05739546</td>\n",
              "      <td>05/13/2015</td>\n",
              "      <td>RELEASE IN PART</td>\n",
              "      <td>B6\\nThursday, March 3, 2011 9:45 PM\\nH: Latest...</td>\n",
              "      <td>UNCLASSIFIED\\nU.S. Department of State\\nCase N...</td>\n",
              "    </tr>\n",
              "    <tr>\n",
              "      <th>2</th>\n",
              "      <td>3</td>\n",
              "      <td>C05739547</td>\n",
              "      <td>CHRIS STEVENS</td>\n",
              "      <td>;H</td>\n",
              "      <td>Mills, Cheryl D</td>\n",
              "      <td>32.0</td>\n",
              "      <td>2012-09-12T04:00:00+00:00</td>\n",
              "      <td>2015-05-22T04:00:00+00:00</td>\n",
              "      <td>DOCUMENTS/HRC_Email_1_296/HRCH2/DOC_0C05739547...</td>\n",
              "      <td>F-2015-04841</td>\n",
              "      <td>HRC_Email_296</td>\n",
              "      <td>Re: Chris Stevens</td>\n",
              "      <td>B6</td>\n",
              "      <td>Mills, Cheryl D &lt;MillsCD@state.gov&gt;</td>\n",
              "      <td>Abedin, Huma</td>\n",
              "      <td>Wednesday, September 12, 2012 11:52 AM</td>\n",
              "      <td>F-2015-04841</td>\n",
              "      <td>C05739547</td>\n",
              "      <td>05/14/2015</td>\n",
              "      <td>RELEASE IN PART</td>\n",
              "      <td>Thx</td>\n",
              "      <td>UNCLASSIFIED\\nU.S. Department of State\\nCase N...</td>\n",
              "    </tr>\n",
              "    <tr>\n",
              "      <th>3</th>\n",
              "      <td>4</td>\n",
              "      <td>C05739550</td>\n",
              "      <td>CAIRO CONDEMNATION - FINAL</td>\n",
              "      <td>H</td>\n",
              "      <td>Mills, Cheryl D</td>\n",
              "      <td>32.0</td>\n",
              "      <td>2012-09-12T04:00:00+00:00</td>\n",
              "      <td>2015-05-22T04:00:00+00:00</td>\n",
              "      <td>DOCUMENTS/HRC_Email_1_296/HRCH2/DOC_0C05739550...</td>\n",
              "      <td>F-2015-04841</td>\n",
              "      <td>HRC_Email_296</td>\n",
              "      <td>FVV: Cairo Condemnation - Final</td>\n",
              "      <td>NaN</td>\n",
              "      <td>Mills, Cheryl D &lt;MillsCD@state.gov&gt;</td>\n",
              "      <td>Mitchell, Andrew B</td>\n",
              "      <td>Wednesday, September 12,2012 12:44 PM</td>\n",
              "      <td>F-2015-04841</td>\n",
              "      <td>C05739550</td>\n",
              "      <td>05/13/2015</td>\n",
              "      <td>RELEASE IN PART</td>\n",
              "      <td>NaN</td>\n",
              "      <td>UNCLASSIFIED\\nU.S. Department of State\\nCase N...</td>\n",
              "    </tr>\n",
              "    <tr>\n",
              "      <th>4</th>\n",
              "      <td>5</td>\n",
              "      <td>C05739554</td>\n",
              "      <td>H: LATEST: HOW SYRIA IS AIDING QADDAFI AND MOR...</td>\n",
              "      <td>Abedin, Huma</td>\n",
              "      <td>H</td>\n",
              "      <td>80.0</td>\n",
              "      <td>2011-03-11T05:00:00+00:00</td>\n",
              "      <td>2015-05-22T04:00:00+00:00</td>\n",
              "      <td>DOCUMENTS/HRC_Email_1_296/HRCH1/DOC_0C05739554...</td>\n",
              "      <td>F-2015-04841</td>\n",
              "      <td>HRC_Email_296</td>\n",
              "      <td>NaN</td>\n",
              "      <td>NaN</td>\n",
              "      <td>NaN</td>\n",
              "      <td>NaN</td>\n",
              "      <td>NaN</td>\n",
              "      <td>F-2015-04841</td>\n",
              "      <td>C05739554</td>\n",
              "      <td>05/13/2015</td>\n",
              "      <td>RELEASE IN PART</td>\n",
              "      <td>H &lt;hrod17@clintonemail.com&gt;\\nFriday, March 11,...</td>\n",
              "      <td>B6\\nUNCLASSIFIED\\nU.S. Department of State\\nCa...</td>\n",
              "    </tr>\n",
              "  </tbody>\n",
              "</table>\n",
              "</div>"
            ],
            "text/plain": [
              "   Id  ...                                            RawText\n",
              "0   1  ...  UNCLASSIFIED\\nU.S. Department of State\\nCase N...\n",
              "1   2  ...  UNCLASSIFIED\\nU.S. Department of State\\nCase N...\n",
              "2   3  ...  UNCLASSIFIED\\nU.S. Department of State\\nCase N...\n",
              "3   4  ...  UNCLASSIFIED\\nU.S. Department of State\\nCase N...\n",
              "4   5  ...  B6\\nUNCLASSIFIED\\nU.S. Department of State\\nCa...\n",
              "\n",
              "[5 rows x 22 columns]"
            ]
          },
          "metadata": {
            "tags": []
          },
          "execution_count": 3
        }
      ]
    },
    {
      "cell_type": "code",
      "metadata": {
        "id": "F_uA5ECrn_RT"
      },
      "source": [
        "# препроцессинг для текстов \n",
        "\n",
        "data = df.dropna(subset=['ExtractedBodyText'])['ExtractedBodyText'].tolist()\n",
        "\n",
        "# удаляем емейлы\n",
        "data = [re.sub(r\"\\S*@\\S*\\s?\", \"\", text) for text in data]\n",
        "# удаляем символы новой строки\n",
        "data = [re.sub(r\"\\s+\", \" \", text) for text in data]\n",
        "# удаляем некоторые чиселки\n",
        "data = [re.sub(r\"\\d.*?\\s\", \"\", text) for text in data]"
      ],
      "execution_count": null,
      "outputs": []
    },
    {
      "cell_type": "code",
      "metadata": {
        "id": "i7KTWEmiu6wv"
      },
      "source": [
        "# разделяем тексты на слова\n",
        "def text_to_words(data):\n",
        "    for text in data:\n",
        "        yield(gensim.utils.simple_preprocess(str(text), deacc=True))  # deacc=True удаляем пунктуацию\n",
        "data_words = list(text_to_words(data))"
      ],
      "execution_count": null,
      "outputs": []
    },
    {
      "cell_type": "code",
      "metadata": {
        "id": "IN67D6CCv1ia"
      },
      "source": [
        "# удаляем стоп слова\n",
        "from nltk.corpus import stopwords\n",
        "stop_words = stopwords.words('english')\n",
        "stop_words.extend(['from', 'subject', 're', 'edu', 'use'])\n",
        "\n",
        "def remove_stopwords(texts):\n",
        "    return [[word for word in simple_preprocess(str(doc)) if word not in stop_words] for doc in texts]\n",
        "\n",
        "data_words_nostops = remove_stopwords(data_words)"
      ],
      "execution_count": null,
      "outputs": []
    },
    {
      "cell_type": "code",
      "metadata": {
        "id": "QGQ-m-cV93_f"
      },
      "source": [
        "# лемматизируем тексты, сохраняем только noun, adj, vb, adv\n",
        "def lemmatization(texts, allowed_postags=['NOUN', 'ADJ', 'VERB', 'ADV']):\n",
        "    texts_out = []\n",
        "    for sent in texts:\n",
        "        doc = nlp(\" \".join(sent)) \n",
        "        texts_out.append([token.lemma_ for token in doc if token.pos_ in allowed_postags])\n",
        "    return texts_out\n",
        "\n",
        "nlp = spacy.load('en', disable=['parser', 'ner'])\n",
        "data_lemmatized = lemmatization(data_words_nostops, allowed_postags=['NOUN', 'ADJ', 'VERB', 'ADV'])"
      ],
      "execution_count": null,
      "outputs": []
    },
    {
      "cell_type": "code",
      "metadata": {
        "id": "QekvCPCv-qhM"
      },
      "source": [
        "data_lemmatized = [text for text in data_lemmatized if len(text) > 0]\n",
        "data_texts = [' '.join(text) for text in data_lemmatized if len(text) > 0]"
      ],
      "execution_count": null,
      "outputs": []
    },
    {
      "cell_type": "code",
      "metadata": {
        "id": "RwYbsOOg-8av"
      },
      "source": [
        "# Считаем векторы CountVectorizer\n",
        "vec = CountVectorizer(min_df=10)\n",
        "# Term Document Frequency\n",
        "X_CV = vec.fit_transform(data_texts)\n",
        "# Создаем корпус\n",
        "corpus_CV = matutils.Sparse2Corpus(X_CV.T)\n",
        "# Создаем словарь\n",
        "vect_dict_CV = vec.get_feature_names()\n",
        "dictionary_CV = gensim.corpora.Dictionary.from_corpus(corpus_CV, id2word=dict([(i, s) for i, s in enumerate(vect_dict_CV)]))"
      ],
      "execution_count": null,
      "outputs": []
    },
    {
      "cell_type": "code",
      "metadata": {
        "id": "iV6Tx0zWA9sE"
      },
      "source": [
        "# Функция для фита модели lda\n",
        "from gensim.models.ldamodel import LdaModel\n",
        "from gensim import matutils\n",
        "\n",
        "def fit_lda(corpus, dictionary, num_topics=5, passes=20):\n",
        "    \"\"\" Fit LDA from a scipy CSR matrix (X). \"\"\"\n",
        "    print('fitting lda...')\n",
        "    return LdaModel(corpus, num_topics=num_topics,\n",
        "                    passes=passes,\n",
        "                    id2word=dictionary)"
      ],
      "execution_count": null,
      "outputs": []
    },
    {
      "cell_type": "code",
      "metadata": {
        "id": "lMKnDc_BD6Ub"
      },
      "source": [
        "# Fit LDA CountVectorizer\n",
        "lda_CV = fit_lda(corpus_CV, dictionary_CV)"
      ],
      "execution_count": null,
      "outputs": []
    },
    {
      "cell_type": "code",
      "metadata": {
        "id": "6Z-lo947uQHF",
        "colab": {
          "base_uri": "https://localhost:8080/"
        },
        "outputId": "dc370f5f-f338-4c82-e3f2-820022692622"
      },
      "source": [
        "# Cписки ключевых слов по CountVectorizer\n",
        "lda_CV.print_topics()"
      ],
      "execution_count": null,
      "outputs": [
        {
          "output_type": "execute_result",
          "data": {
            "text/plain": [
              "[(0,\n",
              "  '0.069*\"call\" + 0.024*\"send\" + 0.023*\"state\" + 0.020*\"today\" + 0.018*\"information\" + 0.018*\"case\" + 0.015*\"print\" + 0.015*\"house\" + 0.014*\"sensitive\" + 0.014*\"tomorrow\"'),\n",
              " (1,\n",
              "  '0.037*\"office\" + 0.035*\"pm\" + 0.032*\"meeting\" + 0.032*\"private\" + 0.031*\"time\" + 0.029*\"arrive\" + 0.025*\"residence\" + 0.025*\"call\" + 0.017*\"cdm\" + 0.016*\"meet\"'),\n",
              " (2,\n",
              "  '0.019*\"go\" + 0.018*\"see\" + 0.018*\"know\" + 0.018*\"get\" + 0.017*\"think\" + 0.017*\"say\" + 0.016*\"would\" + 0.015*\"work\" + 0.015*\"want\" + 0.015*\"good\"'),\n",
              " (3,\n",
              "  '0.009*\"government\" + 0.008*\"woman\" + 0.008*\"state\" + 0.008*\"work\" + 0.007*\"support\" + 0.007*\"country\" + 0.007*\"need\" + 0.007*\"people\" + 0.007*\"security\" + 0.007*\"would\"'),\n",
              " (4,\n",
              "  '0.015*\"say\" + 0.008*\"would\" + 0.006*\"year\" + 0.006*\"right\" + 0.005*\"political\" + 0.005*\"government\" + 0.005*\"time\" + 0.005*\"american\" + 0.005*\"party\" + 0.004*\"even\"')]"
            ]
          },
          "metadata": {
            "tags": []
          },
          "execution_count": 25
        }
      ]
    },
    {
      "cell_type": "code",
      "metadata": {
        "id": "i4tu-d8mF_nf",
        "colab": {
          "base_uri": "https://localhost:8080/",
          "height": 861
        },
        "outputId": "32fad7d5-a0e0-4bb5-9095-9a499f592eeb"
      },
      "source": [
        "# визуализация CountVectorizer\n",
        "pyLDAvis.enable_notebook()\n",
        "vis = pyLDAvis.gensim.prepare(lda_CV, corpus_CV, dictionary_CV)\n",
        "vis"
      ],
      "execution_count": null,
      "outputs": [
        {
          "output_type": "execute_result",
          "data": {
            "text/html": [
              "\n",
              "<link rel=\"stylesheet\" type=\"text/css\" href=\"https://cdn.rawgit.com/bmabey/pyLDAvis/files/ldavis.v1.0.0.css\">\n",
              "\n",
              "\n",
              "<div id=\"ldavis_el50411397283697367046231823083\"></div>\n",
              "<script type=\"text/javascript\">\n",
              "\n",
              "var ldavis_el50411397283697367046231823083_data = {\"mdsDat\": {\"x\": [0.14813604781541728, 0.16650783197782365, 0.062350216250683106, -0.09877221453817665, -0.27822188150574706], \"y\": [0.05760244770306271, 0.11609701620886459, -0.09162350981221631, -0.2506922576175688, 0.16861630351785792], \"topics\": [1, 2, 3, 4, 5], \"cluster\": [1, 1, 1, 1, 1], \"Freq\": [44.86254042960433, 24.00777264944788, 19.504796335403753, 6.859287800594262, 4.7656027849497695]}, \"tinfo\": {\"Term\": [\"call\", \"time\", \"office\", \"state\", \"meeting\", \"private\", \"send\", \"pm\", \"think\", \"see\", \"today\", \"know\", \"go\", \"get\", \"case\", \"arrive\", \"want\", \"residence\", \"information\", \"good\", \"meet\", \"may\", \"tomorrow\", \"staff\", \"need\", \"say\", \"work\", \"house\", \"also\", \"let\", \"conservative\", \"campaign\", \"voter\", \"republican\", \"claim\", \"candidate\", \"jewish\", \"pay\", \"politic\", \"poll\", \"win\", \"tea\", \"fear\", \"wing\", \"rise\", \"anti\", \"publish\", \"tax\", \"tory\", \"black\", \"charge\", \"labour\", \"brother\", \"victory\", \"evidence\", \"majority\", \"liberal\", \"lobbyist\", \"corporate\", \"accuse\", \"percent\", \"election\", \"democratic\", \"kill\", \"history\", \"accord\", \"company\", \"former\", \"man\", \"party\", \"become\", \"movement\", \"political\", \"vote\", \"right\", \"say\", \"american\", \"group\", \"care\", \"even\", \"year\", \"run\", \"leader\", \"public\", \"member\", \"would\", \"government\", \"policy\", \"people\", \"time\", \"take\", \"first\", \"tell\", \"support\", \"last\", \"make\", \"may\", \"call\", \"go\", \"diplomacy\", \"haitian\", \"capacity\", \"gender\", \"partnership\", \"missile\", \"diplomat\", \"port\", \"stability\", \"deploy\", \"nuclear\", \"comprehensive\", \"development\", \"cooperation\", \"rebuild\", \"reconstruction\", \"capability\", \"governance\", \"usaid\", \"integrate\", \"coordination\", \"requirement\", \"empower\", \"deployment\", \"proliferation\", \"integration\", \"export\", \"preparation\", \"sustainable\", \"framework\", \"humanitarian\", \"peace\", \"global\", \"approach\", \"solution\", \"international\", \"security\", \"afghan\", \"pakistani\", \"weapon\", \"mission\", \"conflict\", \"region\", \"future\", \"structure\", \"diplomatic\", \"ensure\", \"develop\", \"effort\", \"negotiation\", \"agreement\", \"regional\", \"commitment\", \"civilian\", \"woman\", \"world\", \"settlement\", \"must\", \"country\", \"government\", \"support\", \"process\", \"military\", \"include\", \"official\", \"need\", \"issue\", \"state\", \"people\", \"force\", \"provide\", \"work\", \"policy\", \"new\", \"make\", \"would\", \"also\", \"help\", \"bibi\", \"kid\", \"cloture\", \"cancel\", \"helpful\", \"wonderful\", \"actual\", \"copenhagen\", \"verveer\", \"guess\", \"attachment\", \"strobe\", \"tue\", \"moratorium\", \"terrific\", \"feedback\", \"excite\", \"eat\", \"folk\", \"grade\", \"scan\", \"vacation\", \"exception\", \"smile\", \"greeting\", \"slot\", \"clock\", \"damn\", \"cheryl\", \"lauren\", \"maybe\", \"reaction\", \"creative\", \"think\", \"touch\", \"get\", \"good\", \"wait\", \"let\", \"know\", \"interesting\", \"trip\", \"go\", \"talk\", \"see\", \"hope\", \"mention\", \"want\", \"sure\", \"love\", \"read\", \"evening\", \"thing\", \"night\", \"week\", \"look\", \"hear\", \"thank\", \"back\", \"do\", \"lot\", \"ask\", \"work\", \"try\", \"come\", \"next\", \"still\", \"make\", \"would\", \"could\", \"say\", \"give\", \"also\", \"much\", \"tell\", \"time\", \"send\", \"take\", \"need\", \"may\", \"doc\", \"dept\", \"foia\", \"redaction\", \"thx\", \"pis\", \"select\", \"cdate\", \"waiver\", \"benghazi\", \"huma\", \"recipient\", \"info\", \"libyan\", \"noon\", \"declassify\", \"pls\", \"readout\", \"fw\", \"asap\", \"congrat\", \"btw\", \"jake\", \"followup\", \"pj\", \"sensitive\", \"cgi\", \"sheet\", \"grid\", \"consulate\", \"print\", \"information\", \"op\", \"house\", \"produce\", \"call\", \"case\", \"send\", \"release\", \"message\", \"cell\", \"today\", \"state\", \"tomorrow\", \"email\", \"list\", \"add\", \"part\", \"thank\", \"discuss\", \"also\", \"want\", \"see\", \"pm\", \"arrive\", \"residence\", \"cdm\", \"fax\", \"phone\", \"availability\", \"bureau\", \"photo\", \"conf\", \"sometime\", \"lona\", \"appropriation\", \"reception\", \"tail\", \"tonite\", \"luncheon\", \"library\", \"spray\", \"breakfast\", \"precede\", \"shuttle\", \"be\", \"fyi\", \"pool\", \"clip\", \"route\", \"ceremony\", \"weekly\", \"intermittent\", \"office\", \"private\", \"room\", \"daily\", \"meeting\", \"secretary\", \"brief\", \"pre\", \"available\", \"dinner\", \"bilateral\", \"press\", \"staff\", \"assistant\", \"secure\", \"meet\", \"time\", \"minute\", \"call\", \"travel\", \"senior\", \"schedule\", \"special\", \"may\", \"small\", \"need\"], \"Freq\": [1495.0, 1095.0, 422.0, 883.0, 412.0, 375.0, 593.0, 314.0, 798.0, 1007.0, 637.0, 921.0, 1050.0, 857.0, 384.0, 257.0, 835.0, 226.0, 287.0, 709.0, 366.0, 789.0, 424.0, 265.0, 713.0, 1965.0, 1165.0, 238.0, 990.0, 427.0, 249.78545568426276, 289.4674203681331, 237.27916171090783, 215.02416557240355, 183.9282640229779, 199.58843740576825, 168.56596630282834, 165.61343344940573, 163.60623752560193, 136.6374842244277, 119.4575839947089, 116.62655203469824, 118.83625915284135, 107.86873386305317, 97.56964303543938, 97.43712660452263, 94.75133474914573, 89.98858513420775, 85.31666760341729, 85.08879640951847, 90.89904114594793, 83.22324962217505, 80.79875408066745, 82.59038515555577, 78.89951527707036, 74.24497026798349, 71.1434267933451, 70.2143608316794, 68.85484454453987, 66.0407338088813, 325.4895867535371, 365.7821519013518, 222.66227134099483, 135.25866890968618, 146.0759849713142, 198.27730698843504, 161.23146233531642, 301.69620043892223, 215.4845665135072, 383.66439697918497, 284.3178167224099, 135.61228222156927, 443.6182310698368, 341.4603497673658, 513.609811147636, 1249.4677094260867, 384.9774490497569, 365.157789294516, 236.10312933944846, 368.1204739120179, 535.592087811352, 221.86961849597998, 307.42230005626215, 294.4616030291851, 237.9022820368621, 638.6537672764633, 421.4047736983109, 328.96238295804534, 363.1047648525645, 413.0118464196772, 351.77170811868535, 289.36089478253604, 298.0791249563996, 296.57887668548176, 289.0402504406122, 333.6081252424478, 298.76888200526827, 329.89207491281155, 288.8400297016484, 224.37682179331208, 82.0645609975559, 62.60552545689905, 56.61166013920843, 55.45665136798129, 52.27821406618149, 119.26432372354203, 45.04485386895856, 39.833535481283036, 38.031805728549834, 190.66177993579274, 35.86738610317753, 156.97511651902948, 35.93175436919339, 34.260667240687646, 29.266222672677625, 27.772552736014532, 30.10035614420259, 25.460917352364127, 27.063868177012033, 24.241683142193, 21.895444654308065, 21.894808424624202, 20.88849821636693, 19.827161931023152, 19.693065488511873, 19.591989366593026, 19.70534082612663, 19.419107583496764, 19.120362689369568, 48.80047873995792, 283.9626349718277, 199.67669231577497, 138.22131950965888, 89.30009735998323, 174.48775146741048, 307.5798547840264, 131.05404929388203, 82.92936593355472, 88.89137302364689, 94.47870575134068, 134.73459386847395, 120.13560002432527, 128.28278860233047, 48.421524759114625, 92.58609643119348, 111.92718797274158, 124.51984059782707, 289.55977342722053, 124.7733560535713, 122.34769532629358, 79.59858148631228, 89.04761025915657, 111.35118456981074, 364.95422706824854, 247.66897757731851, 169.9412385653978, 169.88190560287993, 321.716265501458, 392.5374066880755, 322.16892863881856, 176.88263425912442, 200.20881924222198, 272.255510192444, 234.28577970619224, 319.9927426595786, 296.59207985063136, 358.3587533489215, 318.90081671072033, 181.13144360620674, 165.0745852738892, 347.5786853340326, 248.1675739009981, 227.07921386765537, 282.35941926788286, 307.54746679783403, 238.86497144225274, 194.8523989369323, 69.0535524940847, 37.20518341429315, 31.57597102495496, 32.448173511570744, 34.66767375692641, 32.81493574478483, 24.13319292879267, 18.541175979899744, 18.157695841405552, 17.840907992639963, 17.942491841874165, 18.12861672877611, 18.209347501812868, 14.229645297387059, 14.088288910118033, 22.294911136613138, 12.572320483353334, 16.023551009214607, 39.65846217181095, 14.851720578249655, 12.72070771607238, 12.00034195424189, 11.992675009796168, 19.719336808996065, 11.1366809163296, 10.441791815933982, 12.088692201650064, 10.008799335047875, 9.76522510933002, 7.964733188415122, 59.17758708563207, 38.4254639128761, 16.060850883823345, 620.0774869620604, 53.632217396424046, 640.8662232756835, 525.9790228529337, 70.65158085596673, 321.3022064169263, 653.2422328490793, 39.37128299072595, 123.9502460831613, 701.6036812225797, 413.2049116471937, 663.5341162801353, 181.48240646516186, 103.59512885540518, 543.0973139473305, 172.6702222143195, 94.22019003833432, 128.88290580972208, 60.40172426402977, 203.60864271418802, 138.00208008599324, 289.88841004405, 229.28199481961184, 189.14984038009518, 242.41320475025458, 269.3151414525933, 153.10255967696554, 109.60569261412756, 274.4533022954973, 547.7901084433125, 230.4947982540463, 343.7835272608872, 203.63293051398418, 204.0845418129037, 444.19043933902265, 562.7428864804169, 308.5495080903337, 610.748946450507, 292.98837045916963, 379.19949395180373, 232.38161766975864, 254.5828270992535, 306.97220199822215, 236.33504360572016, 246.0397158882652, 227.3972176719852, 228.36334550251377, 174.0000619280324, 172.59848753930342, 162.3871696226901, 162.3871696226901, 103.16509894049202, 97.83252774186552, 177.3941832733107, 162.0756097206684, 63.277750808953435, 62.528119521738176, 48.80487037348103, 48.37356261008885, 42.670238689419485, 39.65495436007917, 34.5501679356951, 33.438963339439, 31.44110698429266, 17.447959944916658, 16.634120251526518, 16.402869084013364, 15.805524644316108, 13.690402994555248, 13.616469099726094, 11.162504539948813, 11.152272299024872, 178.27048036942563, 9.6235839632251, 61.112566783432875, 20.780665586132866, 24.5708594601229, 191.17166010807708, 234.74327382438005, 107.51636032083617, 184.87272494434583, 170.95668734842886, 884.7648775723986, 233.99977995264754, 301.7077238161133, 125.2804980683989, 157.7482094720851, 44.28637926024377, 248.57909765546714, 294.96791566166826, 177.4515924440547, 125.20782252181185, 91.75289537295225, 108.51922825617208, 132.3521896360967, 116.68358159036957, 104.06802316025846, 137.74950641314297, 118.12364244137153, 121.97985062933203, 313.2564078215582, 256.9320166242455, 225.47995482243488, 150.783574103622, 55.169941630303114, 113.79869571680129, 33.231853338433154, 31.563667858224633, 94.02663134212635, 16.297127630025734, 15.461315240743627, 21.386122144370706, 16.280109495146412, 23.034983221587893, 13.512788798850972, 13.113051811215778, 13.058328203086234, 11.692917477193697, 11.394577933167335, 11.294901169701083, 47.33024660215435, 32.372989608642975, 16.226019930328846, 16.942605371876414, 15.707081769077487, 55.24862485887219, 29.60890923450939, 24.07683700603793, 15.428777993709557, 8.341653200216, 323.8490178757614, 281.22639543706936, 124.63043185548071, 101.7035081716187, 283.11977454432645, 85.08651754679569, 74.86577234861915, 60.32839842462804, 59.53961555365877, 82.3623210743972, 47.69787213119099, 120.16938146573963, 137.62745786446388, 37.500224666935594, 68.13909860057193, 138.2887433885951, 272.3893781152307, 70.45284739270413, 224.3935984142373, 70.3338658145765, 80.7355164567189, 68.43070079005558, 68.60952780911585, 103.0655610453696, 70.51216497969247, 86.81476084667223], \"Total\": [1495.0, 1095.0, 422.0, 883.0, 412.0, 375.0, 593.0, 314.0, 798.0, 1007.0, 637.0, 921.0, 1050.0, 857.0, 384.0, 257.0, 835.0, 226.0, 287.0, 709.0, 366.0, 789.0, 424.0, 265.0, 713.0, 1965.0, 1165.0, 238.0, 990.0, 427.0, 250.58382432404971, 290.39655612075484, 238.07778882305522, 215.82778388761855, 184.7291296348548, 200.49405928412338, 169.3706262133391, 166.42038473577603, 164.4156551904739, 137.4399655763827, 120.26376985252865, 117.4233683777392, 119.65230705488861, 108.66918372355175, 98.37422120891422, 98.24388556707656, 95.55646229491514, 90.79326761975645, 86.11619040143563, 85.89118601893178, 91.76484636094729, 84.02101181168945, 81.60112495837735, 83.42922775759989, 79.71770771045684, 75.07425353065484, 71.94228497451626, 71.01767803848364, 69.65289437652855, 66.84092601371353, 331.35240495411836, 373.42139554684434, 227.32408038738228, 137.96744279427418, 151.29655822935976, 212.72556151340464, 170.67340258392406, 335.04048000838543, 233.41414453380025, 436.9565317630365, 323.450640156445, 143.5366935151684, 549.285586546155, 418.74257680866907, 675.772941344892, 1965.7820461226947, 499.4859872951224, 470.2606725246941, 281.9789300738888, 491.6986983424594, 835.3929923851874, 275.99659017245483, 459.08674046357555, 431.2966757732206, 313.4907007785786, 1575.0195458171943, 818.1444837465517, 588.7744371572976, 800.8320673910948, 1095.8627356677137, 790.0052850253826, 545.0976336554049, 593.3128264481785, 631.8651687601249, 591.1457793516141, 1086.5768074570658, 789.5601955154643, 1495.0879701496162, 1050.778440004792, 225.16837160743705, 82.85570402819637, 63.397970533258565, 57.403824845709835, 56.24878495095096, 53.06495164297447, 121.30140810435174, 45.84839228271525, 40.617663321275714, 38.82113696018997, 194.67086731760926, 36.66557403540854, 160.48728346037197, 36.73592787817876, 35.07956762760333, 30.057906526745196, 28.558324056574747, 30.987909060716163, 26.248552422547313, 27.908288565644146, 25.063290645875973, 22.682798797237574, 22.682923010510155, 21.673885544960832, 20.61693860109564, 20.48264151659566, 20.379342087411747, 20.498411684537945, 20.203826144058787, 19.907004991934194, 51.170977674733166, 308.68163163879854, 218.7802986206157, 150.45594862124085, 96.6783619635369, 192.96568562942497, 347.74092713668335, 144.0675582100957, 90.28724204262625, 97.4061899230513, 104.47574845699363, 152.78323432813954, 136.51715964197732, 148.8256560396609, 51.820738043359064, 105.06535626836187, 129.78457616823422, 148.20747205375747, 383.70090384267445, 149.44139852636323, 146.30466929701745, 90.15943724853977, 103.82494447821026, 136.84937437178397, 611.9119145191254, 380.95331964094953, 237.22141223355203, 241.50092135854538, 561.1736251668362, 818.1444837465517, 631.8651687601249, 268.02784851457017, 325.57248741406744, 516.0426561287238, 433.8567167828313, 713.0660305713367, 644.3735549932558, 883.725482905436, 800.8320673910948, 301.350405838517, 254.0275651966578, 1165.5783966441477, 588.7744371572976, 578.5880808621239, 1086.5768074570658, 1575.0195458171943, 990.4470092605607, 499.7008927763526, 69.86306404270529, 38.004789491679844, 32.3677039613013, 33.30011735174434, 35.62839039028354, 33.724638466406304, 24.978349585256165, 19.35543406786472, 18.969230096608417, 18.64040098665712, 18.74677442669227, 18.951797600328796, 19.114579037205523, 15.030859701404106, 14.88543481794682, 23.638899716112512, 13.365467637293024, 17.043334744990798, 42.194617814502706, 15.807639030164836, 13.549028592618859, 12.79586273860423, 12.811333726812302, 21.10184927631218, 11.94587849193999, 11.244636767634987, 13.054860153453813, 10.81115668637529, 10.561237631665243, 8.759910091515986, 65.44922834541146, 42.39360216473973, 17.667917588638275, 798.3221137673584, 62.35802484455056, 857.136142260232, 709.3994750734887, 84.16352977106207, 427.41448150655407, 921.988315904217, 45.37065132343834, 157.4695604744136, 1050.778440004792, 595.7135209294479, 1007.9846690329401, 245.18265966439887, 131.55728646514441, 835.1552166794438, 237.70221739182603, 122.33201219359125, 174.98470228978462, 74.20786927962425, 306.4343037611191, 196.7350999856514, 475.67850176856, 360.0078197465192, 290.24484432848516, 399.84336977990665, 461.2658398994175, 229.6952544254568, 152.1454798539287, 482.74543020799683, 1165.5783966441477, 396.5594898947918, 669.3114015237045, 341.23940707034467, 358.1210609696204, 1086.5768074570658, 1575.0195458171943, 659.8816246349475, 1965.7820461226947, 629.9222564379224, 990.4470092605607, 463.78179674639125, 593.3128264481785, 1095.8627356677137, 593.9019155159507, 790.0052850253826, 713.0660305713367, 789.5601955154643, 174.76912103985197, 173.36849816254482, 163.15366681666538, 163.15366692513103, 103.93626652578861, 98.59926614651212, 178.84252426689818, 163.81955982230502, 64.04553184594566, 63.29483400635411, 49.57502968497056, 49.16213437394584, 43.44662479431038, 40.42866620335055, 35.332752044740865, 34.208122171792546, 32.21010717606056, 18.222816399468606, 17.403401164847057, 17.17363846045683, 16.575869252460777, 14.459456540324515, 14.398805003635955, 11.947950969383648, 11.940118702439118, 192.9790538045691, 10.75527874199303, 68.52483806960011, 23.589011953930264, 27.893041250401517, 217.51272998277994, 287.25973301816566, 130.4234002293437, 238.9990111342299, 234.00307245753064, 1495.0879701496162, 384.44696638163913, 593.9019155159507, 206.31429849494754, 279.2315743525983, 60.79650702987659, 637.8083893997122, 883.725482905436, 424.5921769586386, 279.1629171008548, 175.0526784968097, 244.74839110516032, 375.1297939831121, 399.84336977990665, 312.0329274417738, 990.4470092605607, 835.1552166794438, 1007.9846690329401, 314.04813614426206, 257.77035835009127, 226.2709020869906, 151.57242812768996, 55.966939293529286, 116.08144849304234, 34.054456309706524, 32.360286431221716, 96.43711399856335, 17.087945874754833, 16.256512345288485, 22.56133290512206, 17.181173648629244, 24.352038135740994, 14.323008063276323, 13.899987477672997, 13.845235335344146, 12.495289091186388, 12.188542631709195, 12.086111136390818, 51.35657663979028, 35.5690728658356, 18.310524824995163, 19.17602620869922, 17.842947670012887, 63.92074982015098, 34.390051848348406, 28.976858922243643, 18.61716347781504, 10.641118341592241, 422.9575814469648, 375.13532942696577, 164.45615261232012, 132.78525660361794, 412.0460670587287, 115.30992382680563, 100.83204347605312, 83.48129499671134, 85.34623703825443, 126.218749110935, 67.05831243654322, 213.59881561056642, 265.7916237901128, 52.419536535868886, 124.68294601237233, 366.538356729596, 1095.8627356677137, 141.85902193751008, 1495.0879701496162, 168.11917429168136, 225.82867414277771, 170.9014600340022, 185.05487456315228, 789.5601955154643, 209.639087837737, 713.0660305713367], \"Category\": [\"Default\", \"Default\", \"Default\", \"Default\", \"Default\", \"Default\", \"Default\", \"Default\", \"Default\", \"Default\", \"Default\", \"Default\", \"Default\", \"Default\", \"Default\", \"Default\", \"Default\", \"Default\", \"Default\", \"Default\", \"Default\", \"Default\", \"Default\", \"Default\", \"Default\", \"Default\", \"Default\", \"Default\", \"Default\", \"Default\", \"Topic1\", \"Topic1\", \"Topic1\", \"Topic1\", \"Topic1\", \"Topic1\", \"Topic1\", \"Topic1\", \"Topic1\", \"Topic1\", \"Topic1\", \"Topic1\", \"Topic1\", \"Topic1\", \"Topic1\", \"Topic1\", \"Topic1\", \"Topic1\", \"Topic1\", \"Topic1\", \"Topic1\", \"Topic1\", \"Topic1\", \"Topic1\", \"Topic1\", \"Topic1\", \"Topic1\", \"Topic1\", \"Topic1\", \"Topic1\", \"Topic1\", \"Topic1\", \"Topic1\", \"Topic1\", \"Topic1\", \"Topic1\", \"Topic1\", \"Topic1\", \"Topic1\", \"Topic1\", \"Topic1\", \"Topic1\", \"Topic1\", \"Topic1\", \"Topic1\", \"Topic1\", \"Topic1\", \"Topic1\", \"Topic1\", \"Topic1\", \"Topic1\", \"Topic1\", \"Topic1\", \"Topic1\", \"Topic1\", \"Topic1\", \"Topic1\", \"Topic1\", \"Topic1\", \"Topic1\", \"Topic1\", \"Topic1\", \"Topic1\", \"Topic1\", \"Topic1\", \"Topic1\", \"Topic1\", \"Topic1\", \"Topic1\", \"Topic2\", \"Topic2\", \"Topic2\", \"Topic2\", \"Topic2\", \"Topic2\", \"Topic2\", \"Topic2\", \"Topic2\", \"Topic2\", \"Topic2\", \"Topic2\", \"Topic2\", \"Topic2\", \"Topic2\", \"Topic2\", \"Topic2\", \"Topic2\", \"Topic2\", \"Topic2\", \"Topic2\", \"Topic2\", \"Topic2\", \"Topic2\", \"Topic2\", \"Topic2\", \"Topic2\", \"Topic2\", \"Topic2\", \"Topic2\", \"Topic2\", \"Topic2\", \"Topic2\", \"Topic2\", \"Topic2\", \"Topic2\", \"Topic2\", \"Topic2\", \"Topic2\", \"Topic2\", \"Topic2\", \"Topic2\", \"Topic2\", \"Topic2\", \"Topic2\", \"Topic2\", \"Topic2\", \"Topic2\", \"Topic2\", \"Topic2\", \"Topic2\", \"Topic2\", \"Topic2\", \"Topic2\", \"Topic2\", \"Topic2\", \"Topic2\", \"Topic2\", \"Topic2\", \"Topic2\", \"Topic2\", \"Topic2\", \"Topic2\", \"Topic2\", \"Topic2\", \"Topic2\", \"Topic2\", \"Topic2\", \"Topic2\", \"Topic2\", \"Topic2\", \"Topic2\", \"Topic2\", \"Topic2\", \"Topic2\", \"Topic2\", \"Topic2\", \"Topic2\", \"Topic3\", \"Topic3\", \"Topic3\", \"Topic3\", \"Topic3\", \"Topic3\", \"Topic3\", \"Topic3\", \"Topic3\", \"Topic3\", \"Topic3\", \"Topic3\", \"Topic3\", \"Topic3\", \"Topic3\", \"Topic3\", \"Topic3\", \"Topic3\", \"Topic3\", \"Topic3\", \"Topic3\", \"Topic3\", \"Topic3\", \"Topic3\", \"Topic3\", \"Topic3\", \"Topic3\", \"Topic3\", \"Topic3\", \"Topic3\", \"Topic3\", \"Topic3\", \"Topic3\", \"Topic3\", \"Topic3\", \"Topic3\", \"Topic3\", \"Topic3\", \"Topic3\", \"Topic3\", \"Topic3\", \"Topic3\", \"Topic3\", \"Topic3\", \"Topic3\", \"Topic3\", \"Topic3\", \"Topic3\", \"Topic3\", \"Topic3\", \"Topic3\", \"Topic3\", \"Topic3\", \"Topic3\", \"Topic3\", \"Topic3\", \"Topic3\", \"Topic3\", \"Topic3\", \"Topic3\", \"Topic3\", \"Topic3\", \"Topic3\", \"Topic3\", \"Topic3\", \"Topic3\", \"Topic3\", \"Topic3\", \"Topic3\", \"Topic3\", \"Topic3\", \"Topic3\", \"Topic3\", \"Topic3\", \"Topic3\", \"Topic3\", \"Topic3\", \"Topic3\", \"Topic3\", \"Topic3\", \"Topic4\", \"Topic4\", \"Topic4\", \"Topic4\", \"Topic4\", \"Topic4\", \"Topic4\", \"Topic4\", \"Topic4\", \"Topic4\", \"Topic4\", \"Topic4\", \"Topic4\", \"Topic4\", \"Topic4\", \"Topic4\", \"Topic4\", \"Topic4\", \"Topic4\", \"Topic4\", \"Topic4\", \"Topic4\", \"Topic4\", \"Topic4\", \"Topic4\", \"Topic4\", \"Topic4\", \"Topic4\", \"Topic4\", \"Topic4\", \"Topic4\", \"Topic4\", \"Topic4\", \"Topic4\", \"Topic4\", \"Topic4\", \"Topic4\", \"Topic4\", \"Topic4\", \"Topic4\", \"Topic4\", \"Topic4\", \"Topic4\", \"Topic4\", \"Topic4\", \"Topic4\", \"Topic4\", \"Topic4\", \"Topic4\", \"Topic4\", \"Topic4\", \"Topic4\", \"Topic4\", \"Topic5\", \"Topic5\", \"Topic5\", \"Topic5\", \"Topic5\", \"Topic5\", \"Topic5\", \"Topic5\", \"Topic5\", \"Topic5\", \"Topic5\", \"Topic5\", \"Topic5\", \"Topic5\", \"Topic5\", \"Topic5\", \"Topic5\", \"Topic5\", \"Topic5\", \"Topic5\", \"Topic5\", \"Topic5\", \"Topic5\", \"Topic5\", \"Topic5\", \"Topic5\", \"Topic5\", \"Topic5\", \"Topic5\", \"Topic5\", \"Topic5\", \"Topic5\", \"Topic5\", \"Topic5\", \"Topic5\", \"Topic5\", \"Topic5\", \"Topic5\", \"Topic5\", \"Topic5\", \"Topic5\", \"Topic5\", \"Topic5\", \"Topic5\", \"Topic5\", \"Topic5\", \"Topic5\", \"Topic5\", \"Topic5\", \"Topic5\", \"Topic5\", \"Topic5\", \"Topic5\", \"Topic5\", \"Topic5\", \"Topic5\"], \"logprob\": [30.0, 29.0, 28.0, 27.0, 26.0, 25.0, 24.0, 23.0, 22.0, 21.0, 20.0, 19.0, 18.0, 17.0, 16.0, 15.0, 14.0, 13.0, 12.0, 11.0, 10.0, 9.0, 8.0, 7.0, 6.0, 5.0, 4.0, 3.0, 2.0, 1.0, -5.810400009155273, -5.663000106811523, -5.861800193786621, -5.960299968719482, -6.116499900817871, -6.034800052642822, -6.203700065612793, -6.221399784088135, -6.23360013961792, -6.413700103759766, -6.548099994659424, -6.572000026702881, -6.553299903869629, -6.650100231170654, -6.750500202178955, -6.751800060272217, -6.779799938201904, -6.831299781799316, -6.884699821472168, -6.88730001449585, -6.821300029754639, -6.9095001220703125, -6.9390997886657715, -6.917099952697754, -6.962800025939941, -7.02370023727417, -7.066299915313721, -7.079500198364258, -7.098999977111816, -7.140699863433838, -5.5457000732421875, -5.428999900817871, -5.9253997802734375, -6.423799991607666, -6.34689998626709, -6.041399955749512, -6.248199939727783, -5.621600151062012, -5.958099842071533, -5.38129997253418, -5.6809000968933105, -6.421199798583984, -5.236100196838379, -5.497799873352051, -5.089600086212158, -4.200500011444092, -5.377799987792969, -5.430699825286865, -5.866799831390381, -5.422599792480469, -5.047599792480469, -5.928899765014648, -5.602799892425537, -5.645899772644043, -5.8592000007629395, -4.871699810028076, -5.287399768829346, -5.535099983215332, -5.436299800872803, -5.307499885559082, -5.4679999351501465, -5.663300037384033, -5.633699893951416, -5.638700008392334, -5.6645002365112305, -5.521100044250488, -5.631400108337402, -5.532299995422363, -5.66510009765625, -5.292500019073486, -6.298299789428711, -6.568900108337402, -6.669600009918213, -6.690199851989746, -6.749199867248535, -5.924499988555908, -6.898099899291992, -7.021100044250488, -7.067399978637695, -5.4552998542785645, -7.125999927520752, -5.649700164794922, -7.124199867248535, -7.171800136566162, -7.329400062561035, -7.381700038909912, -7.301300048828125, -7.468599796295166, -7.407599925994873, -7.5177001953125, -7.619500160217285, -7.619500160217285, -7.666600227355957, -7.718699932098389, -7.725500106811523, -7.7307000160217285, -7.724899768829346, -7.739500045776367, -7.755000114440918, -6.8180999755859375, -5.057000160217285, -5.40910005569458, -5.776899814605713, -6.213799953460693, -5.543900012969971, -4.977099895477295, -5.8302001953125, -6.287799835205078, -6.218400001525879, -6.157400131225586, -5.802499771118164, -5.917200088500977, -5.851600170135498, -6.825900077819824, -6.177700042724609, -5.9878997802734375, -5.88129997253418, -5.037399768829346, -5.879300117492676, -5.898900032043457, -6.328800201416016, -6.216599941253662, -5.993100166320801, -4.806000232696533, -5.193699836730957, -5.570300102233887, -5.570700168609619, -4.93209981918335, -4.7332000732421875, -4.930699825286865, -5.530300140380859, -5.406400203704834, -5.099100112915039, -5.249300003051758, -4.9375, -5.013400077819824, -4.8242998123168945, -4.940899848937988, -5.5065999031066895, -5.599400043487549, -4.854800224304199, -5.191699981689453, -5.2804999351501465, -5.062600135803223, -4.977200031280518, -5.229899883270264, -5.433599948883057, -6.263199806213379, -6.8815999031066895, -7.0457000732421875, -7.018400192260742, -6.952300071716309, -7.007199764251709, -7.314499855041504, -7.578100204467773, -7.598999977111816, -7.616600036621094, -7.610899925231934, -7.600599765777588, -7.596099853515625, -7.842800140380859, -7.852700233459473, -7.393700122833252, -7.966599941253662, -7.723999977111816, -6.817800045013428, -7.800000190734863, -7.954800128936768, -8.013099670410156, -8.013799667358398, -7.516499996185303, -8.087800025939941, -8.152299880981445, -8.005800247192383, -8.194600105285645, -8.219200134277344, -8.423100471496582, -6.417500019073486, -6.849400043487549, -7.721700191497803, -4.06820011138916, -6.515900135040283, -4.035299777984619, -4.232800006866455, -6.240300178527832, -4.7256999015808105, -4.01609992980957, -6.824999809265137, -5.678199768066406, -3.944700002670288, -4.474100112915039, -4.000500202178955, -5.296899795532227, -5.857600212097168, -4.200799942016602, -5.346700191497803, -5.952400207519531, -5.639200210571289, -6.39709997177124, -5.1819000244140625, -5.570799827575684, -4.82859992980957, -5.0630998611450195, -5.255499839782715, -5.007400035858154, -4.902200222015381, -5.4670000076293945, -5.801199913024902, -4.883299827575684, -4.192200183868408, -5.057799816131592, -4.658100128173828, -5.18179988861084, -5.179500102996826, -4.401800155639648, -4.165299892425537, -4.766200065612793, -4.083399772644043, -4.81790018081665, -4.559999942779541, -5.049699783325195, -4.958499908447266, -4.771299839019775, -5.032800197601318, -4.992599964141846, -5.071400165557861, -5.0671000480651855, -4.294000148773193, -4.30210018157959, -4.36299991607666, -4.36299991607666, -4.816699981689453, -4.869800090789795, -4.274600028991699, -4.364999771118164, -5.305500030517578, -5.317399978637695, -5.565199851989746, -5.574100017547607, -5.69950008392334, -5.772799968719482, -5.910600185394287, -5.943299770355225, -6.004899978637695, -6.593800067901611, -6.641600131988525, -6.655600070953369, -6.692699909210205, -6.836299896240234, -6.841700077056885, -7.040500164031982, -7.041399955749512, -4.269700050354004, -7.188799858093262, -5.3403000831604, -6.419000148773193, -6.251500129699707, -4.19980001449585, -3.994499921798706, -4.775400161743164, -4.233399868011475, -4.311600208282471, -2.6677000522613525, -3.9976999759674072, -3.7435998916625977, -4.622499942779541, -4.392000198364258, -5.662300109863281, -3.937299966812134, -3.766200065612793, -4.2743000984191895, -4.623000144958496, -4.933899879455566, -4.76609992980957, -4.567599773406982, -4.693600177764893, -4.808000087738037, -4.527599811553955, -4.681300163269043, -4.649199962615967, -3.3417999744415283, -3.5399999618530273, -3.670599937438965, -4.072999954223633, -5.078400135040283, -4.354400157928467, -5.585299968719482, -5.6367998123168945, -4.545300006866455, -6.297900199890137, -6.350500106811523, -6.026100158691406, -6.298900127410889, -5.9517998695373535, -6.485199928283691, -6.515200138092041, -6.519400119781494, -6.629899978637695, -6.655700206756592, -6.6645002365112305, -5.2316999435424805, -5.611499786376953, -6.302199840545654, -6.258999824523926, -6.334700107574463, -5.077000141143799, -5.700799942016602, -5.907599925994873, -6.35260009765625, -6.967599868774414, -3.3085999488830566, -3.449700117111206, -4.263500213623047, -4.466800212860107, -3.443000078201294, -4.645199775695801, -4.773099899291992, -4.988999843597412, -5.002200126647949, -4.677700042724609, -5.223999977111816, -4.299900054931641, -4.164299964904785, -5.4644999504089355, -4.867300033569336, -4.1595001220703125, -3.481600046157837, -4.833899974822998, -3.6754000186920166, -4.835599899291992, -4.697700023651123, -4.86299991607666, -4.860400199890137, -4.453499794006348, -4.833099842071533, -4.625100135803223], \"loglift\": [30.0, 29.0, 28.0, 27.0, 26.0, 25.0, 24.0, 23.0, 22.0, 21.0, 20.0, 19.0, 18.0, 17.0, 16.0, 15.0, 14.0, 13.0, 12.0, 11.0, 10.0, 9.0, 8.0, 7.0, 6.0, 5.0, 4.0, 3.0, 2.0, 1.0, 0.7984, 0.7984, 0.7982, 0.7978, 0.7972, 0.797, 0.7968, 0.7967, 0.7966, 0.7957, 0.7948, 0.7948, 0.7947, 0.7942, 0.7934, 0.7933, 0.7931, 0.7927, 0.7922, 0.7922, 0.7921, 0.792, 0.7917, 0.7915, 0.7913, 0.7905, 0.7904, 0.7902, 0.79, 0.7895, 0.7837, 0.7809, 0.7808, 0.7817, 0.7665, 0.7312, 0.7447, 0.6967, 0.7216, 0.6715, 0.6726, 0.7448, 0.5879, 0.5975, 0.5272, 0.3484, 0.5412, 0.5486, 0.624, 0.5121, 0.357, 0.5833, 0.4006, 0.4199, 0.5257, -0.1011, 0.1381, 0.2195, 0.0106, -0.1743, -0.0075, 0.1683, 0.1132, 0.0452, 0.0861, -0.3793, -0.1702, -0.7096, -0.4898, 1.4233, 1.4172, 1.4142, 1.4129, 1.4126, 1.4119, 1.4099, 1.4091, 1.4073, 1.4063, 1.406, 1.4048, 1.4047, 1.4047, 1.4032, 1.4001, 1.3989, 1.3977, 1.3963, 1.3961, 1.3935, 1.3915, 1.3914, 1.3899, 1.3877, 1.3875, 1.3874, 1.3873, 1.3872, 1.3865, 1.3794, 1.3433, 1.3354, 1.342, 1.3474, 1.3261, 1.3041, 1.3321, 1.3418, 1.3353, 1.3262, 1.3011, 1.299, 1.2783, 1.3589, 1.3003, 1.2788, 1.2526, 1.1453, 1.2464, 1.248, 1.3022, 1.2733, 1.2206, 0.91, 0.9962, 1.0933, 1.075, 0.8704, 0.6924, 0.7532, 1.0112, 0.9406, 0.7873, 0.8106, 0.6255, 0.6509, 0.5242, 0.506, 0.9177, 0.9957, 0.2168, 0.5629, 0.4915, 0.0792, -0.2066, 0.0045, 0.485, 1.6229, 1.6132, 1.6097, 1.6086, 1.6072, 1.6072, 1.6001, 1.5915, 1.5908, 1.5907, 1.5907, 1.5901, 1.586, 1.5797, 1.5795, 1.576, 1.5733, 1.5728, 1.5725, 1.5721, 1.5714, 1.5703, 1.5685, 1.5667, 1.5644, 1.5604, 1.5576, 1.5574, 1.5561, 1.5393, 1.5338, 1.5362, 1.5391, 1.3818, 1.4838, 1.3437, 1.3354, 1.4595, 1.3491, 1.2899, 1.4927, 1.3952, 1.2306, 1.2687, 1.2164, 1.3337, 1.3956, 1.2042, 1.3149, 1.3734, 1.3287, 1.4287, 1.2257, 1.2799, 1.1393, 1.1833, 1.2063, 1.1341, 1.0964, 1.2289, 1.3066, 1.0698, 0.8794, 1.0919, 0.9683, 1.1182, 1.0722, 0.74, 0.6053, 0.8743, 0.4656, 0.869, 0.6744, 0.9435, 0.7884, 0.362, 0.713, 0.468, 0.4916, 0.394, 2.6752, 2.6751, 2.6749, 2.6749, 2.6721, 2.6718, 2.6714, 2.6689, 2.6675, 2.6674, 2.6639, 2.6634, 2.6615, 2.6602, 2.6572, 2.6568, 2.6554, 2.6361, 2.6344, 2.6336, 2.632, 2.6249, 2.6237, 2.6116, 2.6113, 2.6003, 2.5684, 2.5651, 2.5528, 2.5528, 2.5505, 2.4777, 2.4864, 2.4228, 2.3656, 2.1549, 2.1831, 2.0023, 2.1807, 2.1085, 2.3627, 1.7373, 1.5823, 1.8071, 1.8777, 2.0336, 1.8663, 1.6378, 1.448, 1.5815, 0.7068, 0.7237, 0.5677, 3.0412, 3.0405, 3.0402, 3.0385, 3.0294, 3.0239, 3.0193, 3.0188, 3.0184, 2.9964, 2.9936, 2.9903, 2.9899, 2.9881, 2.9855, 2.9855, 2.9852, 2.9774, 2.9764, 2.976, 2.9621, 2.9496, 2.9229, 2.9199, 2.9162, 2.8979, 2.8941, 2.8585, 2.8559, 2.8003, 2.7768, 2.7556, 2.7665, 2.7771, 2.6685, 2.7398, 2.746, 2.7189, 2.6837, 2.6169, 2.7031, 2.4685, 2.3856, 2.7088, 2.4395, 2.069, 1.6517, 2.3439, 1.1472, 2.1723, 2.0151, 2.1285, 2.0515, 1.0076, 1.9541, 0.9379]}, \"token.table\": {\"Topic\": [1, 2, 3, 1, 3, 1, 3, 4, 5, 1, 2, 5, 1, 2, 3, 1, 2, 3, 4, 5, 1, 2, 5, 1, 1, 2, 3, 5, 5, 4, 1, 2, 3, 4, 5, 1, 5, 3, 5, 1, 2, 4, 5, 1, 2, 3, 4, 5, 1, 5, 1, 2, 3, 4, 3, 2, 5, 1, 5, 1, 2, 5, 1, 4, 5, 1, 2, 3, 4, 5, 1, 3, 1, 2, 2, 1, 3, 1, 2, 3, 4, 4, 5, 5, 1, 4, 5, 2, 5, 3, 4, 1, 3, 1, 2, 1, 1, 5, 3, 3, 1, 2, 3, 4, 5, 1, 2, 3, 1, 2, 2, 5, 1, 2, 4, 1, 2, 4, 2, 2, 3, 1, 1, 2, 3, 4, 1, 2, 3, 1, 3, 1, 2, 5, 3, 4, 1, 2, 2, 2, 4, 1, 2, 1, 2, 5, 3, 5, 2, 1, 2, 1, 2, 3, 4, 5, 1, 2, 3, 4, 5, 1, 2, 3, 4, 4, 3, 1, 2, 3, 4, 1, 2, 4, 3, 4, 5, 2, 1, 2, 1, 2, 3, 3, 4, 5, 1, 3, 3, 2, 5, 1, 3, 5, 1, 2, 3, 4, 5, 4, 3, 5, 4, 1, 2, 1, 2, 3, 5, 2, 1, 2, 4, 3, 5, 2, 1, 2, 3, 4, 5, 1, 2, 3, 4, 5, 1, 2, 5, 1, 2, 3, 4, 5, 1, 2, 3, 5, 2, 1, 2, 5, 3, 3, 1, 4, 1, 2, 5, 3, 2, 1, 2, 3, 4, 5, 1, 2, 3, 4, 3, 1, 2, 1, 2, 3, 4, 1, 4, 4, 1, 2, 1, 2, 3, 5, 4, 1, 2, 4, 2, 2, 2, 3, 4, 2, 5, 1, 2, 1, 2, 3, 4, 5, 4, 1, 3, 1, 4, 1, 2, 3, 4, 1, 1, 2, 3, 4, 3, 1, 2, 3, 1, 2, 3, 4, 1, 5, 4, 1, 2, 3, 4, 5, 1, 4, 5, 1, 2, 3, 4, 1, 3, 4, 1, 3, 4, 5, 1, 1, 2, 3, 4, 5, 1, 2, 1, 2, 3, 4, 5, 3, 4, 5, 1, 2, 3, 4, 5, 1, 2, 3, 5, 1, 2, 3, 4, 5, 1, 3, 4, 1, 2, 3, 4, 1, 2, 5, 3, 5, 2, 1, 2, 5, 3, 1, 2, 1, 2, 3, 4, 1, 2, 3, 4, 1, 2, 3, 4, 5, 1, 2, 3, 1, 2, 3, 4, 1, 2, 3, 5, 1, 3, 4, 5, 4, 1, 2, 1, 2, 5, 1, 2, 5, 1, 2, 4, 5, 1, 2, 5, 1, 2, 3, 4, 2, 1, 2, 3, 1, 1, 2, 1, 2, 3, 4, 1, 2, 4, 5, 1, 5, 4, 4, 4, 5, 1, 2, 3, 5, 1, 1, 2, 1, 1, 5, 2, 1, 2, 5, 1, 5, 2, 1, 2, 3, 5, 1, 3, 4, 5, 1, 2, 5, 1, 2, 3, 1, 2, 4, 2, 1, 2, 4, 1, 2, 3, 1, 2, 3, 1, 3, 4, 4, 2, 4, 5, 4, 2, 4, 1, 2, 3, 4, 1, 2, 3, 1, 2, 4, 1, 2, 5, 1, 2, 3, 4, 5, 1, 1, 3, 5, 1, 5, 1, 3, 4, 5, 1, 2, 3, 4, 3, 1, 2, 3, 4, 5, 1, 2, 5, 1, 2, 5, 1, 2, 4, 1, 2, 3, 4, 5, 2, 4, 1, 2, 3, 4, 5, 1, 2, 5, 2, 4, 1, 2, 3, 3, 4, 3, 5, 3, 1, 2, 3, 5, 1, 3, 1, 2, 5, 1, 2, 4, 5, 5, 2, 1, 3, 5, 1, 2, 3, 4, 5, 1, 2, 3, 4, 5, 3, 1, 2, 1, 2, 3, 1, 2, 3, 4, 2, 5, 1, 2, 3, 4, 5, 1, 2, 3, 4, 5, 1, 1, 1, 3, 4, 3, 1, 2, 3, 4, 5, 1, 2, 3, 1, 2, 3, 4, 4, 1, 2, 3, 5, 1, 2, 3, 4, 5, 2, 3, 4, 5, 5, 1, 2, 3, 4, 1, 2, 3, 4, 5, 1, 2, 3, 4, 5, 1, 2, 3, 4, 3, 2, 3, 3, 1, 1, 3, 1, 2, 3, 4, 5, 4, 1, 2, 3, 4, 5, 1, 2, 1, 2, 3, 4, 5, 1, 5, 1, 1, 1, 2, 3, 5, 3, 1, 2, 3, 4, 5, 1, 2, 3, 4, 1, 2, 3, 4, 5, 1, 2, 3], \"Freq\": [0.9307767180932944, 0.028205355093736194, 0.03760714012498159, 0.9874189951596273, 0.9608320965355673, 0.3677245827586665, 0.18386229137933324, 0.4453553280077183, 0.008171657394637034, 0.07635306752376929, 0.9092956223285251, 0.006941187956706299, 0.006835051846293916, 0.8338763252478578, 0.15037114061846615, 0.22616050925049688, 0.24130518620923552, 0.38265550449079605, 0.1393310280203954, 0.011106096436408329, 0.7707923941668495, 0.21822434016671843, 0.010010290833335708, 0.9873387991537927, 0.053171709548947586, 0.9172119897193459, 0.026585854774473793, 0.9312518648152142, 0.9970114548661758, 0.9316604653603725, 0.20922000226181925, 0.051787129272727536, 0.5675869368290938, 0.1263605954254552, 0.04557267376000023, 0.26707599733203063, 0.7249205641869403, 0.9601651777689826, 0.9690361725315235, 0.25777352070178583, 0.023433956427435076, 0.023433956427435076, 0.7030186928230523, 0.30784850668968716, 0.006503841690627194, 0.5831778049262384, 0.06720636413648101, 0.03468715568334504, 0.05461339910011368, 0.8738143856018189, 0.8780319614227268, 0.08965819324386999, 0.03091661835995517, 0.9953418946272217, 0.9876463471144391, 0.2833354927918826, 0.7157949291584401, 0.989624243647825, 0.9101355991075923, 0.11900978683279302, 0.13884475130492518, 0.7438111677049564, 0.992633374127085, 0.9682244945345502, 0.9888664016621896, 0.22072279798156377, 0.002006570890741489, 0.03544941906976631, 0.5919384127687393, 0.14982395984203117, 0.9951908654172397, 0.960957574473045, 0.997535790906287, 0.980449691113922, 0.993722661310589, 0.8369419656218972, 0.15958639174993802, 0.2757207346377502, 0.11184897725870999, 0.0026011390060165116, 0.6086665274078636, 0.9888929025063997, 0.0061042771759654306, 0.9962234020081295, 0.2467247006909247, 0.7237257886933791, 0.01644831337939498, 0.13804118696003523, 0.8282471217602114, 0.09297759955728427, 0.9297759955728427, 0.9916651485696512, 0.9468587251571244, 0.18268260351765683, 0.8111107596183964, 0.9960529796448669, 0.12515497741357853, 0.8604404697183524, 0.9191978971008175, 0.9886397885453683, 0.30180271774863215, 0.08516215302807938, 0.5139610638887597, 0.0821740073077959, 0.01792887432170092, 0.09631596771138848, 0.8572121126313574, 0.03852638708455539, 0.9433221437114818, 0.05273229374784681, 0.9818474399237338, 0.9363325537938337, 0.1112687532421805, 0.8836048051584923, 0.9652585789806899, 0.9976701436111266, 0.10755370750246947, 0.8962808958539122, 0.9799670807113082, 0.957575776425394, 0.9816364713589741, 0.9906264573443403, 0.2848995834730257, 0.2409523072989951, 0.4682658047508773, 0.004546269949037644, 0.42411116511265634, 0.5737974586818292, 0.0017819796853472956, 0.056599765930709964, 0.9055962548913594, 0.18827391413361802, 0.037654782826723604, 0.7681575696651616, 0.9249704069687986, 0.9646831777048334, 0.9809783443090867, 0.017596024113167474, 0.9788481990872132, 0.9689079494508307, 0.9978744802749613, 0.1551878571389268, 0.8434122670593848, 0.006231023283828735, 0.9782706555611114, 0.01246204656765747, 0.34067838813872925, 0.6496657634273442, 0.9948111202337333, 0.00824392738408883, 0.9810273587065708, 0.07614308164116533, 0.885163324078547, 0.009517885205145666, 0.019035770410291333, 0.019035770410291333, 0.019228739893547345, 0.12178201932579986, 0.5223807671080363, 0.33329815815482067, 0.003204789982257891, 0.18720456418465026, 0.13931502450950717, 0.6660999609360811, 0.004353594515922099, 0.9955992166392106, 0.9387834152997878, 0.187646156886619, 0.7557970207933266, 0.05473012909193054, 0.002606196623425264, 0.9801259498375118, 0.002677939753654404, 0.016067638521926424, 0.37970659248307237, 0.44776720811683063, 0.16836047025192832, 0.9698926364034423, 0.13098628898678702, 0.8629684921482439, 0.7484258169495794, 0.1260934800295487, 0.1240597142226205, 0.8085395872762864, 0.16170791745525728, 0.013475659787938106, 0.9909968847440568, 0.9366706274215388, 0.972655828646558, 0.9813859502537099, 0.9827230270989452, 0.994548311930255, 0.9306693739643296, 0.042303153362014984, 0.5301802505763537, 0.19079150885792656, 0.2219785824212415, 0.031187073563314918, 0.02384893860724082, 0.9929289556332084, 0.9479882049376356, 0.047399410246881775, 0.9206599548480948, 0.3982075274333751, 0.6006296872120075, 0.9013836178614641, 0.0805872770935746, 0.005969427932857378, 0.011938855865714757, 0.9544378980011464, 0.13438543146532578, 0.860066761378085, 0.9768205558772107, 0.10429689541687727, 0.8865236110434568, 0.9929651927063181, 0.14583447580495235, 0.03150024677386971, 0.7478391919277957, 0.073500575805696, 0.001166675806439619, 0.35401193991940844, 0.13017479405108293, 0.4651367641093573, 0.047624924652835215, 0.0015874974884278405, 0.0731327276764779, 0.9141590959559737, 0.013712386439339605, 0.2750341927444591, 0.04187371792649204, 0.6680761360090322, 0.014275131111304105, 0.0009516754074202737, 0.14519322838423293, 0.11136179652771264, 0.7414722148554032, 0.001409642994021679, 0.9681195314346476, 0.5145790362994358, 0.48035525241253746, 0.004889111983842621, 0.9489083076464699, 0.9208196791405351, 0.08478523830951604, 0.8902450022499184, 0.7761652660436608, 0.17224489465626444, 0.051035524342596866, 0.9656444629535855, 0.989672358249407, 0.2618478897560945, 0.03100830273427435, 0.6511743574197614, 0.01722683485237464, 0.03789903667522421, 0.31618914891696, 0.39023344328358983, 0.24814844598546226, 0.044026337190969114, 0.982362650027128, 0.9649922093975833, 0.03304767840402683, 0.14275071511136758, 0.09380761278747013, 0.7382251267187867, 0.02039295930162394, 0.22594235743373758, 0.774061780097064, 0.9884008201583612, 0.03908465483526506, 0.9575740434639939, 0.3662487931091787, 0.5270882101888709, 0.10464251231690819, 0.0019378243021649665, 0.9897201498062315, 0.03829287134825954, 0.142727975025331, 0.8180749788037265, 0.9674545229275624, 0.9764365589172369, 0.1102033992052703, 0.8595865138011083, 0.022040679841054057, 0.18795016987854848, 0.7518006795141939, 0.09328083353932444, 0.9017147242134695, 0.25761454472124856, 0.46091276977235435, 0.2281285426145996, 0.040349266040677484, 0.012415158781746918, 0.9723029096140097, 0.9978117444469251, 0.9735615035599706, 0.9784917170734332, 0.014496173586273083, 0.20499175178228043, 0.018438411535972313, 0.7082519254699954, 0.06724597148413432, 0.9878481371543374, 0.48888110191192363, 0.1437885593858599, 0.35185906296775127, 0.015224670993796931, 0.9132513823113365, 0.6687189433744007, 0.27663617527214623, 0.052277702413633935, 0.0514722849877576, 0.004679298635250691, 0.7510274309577358, 0.19419089336290365, 0.9869022095301805, 0.9603619342000065, 0.9893969738899022, 0.2170775124740096, 0.02285026447094838, 0.1999398141207983, 0.5255560828318127, 0.034275396706422566, 0.9856700744576277, 0.044323622376627035, 0.9307960699091677, 0.277771744153807, 0.05833206627229947, 0.636097294112218, 0.02499945697384263, 0.26290626601857026, 0.7229922315510683, 0.013145313300928513, 0.1798384544283049, 0.7684006689209392, 0.04904685120771952, 0.938951175991467, 0.9856907863863582, 0.30738738182868625, 0.25953066369966926, 0.4086227471016069, 0.01656578704465974, 0.00828289352232987, 0.9211095601315038, 0.07283191870807239, 0.37869183590846783, 0.11778709277420571, 0.28876835647869786, 0.08359084003330729, 0.13045237156713105, 0.9014621179126002, 0.07639509473835596, 0.01527901894767119, 0.07911859555095345, 0.2700945158463583, 0.2673662884135668, 0.002728227432791498, 0.3764953857252267, 0.04853826209958561, 0.2354105711829902, 0.029122957259751364, 0.6868164087091363, 0.7591931735420171, 0.12440560406780952, 0.04465842197305983, 0.022329210986529915, 0.04784830925684982, 0.16722752947499273, 0.7905301393363293, 0.038006256698861984, 0.31156934956840227, 0.010743770674772493, 0.11101896363931575, 0.5658385888713512, 0.3685815129930878, 0.6143025216551463, 0.015357563041378657, 0.5004968949474078, 0.493447642905895, 0.9799311671828224, 0.07657279433889978, 0.8997303334820725, 0.019143198584724946, 0.9314171163936945, 0.9474929139678702, 0.0487680176306992, 0.35361456864095026, 0.1336835564374324, 0.5002352434432955, 0.010780931970760677, 0.2401647152057447, 0.7039310618099414, 0.012422312855469554, 0.04140770951823185, 0.10658199485271483, 0.448766294116694, 0.31834358988902983, 0.004207184007344007, 0.12200833621297619, 0.06022427579471758, 0.836448274926633, 0.10706537919060903, 0.42690129328616344, 0.39233438694720285, 0.16764949574395893, 0.012098417218636212, 0.17582963384891628, 0.20513457282373568, 0.5978207550863154, 0.020513457282373568, 0.1626552658998515, 0.7014508341931096, 0.07116167883118503, 0.06099572471244431, 0.9905823343644585, 0.01541062636303686, 0.9811432117800134, 0.2317017221082449, 0.0023643032868188255, 0.7660342649292995, 0.3526509884058906, 0.5393485705031268, 0.10833069578481606, 0.06133868604815055, 0.023002007268056453, 0.8280722616500323, 0.09200802907222581, 0.022151523900306575, 0.9192882418627228, 0.055378809750766436, 0.36520692890143397, 0.1866020804605867, 0.09330104023029336, 0.35187820886853494, 0.977798899086622, 0.878805949989197, 0.10298507226435902, 0.018308457291441604, 0.9974739588756302, 0.07775001017256322, 0.9200417870419981, 0.45327855212212065, 0.39833569731943935, 0.12237272206051741, 0.02622272615582516, 0.9808288551429166, 0.01508967469450641, 0.008614640952382135, 0.9820690685715633, 0.020738903489270683, 0.9747284639957221, 0.9939222047999663, 0.9212638730093134, 0.962430824292322, 0.9966624984401099, 0.5587878468169705, 0.42121393924197165, 0.01698443303395047, 0.003396886606790094, 0.9974719244953142, 0.8083226847291248, 0.19115739165891465, 0.99679885268788, 0.11208910304440498, 0.8967128243552398, 0.9814957026740697, 0.1197873128392886, 0.15572350669107518, 0.7187238770357316, 0.0584151085661665, 0.9151700342032753, 0.9756853510306899, 0.20131197767686898, 0.13108686918493795, 0.10299682578816552, 0.5618008679354484, 0.10114350549387016, 0.009194864135806379, 0.8781095249695091, 0.009194864135806379, 0.1972621456716379, 0.05064838875352865, 0.7490630126179764, 0.23131924665145248, 0.6603791396339853, 0.10819771214342133, 0.16666447833533526, 0.09828930773622335, 0.7307596357780084, 0.9700761294859338, 0.236194839538577, 0.6495358087310867, 0.11022425845133593, 0.6816653512873065, 0.2875051141483878, 0.03014166519297614, 0.9941766126376913, 0.07076539493723906, 0.8963616692050281, 0.2400209815509793, 0.7372073004780079, 0.022859141100093266, 0.9328964100464588, 0.969225172925055, 0.04106432465430153, 0.9444794670489353, 0.9763611895873722, 0.9648043843038808, 0.9929289549731025, 0.05860069181764679, 0.8790103772647018, 0.029300345908823393, 0.029300345908823393, 0.08873169846819966, 0.8873169846819966, 0.022182924617049914, 0.30535934959225725, 0.08724552845493065, 0.6058717253814628, 0.9961646092421096, 0.9698979476324268, 0.9943832721075997, 0.7606105076907356, 0.10506487557595763, 0.11986274537538828, 0.007398934899715327, 0.007398934899715327, 0.9961959423483567, 0.054725833342435685, 0.1824194444747856, 0.76008101864494, 0.11631270629189532, 0.8723452971892149, 0.8043577634828192, 0.1811616584420764, 0.003623233168841528, 0.010869699506524583, 0.6353705399149033, 0.047818119096878234, 0.3108177741297085, 0.005595737341124049, 0.959478379659044, 0.011702650168126615, 0.029256625420316536, 0.456403356556938, 0.10532385151313954, 0.3978901057163049, 0.0867228046652767, 0.16477332886402574, 0.737143839654852, 0.056142401377854735, 0.3929968096449832, 0.5453833276705888, 0.07476830585943775, 0.8857168540271857, 0.040259857001235716, 0.17559790881523396, 0.0248019645219257, 0.6587401777023466, 0.12103358686699742, 0.01984157161754056, 0.005591511325950845, 0.9896975046932995, 0.06229984957677119, 0.021889136337784474, 0.3973720135167027, 0.5085014749239162, 0.01010267830974668, 0.33653830846985283, 0.30554135900552426, 0.35867898665865894, 0.0725467335650732, 0.9223798981845021, 0.07166300815738741, 0.7166300815738741, 0.2107735534040806, 0.10215274048353326, 0.8901881670707898, 0.08434293497937996, 0.8996579731133862, 0.8893128525754271, 0.35298760724086353, 0.25758555122981935, 0.05247113080607431, 0.3386772988392069, 0.047389211575999034, 0.9477842315199807, 0.07240503312044232, 0.9205782782456238, 0.9227071392313339, 0.4809384254810734, 0.11888365573689455, 0.027019012667476035, 0.3728623748111693, 0.9024868954704123, 0.9847932335154254, 0.3423734679910749, 0.1392067946776898, 0.519203720689762, 0.2093410267991515, 0.405103176184304, 0.01584202364966552, 0.3338140697608092, 0.03621033977066405, 0.27644283118104085, 0.08935525856356875, 0.5696397733427508, 0.058639388432341996, 0.005584703660223047, 0.9497779777728165, 0.05789188099733088, 0.926270095957294, 0.4700369868191772, 0.5096023897500843, 0.020574009524071728, 0.06731110957044946, 0.03365555478522473, 0.7278013722304848, 0.17248471827427675, 0.9404159323350351, 0.9774483082150527, 0.4455666394544315, 0.1848088902282585, 0.3113903218914493, 0.03037954359916578, 0.027847914965901967, 0.08225430224170321, 0.10575553145361842, 0.6932862617514985, 0.08225430224170321, 0.03860916227671783, 0.9912629246578208, 0.996394513429582, 0.5022645503619971, 0.4297901353768767, 0.06741806045127478, 0.9405166977803507, 0.025009793223542732, 0.015005875934125638, 0.6052369960097341, 0.29261458071544993, 0.06252448305885683, 0.3132808527691365, 0.01958005329807103, 0.6657218121344151, 0.21169399805608896, 0.006263136037162395, 0.7766288686081371, 0.0037578816222974373, 0.9909919169017265, 0.37687201741407644, 0.09398987359237257, 0.2801445746879454, 0.24820626812743046, 0.22263739762602766, 0.11288656781038023, 0.26026625356282107, 0.3903993803442316, 0.01567868997366392, 0.028262414267630213, 0.45926423184899096, 0.41687061044754564, 0.09420804755876737, 0.9352526411179426, 0.9870385534214595, 0.11225499873432451, 0.8659671330933605, 0.016036428390617787, 0.11301506850750773, 0.15465219901027372, 0.30930439802054743, 0.005948161500395143, 0.41637130502766, 0.006350433677386714, 0.14605997457989442, 0.7874537759959526, 0.03175216838693357, 0.03175216838693357, 0.1487796951111997, 0.08825914116766084, 0.5799886419589141, 0.1815616618306166, 0.9416895849479053, 0.9524334750942374, 0.9378031200504232, 0.9489051431358984, 0.9948551872151209, 0.8143427940832703, 0.1838838567284804, 0.9954729551698909, 0.011881630947753213, 0.8435957972904781, 0.0831714166342725, 0.05940815473876607, 0.9836751789576739, 0.1460806297601408, 0.03951361296790694, 0.6501785406537415, 0.14129110091554603, 0.02155287980067651, 0.08213030410408025, 0.9136996331578927, 0.23965766705064667, 0.14085143589818708, 0.6096554688130486, 0.0021022602372863745, 0.006306780711859123, 0.1611416263049374, 0.805708131524687, 0.9894916827064516, 0.9938420102128114, 0.3726026485023995, 0.59649108203235, 0.027781776423424522, 0.0032684442851087674, 0.9785130842209583, 0.12611764290006763, 0.29856421584505805, 0.4701528456410684, 0.07120928136534431, 0.03431772595920207, 0.2939992755688822, 0.650998395902525, 0.0524998706373004, 0.00262499353186502, 0.40570925084517395, 0.19555312873288508, 0.3574558814175789, 0.03999950360445377, 0.0019047382668787509, 0.6416141922254218, 0.18195029331765694, 0.17596508630062874], \"Term\": [\"accord\", \"accord\", \"accord\", \"accuse\", \"actual\", \"add\", \"add\", \"add\", \"add\", \"afghan\", \"afghan\", \"afghan\", \"agreement\", \"agreement\", \"agreement\", \"also\", \"also\", \"also\", \"also\", \"also\", \"american\", \"american\", \"american\", \"anti\", \"approach\", \"approach\", \"approach\", \"appropriation\", \"arrive\", \"asap\", \"ask\", \"ask\", \"ask\", \"ask\", \"ask\", \"assistant\", \"assistant\", \"attachment\", \"availability\", \"available\", \"available\", \"available\", \"available\", \"back\", \"back\", \"back\", \"back\", \"back\", \"be\", \"be\", \"become\", \"become\", \"become\", \"benghazi\", \"bibi\", \"bilateral\", \"bilateral\", \"black\", \"breakfast\", \"brief\", \"brief\", \"brief\", \"brother\", \"btw\", \"bureau\", \"call\", \"call\", \"call\", \"call\", \"call\", \"campaign\", \"cancel\", \"candidate\", \"capability\", \"capacity\", \"care\", \"care\", \"case\", \"case\", \"case\", \"case\", \"cdate\", \"cdate\", \"cdm\", \"cell\", \"cell\", \"cell\", \"ceremony\", \"ceremony\", \"cgi\", \"cgi\", \"charge\", \"cheryl\", \"civilian\", \"civilian\", \"claim\", \"clip\", \"clip\", \"clock\", \"cloture\", \"come\", \"come\", \"come\", \"come\", \"come\", \"commitment\", \"commitment\", \"commitment\", \"company\", \"company\", \"comprehensive\", \"conf\", \"conflict\", \"conflict\", \"congrat\", \"conservative\", \"consulate\", \"consulate\", \"cooperation\", \"coordination\", \"copenhagen\", \"corporate\", \"could\", \"could\", \"could\", \"could\", \"country\", \"country\", \"country\", \"creative\", \"creative\", \"daily\", \"daily\", \"daily\", \"damn\", \"declassify\", \"democratic\", \"democratic\", \"deploy\", \"deployment\", \"dept\", \"develop\", \"develop\", \"development\", \"development\", \"development\", \"dinner\", \"dinner\", \"diplomacy\", \"diplomat\", \"diplomat\", \"diplomatic\", \"diplomatic\", \"diplomatic\", \"diplomatic\", \"diplomatic\", \"discuss\", \"discuss\", \"discuss\", \"discuss\", \"discuss\", \"do\", \"do\", \"do\", \"do\", \"doc\", \"eat\", \"effort\", \"effort\", \"effort\", \"effort\", \"election\", \"election\", \"election\", \"email\", \"email\", \"email\", \"empower\", \"ensure\", \"ensure\", \"even\", \"even\", \"even\", \"evening\", \"evening\", \"evening\", \"evidence\", \"exception\", \"excite\", \"export\", \"fax\", \"fear\", \"feedback\", \"feedback\", \"first\", \"first\", \"first\", \"first\", \"first\", \"foia\", \"folk\", \"folk\", \"followup\", \"force\", \"force\", \"former\", \"former\", \"former\", \"former\", \"framework\", \"future\", \"future\", \"fw\", \"fyi\", \"fyi\", \"gender\", \"get\", \"get\", \"get\", \"get\", \"get\", \"give\", \"give\", \"give\", \"give\", \"give\", \"global\", \"global\", \"global\", \"go\", \"go\", \"go\", \"go\", \"go\", \"good\", \"good\", \"good\", \"good\", \"governance\", \"government\", \"government\", \"government\", \"grade\", \"greeting\", \"grid\", \"grid\", \"group\", \"group\", \"group\", \"guess\", \"haitian\", \"hear\", \"hear\", \"hear\", \"hear\", \"hear\", \"help\", \"help\", \"help\", \"help\", \"helpful\", \"history\", \"history\", \"hope\", \"hope\", \"hope\", \"hope\", \"house\", \"house\", \"huma\", \"humanitarian\", \"humanitarian\", \"include\", \"include\", \"include\", \"include\", \"info\", \"information\", \"information\", \"information\", \"integrate\", \"integration\", \"interesting\", \"interesting\", \"interesting\", \"intermittent\", \"intermittent\", \"international\", \"international\", \"issue\", \"issue\", \"issue\", \"issue\", \"issue\", \"jake\", \"jewish\", \"kid\", \"kill\", \"kill\", \"know\", \"know\", \"know\", \"know\", \"labour\", \"last\", \"last\", \"last\", \"last\", \"lauren\", \"leader\", \"leader\", \"leader\", \"let\", \"let\", \"let\", \"let\", \"liberal\", \"library\", \"libyan\", \"list\", \"list\", \"list\", \"list\", \"list\", \"lobbyist\", \"lona\", \"lona\", \"look\", \"look\", \"look\", \"look\", \"lot\", \"lot\", \"lot\", \"love\", \"love\", \"love\", \"luncheon\", \"majority\", \"make\", \"make\", \"make\", \"make\", \"make\", \"man\", \"man\", \"may\", \"may\", \"may\", \"may\", \"may\", \"maybe\", \"maybe\", \"maybe\", \"meet\", \"meet\", \"meet\", \"meet\", \"meet\", \"meeting\", \"meeting\", \"meeting\", \"meeting\", \"member\", \"member\", \"member\", \"member\", \"member\", \"mention\", \"mention\", \"mention\", \"message\", \"message\", \"message\", \"message\", \"military\", \"military\", \"military\", \"minute\", \"minute\", \"missile\", \"mission\", \"mission\", \"mission\", \"moratorium\", \"movement\", \"movement\", \"much\", \"much\", \"much\", \"much\", \"must\", \"must\", \"must\", \"must\", \"need\", \"need\", \"need\", \"need\", \"need\", \"negotiation\", \"negotiation\", \"negotiation\", \"new\", \"new\", \"new\", \"new\", \"next\", \"next\", \"next\", \"next\", \"night\", \"night\", \"night\", \"night\", \"noon\", \"nuclear\", \"nuclear\", \"office\", \"office\", \"office\", \"official\", \"official\", \"official\", \"op\", \"op\", \"op\", \"op\", \"pakistani\", \"pakistani\", \"pakistani\", \"part\", \"part\", \"part\", \"part\", \"partnership\", \"party\", \"party\", \"party\", \"pay\", \"peace\", \"peace\", \"people\", \"people\", \"people\", \"people\", \"percent\", \"percent\", \"phone\", \"phone\", \"photo\", \"photo\", \"pis\", \"pj\", \"pls\", \"pm\", \"policy\", \"policy\", \"policy\", \"policy\", \"politic\", \"political\", \"political\", \"poll\", \"pool\", \"pool\", \"port\", \"pre\", \"pre\", \"pre\", \"precede\", \"precede\", \"preparation\", \"press\", \"press\", \"press\", \"press\", \"print\", \"print\", \"print\", \"print\", \"private\", \"private\", \"private\", \"process\", \"process\", \"process\", \"produce\", \"produce\", \"produce\", \"proliferation\", \"provide\", \"provide\", \"provide\", \"public\", \"public\", \"public\", \"publish\", \"reaction\", \"reaction\", \"read\", \"read\", \"read\", \"readout\", \"rebuild\", \"reception\", \"reception\", \"recipient\", \"reconstruction\", \"redaction\", \"region\", \"region\", \"region\", \"region\", \"regional\", \"regional\", \"regional\", \"release\", \"release\", \"release\", \"republican\", \"requirement\", \"residence\", \"right\", \"right\", \"right\", \"right\", \"right\", \"rise\", \"room\", \"room\", \"room\", \"route\", \"route\", \"run\", \"run\", \"run\", \"run\", \"say\", \"say\", \"say\", \"say\", \"scan\", \"schedule\", \"schedule\", \"schedule\", \"schedule\", \"schedule\", \"secretary\", \"secretary\", \"secretary\", \"secure\", \"secure\", \"secure\", \"security\", \"security\", \"security\", \"see\", \"see\", \"see\", \"see\", \"see\", \"select\", \"select\", \"send\", \"send\", \"send\", \"send\", \"send\", \"senior\", \"senior\", \"senior\", \"sensitive\", \"sensitive\", \"settlement\", \"settlement\", \"settlement\", \"sheet\", \"sheet\", \"shuttle\", \"shuttle\", \"slot\", \"small\", \"small\", \"small\", \"small\", \"smile\", \"smile\", \"solution\", \"solution\", \"sometime\", \"special\", \"special\", \"special\", \"special\", \"spray\", \"stability\", \"staff\", \"staff\", \"staff\", \"state\", \"state\", \"state\", \"state\", \"state\", \"still\", \"still\", \"still\", \"still\", \"still\", \"strobe\", \"structure\", \"structure\", \"support\", \"support\", \"support\", \"sure\", \"sure\", \"sure\", \"sure\", \"sustainable\", \"tail\", \"take\", \"take\", \"take\", \"take\", \"take\", \"talk\", \"talk\", \"talk\", \"talk\", \"talk\", \"tax\", \"tea\", \"tell\", \"tell\", \"tell\", \"terrific\", \"thank\", \"thank\", \"thank\", \"thank\", \"thank\", \"thing\", \"thing\", \"thing\", \"think\", \"think\", \"think\", \"think\", \"thx\", \"time\", \"time\", \"time\", \"time\", \"today\", \"today\", \"today\", \"today\", \"today\", \"tomorrow\", \"tomorrow\", \"tomorrow\", \"tomorrow\", \"tonite\", \"tory\", \"touch\", \"touch\", \"touch\", \"travel\", \"travel\", \"travel\", \"travel\", \"travel\", \"trip\", \"trip\", \"trip\", \"trip\", \"trip\", \"try\", \"try\", \"try\", \"try\", \"tue\", \"usaid\", \"vacation\", \"verveer\", \"victory\", \"vote\", \"vote\", \"voter\", \"wait\", \"wait\", \"wait\", \"wait\", \"waiver\", \"want\", \"want\", \"want\", \"want\", \"want\", \"weapon\", \"weapon\", \"week\", \"week\", \"week\", \"week\", \"week\", \"weekly\", \"weekly\", \"win\", \"wing\", \"woman\", \"woman\", \"woman\", \"woman\", \"wonderful\", \"work\", \"work\", \"work\", \"work\", \"work\", \"world\", \"world\", \"world\", \"world\", \"would\", \"would\", \"would\", \"would\", \"would\", \"year\", \"year\", \"year\"]}, \"R\": 30, \"lambda.step\": 0.01, \"plot.opts\": {\"xlab\": \"PC1\", \"ylab\": \"PC2\"}, \"topic.order\": [5, 4, 3, 1, 2]};\n",
              "\n",
              "function LDAvis_load_lib(url, callback){\n",
              "  var s = document.createElement('script');\n",
              "  s.src = url;\n",
              "  s.async = true;\n",
              "  s.onreadystatechange = s.onload = callback;\n",
              "  s.onerror = function(){console.warn(\"failed to load library \" + url);};\n",
              "  document.getElementsByTagName(\"head\")[0].appendChild(s);\n",
              "}\n",
              "\n",
              "if(typeof(LDAvis) !== \"undefined\"){\n",
              "   // already loaded: just create the visualization\n",
              "   !function(LDAvis){\n",
              "       new LDAvis(\"#\" + \"ldavis_el50411397283697367046231823083\", ldavis_el50411397283697367046231823083_data);\n",
              "   }(LDAvis);\n",
              "}else if(typeof define === \"function\" && define.amd){\n",
              "   // require.js is available: use it to load d3/LDAvis\n",
              "   require.config({paths: {d3: \"https://cdnjs.cloudflare.com/ajax/libs/d3/3.5.5/d3.min\"}});\n",
              "   require([\"d3\"], function(d3){\n",
              "      window.d3 = d3;\n",
              "      LDAvis_load_lib(\"https://cdn.rawgit.com/bmabey/pyLDAvis/files/ldavis.v1.0.0.js\", function(){\n",
              "        new LDAvis(\"#\" + \"ldavis_el50411397283697367046231823083\", ldavis_el50411397283697367046231823083_data);\n",
              "      });\n",
              "    });\n",
              "}else{\n",
              "    // require.js not available: dynamically load d3 & LDAvis\n",
              "    LDAvis_load_lib(\"https://cdnjs.cloudflare.com/ajax/libs/d3/3.5.5/d3.min.js\", function(){\n",
              "         LDAvis_load_lib(\"https://cdn.rawgit.com/bmabey/pyLDAvis/files/ldavis.v1.0.0.js\", function(){\n",
              "                 new LDAvis(\"#\" + \"ldavis_el50411397283697367046231823083\", ldavis_el50411397283697367046231823083_data);\n",
              "            })\n",
              "         });\n",
              "}\n",
              "</script>"
            ],
            "text/plain": [
              "PreparedData(topic_coordinates=              x         y  topics  cluster       Freq\n",
              "topic                                                \n",
              "4      0.148136  0.057602       1        1  44.862540\n",
              "3      0.166508  0.116097       2        1  24.007773\n",
              "2      0.062350 -0.091624       3        1  19.504796\n",
              "0     -0.098772 -0.250692       4        1   6.859288\n",
              "1     -0.278222  0.168616       5        1   4.765603, topic_info=          Term         Freq        Total Category  logprob  loglift\n",
              "291       call  1495.000000  1495.000000  Default  30.0000  30.0000\n",
              "2231      time  1095.000000  1095.000000  Default  29.0000  29.0000\n",
              "1476    office   422.000000   422.000000  Default  28.0000  28.0000\n",
              "2091     state   883.000000   883.000000  Default  27.0000  27.0000\n",
              "1346   meeting   412.000000   412.000000  Default  26.0000  26.0000\n",
              "...        ...          ...          ...      ...      ...      ...\n",
              "1937  schedule    68.430701   170.901460   Topic5  -4.8630   2.1285\n",
              "2061   special    68.609528   185.054875   Topic5  -4.8604   2.0515\n",
              "1333       may   103.065561   789.560196   Topic5  -4.4535   1.0076\n",
              "2031     small    70.512165   209.639088   Topic5  -4.8331   1.9541\n",
              "1424      need    86.814761   713.066031   Topic5  -4.6251   0.9379\n",
              "\n",
              "[366 rows x 6 columns], token_table=      Topic      Freq    Term\n",
              "term                         \n",
              "14        1  0.930777  accord\n",
              "14        2  0.028205  accord\n",
              "14        3  0.037607  accord\n",
              "20        1  0.987419  accuse\n",
              "31        3  0.960832  actual\n",
              "...     ...       ...     ...\n",
              "2436      4  0.040000   would\n",
              "2436      5  0.001905   would\n",
              "2443      1  0.641614    year\n",
              "2443      2  0.181950    year\n",
              "2443      3  0.175965    year\n",
              "\n",
              "[734 rows x 3 columns], R=30, lambda_step=0.01, plot_opts={'xlab': 'PC1', 'ylab': 'PC2'}, topic_order=[5, 4, 3, 1, 2])"
            ]
          },
          "metadata": {
            "tags": []
          },
          "execution_count": 26
        }
      ]
    },
    {
      "cell_type": "code",
      "metadata": {
        "id": "DWIdPDzHzfDr"
      },
      "source": [
        "# Считаем векторы TfidfVectorizer\n",
        "vectorizer = TfidfVectorizer()\n",
        "# Создаем матрицу и корпус\n",
        "X_TFIDF = vectorizer.fit_transform(data_texts)\n",
        "corpus_tfidf = gensim.matutils.Sparse2Corpus(csc.csc_matrix(X_TFIDF))\n",
        "# Создаем словарь\n",
        "vect_dict_tfidf = vectorizer.get_feature_names()\n",
        "dictionary_tfidf = gensim.corpora.Dictionary.from_corpus(\n",
        "    corpus_tfidf,\n",
        "    id2word=dict([(i, s) for i, s in enumerate(vect_dict_tfidf)]))"
      ],
      "execution_count": null,
      "outputs": []
    },
    {
      "cell_type": "code",
      "metadata": {
        "id": "yoJ2sLvRNLCk"
      },
      "source": [
        "# Fit LDA TfidfVectorizer\n",
        "lda_TFIDF = fit_lda(corpus_tfidf, dictionary_tfidf)"
      ],
      "execution_count": null,
      "outputs": []
    },
    {
      "cell_type": "code",
      "metadata": {
        "id": "kx0mTmmGw050",
        "colab": {
          "base_uri": "https://localhost:8080/"
        },
        "outputId": "7a6e3d9f-3fa0-4a9c-f302-6c82dcf61fbb"
      },
      "source": [
        "# Cписки ключевых слов по TfidfVectorizer\n",
        "lda_TFIDF.print_topics()"
      ],
      "execution_count": null,
      "outputs": [
        {
          "output_type": "execute_result",
          "data": {
            "text/plain": [
              "[(0,\n",
              "  '0.002*\"bona\" + 0.002*\"dore\" + 0.002*\"expectation\" + 0.002*\"expectancy\" + 0.002*\"celtic\" + 0.002*\"embodie\" + 0.002*\"bold\" + 0.002*\"casualty\" + 0.002*\"essentially\" + 0.002*\"drug\"'),\n",
              " (1,\n",
              "  '0.002*\"biased\" + 0.002*\"golitic\" + 0.002*\"crush\" + 0.002*\"gaming\" + 0.002*\"dip\" + 0.002*\"darling\" + 0.002*\"fwd\" + 0.002*\"beer\" + 0.002*\"eater\" + 0.002*\"eye\"'),\n",
              " (2,\n",
              "  '0.003*\"finger\" + 0.003*\"entertain\" + 0.003*\"dresser\" + 0.003*\"fend\" + 0.003*\"experiment\" + 0.003*\"flung\" + 0.003*\"efe\" + 0.003*\"compile\" + 0.003*\"devotedly\" + 0.003*\"enroll\"'),\n",
              " (3,\n",
              "  '0.002*\"expression\" + 0.002*\"discourage\" + 0.002*\"economic\" + 0.002*\"carol\" + 0.002*\"format\" + 0.002*\"culminate\" + 0.002*\"deviation\" + 0.002*\"analyse\" + 0.002*\"desert\" + 0.002*\"express\"'),\n",
              " (4,\n",
              "  '0.002*\"grove\" + 0.002*\"aspstorie\" + 0.002*\"dayton\" + 0.002*\"fixation\" + 0.002*\"contrib\" + 0.002*\"adventure\" + 0.002*\"bwere\" + 0.002*\"disentangling\" + 0.002*\"addressing\" + 0.002*\"caliber\"'),\n",
              " (5,\n",
              "  '0.002*\"currency\" + 0.002*\"cave\" + 0.002*\"disabilitie\" + 0.002*\"assail\" + 0.002*\"composition\" + 0.002*\"bz\" + 0.002*\"consensus\" + 0.002*\"discursive\" + 0.002*\"etc\" + 0.002*\"daddy\"'),\n",
              " (6,\n",
              "  '0.001*\"figuring\" + 0.001*\"differently\" + 0.001*\"different\" + 0.001*\"evaporate\" + 0.001*\"auca\" + 0.001*\"dependence\" + 0.001*\"harden\" + 0.001*\"continuum\" + 0.001*\"execution\" + 0.001*\"disconcert\"')]"
            ]
          },
          "metadata": {
            "tags": []
          },
          "execution_count": 17
        }
      ]
    },
    {
      "cell_type": "code",
      "metadata": {
        "id": "Mmtetb-oxuHI",
        "colab": {
          "base_uri": "https://localhost:8080/",
          "height": 861
        },
        "outputId": "3bb9d5df-c52c-40d9-ac1f-5738dbd1796e"
      },
      "source": [
        "# визуализация TfidfVectorizer\n",
        "pyLDAvis.enable_notebook()\n",
        "vis = pyLDAvis.gensim.prepare(lda_TFIDF, corpus_tfidf, dictionary_tfidf)\n",
        "vis"
      ],
      "execution_count": null,
      "outputs": [
        {
          "output_type": "execute_result",
          "data": {
            "text/html": [
              "\n",
              "<link rel=\"stylesheet\" type=\"text/css\" href=\"https://cdn.rawgit.com/bmabey/pyLDAvis/files/ldavis.v1.0.0.css\">\n",
              "\n",
              "\n",
              "<div id=\"ldavis_el50411397283698807841001271978\"></div>\n",
              "<script type=\"text/javascript\">\n",
              "\n",
              "var ldavis_el50411397283698807841001271978_data = {\"mdsDat\": {\"x\": [0.24615053459917743, -0.12318563452180187, -0.0506520618514663, -0.0457939065916766, -0.02651893163423266], \"y\": [-0.03371666079065287, -0.12899859146576098, 0.08770710715793131, 0.060167008139652665, 0.014841136958829713], \"topics\": [1, 2, 3, 4, 5], \"cluster\": [1, 1, 1, 1, 1], \"Freq\": [44.41185812253159, 27.272593580545205, 12.15541927642178, 10.724186794205648, 5.4359422262957615]}, \"tinfo\": {\"Term\": [\"finger\", \"entertain\", \"dresser\", \"fend\", \"experiment\", \"flung\", \"efe\", \"compile\", \"devotedly\", \"enroll\", \"escalation\", \"duck\", \"esource\", \"addict\", \"classificat\", \"bus\", \"equivocal\", \"descent\", \"finding\", \"gom\", \"fearsome\", \"curable\", \"fabulous\", \"bearwood\", \"chiefly\", \"foyer\", \"frustration\", \"frumforum\", \"demographic\", \"entwine\", \"finger\", \"entertain\", \"dresser\", \"fend\", \"experiment\", \"flung\", \"efe\", \"compile\", \"devotedly\", \"enroll\", \"escalation\", \"duck\", \"esource\", \"addict\", \"classificat\", \"bus\", \"equivocal\", \"descent\", \"gom\", \"curable\", \"bearwood\", \"chiefly\", \"foyer\", \"frustration\", \"frumforum\", \"demographic\", \"entwine\", \"ferocious\", \"elite\", \"baffectionately\", \"accusation\", \"commissioner\", \"brush\", \"contaminate\", \"crowded\", \"arbitrary\", \"expression\", \"coordinated\", \"assuage\", \"asymmetry\", \"countryside\", \"emptively\", \"constituent\", \"feinting\", \"fwd\", \"elementary\", \"apartheid\", \"bellman\", \"grove\", \"akassault\", \"best\", \"demagoguery\", \"grotesque\", \"devisive\", \"bailout\", \"capture\", \"gop\", \"fold\", \"enshrine\", \"attend\", \"epic\", \"certainity\", \"assail\", \"dismissive\", \"difference\", \"etc\", \"brain\", \"dip\", \"crusade\", \"finding\", \"dining\", \"gas\", \"curious\", \"concurrence\", \"encapsulate\", \"exclusive\", \"correctly\", \"assistance\", \"face\", \"foreign\", \"expenditure\", \"choose\", \"entitled\", \"graph\", \"grey\", \"evanescent\", \"coordination\", \"fill\", \"fabrication\", \"culmination\", \"alienate\", \"edifice\", \"debate\", \"blog\", \"conscientious\", \"belgium\", \"bat\", \"befriend\", \"chicken\", \"equdoran\", \"durmer\", \"delegitimize\", \"golitic\", \"configuration\", \"adverse\", \"euroz\", \"expressionless\", \"capitalism\", \"abstain\", \"concurrent\", \"default\", \"champion\", \"camera\", \"addressing\", \"crumple\", \"aclose\", \"acquaint\", \"advantageous\", \"commert\", \"adept\", \"adjustment\", \"additional\", \"adulthood\", \"condescendingly\", \"cycle\", \"format\", \"dem\", \"consequently\", \"cynicism\", \"audience\", \"elastic\", \"acclaim\", \"adversary\", \"abortion\", \"casualties\", \"abandonment\", \"fiercer\", \"colliding\", \"bankroll\", \"fanatic\", \"ccl\", \"comfirme\", \"coulc\", \"fearsome\", \"fabulous\", \"convulse\", \"crossed\", \"disloyalty\", \"bravo\", \"divided\", \"disavow\", \"courageously\", \"fallen\", \"fingerprint\", \"construction\", \"gasp\", \"dominating\", \"dusting\", \"equal\", \"elegant\", \"demagogic\", \"enslavement\", \"dissolve\", \"degraded\", \"defendant\", \"embroil\", \"diverge\", \"handpicke\", \"chapter\", \"emulate\", \"frenetic\", \"fashionable\", \"chilly\", \"hasten\", \"foresee\", \"deplore\", \"defame\", \"dayton\"], \"Freq\": [17.0, 17.0, 16.0, 15.0, 15.0, 15.0, 15.0, 14.0, 14.0, 14.0, 13.0, 13.0, 13.0, 12.0, 12.0, 12.0, 12.0, 11.0, 3.0, 11.0, 2.0, 11.0, 2.0, 11.0, 11.0, 11.0, 11.0, 11.0, 11.0, 11.0, 16.996065364369766, 16.638869868576368, 15.675667177535718, 15.581221577029966, 15.398493596688729, 15.109732518421714, 14.975953325703216, 14.373096459005925, 14.248777176380797, 13.672066251759487, 13.55322925476677, 13.53158658687297, 13.130954932197088, 12.548522546857988, 12.483052829457094, 12.441998604540574, 11.890597401640767, 11.613657641213067, 11.586588911680806, 11.310634409813774, 11.217746124696037, 11.204368383913057, 11.171624600769125, 11.008111839693953, 10.99246639782161, 10.957553082466642, 10.90032419617916, 10.739683321017239, 10.708317471947284, 10.642961094978642, 10.706541507693908, 10.708487036373487, 3.93155469902135, 3.8577921435965328, 3.790753434929994, 3.827320277311278, 3.731865657295802, 3.68024729569594, 3.639504971331501, 3.639504971331501, 3.597447087904119, 3.569050357795425, 3.5650570975945777, 3.4685636764110916, 3.481440865039282, 3.4775037784705747, 4.633473552504272, 3.4312991849204026, 3.487299363844889, 3.3904541039118055, 3.3155209447967375, 3.3999743014797756, 3.2369219766535404, 3.3162936747608076, 3.2722773867046286, 3.240700406963667, 3.188068727843546, 3.1987836426609295, 3.219503218371275, 3.1595758175159196, 3.148500021364253, 3.12321229628121, 3.984693858954754, 3.1918857946518764, 3.6815543602096326, 3.5917376547369706, 3.276758672460798, 3.309027272921374, 3.2749183694683537, 3.045866750374587, 2.2861525663712006, 2.392458619549671, 2.2519713269672046, 2.431179184605626, 2.1964608261243166, 2.2615685420011653, 2.291852370723787, 2.2264693739596284, 2.235481098055807, 2.1972983932605934, 2.194424187226015, 2.2106506154645698, 2.24308417541098, 2.074470357386031, 2.069133523218486, 2.1696623416616934, 2.084449839135732, 2.068966937978783, 2.0878677676682256, 2.096833815166421, 2.0566186238909046, 2.003532768769291, 1.942940563205881, 1.9987714108843557, 1.949803166727976, 2.1153015720846127, 2.036938605177046, 1.89844789287219, 1.8713008495575785, 2.3294065948419402, 2.0103523825521084, 2.115833814368062, 2.1280187185947077, 2.296295529550956, 2.1638343594812923, 2.1474087606333256, 2.1130298859161867, 2.0558270122330695, 2.4801494872311323, 2.1409642435901426, 2.0738714444543316, 2.1464581916757104, 2.0631499058510063, 2.0156490419254927, 1.9529940270889719, 1.8810078773930687, 1.8595501462101958, 1.840138368707576, 2.2612955848415606, 1.7986448807845468, 1.7986448807845468, 1.7986448807845468, 1.7986448807845468, 1.8458161379948772, 1.8207352111909698, 2.085090571750274, 1.8228613307411468, 1.8549768126308468, 1.8307850373842096, 1.8087256311776092, 1.7254362015723093, 1.6888739921478306, 1.6888739921478306, 1.6888739921478306, 1.8216793151590749, 2.192080976148579, 1.754194629909135, 1.843740445362878, 1.959238129457346, 1.8231233783159506, 1.9875259065578461, 1.80382129013535, 1.8147255724421572, 1.8227892949667954, 1.7517563041713498, 1.6332850413153464, 1.5080537356651684, 1.5494283303908294, 1.5413727747579045, 1.482122833702426, 1.2229289464976014, 1.2326945572309174, 1.0753697064625347, 1.0507935220568059, 0.9979672929328952, 1.018062051561004, 0.9847461802483962, 0.9847461802483962, 0.9662465627656731, 0.9711925598842044, 0.9711925598842044, 0.9711925598842044, 0.9711925598842044, 0.9572406730942045, 0.9572406730942045, 0.919585052239378, 0.9021893515145312, 0.897407095858503, 0.9730576177432959, 0.9362721533196233, 0.9260095288075287, 0.860214517071422, 0.8387464165238202, 0.9790509485125809, 1.051921142548747, 1.0064030914150353, 0.9680668347677758, 0.9373700622186352], \"Total\": [17.0, 17.0, 16.0, 15.0, 15.0, 15.0, 15.0, 14.0, 14.0, 14.0, 13.0, 13.0, 13.0, 12.0, 12.0, 12.0, 12.0, 11.0, 3.0, 11.0, 2.0, 11.0, 2.0, 11.0, 11.0, 11.0, 11.0, 11.0, 11.0, 11.0, 17.37167922376873, 17.015315828579936, 16.053600556478695, 15.957489946510979, 15.77512603404807, 15.486363473584493, 15.357340414520777, 14.751264740014753, 14.625469094512182, 14.049306208734052, 13.930178744838104, 13.909738736907517, 13.508788162703667, 12.925870362803693, 12.85852189568084, 12.818841829750191, 12.265401587475814, 11.988307325451824, 11.962910672996806, 11.686772801699263, 11.592354366467761, 11.58098015887178, 11.549876354300466, 11.384522096302012, 11.368871453756913, 11.33323509821073, 11.2776754487165, 11.113498499362825, 11.082910820521212, 11.018030826475691, 11.083950404066162, 11.089218511289607, 4.312777213290943, 4.236609121377625, 4.16913596134903, 4.21022822579628, 4.113192749244576, 4.056967996758914, 4.014929170151353, 4.014929170151353, 3.972728611753099, 3.9493221162517242, 3.9479641529955702, 3.842865290545804, 3.8575063595270533, 3.854172395659349, 5.13953178756524, 3.8067581081264397, 3.871211658817686, 3.7656980907366147, 3.691527544084136, 3.788560602244133, 3.6096583667455366, 3.7014335112296948, 3.6528647515354944, 3.6192590156440745, 3.563301503804347, 3.575819984016505, 3.5995422141914726, 3.533600848679521, 3.5224466742778087, 3.498085174622975, 4.468116032237565, 3.576193169829411, 4.358218785743896, 4.213439839786086, 3.729699281611227, 3.8873718869137313, 4.010180213962432, 3.4991920337512483, 2.6972225688190927, 2.826859373544672, 2.668997972078622, 2.8857547395742604, 2.609244075565108, 2.687401889141088, 2.724315966346765, 2.648276863946025, 2.6637132293863375, 2.6261501401674043, 2.62325707973751, 2.644313810636227, 2.6897461398119775, 2.4918684648203815, 2.4861007655841743, 2.6125179567587895, 2.5118110870987382, 2.4938757774917075, 2.5173840989748886, 2.5291433111323394, 2.4818055112794912, 2.4272671183362946, 2.3565816782645994, 2.4263439445810726, 2.3676412269444387, 2.568933337941942, 2.4739423187168157, 2.311860476179325, 2.281841759431067, 2.9273914081274337, 2.4976925112083026, 2.974736691779249, 5.865643674681352, 2.7253512406155487, 2.5813859234869336, 2.5773718292860046, 2.5499479922253143, 2.4824061134272672, 2.996086256378198, 2.587095587912495, 2.5139784541924177, 2.603150563418757, 2.5028152785423314, 2.4504371780613363, 2.382724902467927, 2.296005447178377, 2.272253527255793, 2.2548829043284435, 2.7731768823320055, 2.2062355240253453, 2.2062355240253453, 2.2062355240253453, 2.2062355240253453, 2.2697386274757965, 2.2400056613123716, 2.567029337720634, 2.245672478656315, 2.285980168501733, 2.260591652601708, 2.2430115023071915, 2.1401991099143083, 2.096816846991847, 2.096816846991847, 2.096816846991847, 2.264209261554396, 2.7401496619253796, 2.181751539909192, 2.320622626066161, 2.510226675467102, 2.293979849897559, 3.2744987143174127, 2.277415590750598, 2.496234227991043, 2.294375650922904, 2.2419942900304752, 2.1004584451766535, 1.9674184948186908, 2.022169939216723, 2.0172122357689384, 1.9426280961034075, 1.6828382596817237, 1.6974552062851258, 1.5162188874297762, 1.49377252832732, 1.4356881481844752, 1.4654285743838482, 1.42501252217477, 1.42501252217477, 1.4074908871272325, 1.4169363118509894, 1.4169363118509894, 1.4169363118509894, 1.4169363118509894, 1.39996608047436, 1.39996608047436, 1.3603705284335719, 1.3415724497843264, 1.3350978084452654, 1.457268402758713, 1.4042680860012462, 1.402989526771142, 1.305918798619929, 1.2961305955020563, 1.5475720706109826, 1.8583217281598898, 2.0828871014437746, 1.817210869901202, 2.7776317657271226], \"Category\": [\"Default\", \"Default\", \"Default\", \"Default\", \"Default\", \"Default\", \"Default\", \"Default\", \"Default\", \"Default\", \"Default\", \"Default\", \"Default\", \"Default\", \"Default\", \"Default\", \"Default\", \"Default\", \"Default\", \"Default\", \"Default\", \"Default\", \"Default\", \"Default\", \"Default\", \"Default\", \"Default\", \"Default\", \"Default\", \"Default\", \"Topic1\", \"Topic1\", \"Topic1\", \"Topic1\", \"Topic1\", \"Topic1\", \"Topic1\", \"Topic1\", \"Topic1\", \"Topic1\", \"Topic1\", \"Topic1\", \"Topic1\", \"Topic1\", \"Topic1\", \"Topic1\", \"Topic1\", \"Topic1\", \"Topic1\", \"Topic1\", \"Topic1\", \"Topic1\", \"Topic1\", \"Topic1\", \"Topic1\", \"Topic1\", \"Topic1\", \"Topic1\", \"Topic1\", \"Topic1\", \"Topic1\", \"Topic1\", \"Topic2\", \"Topic2\", \"Topic2\", \"Topic2\", \"Topic2\", \"Topic2\", \"Topic2\", \"Topic2\", \"Topic2\", \"Topic2\", \"Topic2\", \"Topic2\", \"Topic2\", \"Topic2\", \"Topic2\", \"Topic2\", \"Topic2\", \"Topic2\", \"Topic2\", \"Topic2\", \"Topic2\", \"Topic2\", \"Topic2\", \"Topic2\", \"Topic2\", \"Topic2\", \"Topic2\", \"Topic2\", \"Topic2\", \"Topic2\", \"Topic2\", \"Topic2\", \"Topic2\", \"Topic2\", \"Topic2\", \"Topic2\", \"Topic2\", \"Topic3\", \"Topic3\", \"Topic3\", \"Topic3\", \"Topic3\", \"Topic3\", \"Topic3\", \"Topic3\", \"Topic3\", \"Topic3\", \"Topic3\", \"Topic3\", \"Topic3\", \"Topic3\", \"Topic3\", \"Topic3\", \"Topic3\", \"Topic3\", \"Topic3\", \"Topic3\", \"Topic3\", \"Topic3\", \"Topic3\", \"Topic3\", \"Topic3\", \"Topic3\", \"Topic3\", \"Topic3\", \"Topic3\", \"Topic3\", \"Topic3\", \"Topic3\", \"Topic3\", \"Topic3\", \"Topic4\", \"Topic4\", \"Topic4\", \"Topic4\", \"Topic4\", \"Topic4\", \"Topic4\", \"Topic4\", \"Topic4\", \"Topic4\", \"Topic4\", \"Topic4\", \"Topic4\", \"Topic4\", \"Topic4\", \"Topic4\", \"Topic4\", \"Topic4\", \"Topic4\", \"Topic4\", \"Topic4\", \"Topic4\", \"Topic4\", \"Topic4\", \"Topic4\", \"Topic4\", \"Topic4\", \"Topic4\", \"Topic4\", \"Topic4\", \"Topic4\", \"Topic4\", \"Topic4\", \"Topic4\", \"Topic4\", \"Topic4\", \"Topic4\", \"Topic4\", \"Topic4\", \"Topic4\", \"Topic5\", \"Topic5\", \"Topic5\", \"Topic5\", \"Topic5\", \"Topic5\", \"Topic5\", \"Topic5\", \"Topic5\", \"Topic5\", \"Topic5\", \"Topic5\", \"Topic5\", \"Topic5\", \"Topic5\", \"Topic5\", \"Topic5\", \"Topic5\", \"Topic5\", \"Topic5\", \"Topic5\", \"Topic5\", \"Topic5\", \"Topic5\", \"Topic5\", \"Topic5\", \"Topic5\", \"Topic5\", \"Topic5\", \"Topic5\", \"Topic5\", \"Topic5\", \"Topic5\", \"Topic5\", \"Topic5\"], \"logprob\": [30.0, 29.0, 28.0, 27.0, 26.0, 25.0, 24.0, 23.0, 22.0, 21.0, 20.0, 19.0, 18.0, 17.0, 16.0, 15.0, 14.0, 13.0, 12.0, 11.0, 10.0, 9.0, 8.0, 7.0, 6.0, 5.0, 4.0, 3.0, 2.0, 1.0, -6.111599922180176, -6.132800102233887, -6.192399978637695, -6.198500156402588, -6.210299968719482, -6.2291998863220215, -6.238100051879883, -6.279200077056885, -6.287899971008301, -6.32919979095459, -6.337900161743164, -6.3394999504089355, -6.36959981918335, -6.414999961853027, -6.420199871063232, -6.423500061035156, -6.468800067901611, -6.492400169372559, -6.494699954986572, -6.518799781799316, -6.527100086212158, -6.528299808502197, -6.531199932098389, -6.545899868011475, -6.547299861907959, -6.55049991607666, -6.555799961090088, -6.5706000328063965, -6.573500156402588, -6.579699993133545, -6.573699951171875, -6.573500156402588, -7.087900161743164, -7.106800079345703, -7.1244001388549805, -7.114799976348877, -7.139999866485596, -7.1539998054504395, -7.16510009765625, -7.16510009765625, -7.176700115203857, -7.184599876403809, -7.185800075531006, -7.213200092315674, -7.209499835968018, -7.210599899291992, -6.923600196838379, -7.223999977111816, -7.207799911499023, -7.236000061035156, -7.258299827575684, -7.2332000732421875, -7.282299995422363, -7.2581000328063965, -7.271399974822998, -7.281099796295166, -7.297500133514404, -7.2941999435424805, -7.287700176239014, -7.30649995803833, -7.309999942779541, -7.3180999755859375, -7.07450008392334, -7.296299934387207, -7.153600215911865, -7.178299903869629, -7.270100116729736, -7.260300159454346, -7.270599842071533, -6.534999847412109, -6.822000026702881, -6.776500225067139, -6.836999893188477, -6.76039981842041, -6.861999988555908, -6.832799911499023, -6.819499969482422, -6.848400115966797, -6.844399929046631, -6.861599922180176, -6.8628997802734375, -6.855500221252441, -6.841000080108643, -6.919099807739258, -6.9217000007629395, -6.874300003051758, -6.914299964904785, -6.921800136566162, -6.912700176239014, -6.908400058746338, -6.927800178527832, -6.95389986038208, -6.984600067138672, -6.956299781799316, -6.981100082397461, -6.899600028991699, -6.937399864196777, -7.007800102233887, -7.022200107574463, -6.803199768066406, -6.950500011444092, -6.899400234222412, -6.893599987030029, -6.692299842834473, -6.751699924468994, -6.759300231933594, -6.775400161743164, -6.8028998374938965, -6.615200042724609, -6.76230001449585, -6.794099807739258, -6.759699821472168, -6.799300193786621, -6.8225998878479, -6.8541998863220215, -6.89169979095459, -6.903200149536133, -6.913700103759766, -6.707600116729736, -6.936500072479248, -6.936500072479248, -6.936500072479248, -6.936500072479248, -6.910600185394287, -6.924300193786621, -6.788700103759766, -6.923099994659424, -6.905700206756592, -6.918799877166748, -6.9309000968933105, -6.978099822998047, -6.999499797821045, -6.999499797821045, -6.999499797821045, -6.923799991607666, -6.738699913024902, -6.96150016784668, -6.911799907684326, -6.85099983215332, -6.922999858856201, -6.836699962615967, -6.933599948883057, -6.927599906921387, -6.24370002746582, -6.2835001945495605, -6.353499889373779, -6.433300018310547, -6.406199932098389, -6.411399841308594, -6.4506001472473145, -6.6427998542785645, -6.634900093078613, -6.771399974822998, -6.79449987411499, -6.846099853515625, -6.826200008392334, -6.859499931335449, -6.859499931335449, -6.878399848937988, -6.873300075531006, -6.873300075531006, -6.873300075531006, -6.873300075531006, -6.887800216674805, -6.887800216674805, -6.9278998374938965, -6.947000026702881, -6.952300071716309, -6.871399879455566, -6.909900188446045, -6.921000003814697, -6.994699954986572, -7.019899845123291, -6.865300178527832, -6.793499946594238, -6.837699890136719, -6.876500129699707, -6.90880012512207], \"loglift\": [30.0, 29.0, 28.0, 27.0, 26.0, 25.0, 24.0, 23.0, 22.0, 21.0, 20.0, 19.0, 18.0, 17.0, 16.0, 15.0, 14.0, 13.0, 12.0, 11.0, 10.0, 9.0, 8.0, 7.0, 6.0, 5.0, 4.0, 3.0, 2.0, 1.0, 0.7898, 0.7893, 0.7878, 0.7878, 0.7875, 0.787, 0.7865, 0.7857, 0.7856, 0.7844, 0.7842, 0.7841, 0.7833, 0.782, 0.782, 0.7818, 0.7806, 0.7799, 0.7797, 0.7789, 0.7788, 0.7786, 0.7784, 0.778, 0.778, 0.778, 0.7776, 0.7774, 0.7773, 0.777, 0.777, 0.7767, 1.2067, 1.2056, 1.2041, 1.2039, 1.202, 1.2018, 1.2011, 1.2011, 1.2001, 1.198, 1.1973, 1.1968, 1.1967, 1.1964, 1.1956, 1.1954, 1.1948, 1.1943, 1.1919, 1.1911, 1.1903, 1.1894, 1.1893, 1.1888, 1.188, 1.1879, 1.1877, 1.1874, 1.1871, 1.1859, 1.1848, 1.1856, 1.1306, 1.1396, 1.1698, 1.1382, 1.0967, 1.9686, 1.942, 1.9406, 1.9375, 1.936, 1.9352, 1.9349, 1.9345, 1.9339, 1.9321, 1.9291, 1.9289, 1.9283, 1.9258, 1.9241, 1.9238, 1.9217, 1.9209, 1.9206, 1.9203, 1.9199, 1.9195, 1.9155, 1.9144, 1.9135, 1.9132, 1.9131, 1.913, 1.9104, 1.909, 1.8789, 1.8903, 1.7667, 1.0935, 2.0614, 2.0562, 2.0502, 2.0447, 2.0441, 2.0437, 2.0434, 2.0402, 2.0398, 2.0395, 2.0373, 2.0338, 2.0333, 2.0322, 2.0294, 2.0286, 2.0284, 2.0284, 2.0284, 2.0284, 2.0259, 2.0254, 2.0247, 2.0241, 2.0237, 2.0218, 2.0175, 2.0172, 2.0163, 2.0163, 2.0163, 2.0152, 2.0095, 2.0146, 2.0026, 1.9849, 2.0029, 1.7334, 1.9995, 1.9138, 2.682, 2.6654, 2.6606, 2.6462, 2.6459, 2.6431, 2.6416, 2.5929, 2.5922, 2.5686, 2.5604, 2.5485, 2.5479, 2.5426, 2.5426, 2.536, 2.5344, 2.5344, 2.5344, 2.5344, 2.532, 2.532, 2.5205, 2.5154, 2.5149, 2.5083, 2.5068, 2.4967, 2.4947, 2.4769, 2.4543, 2.3431, 2.1848, 2.2824, 1.8259]}, \"token.table\": {\"Topic\": [4, 4, 4, 4, 1, 4, 4, 1, 4, 4, 4, 4, 4, 4, 4, 4, 2, 3, 2, 2, 2, 3, 2, 2, 2, 4, 1, 2, 4, 3, 1, 3, 3, 2, 2, 3, 2, 5, 2, 1, 4, 4, 2, 4, 2, 4, 2, 4, 5, 3, 1, 5, 3, 1, 4, 4, 4, 1, 1, 3, 4, 4, 4, 3, 4, 2, 5, 2, 5, 2, 3, 3, 4, 2, 5, 5, 2, 4, 2, 3, 1, 3, 4, 4, 2, 5, 3, 5, 4, 5, 5, 2, 3, 4, 5, 2, 1, 2, 5, 1, 2, 1, 2, 3, 2, 5, 5, 2, 5, 5, 5, 5, 1, 1, 3, 5, 3, 1, 4, 5, 2, 1, 5, 2, 5, 3, 1, 2, 5, 1, 3, 1, 2, 5, 3, 1, 1, 1, 2, 4, 3, 3, 3, 1, 2, 4, 3, 5, 3, 5, 4, 5, 5, 2, 1, 1, 4, 3, 3, 1, 5, 1, 2, 3, 5, 4, 1, 5, 1, 1, 2, 3, 5, 1, 3, 1, 2, 3, 3, 2, 2, 5, 5], \"Freq\": [0.7298871400311362, 0.9538267507098949, 0.6675375235750686, 0.9538267507098949, 0.9924259491421611, 0.8710780727710615, 0.8801834724910321, 1.005734982257723, 0.9065215287400222, 0.8161808912735727, 0.9065215287400222, 0.9065215287400222, 0.9065215287400222, 0.8869640175819447, 0.9538267507098949, 0.774777603690657, 0.7966650346664315, 0.8058649200794558, 0.9728512647975389, 0.9500672613165716, 0.8952318988898014, 0.7552080476283474, 0.9962815856722099, 0.9962815856722099, 0.8489923249597012, 0.8916583788994276, 0.9983635164250617, 0.8212732208984578, 0.7967407961784331, 0.8084262857985145, 0.9489012889235671, 0.8651041101343977, 0.7785332419728208, 0.7880721377057763, 0.8126717095224321, 0.824285445790463, 0.8043543925353689, 0.9914673154050262, 0.9274766124419693, 0.9361220115962575, 0.799100124226836, 0.805669946259822, 0.8288989505953133, 0.8833105817379201, 0.3053902558054464, 0.6107805116108928, 0.8576120506623574, 0.7682997780095246, 0.6862153863399005, 0.8764849673443882, 0.9498332480583078, 0.771527192915811, 0.7563398836989004, 0.9332332360868619, 0.8618376712935575, 0.8781884202965491, 0.7211945306273325, 0.991954481625664, 0.9490711641845294, 0.6930595911609116, 0.7730676861513969, 0.8811587271721344, 0.7338503640170356, 0.8447225775761227, 0.87489822858386, 1.0131804254010126, 0.6965300934360764, 0.9441512977480712, 0.9521730861149197, 0.985957987145961, 0.7962382243921439, 0.7341292363682567, 0.8012068649541714, 1.0068646491900353, 0.5891171656826787, 1.0165605361884695, 0.9594314114682165, 0.8393751196071705, 0.7480960555225822, 0.7907816022906851, 0.9412350343972284, 0.7493448930732589, 0.8928548862810654, 0.8847241374611846, 0.7200378483130013, 0.36001892415650066, 0.8486869003720727, 0.5502938687871529, 0.795551766430104, 0.7143030205854438, 0.7143030205854438, 0.33616420665517127, 0.6723284133103425, 0.8906018215072433, 0.7057480224313455, 0.7918574664538733, 0.9705966482365357, 0.4801028338534718, 0.4801028338534718, 1.0009753399066899, 0.81049679560591, 0.957234254130907, 0.9178061489442293, 0.7415035092471612, 0.7717296125176655, 0.594234172088012, 0.9890365597931348, 0.8388808594875494, 0.7057480224313455, 0.7453939592757453, 0.5147665690647817, 0.7017482193587036, 0.9966611504820915, 1.0064890696223494, 0.8007390785795586, 0.7017482193587036, 0.8239719414857177, 0.976731621174269, 0.9344924921868967, 0.7057480224313455, 0.7783772213662948, 0.9925190392791311, 0.7350938432571541, 1.0128320461731224, 0.7121147378970717, 0.7665055250022333, 0.9964904879997989, 0.833439315747505, 0.7057480224313455, 0.9990998798532901, 0.7435645953338209, 0.9753783082356655, 0.8516807427936652, 0.7104841737491145, 0.6832021144993867, 0.9783617694387752, 1.0050122296663113, 0.9623365059414895, 0.9493430907045008, 0.7759842709827589, 0.7655449773372247, 0.7442132150317174, 0.7624109796360962, 0.9508640354203773, 0.9724805628753077, 0.7843297220562604, 0.7944755036843308, 0.8920629320482409, 0.7508315752370825, 0.6595353799444839, 0.8718472396735798, 0.7657443947179424, 0.8716968379591665, 0.7806674897974133, 1.0026639561504669, 0.9897873294022281, 0.9166946663794923, 0.8019645637729245, 0.8573407721164426, 0.9786043007713278, 0.6694459705453071, 0.9685940812112478, 0.8389684081999786, 0.7615710805751988, 0.5381199524531202, 0.7791106905602717, 0.9523911479714045, 0.7127636956074881, 0.9675542594304717, 0.9662241336922772, 0.7777044858502353, 0.707498936352164, 0.6823942275183617, 0.5114528202504516, 0.3409685468336344, 1.0031003597717163, 0.8419158459639353, 0.8026105824747711, 0.8044726214184837, 0.8311035824436749, 0.7749511688844819, 0.7490087944676577, 0.646173460345016], \"Term\": [\"abandonment\", \"abortion\", \"abstain\", \"acclaim\", \"accusation\", \"aclose\", \"acquaint\", \"addict\", \"additional\", \"addressing\", \"adept\", \"adjustment\", \"adulthood\", \"advantageous\", \"adversary\", \"adverse\", \"akassault\", \"alienate\", \"apartheid\", \"arbitrary\", \"assail\", \"assistance\", \"assuage\", \"asymmetry\", \"attend\", \"audience\", \"baffectionately\", \"bailout\", \"bankroll\", \"bat\", \"bearwood\", \"befriend\", \"belgium\", \"bellman\", \"best\", \"blog\", \"brain\", \"bravo\", \"brush\", \"bus\", \"camera\", \"capitalism\", \"capture\", \"casualties\", \"ccl\", \"ccl\", \"certainity\", \"champion\", \"chapter\", \"chicken\", \"chiefly\", \"chilly\", \"choose\", \"classificat\", \"colliding\", \"comfirme\", \"commert\", \"commissioner\", \"compile\", \"concurrence\", \"concurrent\", \"condescendingly\", \"configuration\", \"conscientious\", \"consequently\", \"constituent\", \"construction\", \"contaminate\", \"convulse\", \"coordinated\", \"coordination\", \"correctly\", \"coulc\", \"countryside\", \"courageously\", \"crossed\", \"crowded\", \"crumple\", \"crusade\", \"culmination\", \"curable\", \"curious\", \"cycle\", \"cynicism\", \"dayton\", \"dayton\", \"debate\", \"defame\", \"default\", \"defendant\", \"degraded\", \"delegitimize\", \"delegitimize\", \"dem\", \"demagogic\", \"demagoguery\", \"demographic\", \"deplore\", \"deplore\", \"descent\", \"devisive\", \"devotedly\", \"difference\", \"dining\", \"dip\", \"disavow\", \"disloyalty\", \"dismissive\", \"dissolve\", \"diverge\", \"divided\", \"dominating\", \"dresser\", \"duck\", \"durmer\", \"dusting\", \"edifice\", \"efe\", \"elastic\", \"elegant\", \"elementary\", \"elite\", \"embroil\", \"emptively\", \"emulate\", \"encapsulate\", \"enroll\", \"enshrine\", \"enslavement\", \"entertain\", \"entitled\", \"entwine\", \"epic\", \"equal\", \"equdoran\", \"equivocal\", \"escalation\", \"esource\", \"etc\", \"euroz\", \"evanescent\", \"exclusive\", \"expenditure\", \"experiment\", \"expression\", \"expressionless\", \"fabrication\", \"fabulous\", \"face\", \"fallen\", \"fanatic\", \"fashionable\", \"fearsome\", \"feinting\", \"fend\", \"ferocious\", \"fiercer\", \"fill\", \"finding\", \"finger\", \"fingerprint\", \"flung\", \"fold\", \"foreign\", \"foresee\", \"format\", \"foyer\", \"frenetic\", \"frumforum\", \"frustration\", \"fwd\", \"gas\", \"gasp\", \"golitic\", \"golitic\", \"gom\", \"gop\", \"graph\", \"grey\", \"grotesque\", \"grove\", \"handpicke\", \"hasten\"]}, \"R\": 30, \"lambda.step\": 0.01, \"plot.opts\": {\"xlab\": \"PC1\", \"ylab\": \"PC2\"}, \"topic.order\": [1, 4, 3, 5, 2]};\n",
              "\n",
              "function LDAvis_load_lib(url, callback){\n",
              "  var s = document.createElement('script');\n",
              "  s.src = url;\n",
              "  s.async = true;\n",
              "  s.onreadystatechange = s.onload = callback;\n",
              "  s.onerror = function(){console.warn(\"failed to load library \" + url);};\n",
              "  document.getElementsByTagName(\"head\")[0].appendChild(s);\n",
              "}\n",
              "\n",
              "if(typeof(LDAvis) !== \"undefined\"){\n",
              "   // already loaded: just create the visualization\n",
              "   !function(LDAvis){\n",
              "       new LDAvis(\"#\" + \"ldavis_el50411397283698807841001271978\", ldavis_el50411397283698807841001271978_data);\n",
              "   }(LDAvis);\n",
              "}else if(typeof define === \"function\" && define.amd){\n",
              "   // require.js is available: use it to load d3/LDAvis\n",
              "   require.config({paths: {d3: \"https://cdnjs.cloudflare.com/ajax/libs/d3/3.5.5/d3.min\"}});\n",
              "   require([\"d3\"], function(d3){\n",
              "      window.d3 = d3;\n",
              "      LDAvis_load_lib(\"https://cdn.rawgit.com/bmabey/pyLDAvis/files/ldavis.v1.0.0.js\", function(){\n",
              "        new LDAvis(\"#\" + \"ldavis_el50411397283698807841001271978\", ldavis_el50411397283698807841001271978_data);\n",
              "      });\n",
              "    });\n",
              "}else{\n",
              "    // require.js not available: dynamically load d3 & LDAvis\n",
              "    LDAvis_load_lib(\"https://cdnjs.cloudflare.com/ajax/libs/d3/3.5.5/d3.min.js\", function(){\n",
              "         LDAvis_load_lib(\"https://cdn.rawgit.com/bmabey/pyLDAvis/files/ldavis.v1.0.0.js\", function(){\n",
              "                 new LDAvis(\"#\" + \"ldavis_el50411397283698807841001271978\", ldavis_el50411397283698807841001271978_data);\n",
              "            })\n",
              "         });\n",
              "}\n",
              "</script>"
            ],
            "text/plain": [
              "PreparedData(topic_coordinates=              x         y  topics  cluster       Freq\n",
              "topic                                                \n",
              "0      0.246151 -0.033717       1        1  44.411858\n",
              "3     -0.123186 -0.128999       2        1  27.272594\n",
              "2     -0.050652  0.087707       3        1  12.155419\n",
              "4     -0.045794  0.060167       4        1  10.724187\n",
              "1     -0.026519  0.014841       5        1   5.435942, topic_info=            Term       Freq      Total Category  logprob  loglift\n",
              "4639      finger  17.000000  17.000000  Default  30.0000  30.0000\n",
              "4058   entertain  17.000000  17.000000  Default  29.0000  29.0000\n",
              "3653     dresser  16.000000  16.000000  Default  28.0000  28.0000\n",
              "4563        fend  15.000000  15.000000  Default  27.0000  27.0000\n",
              "4334  experiment  15.000000  15.000000  Default  26.0000  26.0000\n",
              "...          ...        ...        ...      ...      ...      ...\n",
              "5463      hasten   0.979051   1.547572   Topic5  -6.8653   2.4543\n",
              "4812     foresee   1.051921   1.858322   Topic5  -6.7935   2.3431\n",
              "3148     deplore   1.006403   2.082887   Topic5  -6.8377   2.1848\n",
              "3016      defame   0.968067   1.817211   Topic5  -6.8765   2.2824\n",
              "2926      dayton   0.937370   2.777632   Topic5  -6.9088   1.8259\n",
              "\n",
              "[208 rows x 6 columns], token_table=      Topic      Freq         Term\n",
              "term                              \n",
              "2         4  0.729887  abandonment\n",
              "23        4  0.953827     abortion\n",
              "35        4  0.667538      abstain\n",
              "68        4  0.953827      acclaim\n",
              "98        1  0.992426   accusation\n",
              "...     ...       ...          ...\n",
              "5289      3  0.804473         grey\n",
              "5315      2  0.831104    grotesque\n",
              "5322      2  0.774951        grove\n",
              "5415      5  0.749009    handpicke\n",
              "5463      5  0.646173       hasten\n",
              "\n",
              "[183 rows x 3 columns], R=30, lambda_step=0.01, plot_opts={'xlab': 'PC1', 'ylab': 'PC2'}, topic_order=[1, 4, 3, 5, 2])"
            ]
          },
          "metadata": {
            "tags": []
          },
          "execution_count": 29
        }
      ]
    },
    {
      "cell_type": "code",
      "metadata": {
        "id": "qDOZrWHIOVhx"
      },
      "source": [
        "# Compute Perplexity\n",
        "perplexity_cv = lda_CV.log_perplexity(corpus_CV)\n",
        "\n",
        "# Compute Coherence Score\n",
        "coherence_model_lda = CoherenceModel(model=lda_CV, texts=data_lemmatized, dictionary=dictionary_CV, coherence='c_v')\n",
        "coherence_lda = coherence_model_lda.get_coherence()"
      ],
      "execution_count": null,
      "outputs": []
    },
    {
      "cell_type": "code",
      "metadata": {
        "id": "EkAheqTLycK-",
        "colab": {
          "base_uri": "https://localhost:8080/"
        },
        "outputId": "4c51d2bd-b575-4e9a-e325-0385e01390f8"
      },
      "source": [
        "print('\\nPerplexity CountVectorizer: ', perplexity_cv)\n",
        "print('\\nCoherence Score CountVectorizer: ', coherence_lda)"
      ],
      "execution_count": null,
      "outputs": [
        {
          "output_type": "stream",
          "text": [
            "\n",
            "Perplexity CountVectorizer:  -7.009400718785396\n",
            "\n",
            "Coherence Score CountVectorizer:  0.3937092413248971\n"
          ],
          "name": "stdout"
        }
      ]
    },
    {
      "cell_type": "code",
      "metadata": {
        "id": "Sa6ME7tVOXaC"
      },
      "source": [
        "# Compute Perplexity\n",
        "perplexity_tfidf = lda_TFIDF.log_perplexity(corpus_tfidf)\n",
        "\n",
        "# Compute Coherence Score\n",
        "coherence_model_lda = CoherenceModel(model=lda_TFIDF, texts=data_lemmatized, dictionary=dictionary_tfidf, coherence='c_v')\n",
        "coherence_lda = coherence_model_lda.get_coherence()\n"
      ],
      "execution_count": null,
      "outputs": []
    },
    {
      "cell_type": "code",
      "metadata": {
        "id": "YgA0RfWByxn7",
        "colab": {
          "base_uri": "https://localhost:8080/"
        },
        "outputId": "7a881b86-a499-4435-fc93-7baf97c25983"
      },
      "source": [
        "print('\\nPerplexity TfidfVectorizer: ', perplexity_tfidf) \n",
        "print('\\nCoherence Score TfidfVectorizer: ', coherence_lda)"
      ],
      "execution_count": null,
      "outputs": [
        {
          "output_type": "stream",
          "text": [
            "\n",
            "Perplexity TfidfVectorizer:  -9.939079520511322\n",
            "\n",
            "Coherence Score TfidfVectorizer:  0.7521333380846583\n"
          ],
          "name": "stdout"
        }
      ]
    }
  ]
}