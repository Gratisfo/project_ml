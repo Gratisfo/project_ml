{
  "nbformat": 4,
  "nbformat_minor": 0,
  "metadata": {
    "colab": {
      "name": "Эмбеддинги + сети на keras.ipynb",
      "provenance": [],
      "collapsed_sections": [
        "AvUvyyZpD8QS",
        "Uc6rBD0mEXUS"
      ],
      "include_colab_link": true
    },
    "kernelspec": {
      "display_name": "Python 3",
      "name": "python3"
    }
  },
  "cells": [
    {
      "cell_type": "markdown",
      "metadata": {
        "id": "view-in-github",
        "colab_type": "text"
      },
      "source": [
        "<a href=\"https://colab.research.google.com/github/Gratisfo/project_ml/blob/main/%D0%AD%D0%BC%D0%B1%D0%B5%D0%B4%D0%B4%D0%B8%D0%BD%D0%B3%D0%B8_%2B_%D1%81%D0%B5%D1%82%D0%B8_%D0%BD%D0%B0_keras.ipynb\" target=\"_parent\"><img src=\"https://colab.research.google.com/assets/colab-badge.svg\" alt=\"Open In Colab\"/></a>"
      ]
    },
    {
      "cell_type": "markdown",
      "metadata": {
        "id": "p833HnmyQHEN"
      },
      "source": [
        "# **Эмбеддинги + сети на keras**\n",
        "\n",
        "Построение нейронной сети на Keras для задачи классификации твитов. Посмотреть и скачать корпус можно из источника http://study.mokoron.com, (либо сразу по прямым ссылкам в ноутбуке)"
      ]
    },
    {
      "cell_type": "code",
      "metadata": {
        "colab": {
          "base_uri": "https://localhost:8080/"
        },
        "id": "srFdY6sXQBxW",
        "outputId": "39f313d1-6752-463e-9550-80cd5e39f0f5"
      },
      "source": [
        "!wget https://www.dropbox.com/s/r6u59ljhhjdg6j0/negative.csv\n",
        "!wget https://www.dropbox.com/s/fnpq3z4bcnoktiv/positive.csv "
      ],
      "execution_count": null,
      "outputs": [
        {
          "output_type": "stream",
          "text": [
            "--2021-02-12 18:25:16--  https://www.dropbox.com/s/r6u59ljhhjdg6j0/negative.csv\n",
            "Resolving www.dropbox.com (www.dropbox.com)... 162.125.82.18, 2620:100:6032:18::a27d:5212\n",
            "Connecting to www.dropbox.com (www.dropbox.com)|162.125.82.18|:443... connected.\n",
            "HTTP request sent, awaiting response... 301 Moved Permanently\n",
            "Location: /s/raw/r6u59ljhhjdg6j0/negative.csv [following]\n",
            "--2021-02-12 18:25:16--  https://www.dropbox.com/s/raw/r6u59ljhhjdg6j0/negative.csv\n",
            "Reusing existing connection to www.dropbox.com:443.\n",
            "HTTP request sent, awaiting response... 302 Found\n",
            "Location: https://uc4a7e6ce94338f936067fd1b95f.dl.dropboxusercontent.com/cd/0/inline/BI1tHO9rqfTfweGfybKbMoMW2cpcVZBmneFtC4Yj0RZgoU-iFcZI3QC5gewy73ZesU6ZPSKiT4UpSZR155ZZcDxuNUhofFf5lknrdK9zC3-SOg/file# [following]\n",
            "--2021-02-12 18:25:16--  https://uc4a7e6ce94338f936067fd1b95f.dl.dropboxusercontent.com/cd/0/inline/BI1tHO9rqfTfweGfybKbMoMW2cpcVZBmneFtC4Yj0RZgoU-iFcZI3QC5gewy73ZesU6ZPSKiT4UpSZR155ZZcDxuNUhofFf5lknrdK9zC3-SOg/file\n",
            "Resolving uc4a7e6ce94338f936067fd1b95f.dl.dropboxusercontent.com (uc4a7e6ce94338f936067fd1b95f.dl.dropboxusercontent.com)... 162.125.82.15, 2620:100:6032:15::a27d:520f\n",
            "Connecting to uc4a7e6ce94338f936067fd1b95f.dl.dropboxusercontent.com (uc4a7e6ce94338f936067fd1b95f.dl.dropboxusercontent.com)|162.125.82.15|:443... connected.\n",
            "HTTP request sent, awaiting response... 200 OK\n",
            "Length: 24450101 (23M) [text/plain]\n",
            "Saving to: ‘negative.csv’\n",
            "\n",
            "negative.csv        100%[===================>]  23.32M  11.9MB/s    in 2.0s    \n",
            "\n",
            "2021-02-12 18:25:19 (11.9 MB/s) - ‘negative.csv’ saved [24450101/24450101]\n",
            "\n",
            "--2021-02-12 18:25:19--  https://www.dropbox.com/s/fnpq3z4bcnoktiv/positive.csv\n",
            "Resolving www.dropbox.com (www.dropbox.com)... 162.125.82.18, 2620:100:6032:18::a27d:5212\n",
            "Connecting to www.dropbox.com (www.dropbox.com)|162.125.82.18|:443... connected.\n",
            "HTTP request sent, awaiting response... 301 Moved Permanently\n",
            "Location: /s/raw/fnpq3z4bcnoktiv/positive.csv [following]\n",
            "--2021-02-12 18:25:19--  https://www.dropbox.com/s/raw/fnpq3z4bcnoktiv/positive.csv\n",
            "Reusing existing connection to www.dropbox.com:443.\n",
            "HTTP request sent, awaiting response... 302 Found\n",
            "Location: https://uc7c74cfd0a33e82d49814965ff5.dl.dropboxusercontent.com/cd/0/inline/BI3F0R5m1XuKqZy2kKPpJWWjG3PKqKKXYIWqhIpaHtJiicMkW0mLu7pN9KT84Pju7WSAiruK3igfREfu5azbJjHfzUMscARfveDUguctp-zCMw/file# [following]\n",
            "--2021-02-12 18:25:20--  https://uc7c74cfd0a33e82d49814965ff5.dl.dropboxusercontent.com/cd/0/inline/BI3F0R5m1XuKqZy2kKPpJWWjG3PKqKKXYIWqhIpaHtJiicMkW0mLu7pN9KT84Pju7WSAiruK3igfREfu5azbJjHfzUMscARfveDUguctp-zCMw/file\n",
            "Resolving uc7c74cfd0a33e82d49814965ff5.dl.dropboxusercontent.com (uc7c74cfd0a33e82d49814965ff5.dl.dropboxusercontent.com)... 162.125.82.15, 2620:100:6032:15::a27d:520f\n",
            "Connecting to uc7c74cfd0a33e82d49814965ff5.dl.dropboxusercontent.com (uc7c74cfd0a33e82d49814965ff5.dl.dropboxusercontent.com)|162.125.82.15|:443... connected.\n",
            "HTTP request sent, awaiting response... 200 OK\n",
            "Length: 26233379 (25M) [text/plain]\n",
            "Saving to: ‘positive.csv’\n",
            "\n",
            "positive.csv        100%[===================>]  25.02M  10.2MB/s    in 2.5s    \n",
            "\n",
            "2021-02-12 18:25:23 (10.2 MB/s) - ‘positive.csv’ saved [26233379/26233379]\n",
            "\n"
          ],
          "name": "stdout"
        }
      ]
    },
    {
      "cell_type": "markdown",
      "metadata": {
        "id": "o4NU8C4IQUvu"
      },
      "source": [
        "Решите задачу, используя две следующие архитектуры, для каждой посчитайте accuracy, precision, recall *:\n",
        "\n",
        "1. модель берет слова, пропускает их через Embedding слой. По эмбеддингам проходит biLSTM, на выходе линейный слой и выходной слой.\n",
        "\n",
        "*   Embedding слой обучается внутри модели -- 1 балл\n",
        "\n",
        "*   подгружаются обученные эмбеддинги для русского языка** -- 1 балл\n",
        "\n",
        "*   fasttext эмбеддинги обучаются на всем корпусе с нуля*** -- 2 балла\n",
        "\n",
        "\n"
      ]
    },
    {
      "cell_type": "code",
      "metadata": {
        "id": "KvxXTHEXnGp-"
      },
      "source": [
        "from tensorflow.keras.models import Sequential, Model\n",
        "from tensorflow.keras.layers import Dense, Activation, Dropout, LSTM, Bidirectional, TimeDistributed, InputLayer\n",
        "from tensorflow.keras.layers import Embedding, Conv1D, Input, concatenate, SpatialDropout1D, Flatten\n",
        "from tensorflow.keras.preprocessing.sequence import pad_sequences\n",
        "from tensorflow.keras.utils import to_categorical\n",
        "from tensorflow.keras import optimizers\n",
        "from keras.utils.vis_utils import plot_model\n",
        "import tensorflow as tf\n",
        "import nltk\n",
        "import numpy as np\n",
        "from sklearn.model_selection import train_test_split\n",
        "import matplotlib.pyplot as plt\n",
        "from collections import Counter"
      ],
      "execution_count": null,
      "outputs": []
    },
    {
      "cell_type": "code",
      "metadata": {
        "id": "40i3qnCvEe3-"
      },
      "source": [
        "!pip install razdel"
      ],
      "execution_count": null,
      "outputs": []
    },
    {
      "cell_type": "code",
      "metadata": {
        "id": "cx5vFNObEYqS"
      },
      "source": [
        "!pip install pymorphy2[fast]"
      ],
      "execution_count": null,
      "outputs": []
    },
    {
      "cell_type": "code",
      "metadata": {
        "id": "BEm46DMOpIZP"
      },
      "source": [
        "import pandas as pd\n",
        "\n",
        "# – id: уникальный номер сообщения в системе twitter;\n",
        "# – tdate: дата публикации сообщения (твита);\n",
        "# – tmane: имя пользователя, опубликовавшего сообщение;\n",
        "# – ttext:  текст сообщения (твита);\n",
        "# – ttype: поле в котором в дальнейшем будет указано к кому классу относится твит (положительный, отрицательный, нейтральный);\n",
        "# – trep: количество реплаев к данному сообщению. В настоящий момент API твиттера не отдает эту информацию;\n",
        "# – trtw: количество ретвитов (количество копирований этого сообщения другими пользователями);\n",
        "# – tfav: число сколько раз данное сообщение было добавлено в избранное другими пользователями;\n",
        "# – tstcount: число всех сообщений пользователя в сети twitter;\n",
        "# – tfol: количество фоловеров пользователя (тех людей, которые читают пользователя);\n",
        "# – tfrien: количество друзей пользователя (те люди, которых читает пользователь);\n",
        "# – listcount: количество листов-подписок в которые добавлен твиттер-пользователь.\n",
        "\n",
        "col =['id', 'tdate', 'tname', 'ttext', 'ttype', 'trep', 'trtw','tfav', 'tstcount', 'tfol', 'tfrien', 'listcount']\n",
        "pos = pd.read_csv('positive.csv', sep=';')\n",
        "neg = pd.read_csv('negative.csv', sep=';')\n",
        "neg.columns = col\n",
        "pos.columns = col\n",
        "pos['ttype'] = pos['ttype'].apply(lambda x: 1)\n",
        "neg['ttype'] = neg['ttype'].apply(lambda x: 0)"
      ],
      "execution_count": null,
      "outputs": []
    },
    {
      "cell_type": "code",
      "metadata": {
        "colab": {
          "base_uri": "https://localhost:8080/"
        },
        "id": "ag0y_opfDaUW",
        "outputId": "61030602-237e-4d9b-d784-69691b77c7b9"
      },
      "source": [
        "# препроцессинг\n",
        "import re\n",
        "import pymorphy2\n",
        "\n",
        "import nltk\n",
        "import string\n",
        "from nltk.corpus import stopwords\n",
        "from razdel import tokenize\n",
        "\n",
        "nltk.download('stopwords')\n",
        "morph = pymorphy2.MorphAnalyzer()\n",
        "\n",
        "def preproc_text(text):\n",
        "    # токенизируем\n",
        "    tokens = [_.text for _ in list(tokenize(text))]\n",
        "   \n",
        "    # приводим к нижнему регистру\n",
        "    tokens = [w.lower() for w in tokens]\n",
        "    \n",
        "    # убираем пунктуацию\n",
        "    # оставим знаки, которые используются для смайликов : ( ) = /\n",
        "    punct = [ '@', '.', ',', '[', ']', \"'\", '«', '»', '-',\n",
        "          '_', '%', '^', '&', '*', \"+\", \"=\", '{', '}',\n",
        "          '?', '!', '—', '--', '<', '>',\n",
        "          '\"',  \"§\", '№', '“', 'http', '#']\n",
        "    words = [w for w in tokens  if w not in punct]\n",
        "\n",
        "    # приводим к начальной форме\n",
        "    words = [morph.parse(w)[0].normal_form for w in words]\n",
        "    stop_words = set(stopwords.words('russian'))   \n",
        "    words = [w for w in words if not w in stop_words]\n",
        "    return words\n",
        "\n",
        "# пробовала делать это тоже, но аккураси падает\n",
        "# убираем числа и оставлем только кирилицу\n",
        "# words = [word for word in stripped if word.isalpha()]"
      ],
      "execution_count": null,
      "outputs": [
        {
          "output_type": "stream",
          "text": [
            "[nltk_data] Downloading package stopwords to /root/nltk_data...\n",
            "[nltk_data]   Package stopwords is already up-to-date!\n"
          ],
          "name": "stdout"
        }
      ]
    },
    {
      "cell_type": "code",
      "metadata": {
        "id": "fXoasxyHHOMB"
      },
      "source": [
        "# создадим новый df\n",
        "data = pd.concat([neg, pos])\n",
        "\n",
        "# перемешаем данные\n",
        "from sklearn.utils import shuffle \n",
        "data = shuffle(data).reset_index(drop=True)"
      ],
      "execution_count": null,
      "outputs": []
    },
    {
      "cell_type": "code",
      "metadata": {
        "id": "4yHcoGfHfeqQ"
      },
      "source": [
        "# запустить чтобы сделать тестовый дф\n",
        "data = data[:20000]"
      ],
      "execution_count": null,
      "outputs": []
    },
    {
      "cell_type": "markdown",
      "metadata": {
        "id": "AG0mZiDoj7Lp"
      },
      "source": [
        "### Подготовка данных"
      ]
    },
    {
      "cell_type": "code",
      "metadata": {
        "colab": {
          "base_uri": "https://localhost:8080/",
          "height": 399
        },
        "id": "PzUMfCXhj3zh",
        "outputId": "de81e792-a9a7-4c81-f399-3c0ce09f18e4"
      },
      "source": [
        "data"
      ],
      "execution_count": null,
      "outputs": [
        {
          "output_type": "execute_result",
          "data": {
            "text/html": [
              "<div>\n",
              "<style scoped>\n",
              "    .dataframe tbody tr th:only-of-type {\n",
              "        vertical-align: middle;\n",
              "    }\n",
              "\n",
              "    .dataframe tbody tr th {\n",
              "        vertical-align: top;\n",
              "    }\n",
              "\n",
              "    .dataframe thead th {\n",
              "        text-align: right;\n",
              "    }\n",
              "</style>\n",
              "<table border=\"1\" class=\"dataframe\">\n",
              "  <thead>\n",
              "    <tr style=\"text-align: right;\">\n",
              "      <th></th>\n",
              "      <th>id</th>\n",
              "      <th>tdate</th>\n",
              "      <th>tname</th>\n",
              "      <th>ttext</th>\n",
              "      <th>ttype</th>\n",
              "      <th>trep</th>\n",
              "      <th>trtw</th>\n",
              "      <th>tfav</th>\n",
              "      <th>tstcount</th>\n",
              "      <th>tfol</th>\n",
              "      <th>tfrien</th>\n",
              "      <th>listcount</th>\n",
              "    </tr>\n",
              "  </thead>\n",
              "  <tbody>\n",
              "    <tr>\n",
              "      <th>0</th>\n",
              "      <td>409607333606871040</td>\n",
              "      <td>1386492973</td>\n",
              "      <td>owycucozef</td>\n",
              "      <td>\"Аллоды Онлайн\" пошли в печать. Пора собирать ...</td>\n",
              "      <td>1</td>\n",
              "      <td>0</td>\n",
              "      <td>0</td>\n",
              "      <td>0</td>\n",
              "      <td>175</td>\n",
              "      <td>102</td>\n",
              "      <td>102</td>\n",
              "      <td>0</td>\n",
              "    </tr>\n",
              "    <tr>\n",
              "      <th>1</th>\n",
              "      <td>409629751855554561</td>\n",
              "      <td>1386498318</td>\n",
              "      <td>Lenoocs</td>\n",
              "      <td>@nemnogo_ulibki ну бывает и такое)) сериал при...</td>\n",
              "      <td>1</td>\n",
              "      <td>0</td>\n",
              "      <td>0</td>\n",
              "      <td>0</td>\n",
              "      <td>2019</td>\n",
              "      <td>61</td>\n",
              "      <td>35</td>\n",
              "      <td>0</td>\n",
              "    </tr>\n",
              "    <tr>\n",
              "      <th>2</th>\n",
              "      <td>410342310480592896</td>\n",
              "      <td>1386668205</td>\n",
              "      <td>Nancy_Muser_</td>\n",
              "      <td>@from___6277 аахаха мы тоже всегда плохо по ма...</td>\n",
              "      <td>1</td>\n",
              "      <td>0</td>\n",
              "      <td>0</td>\n",
              "      <td>0</td>\n",
              "      <td>6088</td>\n",
              "      <td>158</td>\n",
              "      <td>281</td>\n",
              "      <td>0</td>\n",
              "    </tr>\n",
              "    <tr>\n",
              "      <th>3</th>\n",
              "      <td>411175204845400064</td>\n",
              "      <td>1386866782</td>\n",
              "      <td>kolesnikate</td>\n",
              "      <td>как же я хочу увидеть тебя,соскучилась так :(</td>\n",
              "      <td>0</td>\n",
              "      <td>0</td>\n",
              "      <td>0</td>\n",
              "      <td>0</td>\n",
              "      <td>3711</td>\n",
              "      <td>49</td>\n",
              "      <td>23</td>\n",
              "      <td>1</td>\n",
              "    </tr>\n",
              "    <tr>\n",
              "      <th>4</th>\n",
              "      <td>409068879571595264</td>\n",
              "      <td>1386364595</td>\n",
              "      <td>Natalia_1405</td>\n",
              "      <td>Тем временем у Фани в голове: сессия скоро... ...</td>\n",
              "      <td>1</td>\n",
              "      <td>0</td>\n",
              "      <td>0</td>\n",
              "      <td>0</td>\n",
              "      <td>3384</td>\n",
              "      <td>48</td>\n",
              "      <td>25</td>\n",
              "      <td>0</td>\n",
              "    </tr>\n",
              "    <tr>\n",
              "      <th>...</th>\n",
              "      <td>...</td>\n",
              "      <td>...</td>\n",
              "      <td>...</td>\n",
              "      <td>...</td>\n",
              "      <td>...</td>\n",
              "      <td>...</td>\n",
              "      <td>...</td>\n",
              "      <td>...</td>\n",
              "      <td>...</td>\n",
              "      <td>...</td>\n",
              "      <td>...</td>\n",
              "      <td>...</td>\n",
              "    </tr>\n",
              "    <tr>\n",
              "      <th>226827</th>\n",
              "      <td>408919973097402368</td>\n",
              "      <td>1386329093</td>\n",
              "      <td>Lerka04</td>\n",
              "      <td>@robinwitaker нет.\\nКак же твои девочки,без та...</td>\n",
              "      <td>1</td>\n",
              "      <td>0</td>\n",
              "      <td>0</td>\n",
              "      <td>0</td>\n",
              "      <td>194</td>\n",
              "      <td>7</td>\n",
              "      <td>11</td>\n",
              "      <td>0</td>\n",
              "    </tr>\n",
              "    <tr>\n",
              "      <th>226828</th>\n",
              "      <td>411367330807963648</td>\n",
              "      <td>1386912589</td>\n",
              "      <td>alise_abyss</td>\n",
              "      <td>Я еще морально не готова Т_Т((((( #прощайстепуха</td>\n",
              "      <td>0</td>\n",
              "      <td>0</td>\n",
              "      <td>0</td>\n",
              "      <td>0</td>\n",
              "      <td>295</td>\n",
              "      <td>46</td>\n",
              "      <td>29</td>\n",
              "      <td>0</td>\n",
              "    </tr>\n",
              "    <tr>\n",
              "      <th>226829</th>\n",
              "      <td>409618198565490689</td>\n",
              "      <td>1386495563</td>\n",
              "      <td>Corean_11</td>\n",
              "      <td>Япошки жжут :-D  \"@4pdaru: #Honda представила ...</td>\n",
              "      <td>1</td>\n",
              "      <td>0</td>\n",
              "      <td>0</td>\n",
              "      <td>0</td>\n",
              "      <td>283</td>\n",
              "      <td>18</td>\n",
              "      <td>59</td>\n",
              "      <td>1</td>\n",
              "    </tr>\n",
              "    <tr>\n",
              "      <th>226830</th>\n",
              "      <td>409357563097272320</td>\n",
              "      <td>1386433423</td>\n",
              "      <td>kyzmi47</td>\n",
              "      <td>@DizzyShake но ты отказалась увидеться((( это ...</td>\n",
              "      <td>0</td>\n",
              "      <td>0</td>\n",
              "      <td>0</td>\n",
              "      <td>0</td>\n",
              "      <td>2281</td>\n",
              "      <td>61</td>\n",
              "      <td>100</td>\n",
              "      <td>0</td>\n",
              "    </tr>\n",
              "    <tr>\n",
              "      <th>226831</th>\n",
              "      <td>416806218640814080</td>\n",
              "      <td>1388209321</td>\n",
              "      <td>Two_Mart</td>\n",
              "      <td>@Elen_Racoon @KOT_IDIOT_XX СУКАЛОЛ.\\nЯ СЕГОДНЯ...</td>\n",
              "      <td>0</td>\n",
              "      <td>0</td>\n",
              "      <td>0</td>\n",
              "      <td>0</td>\n",
              "      <td>9899</td>\n",
              "      <td>683</td>\n",
              "      <td>590</td>\n",
              "      <td>3</td>\n",
              "    </tr>\n",
              "  </tbody>\n",
              "</table>\n",
              "<p>226832 rows × 12 columns</p>\n",
              "</div>"
            ],
            "text/plain": [
              "                        id       tdate         tname  ... tfol  tfrien  listcount\n",
              "0       409607333606871040  1386492973    owycucozef  ...  102     102          0\n",
              "1       409629751855554561  1386498318       Lenoocs  ...   61      35          0\n",
              "2       410342310480592896  1386668205  Nancy_Muser_  ...  158     281          0\n",
              "3       411175204845400064  1386866782   kolesnikate  ...   49      23          1\n",
              "4       409068879571595264  1386364595  Natalia_1405  ...   48      25          0\n",
              "...                    ...         ...           ...  ...  ...     ...        ...\n",
              "226827  408919973097402368  1386329093       Lerka04  ...    7      11          0\n",
              "226828  411367330807963648  1386912589   alise_abyss  ...   46      29          0\n",
              "226829  409618198565490689  1386495563     Corean_11  ...   18      59          1\n",
              "226830  409357563097272320  1386433423       kyzmi47  ...   61     100          0\n",
              "226831  416806218640814080  1388209321      Two_Mart  ...  683     590          3\n",
              "\n",
              "[226832 rows x 12 columns]"
            ]
          },
          "metadata": {
            "tags": []
          },
          "execution_count": 95
        }
      ]
    },
    {
      "cell_type": "code",
      "metadata": {
        "id": "bnkUwY8rLofX"
      },
      "source": [
        "#препроцессим\n",
        "data['clean_text'] = data['ttext'].apply(lambda x: preproc_text(x))\n",
        "data['len_text'] = data['clean_text'].apply(lambda x: len(x))\n",
        "max_text_len = data.len_text.max()"
      ],
      "execution_count": null,
      "outputs": []
    },
    {
      "cell_type": "code",
      "metadata": {
        "id": "qIctUUTPjbzU"
      },
      "source": [
        "tags = []\n",
        "for l, t in zip(data['len_text'], data['ttype']):\n",
        "  tag = [t] * l\n",
        "  tags.append(tag)"
      ],
      "execution_count": null,
      "outputs": []
    },
    {
      "cell_type": "code",
      "metadata": {
        "id": "K7sZbiRc5wPw"
      },
      "source": [
        "# разделим выборку на тест\\трейн\n",
        "text_train, text_test, tag_train, tag_test = train_test_split(list(data['clean_text']), \n",
        "                                                                  tags, \n",
        "                                                                  test_size=0.2, \n",
        "                                                                  random_state=1)"
      ],
      "execution_count": null,
      "outputs": []
    },
    {
      "cell_type": "code",
      "metadata": {
        "id": "Fuv1bitiAJ55"
      },
      "source": [
        "# создадим словарь слов на уровне трейна\n",
        "vocab = Counter()\n",
        "for sent in text_train:\n",
        "    sent = [word for word in sent]\n",
        "    vocab.update(sent)"
      ],
      "execution_count": null,
      "outputs": []
    },
    {
      "cell_type": "code",
      "metadata": {
        "colab": {
          "base_uri": "https://localhost:8080/"
        },
        "id": "_gsksZkFA2aF",
        "outputId": "7dc6418c-c007-4718-e49f-ad104db3380d"
      },
      "source": [
        "# выкинем редкие слова\n",
        "filtered_vocab = {word for word in vocab if vocab[word] > 50}\n",
        "len(filtered_vocab)"
      ],
      "execution_count": null,
      "outputs": [
        {
          "output_type": "execute_result",
          "data": {
            "text/plain": [
              "3320"
            ]
          },
          "metadata": {
            "tags": []
          },
          "execution_count": 100
        }
      ]
    },
    {
      "cell_type": "code",
      "metadata": {
        "id": "7awid1I9CeZH"
      },
      "source": [
        "# присвоим id каждому слову в словаре\n",
        "word2id = {word:i + 2 for i,word in enumerate(filtered_vocab)}\n",
        "word2id['pad'] = 0\n",
        "word2id['unk'] = 1  \n",
        "\n",
        "id2word = {i:word for word, i in word2id.items()}"
      ],
      "execution_count": null,
      "outputs": []
    },
    {
      "cell_type": "code",
      "metadata": {
        "colab": {
          "base_uri": "https://localhost:8080/"
        },
        "id": "Ifm3NMJ-gWtE",
        "outputId": "fc719f2d-58e2-4cd3-d570-0565e9e0d5fc"
      },
      "source": [
        "len(id2word)"
      ],
      "execution_count": null,
      "outputs": [
        {
          "output_type": "execute_result",
          "data": {
            "text/plain": [
              "3322"
            ]
          },
          "metadata": {
            "tags": []
          },
          "execution_count": 102
        }
      ]
    },
    {
      "cell_type": "code",
      "metadata": {
        "id": "36zTgcojgZPi"
      },
      "source": [
        "tag2id = {'pad':0, 'unk':1}  \n",
        "for taggs in tag_train:\n",
        "    for tag in taggs:\n",
        "      if tag not in tag2id:\n",
        "        tag2id[tag] = len(tag2id)\n",
        "\n",
        "id2tag = {i:tag for tag, i in tag2id.items()}"
      ],
      "execution_count": null,
      "outputs": []
    },
    {
      "cell_type": "code",
      "metadata": {
        "colab": {
          "base_uri": "https://localhost:8080/"
        },
        "id": "k091p25ag7fO",
        "outputId": "cbf8a5d7-9b9a-4adf-dfde-fe25e23b71a2"
      },
      "source": [
        "id2tag"
      ],
      "execution_count": null,
      "outputs": [
        {
          "output_type": "execute_result",
          "data": {
            "text/plain": [
              "{0: 'pad', 1: 'unk', 2: 1, 3: 0}"
            ]
          },
          "metadata": {
            "tags": []
          },
          "execution_count": 104
        }
      ]
    },
    {
      "cell_type": "code",
      "metadata": {
        "id": "X1h7KKr2FLCk"
      },
      "source": [
        "def data2ints(data, smth2id):\n",
        "  int_data = []\n",
        "  for seq in data:\n",
        "      int_seq = []\n",
        "      for i in seq:\n",
        "        int_seq.append(smth2id.get(i, 1))\n",
        "  \n",
        "      int_data.append(int_seq)\n",
        "  return int_data\n"
      ],
      "execution_count": null,
      "outputs": []
    },
    {
      "cell_type": "code",
      "metadata": {
        "colab": {
          "base_uri": "https://localhost:8080/"
        },
        "id": "boOFqtbfOH91",
        "outputId": "c6f0496f-18a6-47a8-a4dd-bba6391123c1"
      },
      "source": [
        "X_train_ids, X_test_ids = data2ints(text_train, word2id), data2ints(text_test, word2id)\n",
        "y_train_ids, y_test_ids = data2ints(tag_train, tag2id), data2ints(tag_test, tag2id)\n",
        "\n",
        "\n",
        "print(X_train_ids[0])\n",
        "print(y_train_ids[0])\n",
        "\n",
        "print(X_test_ids[0])\n",
        "print(y_test_ids[0])"
      ],
      "execution_count": null,
      "outputs": [
        {
          "output_type": "stream",
          "text": [
            "[1449, 1, 1873, 2946, 1, 272, 1, 1, 1526, 1, 176, 2445]\n",
            "[2, 2, 2, 2, 2, 2, 2, 2, 2, 2, 2, 2]\n",
            "[1, 2775, 218, 966, 618, 1743]\n",
            "[3, 3, 3, 3, 3, 3]\n"
          ],
          "name": "stdout"
        }
      ]
    },
    {
      "cell_type": "code",
      "metadata": {
        "id": "aseR13PIdXB4"
      },
      "source": [
        "X_train, X_test = pad_sequences(X_train_ids, maxlen=max_text_len, padding='post'), pad_sequences(X_test_ids, maxlen=max_text_len, padding='post')\n",
        "y_train, y_test = pad_sequences(y_train_ids, maxlen=max_text_len, padding='post'), pad_sequences(y_test_ids, maxlen=max_text_len, padding='post')"
      ],
      "execution_count": null,
      "outputs": []
    },
    {
      "cell_type": "code",
      "metadata": {
        "colab": {
          "base_uri": "https://localhost:8080/"
        },
        "id": "NWNKDVM8PRna",
        "outputId": "541282bc-afb0-44d5-9663-8bb1f21ed698"
      },
      "source": [
        "print(X_train.shape, y_train.shape, X_test.shape, y_test.shape)"
      ],
      "execution_count": null,
      "outputs": [
        {
          "output_type": "stream",
          "text": [
            "(181465, 130) (181465, 130) (45367, 130) (45367, 130)\n"
          ],
          "name": "stdout"
        }
      ]
    },
    {
      "cell_type": "code",
      "metadata": {
        "colab": {
          "base_uri": "https://localhost:8080/"
        },
        "id": "_c_IdlYHl7fY",
        "outputId": "fa26a441-7079-45a6-981e-8d5d04b771b9"
      },
      "source": [
        "# посмотрим что там по тегам\n",
        "print(text_train[5])\n",
        "print(X_train_ids[5][0])\n",
        "print(X_train[5])\n",
        "print([id2word[i] for i in X_train[5]][:50])\n"
      ],
      "execution_count": null,
      "outputs": [
        {
          "output_type": "stream",
          "text": [
            "['это', 'хороший', 'предпрофильный', 'подготовка', ')', 'денисов', 'заборовский', 'обожать', 'lt', ';', '3']\n",
            "2704\n",
            "[2704  989    1 1534 1714    1    1  405 2187 2692 1897    0    0    0\n",
            "    0    0    0    0    0    0    0    0    0    0    0    0    0    0\n",
            "    0    0    0    0    0    0    0    0    0    0    0    0    0    0\n",
            "    0    0    0    0    0    0    0    0    0    0    0    0    0    0\n",
            "    0    0    0    0    0    0    0    0    0    0    0    0    0    0\n",
            "    0    0    0    0    0    0    0    0    0    0    0    0    0    0\n",
            "    0    0    0    0    0    0    0    0    0    0    0    0    0    0\n",
            "    0    0    0    0    0    0    0    0    0    0    0    0    0    0\n",
            "    0    0    0    0    0    0    0    0    0    0    0    0    0    0\n",
            "    0    0    0    0]\n",
            "['это', 'хороший', 'unk', 'подготовка', ')', 'unk', 'unk', 'обожать', 'lt', ';', '3', 'pad', 'pad', 'pad', 'pad', 'pad', 'pad', 'pad', 'pad', 'pad', 'pad', 'pad', 'pad', 'pad', 'pad', 'pad', 'pad', 'pad', 'pad', 'pad', 'pad', 'pad', 'pad', 'pad', 'pad', 'pad', 'pad', 'pad', 'pad', 'pad', 'pad', 'pad', 'pad', 'pad', 'pad', 'pad', 'pad', 'pad', 'pad', 'pad']\n"
          ],
          "name": "stdout"
        }
      ]
    },
    {
      "cell_type": "code",
      "metadata": {
        "id": "_9QslOKNnQtH"
      },
      "source": [
        "y_train, y_test = to_categorical(y_train, num_classes=len(tag2id)), to_categorical(y_test, num_classes=len(tag2id))"
      ],
      "execution_count": null,
      "outputs": []
    },
    {
      "cell_type": "markdown",
      "metadata": {
        "id": "AvUvyyZpD8QS"
      },
      "source": [
        "### Модель с внутренними эмбеддингами"
      ]
    },
    {
      "cell_type": "code",
      "metadata": {
        "colab": {
          "base_uri": "https://localhost:8080/"
        },
        "id": "_VaYeKg2chhj",
        "outputId": "1580f9af-26f2-45ca-ff28-89a0019094e7"
      },
      "source": [
        "from tensorflow.keras import metrics\n",
        "word_in = Input(shape=(max_text_len))\n",
        "emb_word = Embedding(input_dim=len(word2id), output_dim=300, mask_zero=True)(word_in)\n",
        "lstm = Bidirectional(LSTM(units=128, return_sequences=True, recurrent_dropout=0.2))(emb_word)\n",
        "out = TimeDistributed(Dense(len(tag2id), activation=\"softmax\"))(lstm)\n",
        "\n",
        "model = Model(inputs= word_in, outputs=out)\n",
        "optimizer = optimizers.Adam(learning_rate=0.001)\n",
        "model.compile(optimizer=optimizer, loss=\"categorical_crossentropy\", metrics = [metrics.Precision(), metrics.Recall(), metrics.Accuracy()])\n",
        "model.summary()"
      ],
      "execution_count": null,
      "outputs": [
        {
          "output_type": "stream",
          "text": [
            "Model: \"model_4\"\n",
            "_________________________________________________________________\n",
            "Layer (type)                 Output Shape              Param #   \n",
            "=================================================================\n",
            "input_5 (InputLayer)         [(None, 130)]             0         \n",
            "_________________________________________________________________\n",
            "embedding_10 (Embedding)     (None, 130, 300)          996900    \n",
            "_________________________________________________________________\n",
            "bidirectional_4 (Bidirection (None, 130, 256)          439296    \n",
            "_________________________________________________________________\n",
            "time_distributed_4 (TimeDist (None, 130, 4)            1028      \n",
            "=================================================================\n",
            "Total params: 1,437,224\n",
            "Trainable params: 1,437,224\n",
            "Non-trainable params: 0\n",
            "_________________________________________________________________\n"
          ],
          "name": "stdout"
        }
      ]
    },
    {
      "cell_type": "code",
      "metadata": {
        "id": "iLeeZYLNdNtp"
      },
      "source": [
        "from keras.utils.vis_utils import plot_model\n",
        "plot_model(model, show_shapes=True, show_layer_names=False)"
      ],
      "execution_count": null,
      "outputs": []
    },
    {
      "cell_type": "code",
      "metadata": {
        "colab": {
          "base_uri": "https://localhost:8080/"
        },
        "id": "spnn4W4eKw6d",
        "outputId": "1f232426-b49a-4ec4-92d2-d8a6231cf879"
      },
      "source": [
        "X_train.shape"
      ],
      "execution_count": null,
      "outputs": [
        {
          "output_type": "execute_result",
          "data": {
            "text/plain": [
              "(181465, 130)"
            ]
          },
          "metadata": {
            "tags": []
          },
          "execution_count": 187
        }
      ]
    },
    {
      "cell_type": "code",
      "metadata": {
        "colab": {
          "base_uri": "https://localhost:8080/"
        },
        "id": "m-6Pnfcd5O1h",
        "outputId": "13c3b35b-8706-4049-b28f-04b846b5546b"
      },
      "source": [
        "model.fit(X_train, y_train, validation_data=(X_test, y_test), batch_size=128, epochs=5, verbose=1)"
      ],
      "execution_count": null,
      "outputs": [
        {
          "output_type": "stream",
          "text": [
            "Epoch 1/5\n",
            "1418/1418 [==============================] - 3203s 2s/step - loss: 0.0114 - precision_4: 0.9688 - recall_4: 0.9257 - accuracy: 0.0069 - val_loss: 0.0013 - val_precision_4: 0.9940 - val_recall_4: 0.9939 - val_accuracy: 0.0216\n",
            "Epoch 2/5\n",
            "1418/1418 [==============================] - 3208s 2s/step - loss: 8.0907e-04 - precision_4: 0.9965 - recall_4: 0.9965 - accuracy: 0.0282 - val_loss: 0.0013 - val_precision_4: 0.9947 - val_recall_4: 0.9947 - val_accuracy: 0.0322\n",
            "Epoch 3/5\n",
            "1418/1418 [==============================] - 3216s 2s/step - loss: 6.2201e-04 - precision_4: 0.9975 - recall_4: 0.9975 - accuracy: 0.0355 - val_loss: 0.0014 - val_precision_4: 0.9949 - val_recall_4: 0.9949 - val_accuracy: 0.0459\n",
            "Epoch 4/5\n",
            "1418/1418 [==============================] - 3354s 2s/step - loss: 4.2654e-04 - precision_4: 0.9984 - recall_4: 0.9984 - accuracy: 0.0491 - val_loss: 0.0016 - val_precision_4: 0.9943 - val_recall_4: 0.9942 - val_accuracy: 0.0496\n",
            "Epoch 5/5\n",
            "1418/1418 [==============================] - 3371s 2s/step - loss: 2.8457e-04 - precision_4: 0.9989 - recall_4: 0.9989 - accuracy: 0.0866 - val_loss: 0.0015 - val_precision_4: 0.9951 - val_recall_4: 0.9951 - val_accuracy: 0.0889\n"
          ],
          "name": "stdout"
        },
        {
          "output_type": "execute_result",
          "data": {
            "text/plain": [
              "<tensorflow.python.keras.callbacks.History at 0x7fca57239b70>"
            ]
          },
          "metadata": {
            "tags": []
          },
          "execution_count": 188
        }
      ]
    },
    {
      "cell_type": "markdown",
      "metadata": {
        "id": "fwWW46AdB7KX"
      },
      "source": [
        "Делала так мало эпох, потому что каждая эпоха заняла грузилась по 50 минут\n"
      ]
    },
    {
      "cell_type": "markdown",
      "metadata": {
        "id": "Uc6rBD0mEXUS"
      },
      "source": [
        "### Модель с подгружеными эмбеддингами для русского языка"
      ]
    },
    {
      "cell_type": "code",
      "metadata": {
        "colab": {
          "base_uri": "https://localhost:8080/"
        },
        "id": "vn-UoNiI2G8-",
        "outputId": "8af315c3-b998-496d-cc86-8716d38626d0"
      },
      "source": [
        "# скачаем готовые эмбеддинги для русского с RusVectores\n",
        "!wget -c https://rusvectores.org/static/models/rusvectores4/fasttext/araneum_none_fasttextcbow_300_5_2018.tgz"
      ],
      "execution_count": null,
      "outputs": [
        {
          "output_type": "stream",
          "text": [
            "--2021-02-11 16:17:54--  https://rusvectores.org/static/models/rusvectores4/fasttext/araneum_none_fasttextcbow_300_5_2018.tgz\n",
            "Resolving rusvectores.org (rusvectores.org)... 116.203.104.23\n",
            "Connecting to rusvectores.org (rusvectores.org)|116.203.104.23|:443... connected.\n",
            "HTTP request sent, awaiting response... 200 OK\n",
            "Length: 2691248108 (2.5G) [application/x-gzip]\n",
            "Saving to: ‘araneum_none_fasttextcbow_300_5_2018.tgz’\n",
            "\n",
            "araneum_none_fastte 100%[===================>]   2.51G  28.7MB/s    in 93s     \n",
            "\n",
            "2021-02-11 16:19:28 (27.6 MB/s) - ‘araneum_none_fasttextcbow_300_5_2018.tgz’ saved [2691248108/2691248108]\n",
            "\n"
          ],
          "name": "stdout"
        }
      ]
    },
    {
      "cell_type": "code",
      "metadata": {
        "id": "lMqdXq-x2J4y"
      },
      "source": [
        "!tar -xzf araneum_none_fasttextcbow_300_5_2018.tgz"
      ],
      "execution_count": null,
      "outputs": []
    },
    {
      "cell_type": "code",
      "metadata": {
        "id": "VATFsChJ2PHA"
      },
      "source": [
        "! pip install --upgrade gensim"
      ],
      "execution_count": null,
      "outputs": []
    },
    {
      "cell_type": "code",
      "metadata": {
        "id": "YZ9LJ8cQ2Lfj"
      },
      "source": [
        "from gensim.models import Word2Vec, KeyedVectors\n",
        "model_file = 'araneum_none_fasttextcbow_300_5_2018.model'\n",
        "model = KeyedVectors.load(model_file)"
      ],
      "execution_count": null,
      "outputs": []
    },
    {
      "cell_type": "code",
      "metadata": {
        "colab": {
          "base_uri": "https://localhost:8080/"
        },
        "id": "iPpr6RFW2Tcr",
        "outputId": "8ebf316b-1e39-4839-cab2-70ed3ae2afc4"
      },
      "source": [
        "weights = []\n",
        "for k, v in id2word.items():\n",
        "  # print(k, v)\n",
        "    if v in model:\n",
        "        weights.append(model[v])\n",
        "\n",
        "weights = np.array(weights)\n",
        "weights"
      ],
      "execution_count": null,
      "outputs": [
        {
          "output_type": "execute_result",
          "data": {
            "text/plain": [
              "array([[-3.16109392e-04, -2.35537402e-04, -1.16418596e-04, ...,\n",
              "        -3.34479933e-04, -8.25069437e-05,  1.67314836e-04],\n",
              "       [-8.51661637e-02, -3.73549834e-02,  1.71685368e-01, ...,\n",
              "         4.43141721e-02,  9.02225673e-02, -2.37400942e-02],\n",
              "       [-1.48450211e-02, -1.17211230e-02,  2.83239614e-02, ...,\n",
              "         8.52834061e-02,  5.33331260e-02, -8.95986110e-02],\n",
              "       ...,\n",
              "       [-7.36962110e-02, -2.85307616e-02,  3.51197814e-04, ...,\n",
              "         7.92091414e-02, -7.44513273e-02,  1.31614720e-02],\n",
              "       [ 2.59977654e-02, -6.86561093e-02,  4.13467064e-02, ...,\n",
              "         6.94484785e-02,  6.46858767e-04, -1.27136454e-01],\n",
              "       [-6.12223707e-02, -7.02598765e-02,  1.70590598e-02, ...,\n",
              "         5.85961994e-03, -5.62684089e-02, -2.78596189e-02]], dtype=float32)"
            ]
          },
          "metadata": {
            "tags": []
          },
          "execution_count": 193
        }
      ]
    },
    {
      "cell_type": "code",
      "metadata": {
        "id": "B4mypHjM2XyZ"
      },
      "source": [
        "X_train, X_test = pad_sequences(X_train_ids, maxlen=max_text_len, padding='post'), pad_sequences(X_test_ids, maxlen=max_text_len, padding='post')\n",
        "y_train, y_test = pad_sequences(y_train_ids, maxlen=max_text_len, padding='post'), pad_sequences(y_test_ids, maxlen=max_text_len, padding='post')"
      ],
      "execution_count": null,
      "outputs": []
    },
    {
      "cell_type": "code",
      "metadata": {
        "colab": {
          "base_uri": "https://localhost:8080/"
        },
        "id": "F1L4rkK12Zmn",
        "outputId": "e6bd7bd6-34ff-41c4-cf63-c4581542f54f"
      },
      "source": [
        "print(X_train.shape, y_train.shape, X_test.shape, y_test.shape)"
      ],
      "execution_count": null,
      "outputs": [
        {
          "output_type": "stream",
          "text": [
            "(181465, 130) (181465, 130) (45367, 130) (45367, 130)\n"
          ],
          "name": "stdout"
        }
      ]
    },
    {
      "cell_type": "code",
      "metadata": {
        "id": "yEXBPomI2cxY"
      },
      "source": [
        "y_train, y_test = to_categorical(y_train, num_classes=len(tag2id)), to_categorical(y_test, num_classes=len(tag2id))"
      ],
      "execution_count": null,
      "outputs": []
    },
    {
      "cell_type": "code",
      "metadata": {
        "colab": {
          "base_uri": "https://localhost:8080/"
        },
        "id": "x2TAqERefxKg",
        "outputId": "21ac21bc-3a42-4082-b365-ee675cd5904d"
      },
      "source": [
        "# подгружаются обученные эмбеддинги для русского языка\n",
        "word_in = Input(shape=(max_text_len))\n",
        "emb_word = Embedding(input_dim=len(word2id), output_dim=weights.shape[1], \n",
        "                          trainable=False, weights=[weights])(word_in)\n",
        "lstm = Bidirectional(LSTM(units=128, return_sequences=True,recurrent_dropout=0.2))(emb_word)\n",
        "out = TimeDistributed(Dense(len(tag2id), activation=\"softmax\"))(lstm)\n",
        "\n",
        "\n",
        "model2 = Model(inputs= word_in, outputs=out)\n",
        "optimizer = optimizers.Adam(learning_rate=0.001)\n",
        "model2.compile(optimizer=optimizer, loss=\"categorical_crossentropy\", metrics = [metrics.Precision(), metrics.Recall(), metrics.Accuracy()])\n",
        "model2.summary()"
      ],
      "execution_count": null,
      "outputs": [
        {
          "output_type": "stream",
          "text": [
            "Model: \"model_5\"\n",
            "_________________________________________________________________\n",
            "Layer (type)                 Output Shape              Param #   \n",
            "=================================================================\n",
            "input_6 (InputLayer)         [(None, 130)]             0         \n",
            "_________________________________________________________________\n",
            "embedding_11 (Embedding)     (None, 130, 300)          996900    \n",
            "_________________________________________________________________\n",
            "bidirectional_5 (Bidirection (None, 130, 256)          439296    \n",
            "_________________________________________________________________\n",
            "time_distributed_5 (TimeDist (None, 130, 4)            1028      \n",
            "=================================================================\n",
            "Total params: 1,437,224\n",
            "Trainable params: 440,324\n",
            "Non-trainable params: 996,900\n",
            "_________________________________________________________________\n"
          ],
          "name": "stdout"
        }
      ]
    },
    {
      "cell_type": "code",
      "metadata": {
        "colab": {
          "base_uri": "https://localhost:8080/"
        },
        "id": "tK7ZIP3MfzQ-",
        "outputId": "aca7bd79-059c-4f0a-b2a0-1b311915a40e"
      },
      "source": [
        "plot_model(model2, show_shapes=True, show_layer_names=False)"
      ],
      "execution_count": null,
      "outputs": [
        {
          "output_type": "execute_result",
          "data": {
            "image/png": "[encoded data removed]",
            "text/plain": [
              "<IPython.core.display.Image object>"
            ]
          },
          "metadata": {
            "tags": []
          },
          "execution_count": 199
        }
      ]
    },
    {
      "cell_type": "code",
      "metadata": {
        "colab": {
          "base_uri": "https://localhost:8080/"
        },
        "id": "azH9rQQegPwk",
        "outputId": "2c79b3df-c884-457a-fd3e-86bdbc18fdfb"
      },
      "source": [
        "model2.fit(X_train, y_train, validation_data=(X_test, y_test), batch_size=128, epochs=5, verbose=1)"
      ],
      "execution_count": null,
      "outputs": [
        {
          "output_type": "stream",
          "text": [
            "Epoch 1/5\n",
            "1418/1418 [==============================] - 2610s 2s/step - loss: 0.0869 - precision_5: 0.9844 - recall_5: 0.9436 - accuracy: 8.6372e-04 - val_loss: 0.0082 - val_precision_5: 0.9971 - val_recall_5: 0.9969 - val_accuracy: 0.0636\n",
            "Epoch 2/5\n",
            "1418/1418 [==============================] - 2602s 2s/step - loss: 0.0076 - precision_5: 0.9972 - recall_5: 0.9971 - accuracy: 0.1312 - val_loss: 0.0053 - val_precision_5: 0.9980 - val_recall_5: 0.9979 - val_accuracy: 0.1959\n",
            "Epoch 3/5\n",
            "1418/1418 [==============================] - 2592s 2s/step - loss: 0.0051 - precision_5: 0.9980 - recall_5: 0.9980 - accuracy: 0.1676 - val_loss: 0.0045 - val_precision_5: 0.9983 - val_recall_5: 0.9982 - val_accuracy: 0.0262\n",
            "Epoch 4/5\n",
            "1418/1418 [==============================] - 2590s 2s/step - loss: 0.0041 - precision_5: 0.9984 - recall_5: 0.9984 - accuracy: 0.0643 - val_loss: 0.0036 - val_precision_5: 0.9986 - val_recall_5: 0.9986 - val_accuracy: 0.2106\n",
            "Epoch 5/5\n",
            "1418/1418 [==============================] - 2575s 2s/step - loss: 0.0034 - precision_5: 0.9987 - recall_5: 0.9987 - accuracy: 0.1714 - val_loss: 0.0031 - val_precision_5: 0.9988 - val_recall_5: 0.9988 - val_accuracy: 0.2138\n"
          ],
          "name": "stdout"
        },
        {
          "output_type": "execute_result",
          "data": {
            "text/plain": [
              "<tensorflow.python.keras.callbacks.History at 0x7fca373229b0>"
            ]
          },
          "metadata": {
            "tags": []
          },
          "execution_count": 200
        }
      ]
    },
    {
      "cell_type": "code",
      "metadata": {
        "id": "Szhh466kDDD8"
      },
      "source": [
        ""
      ],
      "execution_count": null,
      "outputs": []
    },
    {
      "cell_type": "markdown",
      "metadata": {
        "id": "-1EGgoKiDSQE"
      },
      "source": [
        "Accaracy все еще очень мала, но когда я запускала модель заданными метриками только `metrics = ['acc']` начиная со второй-третей эпохи аккураси была такой (к сожалению скрина 3-й эпохи не соранилось, но это я честно говорю и не вру! ![Безымянный.png](data:image/png;base64,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)"
      ]
    },
    {
      "cell_type": "markdown",
      "metadata": {
        "id": "65GLcgxgED_c"
      },
      "source": [
        "Так что мне кажется возьможно это как то связано с метриками, но я не совсем понимаю как\n"
      ]
    },
    {
      "cell_type": "markdown",
      "metadata": {
        "id": "TY7QsQRFgpQG"
      },
      "source": [
        "### Модель с обучающимися эмбеддингами для русского языка"
      ]
    },
    {
      "cell_type": "code",
      "metadata": {
        "id": "TrHsxe-f2ftF"
      },
      "source": [
        "# fasttext эмбеддинги обучаются на всем корпусе с нуля\n",
        "from gensim import models\n",
        "ft = models.FastText(size=100)\n",
        "ft.build_vocab(sentences=data['clean_text'][:20000]) # пока пробуем на маленьких данных\n",
        "ft.train(sentences=data['clean_text'], total_examples=len(data['clean_text']), epochs=10)"
      ],
      "execution_count": null,
      "outputs": []
    },
    {
      "cell_type": "code",
      "metadata": {
        "id": "wjlFGr6lgT57"
      },
      "source": [
        "weights_ft = []\n",
        "for k, v in id2word.items():\n",
        "    if v in ft:\n",
        "        weights_ft.append(ft.wv[v])\n",
        "\n",
        "weights_ft = np.array(weights_ft)"
      ],
      "execution_count": null,
      "outputs": []
    },
    {
      "cell_type": "code",
      "metadata": {
        "colab": {
          "base_uri": "https://localhost:8080/"
        },
        "id": "PYyok-cfuR-g",
        "outputId": "205d284d-1b1c-47b8-832c-3b03707fea70"
      },
      "source": [
        "from tensorflow.keras import metrics \n",
        "word_in = Input(shape=(max_text_len))\n",
        "emb_word = Embedding(input_dim=len(word2id), output_dim=weights_ft.shape[1], \n",
        "                          trainable=False, weights=[weights_ft])(word_in)\n",
        "lstm = Bidirectional(LSTM(units=128, return_sequences=True,recurrent_dropout=0.2))(emb_word)\n",
        "out = TimeDistributed(Dense(len(tag2id), activation=\"softmax\"))(lstm)\n",
        "\n",
        "\n",
        "model3_ = Model(inputs=word_in, outputs=out)\n",
        "optimizer = optimizers.Adam(learning_rate=0.001)\n",
        "model3_.compile(optimizer=optimizer, loss=\"categorical_crossentropy\", metrics = [metrics.Precision(), metrics.Recall(), metrics.Accuracy()])\n",
        "model3_.summary()"
      ],
      "execution_count": null,
      "outputs": [
        {
          "output_type": "stream",
          "text": [
            "Model: \"model_1\"\n",
            "_________________________________________________________________\n",
            "Layer (type)                 Output Shape              Param #   \n",
            "=================================================================\n",
            "input_3 (InputLayer)         [(None, 92)]              0         \n",
            "_________________________________________________________________\n",
            "embedding_1 (Embedding)      (None, 92, 100)           37500     \n",
            "_________________________________________________________________\n",
            "bidirectional_1 (Bidirection (None, 92, 256)           234496    \n",
            "_________________________________________________________________\n",
            "time_distributed_1 (TimeDist (None, 92, 4)             1028      \n",
            "=================================================================\n",
            "Total params: 273,024\n",
            "Trainable params: 235,524\n",
            "Non-trainable params: 37,500\n",
            "_________________________________________________________________\n"
          ],
          "name": "stdout"
        }
      ]
    },
    {
      "cell_type": "code",
      "metadata": {
        "colab": {
          "base_uri": "https://localhost:8080/"
        },
        "id": "MSebP8B0uZON",
        "outputId": "6ae5e4b6-61b3-4f46-ba41-c0882d3ee2de"
      },
      "source": [
        "model3_.fit(X_train, y_train, validation_data=(X_test, y_test), batch_size=128, epochs=5, verbose=1)"
      ],
      "execution_count": null,
      "outputs": [
        {
          "output_type": "stream",
          "text": [
            "Epoch 1/5\n",
            "125/125 [==============================] - 110s 852ms/step - loss: 0.2614 - precision_1: 0.9395 - recall_1: 0.8359 - accuracy: 0.0000e+00 - val_loss: 0.0696 - val_precision_1: 0.9715 - val_recall_1: 0.9665 - val_accuracy: 0.0000e+00\n",
            "Epoch 2/5\n",
            "125/125 [==============================] - 104s 836ms/step - loss: 0.0587 - precision_1: 0.9769 - recall_1: 0.9734 - accuracy: 0.0000e+00 - val_loss: 0.0439 - val_precision_1: 0.9819 - val_recall_1: 0.9807 - val_accuracy: 0.0000e+00\n",
            "Epoch 3/5\n",
            "125/125 [==============================] - 105s 844ms/step - loss: 0.0428 - precision_1: 0.9830 - recall_1: 0.9815 - accuracy: 0.0000e+00 - val_loss: 0.0322 - val_precision_1: 0.9878 - val_recall_1: 0.9871 - val_accuracy: 0.0000e+00\n",
            "Epoch 4/5\n",
            "125/125 [==============================] - 105s 839ms/step - loss: 0.0327 - precision_1: 0.9875 - recall_1: 0.9868 - accuracy: 0.0000e+00 - val_loss: 0.0253 - val_precision_1: 0.9907 - val_recall_1: 0.9901 - val_accuracy: 0.0000e+00\n",
            "Epoch 5/5\n",
            "125/125 [==============================] - 105s 840ms/step - loss: 0.0254 - precision_1: 0.9904 - recall_1: 0.9899 - accuracy: 0.0000e+00 - val_loss: 0.0206 - val_precision_1: 0.9925 - val_recall_1: 0.9922 - val_accuracy: 0.0000e+00\n"
          ],
          "name": "stdout"
        },
        {
          "output_type": "execute_result",
          "data": {
            "text/plain": [
              "<tensorflow.python.keras.callbacks.History at 0x7f7c4377f630>"
            ]
          },
          "metadata": {
            "tags": []
          },
          "execution_count": 51
        }
      ]
    },
    {
      "cell_type": "code",
      "metadata": {
        "colab": {
          "base_uri": "https://localhost:8080/"
        },
        "id": "nxBBds7xv2V0",
        "outputId": "f484975a-67c1-427d-b362-be09841bcdda"
      },
      "source": [
        "# попробуем поменять параметры модели и увеличить кол-во эпох обучения\n",
        "ft = models.FastText(size=100, window=5, min_count=3, workers=5, sg=1)\n",
        "ft.build_vocab(sentences=data['clean_text'][:20000])\n",
        "ft.train(sentences=data['clean_text'][:20000], total_examples=len(data['clean_text'][:20000]), epochs=15)\n",
        "\n",
        "weights_ft = []\n",
        "for k, v in id2word.items():\n",
        "    if v in ft:\n",
        "        weights_ft.append(ft.wv[v])\n",
        "\n",
        "weights_ft = np.array(weights_ft)\n",
        "\n",
        "# чтобы это запустить, в начале нужно запустить ячейку с обрезанием датасета, потому что перепутаются все tag2id word2id\n",
        "# здесь оно все тренируется на маленьком датасете, просто чтобы проверить параметры модели\n",
        "\n",
        "word_in = Input(shape=(max_text_len))\n",
        "emb_word = Embedding(input_dim=len(word2id), output_dim=weights_ft.shape[1], \n",
        "                          trainable=False, weights=[weights_ft])(word_in)\n",
        "lstm = Bidirectional(LSTM(units=128, return_sequences=True,recurrent_dropout=0.2))(emb_word)\n",
        "out = TimeDistributed(Dense(len(tag2id), activation=\"softmax\"))(lstm)\n",
        "\n",
        "\n",
        "model3_ = Model(inputs=word_in, outputs=out)\n",
        "optimizer = optimizers.Adam(learning_rate=0.001)\n",
        "model3_.compile(optimizer=optimizer, loss=\"categorical_crossentropy\", metrics = [metrics.Precision(), metrics.Recall(), metrics.Accuracy()])\n",
        "\n",
        "model3_.fit(X_train, y_train, validation_data=(X_test, y_test), batch_size=128, epochs=5, verbose=1)"
      ],
      "execution_count": null,
      "outputs": [
        {
          "output_type": "stream",
          "text": [
            "/usr/local/lib/python3.6/dist-packages/ipykernel_launcher.py:8: DeprecationWarning: Call to deprecated `__contains__` (Method will be removed in 4.0.0, use self.wv.__contains__() instead).\n",
            "  \n"
          ],
          "name": "stderr"
        },
        {
          "output_type": "stream",
          "text": [
            "Epoch 1/5\n",
            "125/125 [==============================] - 133s 1s/step - loss: 0.2071 - precision_5: 0.9498 - recall_5: 0.8647 - accuracy: 0.0000e+00 - val_loss: 0.0360 - val_precision_5: 0.9878 - val_recall_5: 0.9856 - val_accuracy: 0.0000e+00\n",
            "Epoch 2/5\n",
            "125/125 [==============================] - 140s 1s/step - loss: 0.0333 - precision_5: 0.9878 - recall_5: 0.9861 - accuracy: 0.0000e+00 - val_loss: 0.0226 - val_precision_5: 0.9921 - val_recall_5: 0.9916 - val_accuracy: 0.0000e+00\n",
            "Epoch 3/5\n",
            "125/125 [==============================] - 130s 1s/step - loss: 0.0210 - precision_5: 0.9922 - recall_5: 0.9917 - accuracy: 0.0000e+00 - val_loss: 0.0172 - val_precision_5: 0.9937 - val_recall_5: 0.9934 - val_accuracy: 0.0000e+00\n",
            "Epoch 4/5\n",
            "125/125 [==============================] - 130s 1s/step - loss: 0.0165 - precision_5: 0.9938 - recall_5: 0.9935 - accuracy: 0.0000e+00 - val_loss: 0.0145 - val_precision_5: 0.9945 - val_recall_5: 0.9943 - val_accuracy: 0.0000e+00\n",
            "Epoch 5/5\n",
            "125/125 [==============================] - 130s 1s/step - loss: 0.0132 - precision_5: 0.9951 - recall_5: 0.9950 - accuracy: 0.0000e+00 - val_loss: 0.0124 - val_precision_5: 0.9951 - val_recall_5: 0.9950 - val_accuracy: 0.0000e+00\n"
          ],
          "name": "stdout"
        },
        {
          "output_type": "execute_result",
          "data": {
            "text/plain": [
              "<tensorflow.python.keras.callbacks.History at 0x7f7c3955afd0>"
            ]
          },
          "metadata": {
            "tags": []
          },
          "execution_count": 91
        }
      ]
    },
    {
      "cell_type": "markdown",
      "metadata": {
        "id": "zzlZ9PNG0uwq"
      },
      "source": [
        "Так как будто бы стало совсем немного лучше"
      ]
    },
    {
      "cell_type": "markdown",
      "metadata": {
        "id": "IWFcCRtCvQcq"
      },
      "source": [
        "Теперь запустим модель на полном датасете (Fasttext с выбранными параметрами)"
      ]
    },
    {
      "cell_type": "code",
      "metadata": {
        "id": "q0b3Mdni3Lvn"
      },
      "source": [
        "ft = models.FastText(size=100, window=5, min_count=3, workers=5, sg=1)\n",
        "ft.build_vocab(sentences=data['clean_text'])\n",
        "ft.train(sentences=data['clean_text'], total_examples=len(data['clean_text']), epochs=20)\n",
        "\n",
        "weights_ft = []\n",
        "for k, v in id2word.items():\n",
        "    if v in ft:\n",
        "        weights_ft.append(ft.wv[v])\n",
        "\n",
        "weights_ft = np.array(weights_ft)"
      ],
      "execution_count": null,
      "outputs": []
    },
    {
      "cell_type": "code",
      "metadata": {
        "id": "dZpmFTsHvjPj"
      },
      "source": [
        "word_in = Input(shape=(max_text_len))\n",
        "emb_word = Embedding(input_dim=len(word2id), output_dim=weights_ft.shape[1], \n",
        "                          trainable=False, weights=[weights_ft])(word_in)\n",
        "lstm = Bidirectional(LSTM(units=128, return_sequences=True,recurrent_dropout=0.2))(emb_word)\n",
        "out = TimeDistributed(Dense(len(tag2id), activation=\"softmax\"))(lstm)\n",
        "\n",
        "\n",
        "model3 = Model(inputs=word_in, outputs=out)\n",
        "optimizer = optimizers.Adam(learning_rate=0.001)\n",
        "model3.compile(optimizer=optimizer, loss=\"categorical_crossentropy\", metrics = [metrics.Precision(), metrics.Recall(), metrics.Accuracy()])\n",
        "model3.summary()"
      ],
      "execution_count": null,
      "outputs": []
    },
    {
      "cell_type": "code",
      "metadata": {
        "colab": {
          "base_uri": "https://localhost:8080/",
          "height": 422
        },
        "id": "pFAuTrTYgYr-",
        "outputId": "1ba7365d-b072-49ce-f98f-6ad40b9efa67"
      },
      "source": [
        "plot_model(model3, show_shapes=True, show_layer_names=False)"
      ],
      "execution_count": null,
      "outputs": [
        {
          "output_type": "execute_result",
          "data": {
            "image/png": "[encoded data removed]",
            "text/plain": [
              "<IPython.core.display.Image object>"
            ]
          },
          "metadata": {
            "tags": []
          },
          "execution_count": 34
        }
      ]
    },
    {
      "cell_type": "code",
      "metadata": {
        "colab": {
          "base_uri": "https://localhost:8080/"
        },
        "id": "NImoa9B63gU2",
        "outputId": "1db3fcad-8ef4-4019-d0b5-5c74308b52d8"
      },
      "source": [
        "model3.fit(X_train, y_train, validation_data=(X_test, y_test), batch_size=128, epochs=5, verbose=1)"
      ],
      "execution_count": null,
      "outputs": [
        {
          "output_type": "stream",
          "text": [
            "Epoch 1/5\n",
            "1418/1418 [==============================] - 1711s 1s/step - loss: 0.0419 - precision: 0.9907 - recall: 0.9790 - accuracy: 2.0962e-08 - val_loss: 0.0045 - val_precision: 0.9982 - val_recall: 0.9982 - val_accuracy: 6.5280e-06\n",
            "Epoch 2/5\n",
            "1418/1418 [==============================] - 1707s 1s/step - loss: 0.0041 - precision: 0.9984 - recall: 0.9984 - accuracy: 0.0095 - val_loss: 0.0028 - val_precision: 0.9989 - val_recall: 0.9989 - val_accuracy: 0.0435\n",
            "Epoch 3/5\n",
            "1418/1418 [==============================] - 1708s 1s/step - loss: 0.0025 - precision: 0.9990 - recall: 0.9990 - accuracy: 0.0429 - val_loss: 0.0019 - val_precision: 0.9993 - val_recall: 0.9993 - val_accuracy: 0.1615\n",
            "Epoch 4/5\n",
            "1418/1418 [==============================] - 1710s 1s/step - loss: 0.0018 - precision: 0.9993 - recall: 0.9993 - accuracy: 0.1540 - val_loss: 0.0015 - val_precision: 0.9995 - val_recall: 0.9995 - val_accuracy: 0.1929\n",
            "Epoch 5/5\n",
            "1418/1418 [==============================] - 1712s 1s/step - loss: 0.0014 - precision: 0.9995 - recall: 0.9995 - accuracy: 0.1863 - val_loss: 0.0014 - val_precision: 0.9994 - val_recall: 0.9994 - val_accuracy: 0.2017\n"
          ],
          "name": "stdout"
        },
        {
          "output_type": "execute_result",
          "data": {
            "text/plain": [
              "<tensorflow.python.keras.callbacks.History at 0x7fdbc4cf0c18>"
            ]
          },
          "metadata": {
            "tags": []
          },
          "execution_count": 35
        }
      ]
    },
    {
      "cell_type": "code",
      "metadata": {
        "id": "M5-L7baPoCVN",
        "colab": {
          "base_uri": "https://localhost:8080/"
        },
        "outputId": "0efc7b90-830d-4b36-f200-25a36465c9d5"
      },
      "source": [
        "print('Accuracy for model_1: 0.0866')\n",
        "print('Accuracy for model_2: 0.1714' )\n",
        "print('Accuracy for model_3: 0.1863')"
      ],
      "execution_count": null,
      "outputs": [
        {
          "output_type": "stream",
          "text": [
            "Accuracy for model_1: 0.0866\n",
            "Accuracy for model_2: 0.1714\n",
            "Accuracy for model_3: 0.1863\n"
          ],
          "name": "stdout"
        }
      ]
    },
    {
      "cell_type": "markdown",
      "metadata": {
        "id": "6Qyc61tYEZlQ"
      },
      "source": [
        "И так у нас получилось, что у последней модели где эмбеддинги обучались на наших текстах, мизерная аккураси оказалась самой большой, поэтому именно эту модель мы и будем использовать дальше"
      ]
    },
    {
      "cell_type": "markdown",
      "metadata": {
        "id": "1-EAhjuDKuh-"
      },
      "source": [
        "## Модель  с 2-мя входами"
      ]
    },
    {
      "cell_type": "markdown",
      "metadata": {
        "id": "pdvp30BXnJJ8"
      },
      "source": [
        "Усложним архитектуру. У этой модели два входа, один для эмбеддингов (выберете лучшие из предыдущего пункта), над ними biLSTM по всему предложению. Другой вход сети для символьного представления слов (идея с двумя входами показана в материале 12 недели). Каждое слово на втором входе пропускается через CharCNN. По полученным векторам на уровне предложения также проходит biLSTM. выходы обеих biLSTM конкатенируются, далее линейный слой, далее выходной слой. -- 3 балла"
      ]
    },
    {
      "cell_type": "code",
      "metadata": {
        "colab": {
          "base_uri": "https://localhost:8080/"
        },
        "id": "z5gNh7c8Ksoo",
        "outputId": "3d3382af-7d59-4cab-ad41-484a296b9da3"
      },
      "source": [
        "chars = set([letter for word in filtered_vocab for letter in word])\n",
        "n_chars = len(chars)\n",
        "print(chars)"
      ],
      "execution_count": null,
      "outputs": [
        {
          "output_type": "stream",
          "text": [
            "{'ь', 'j', 'ё', 't', 'з', 'б', '*', '?', 'u', ')', '|', 'ф', 'm', 'м', '4', 'c', 'o', 'g', 'с', '0', 'н', 'л', '_', '5', '=', 'д', '(', 'r', 'q', 'a', 'ы', 'l', 'о', 'т', '/', 'э', 'х', ':', '”', 'а', '7', 'щ', 'я', 'ч', '2', 'k', 'в', 'и', 'd', 'ц', 'у', '9', '!', 'й', 'ш', '1', ';', '…', 'v', 'г', 'p', 'ж', '6', 'р', 'е', 'i', 'п', '-', '8', 's', 'к', '.', 'ю', '3'}\n"
          ],
          "name": "stdout"
        }
      ]
    },
    {
      "cell_type": "code",
      "metadata": {
        "id": "NRXc2UgrLAD0"
      },
      "source": [
        "char2id = {c: i + 2 for i, c in enumerate(chars)}\n",
        "char2id[\"pad\"] = 0\n",
        "char2id[\"unk\"] = 1\n",
        "\n",
        "id2char = {i:char for char, i in char2id.items()}"
      ],
      "execution_count": null,
      "outputs": []
    },
    {
      "cell_type": "code",
      "metadata": {
        "colab": {
          "base_uri": "https://localhost:8080/"
        },
        "id": "1oOCD9njLDhl",
        "outputId": "be6726ae-c056-4e6b-fd03-a27387be6b8e"
      },
      "source": [
        "char_max_len = max(len(x) for x in filtered_vocab)\n",
        "print(\"максимальная длина слова:\", char_max_len)"
      ],
      "execution_count": null,
      "outputs": [
        {
          "output_type": "stream",
          "text": [
            "максимальная длина слова: 11\n"
          ],
          "name": "stdout"
        }
      ]
    },
    {
      "cell_type": "code",
      "metadata": {
        "id": "O74MhYuuLIg7"
      },
      "source": [
        "def make_X_char(sentences):\n",
        "  X_char = []\n",
        "  for sentence in sentences:\n",
        "      sent_seq = []\n",
        "      for i in range(max_text_len):\n",
        "          word_seq = []\n",
        "          for j in range(char_max_len):\n",
        "              try:\n",
        "                  word_seq.append(char2id[sentence[i][j].lower()])\n",
        "              except:\n",
        "                  word_seq.append(char2id[\"pad\"])\n",
        "          sent_seq.append(word_seq)\n",
        "      X_char.append(np.array(sent_seq))\n",
        "  return np.array(X_char)"
      ],
      "execution_count": null,
      "outputs": []
    },
    {
      "cell_type": "code",
      "metadata": {
        "id": "RL9Sn1EdLLEV"
      },
      "source": [
        "X_char_train, X_char_test = make_X_char(text_train[:80000]), make_X_char(text_test[:16000])"
      ],
      "execution_count": null,
      "outputs": []
    },
    {
      "cell_type": "code",
      "metadata": {
        "id": "3j2aL4123ksg"
      },
      "source": [
        "# один вход для слов\n",
        "word_in = Input(shape=(max_text_len))\n",
        "emb_word = Embedding(input_dim=len(word2id), output_dim=weights_ft.shape[1], \n",
        "                          trainable=False, weights=[weights_ft])(word_in)\n",
        "\n",
        "# другой вход для символов\n",
        "char_in = Input(shape=(max_text_len, char_max_len))\n",
        "emb_char = TimeDistributed(Embedding(input_dim=len(char2id), output_dim=10, input_length=char_max_len))(char_in)\n",
        "\n",
        "# свертка на символах (CharRNN) применяется к каждому слову отдельно\n",
        "char_enc = TimeDistributed(Conv1D(filters=12, kernel_size=3))(emb_char)\n",
        "char_flat = TimeDistributed(Flatten())(char_enc)\n",
        "\n",
        "# LSTM проходится по всей последовательности, на каждом шаге беря эмбеддинг слова по словарю + символьный эмбеддинг слова \n",
        "x = concatenate([emb_word, char_flat])\n",
        "main_lstm = Bidirectional(LSTM(units=128, return_sequences=True,\n",
        "                               recurrent_dropout=0.2))(x)\n",
        "out = TimeDistributed(Dense(len(tag2id), activation=\"softmax\"))(main_lstm)\n",
        "\n",
        "model_ = Model(inputs=[char_in, word_in], outputs=out)\n",
        "\n",
        "from tensorflow.keras import metrics\n",
        "optimizer = optimizers.Adam(learning_rate=0.001)\n",
        "model_.compile(optimizer=optimizer, loss=\"categorical_crossentropy\", metrics=[metrics.Precision(), metrics.Recall(), metrics.Accuracy()])"
      ],
      "execution_count": null,
      "outputs": []
    },
    {
      "cell_type": "code",
      "metadata": {
        "colab": {
          "base_uri": "https://localhost:8080/"
        },
        "id": "akGA_9mCtrbk",
        "outputId": "b435b988-b61b-4ba8-b48a-e259d7f1cad3"
      },
      "source": [
        "model_.summary()"
      ],
      "execution_count": null,
      "outputs": [
        {
          "output_type": "stream",
          "text": [
            "Model: \"model_1\"\n",
            "__________________________________________________________________________________________________\n",
            "Layer (type)                    Output Shape         Param #     Connected to                     \n",
            "==================================================================================================\n",
            "input_4 (InputLayer)            [(None, 130, 33)]    0                                            \n",
            "__________________________________________________________________________________________________\n",
            "time_distributed_4 (TimeDistrib (None, 130, 33, 10)  960         input_4[0][0]                    \n",
            "__________________________________________________________________________________________________\n",
            "input_3 (InputLayer)            [(None, 130)]        0                                            \n",
            "__________________________________________________________________________________________________\n",
            "time_distributed_5 (TimeDistrib (None, 130, 31, 12)  372         time_distributed_4[0][0]         \n",
            "__________________________________________________________________________________________________\n",
            "embedding_2 (Embedding)         (None, 130, 100)     331100      input_3[0][0]                    \n",
            "__________________________________________________________________________________________________\n",
            "time_distributed_6 (TimeDistrib (None, 130, 372)     0           time_distributed_5[0][0]         \n",
            "__________________________________________________________________________________________________\n",
            "concatenate_1 (Concatenate)     (None, 130, 472)     0           embedding_2[0][0]                \n",
            "                                                                 time_distributed_6[0][0]         \n",
            "__________________________________________________________________________________________________\n",
            "bidirectional_1 (Bidirectional) (None, 130, 256)     615424      concatenate_1[0][0]              \n",
            "__________________________________________________________________________________________________\n",
            "time_distributed_7 (TimeDistrib (None, 130, 4)       1028        bidirectional_1[0][0]            \n",
            "==================================================================================================\n",
            "Total params: 948,884\n",
            "Trainable params: 617,784\n",
            "Non-trainable params: 331,100\n",
            "__________________________________________________________________________________________________\n"
          ],
          "name": "stdout"
        }
      ]
    },
    {
      "cell_type": "code",
      "metadata": {
        "colab": {
          "base_uri": "https://localhost:8080/",
          "height": 754
        },
        "id": "_hHyPqzZttkw",
        "outputId": "800d5a81-a73a-4428-d476-925c1ebaafe9"
      },
      "source": [
        "plot_model(model_, show_shapes=True, show_layer_names=False)"
      ],
      "execution_count": null,
      "outputs": [
        {
          "output_type": "execute_result",
          "data": {
            "image/png": "[encoded data removed]",
            "text/plain": [
              "<IPython.core.display.Image object>"
            ]
          },
          "metadata": {
            "tags": []
          },
          "execution_count": 45
        }
      ]
    },
    {
      "cell_type": "markdown",
      "metadata": {
        "id": "GDifYx4oFKSC"
      },
      "source": [
        "У меня переполнялась ОЗУ три раза подряд, как бы я не пыталась это фиксить, поэтому пришлось сократить выборку в два раза."
      ]
    },
    {
      "cell_type": "code",
      "metadata": {
        "id": "RsLto7relIUM"
      },
      "source": [
        "X_train = X_train[:80000]\n",
        "y_train = y_train[:80000]\n",
        "X_test = X_test[:16000]\n",
        "y_test = y_test[:16000]"
      ],
      "execution_count": null,
      "outputs": []
    },
    {
      "cell_type": "code",
      "metadata": {
        "colab": {
          "base_uri": "https://localhost:8080/"
        },
        "id": "4h91cZqgtvnm",
        "outputId": "0d376254-2c5d-441f-c5d8-a04f80a8cf73"
      },
      "source": [
        "model_.fit([X_char_train, X_train], y_train, validation_data=([X_char_test, X_test], y_test), batch_size=128, epochs=5, verbose=1)"
      ],
      "execution_count": null,
      "outputs": [
        {
          "output_type": "stream",
          "text": [
            "Epoch 1/5\n",
            "625/625 [==============================] - 1573s 3s/step - loss: 0.0016 - precision: 0.9994 - recall: 0.9994 - accuracy: 1.2019e-07 - val_loss: 0.0023 - val_precision: 0.9992 - val_recall: 0.9992 - val_accuracy: 0.0000e+00\n",
            "Epoch 2/5\n",
            "625/625 [==============================] - 1563s 3s/step - loss: 0.0011 - precision: 0.9996 - recall: 0.9996 - accuracy: 0.0262 - val_loss: 8.7649e-04 - val_precision: 0.9997 - val_recall: 0.9997 - val_accuracy: 0.1973\n",
            "Epoch 3/5\n",
            "625/625 [==============================] - 1634s 3s/step - loss: 8.4184e-04 - precision: 0.9997 - recall: 0.9997 - accuracy: 0.1468 - val_loss: 6.7765e-04 - val_precision: 0.9998 - val_recall: 0.9998 - val_accuracy: 0.2084\n",
            "Epoch 4/5\n",
            "625/625 [==============================] - 1574s 3s/step - loss: 6.9432e-04 - precision: 0.9998 - recall: 0.9998 - accuracy: 0.2079 - val_loss: 5.6935e-04 - val_precision: 0.9998 - val_recall: 0.9998 - val_accuracy: 0.2127\n",
            "Epoch 5/5\n",
            "625/625 [==============================] - 1580s 3s/step - loss: 5.8795e-04 - precision: 0.9998 - recall: 0.9998 - accuracy: 0.2112 - val_loss: 5.1643e-04 - val_precision: 0.9998 - val_recall: 0.9998 - val_accuracy: 0.2130\n"
          ],
          "name": "stdout"
        },
        {
          "output_type": "execute_result",
          "data": {
            "text/plain": [
              "<tensorflow.python.keras.callbacks.History at 0x7faa261e7e80>"
            ]
          },
          "metadata": {
            "tags": []
          },
          "execution_count": 57
        }
      ]
    },
    {
      "cell_type": "markdown",
      "metadata": {
        "id": "_IUJstURFUpv"
      },
      "source": [
        "Попробуем увеличить кол-во эпох обучения для получения лучших результатов"
      ]
    },
    {
      "cell_type": "code",
      "metadata": {
        "colab": {
          "base_uri": "https://localhost:8080/"
        },
        "id": "8h7qqgcCvd15",
        "outputId": "a065bba4-507a-4c6d-a0f1-056f59ede7f9"
      },
      "source": [
        "model_.fit([X_char_train, X_train], y_train, validation_data=([X_char_test, X_test], y_test), batch_size=128, epochs=10, verbose=1)"
      ],
      "execution_count": null,
      "outputs": [
        {
          "output_type": "stream",
          "text": [
            "Epoch 1/10\n",
            "625/625 [==============================] - 1647s 3s/step - loss: 4.5760e-04 - precision: 0.9999 - recall: 0.9999 - accuracy: 0.2125 - val_loss: 4.8187e-04 - val_precision: 0.9999 - val_recall: 0.9999 - val_accuracy: 0.2145\n",
            "Epoch 2/10\n",
            "625/625 [==============================] - 1706s 3s/step - loss: 4.3956e-04 - precision: 0.9999 - recall: 0.9999 - accuracy: 0.2119 - val_loss: 6.7555e-04 - val_precision: 0.9998 - val_recall: 0.9998 - val_accuracy: 0.2151\n",
            "Epoch 3/10\n",
            "625/625 [==============================] - 1645s 3s/step - loss: 3.0070e-04 - precision: 0.9999 - recall: 0.9999 - accuracy: 0.2131 - val_loss: 4.2409e-04 - val_precision: 0.9999 - val_recall: 0.9999 - val_accuracy: 0.2143\n",
            "Epoch 4/10\n",
            "625/625 [==============================] - 1628s 3s/step - loss: 2.7015e-04 - precision: 0.9999 - recall: 0.9999 - accuracy: 0.2157 - val_loss: 3.8435e-04 - val_precision: 0.9999 - val_recall: 0.9999 - val_accuracy: 0.2153\n",
            "Epoch 5/10\n",
            "625/625 [==============================] - 1617s 3s/step - loss: 2.0447e-04 - precision: 0.9999 - recall: 0.9999 - accuracy: 0.2159 - val_loss: 2.9735e-04 - val_precision: 0.9999 - val_recall: 0.9999 - val_accuracy: 0.2183\n",
            "Epoch 6/10\n",
            "625/625 [==============================] - 1607s 3s/step - loss: 1.6738e-04 - precision: 1.0000 - recall: 1.0000 - accuracy: 0.2192 - val_loss: 7.8033e-04 - val_precision: 0.9998 - val_recall: 0.9998 - val_accuracy: 0.2218\n",
            "Epoch 7/10\n",
            "625/625 [==============================] - 1614s 3s/step - loss: 1.4107e-04 - precision: 1.0000 - recall: 1.0000 - accuracy: 0.2153 - val_loss: 3.2470e-04 - val_precision: 0.9999 - val_recall: 0.9999 - val_accuracy: 0.2218\n",
            "Epoch 8/10\n",
            "625/625 [==============================] - 1626s 3s/step - loss: 1.1304e-04 - precision: 1.0000 - recall: 1.0000 - accuracy: 0.2224 - val_loss: 2.8758e-04 - val_precision: 0.9999 - val_recall: 0.9999 - val_accuracy: 0.2233\n",
            "Epoch 9/10\n",
            "625/625 [==============================] - 1619s 3s/step - loss: 7.1939e-05 - precision: 1.0000 - recall: 1.0000 - accuracy: 0.2248 - val_loss: 3.5589e-04 - val_precision: 0.9999 - val_recall: 0.9999 - val_accuracy: 0.2267\n",
            "Epoch 10/10\n",
            "625/625 [==============================] - 1670s 3s/step - loss: 6.9072e-05 - precision: 1.0000 - recall: 1.0000 - accuracy: 0.2176 - val_loss: 4.5608e-04 - val_precision: 0.9999 - val_recall: 0.9999 - val_accuracy: 0.2070\n"
          ],
          "name": "stdout"
        },
        {
          "output_type": "execute_result",
          "data": {
            "text/plain": [
              "<tensorflow.python.keras.callbacks.History at 0x7faa227dd470>"
            ]
          },
          "metadata": {
            "tags": []
          },
          "execution_count": 58
        }
      ]
    },
    {
      "cell_type": "markdown",
      "metadata": {
        "id": "YAWuqARN38Pj"
      },
      "source": [
        "Увеличилось совсем немого. Мне кажется какая то проблема с метриками, потому что при выборе только Accuracy результаты были окей"
      ]
    }
  ]
}